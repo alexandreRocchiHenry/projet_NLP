{
 "cells": [
  {
   "cell_type": "code",
   "execution_count": 110,
   "metadata": {},
   "outputs": [],
   "source": [
    "import pandas as pd\n",
    "import nltk\n",
    "import numpy as np\n",
    "\n"
   ]
  },
  {
   "cell_type": "code",
   "execution_count": 83,
   "metadata": {},
   "outputs": [],
   "source": [
    "df = pd.read_csv('data_preprocessed.csv')"
   ]
  },
  {
   "cell_type": "code",
   "execution_count": 59,
   "metadata": {},
   "outputs": [
    {
     "data": {
      "text/plain": [
       "Index(['doc_id', 'Name of the document', 'Institution', 'URL', 'Authors',\n",
       "       'Affiliates', 'Sector', 'Country', 'Date', 'Keywords',\n",
       "       'Exclusion criteria', 'Status', 'Label', 'MapAIE (ours)', 'Jobin',\n",
       "       'Fjeld', 'Tidjon', 'Hagendorff', 'Floridi', 'Zeng (LAIP)',\n",
       "       'Attard-Frost', 'EP', 'Algorithm watch', 'CE', 'Winfield',\n",
       "       'EthicalML GitHub', 'all sources', 'Checked by', 'Unnamed: 27',\n",
       "       'Unnamed: 28', 'Unnamed: 29', 'text', 'langue', 'text_processed',\n",
       "       'tfidf'],\n",
       "      dtype='object')"
      ]
     },
     "execution_count": 59,
     "metadata": {},
     "output_type": "execute_result"
    }
   ],
   "source": [
    "df.columns"
   ]
  },
  {
   "cell_type": "code",
   "execution_count": 126,
   "metadata": {},
   "outputs": [
    {
     "data": {
      "text/html": [
       "<div>\n",
       "<style scoped>\n",
       "    .dataframe tbody tr th:only-of-type {\n",
       "        vertical-align: middle;\n",
       "    }\n",
       "\n",
       "    .dataframe tbody tr th {\n",
       "        vertical-align: top;\n",
       "    }\n",
       "\n",
       "    .dataframe thead th {\n",
       "        text-align: right;\n",
       "    }\n",
       "</style>\n",
       "<table border=\"1\" class=\"dataframe\">\n",
       "  <thead>\n",
       "    <tr style=\"text-align: right;\">\n",
       "      <th></th>\n",
       "      <th>Sector</th>\n",
       "      <th>Institution</th>\n",
       "      <th>Country</th>\n",
       "      <th>Label</th>\n",
       "      <th>Name of the document</th>\n",
       "    </tr>\n",
       "  </thead>\n",
       "  <tbody>\n",
       "    <tr>\n",
       "      <th>3</th>\n",
       "      <td>NaN</td>\n",
       "      <td>intel</td>\n",
       "      <td>NaN</td>\n",
       "      <td>SPI</td>\n",
       "      <td>Intel Recommends Public Policy Principles for ...</td>\n",
       "    </tr>\n",
       "    <tr>\n",
       "      <th>5</th>\n",
       "      <td>NaN</td>\n",
       "      <td>academy of medical royal colleges</td>\n",
       "      <td>UK</td>\n",
       "      <td>SPI field-specific</td>\n",
       "      <td>Artificial intelligence in Healthcare</td>\n",
       "    </tr>\n",
       "    <tr>\n",
       "      <th>6</th>\n",
       "      <td>NaN</td>\n",
       "      <td>access now</td>\n",
       "      <td>NaN</td>\n",
       "      <td>NaN</td>\n",
       "      <td>Human rights in the age of Artificial Intellig...</td>\n",
       "    </tr>\n",
       "    <tr>\n",
       "      <th>7</th>\n",
       "      <td>civil society</td>\n",
       "      <td>access now</td>\n",
       "      <td>UK</td>\n",
       "      <td>NaN</td>\n",
       "      <td>The Toronto Declaration: Protecting the right ...</td>\n",
       "    </tr>\n",
       "    <tr>\n",
       "      <th>8</th>\n",
       "      <td>NaN</td>\n",
       "      <td>accessnow</td>\n",
       "      <td>USA</td>\n",
       "      <td>SPI</td>\n",
       "      <td>Europe’s approach to artificial intelligence: ...</td>\n",
       "    </tr>\n",
       "    <tr>\n",
       "      <th>9</th>\n",
       "      <td>NaN</td>\n",
       "      <td>accessnow</td>\n",
       "      <td>USA</td>\n",
       "      <td>SPI</td>\n",
       "      <td>Human Rights Impact Assessments for AI: Analys...</td>\n",
       "    </tr>\n",
       "    <tr>\n",
       "      <th>10</th>\n",
       "      <td>NaN</td>\n",
       "      <td>accessnow</td>\n",
       "      <td>USA</td>\n",
       "      <td>meta-analysis</td>\n",
       "      <td>Mapping Regulatory Proposals for AI in Europe</td>\n",
       "    </tr>\n",
       "    <tr>\n",
       "      <th>11</th>\n",
       "      <td>NaN</td>\n",
       "      <td>ada lovelace institute</td>\n",
       "      <td>UK</td>\n",
       "      <td>SPI, issue-specific</td>\n",
       "      <td>Regulating AI in Europe: four problems and fou...</td>\n",
       "    </tr>\n",
       "    <tr>\n",
       "      <th>12</th>\n",
       "      <td>NaN</td>\n",
       "      <td>adapt center</td>\n",
       "      <td>Ireland</td>\n",
       "      <td>not ai ethics</td>\n",
       "      <td>Ethics Canvas</td>\n",
       "    </tr>\n",
       "    <tr>\n",
       "      <th>13</th>\n",
       "      <td>NaN</td>\n",
       "      <td>advisory board on artificial intelligence and ...</td>\n",
       "      <td>Japan</td>\n",
       "      <td>SPI</td>\n",
       "      <td>Report on Artificial Intelligence and Human So...</td>\n",
       "    </tr>\n",
       "  </tbody>\n",
       "</table>\n",
       "</div>"
      ],
      "text/plain": [
       "           Sector                                        Institution  Country  \\\n",
       "3             NaN                                              intel      NaN   \n",
       "5             NaN                  academy of medical royal colleges       UK   \n",
       "6             NaN                                         access now      NaN   \n",
       "7   civil society                                         access now       UK   \n",
       "8             NaN                                          accessnow      USA   \n",
       "9             NaN                                          accessnow      USA   \n",
       "10            NaN                                          accessnow      USA   \n",
       "11            NaN                             ada lovelace institute       UK   \n",
       "12            NaN                                       adapt center  Ireland   \n",
       "13            NaN  advisory board on artificial intelligence and ...    Japan   \n",
       "\n",
       "                  Label                               Name of the document  \n",
       "3                   SPI  Intel Recommends Public Policy Principles for ...  \n",
       "5    SPI field-specific              Artificial intelligence in Healthcare  \n",
       "6                   NaN  Human rights in the age of Artificial Intellig...  \n",
       "7                   NaN  The Toronto Declaration: Protecting the right ...  \n",
       "8                   SPI  Europe’s approach to artificial intelligence: ...  \n",
       "9                   SPI  Human Rights Impact Assessments for AI: Analys...  \n",
       "10        meta-analysis      Mapping Regulatory Proposals for AI in Europe  \n",
       "11  SPI, issue-specific  Regulating AI in Europe: four problems and fou...  \n",
       "12        not ai ethics                                      Ethics Canvas  \n",
       "13                  SPI  Report on Artificial Intelligence and Human So...  "
      ]
     },
     "execution_count": 126,
     "metadata": {},
     "output_type": "execute_result"
    }
   ],
   "source": [
    "df[['Sector', 'Institution','Country','Label','Name of the document']].head(10)"
   ]
  },
  {
   "cell_type": "code",
   "execution_count": 113,
   "metadata": {},
   "outputs": [],
   "source": [
    "df[\"Institution\"] = df['Institution'].replace('.',np.nan) "
   ]
  },
  {
   "cell_type": "code",
   "execution_count": 114,
   "metadata": {},
   "outputs": [],
   "source": [
    "df['Institution'] = df['Institution'].str.lower()\n"
   ]
  },
  {
   "cell_type": "code",
   "execution_count": 115,
   "metadata": {},
   "outputs": [],
   "source": [
    "df['Institution'] = df['Institution'].str.replace('.', '', regex=False).str.replace('?', '', regex=False)"
   ]
  },
  {
   "cell_type": "code",
   "execution_count": 116,
   "metadata": {},
   "outputs": [
    {
     "data": {
      "text/plain": [
       "np.int64(4)"
      ]
     },
     "execution_count": 116,
     "metadata": {},
     "output_type": "execute_result"
    }
   ],
   "source": [
    "df['Institution'].isna().sum()"
   ]
  },
  {
   "cell_type": "code",
   "execution_count": 123,
   "metadata": {},
   "outputs": [],
   "source": [
    "df['Institution'] = df['Institution'].str.split(',').str[0].str.strip()\n",
    "df['Institution'] = df['Institution'].str.split(';').str[0].str.strip()"
   ]
  },
  {
   "cell_type": "code",
   "execution_count": 125,
   "metadata": {},
   "outputs": [],
   "source": [
    "df = df.dropna(subset=['Institution'])"
   ]
  }
 ],
 "metadata": {
  "kernelspec": {
   "display_name": ".env_projet_NLP",
   "language": "python",
   "name": "python3"
  },
  "language_info": {
   "codemirror_mode": {
    "name": "ipython",
    "version": 3
   },
   "file_extension": ".py",
   "mimetype": "text/x-python",
   "name": "python",
   "nbconvert_exporter": "python",
   "pygments_lexer": "ipython3",
   "version": "3.12.3"
  }
 },
 "nbformat": 4,
 "nbformat_minor": 2
}
