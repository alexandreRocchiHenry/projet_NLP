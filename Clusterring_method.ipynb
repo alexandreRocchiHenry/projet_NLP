{
 "cells": [
  {
   "cell_type": "code",
   "execution_count": 1,
   "metadata": {},
   "outputs": [],
   "source": [
    "import pandas as pd\n",
    "import nltk\n",
    "import numpy as np\n",
    "\n"
   ]
  },
  {
   "cell_type": "code",
   "execution_count": 2,
   "metadata": {},
   "outputs": [],
   "source": [
    "df = pd.read_csv('data_preprocessed.csv')"
   ]
  },
  {
   "cell_type": "code",
   "execution_count": 3,
   "metadata": {},
   "outputs": [
    {
     "data": {
      "text/plain": [
       "Index(['doc_id', 'Name of the document', 'Institution', 'URL', 'Authors',\n",
       "       'Affiliates', 'Sector', 'Country', 'Date', 'Keywords',\n",
       "       'Exclusion criteria', 'Status', 'Label', 'MapAIE (ours)', 'Jobin',\n",
       "       'Fjeld', 'Tidjon', 'Hagendorff', 'Floridi', 'Zeng (LAIP)',\n",
       "       'Attard-Frost', 'EP', 'Algorithm watch', 'CE', 'Winfield',\n",
       "       'EthicalML GitHub', 'all sources', 'Checked by', 'Unnamed: 27',\n",
       "       'Unnamed: 28', 'Unnamed: 29', 'text', 'langue', 'text_processed',\n",
       "       'tfidf'],\n",
       "      dtype='object')"
      ]
     },
     "execution_count": 3,
     "metadata": {},
     "output_type": "execute_result"
    }
   ],
   "source": [
    "df.columns"
   ]
  },
  {
   "cell_type": "code",
   "execution_count": 4,
   "metadata": {},
   "outputs": [
    {
     "data": {
      "text/html": [
       "<div>\n",
       "<style scoped>\n",
       "    .dataframe tbody tr th:only-of-type {\n",
       "        vertical-align: middle;\n",
       "    }\n",
       "\n",
       "    .dataframe tbody tr th {\n",
       "        vertical-align: top;\n",
       "    }\n",
       "\n",
       "    .dataframe thead th {\n",
       "        text-align: right;\n",
       "    }\n",
       "</style>\n",
       "<table border=\"1\" class=\"dataframe\">\n",
       "  <thead>\n",
       "    <tr style=\"text-align: right;\">\n",
       "      <th></th>\n",
       "      <th>Sector</th>\n",
       "      <th>Institution</th>\n",
       "      <th>Country</th>\n",
       "      <th>Label</th>\n",
       "      <th>Name of the document</th>\n",
       "    </tr>\n",
       "  </thead>\n",
       "  <tbody>\n",
       "    <tr>\n",
       "      <th>0</th>\n",
       "      <td>NaN</td>\n",
       "      <td>Intel</td>\n",
       "      <td>NaN</td>\n",
       "      <td>SPI</td>\n",
       "      <td>Intel Recommends Public Policy Principles for ...</td>\n",
       "    </tr>\n",
       "    <tr>\n",
       "      <th>1</th>\n",
       "      <td>NaN</td>\n",
       "      <td>Academy of Medical Royal Colleges</td>\n",
       "      <td>UK</td>\n",
       "      <td>SPI field-specific</td>\n",
       "      <td>Artificial intelligence in Healthcare</td>\n",
       "    </tr>\n",
       "    <tr>\n",
       "      <th>2</th>\n",
       "      <td>NaN</td>\n",
       "      <td>Access Now</td>\n",
       "      <td>NaN</td>\n",
       "      <td>NaN</td>\n",
       "      <td>Human rights in the age of Artificial Intellig...</td>\n",
       "    </tr>\n",
       "    <tr>\n",
       "      <th>3</th>\n",
       "      <td>civil society</td>\n",
       "      <td>Access Now</td>\n",
       "      <td>UK</td>\n",
       "      <td>NaN</td>\n",
       "      <td>The Toronto Declaration: Protecting the right ...</td>\n",
       "    </tr>\n",
       "    <tr>\n",
       "      <th>4</th>\n",
       "      <td>NaN</td>\n",
       "      <td>AccessNow</td>\n",
       "      <td>USA</td>\n",
       "      <td>SPI</td>\n",
       "      <td>Europe’s approach to artificial intelligence: ...</td>\n",
       "    </tr>\n",
       "    <tr>\n",
       "      <th>5</th>\n",
       "      <td>NaN</td>\n",
       "      <td>AccessNow</td>\n",
       "      <td>USA</td>\n",
       "      <td>SPI</td>\n",
       "      <td>Human Rights Impact Assessments for AI: Analys...</td>\n",
       "    </tr>\n",
       "    <tr>\n",
       "      <th>6</th>\n",
       "      <td>NaN</td>\n",
       "      <td>AccessNow</td>\n",
       "      <td>USA</td>\n",
       "      <td>meta-analysis</td>\n",
       "      <td>Mapping Regulatory Proposals for AI in Europe</td>\n",
       "    </tr>\n",
       "    <tr>\n",
       "      <th>7</th>\n",
       "      <td>NaN</td>\n",
       "      <td>Ada Lovelace Institute</td>\n",
       "      <td>UK</td>\n",
       "      <td>SPI, issue-specific</td>\n",
       "      <td>Regulating AI in Europe: four problems and fou...</td>\n",
       "    </tr>\n",
       "    <tr>\n",
       "      <th>8</th>\n",
       "      <td>NaN</td>\n",
       "      <td>Adapt Center</td>\n",
       "      <td>Ireland</td>\n",
       "      <td>not ai ethics</td>\n",
       "      <td>Ethics Canvas</td>\n",
       "    </tr>\n",
       "    <tr>\n",
       "      <th>9</th>\n",
       "      <td>NaN</td>\n",
       "      <td>Advisory Board on Artificial Intelligence and ...</td>\n",
       "      <td>Japan</td>\n",
       "      <td>SPI</td>\n",
       "      <td>Report on Artificial Intelligence and Human So...</td>\n",
       "    </tr>\n",
       "  </tbody>\n",
       "</table>\n",
       "</div>"
      ],
      "text/plain": [
       "          Sector                                        Institution  Country  \\\n",
       "0            NaN                                              Intel      NaN   \n",
       "1            NaN                  Academy of Medical Royal Colleges       UK   \n",
       "2            NaN                                         Access Now      NaN   \n",
       "3  civil society                                         Access Now       UK   \n",
       "4            NaN                                          AccessNow      USA   \n",
       "5            NaN                                          AccessNow      USA   \n",
       "6            NaN                                          AccessNow      USA   \n",
       "7            NaN                             Ada Lovelace Institute       UK   \n",
       "8            NaN                                       Adapt Center  Ireland   \n",
       "9            NaN  Advisory Board on Artificial Intelligence and ...    Japan   \n",
       "\n",
       "                 Label                               Name of the document  \n",
       "0                  SPI  Intel Recommends Public Policy Principles for ...  \n",
       "1   SPI field-specific              Artificial intelligence in Healthcare  \n",
       "2                  NaN  Human rights in the age of Artificial Intellig...  \n",
       "3                  NaN  The Toronto Declaration: Protecting the right ...  \n",
       "4                  SPI  Europe’s approach to artificial intelligence: ...  \n",
       "5                  SPI  Human Rights Impact Assessments for AI: Analys...  \n",
       "6        meta-analysis      Mapping Regulatory Proposals for AI in Europe  \n",
       "7  SPI, issue-specific  Regulating AI in Europe: four problems and fou...  \n",
       "8        not ai ethics                                      Ethics Canvas  \n",
       "9                  SPI  Report on Artificial Intelligence and Human So...  "
      ]
     },
     "execution_count": 4,
     "metadata": {},
     "output_type": "execute_result"
    }
   ],
   "source": [
    "df[['Sector', 'Institution','Country','Label','Name of the document']].head(10)"
   ]
  },
  {
   "cell_type": "code",
   "execution_count": 5,
   "metadata": {},
   "outputs": [],
   "source": [
    "df[\"Institution\"] = df['Institution'].replace('.',np.nan) "
   ]
  },
  {
   "cell_type": "code",
   "execution_count": 6,
   "metadata": {},
   "outputs": [],
   "source": [
    "df['Institution'] = df['Institution'].str.lower()\n"
   ]
  },
  {
   "cell_type": "code",
   "execution_count": 7,
   "metadata": {},
   "outputs": [],
   "source": [
    "df['Institution'] = df['Institution'].str.replace('.', '', regex=False).str.replace('?', '', regex=False)"
   ]
  },
  {
   "cell_type": "code",
   "execution_count": 8,
   "metadata": {},
   "outputs": [
    {
     "data": {
      "text/plain": [
       "np.int64(0)"
      ]
     },
     "execution_count": 8,
     "metadata": {},
     "output_type": "execute_result"
    }
   ],
   "source": [
    "df['Institution'].isna().sum()"
   ]
  },
  {
   "cell_type": "code",
   "execution_count": 9,
   "metadata": {},
   "outputs": [],
   "source": [
    "df['Institution'] = df['Institution'].str.split(',').str[0].str.strip()\n",
    "df['Institution'] = df['Institution'].str.split(';').str[0].str.strip()"
   ]
  },
  {
   "cell_type": "code",
   "execution_count": 10,
   "metadata": {},
   "outputs": [],
   "source": [
    "df['Institution'] = df['Institution'].str.replace(r'\\([^)]*\\)', '', regex=True).str.strip()"
   ]
  },
  {
   "cell_type": "code",
   "execution_count": 11,
   "metadata": {},
   "outputs": [],
   "source": [
    "df = df.dropna(subset=['Institution'])"
   ]
  },
  {
   "cell_type": "code",
   "execution_count": 12,
   "metadata": {},
   "outputs": [
    {
     "data": {
      "text/plain": [
       "array(['intel', 'academy of medical royal colleges', 'access now',\n",
       "       'accessnow', 'ada lovelace institute', 'adapt center',\n",
       "       'advisory board on artificial intelligence and human society',\n",
       "       \"agenzia per l'italia digitale\", 'ai council', 'ai forum',\n",
       "       'ai now institute', 'ai recht', 'ai4people', 'aiei group',\n",
       "       'aisoma', 'aisp', 'algorithmwatch', 'all tech is human', 'allai',\n",
       "       'always designing for people', 'american college of radiology',\n",
       "       'aptiv', 'armai', 'article 29 working party',\n",
       "       'association for computing machinery - future of computing machinery',\n",
       "       'association for computing machinery',\n",
       "       'australian government - department of industry innovation and science',\n",
       "       'australian human rights commission',\n",
       "       'australian strategic policy institute',\n",
       "       'autorité de contrôle prudentiel et de résolution', 'axon', 'bcg',\n",
       "       'bertelsmann stiftung', 'biometrics and forensics ethics group',\n",
       "       'bitkom', 'blackberry', 'brazil’s ministry of science',\n",
       "       'british embassy mexico city', 'brookings', 'cabinet office',\n",
       "       'canada', 'center for democracy & technology',\n",
       "       'center for humane technology', 'central digital & data office',\n",
       "       'centre for data ethics and innovation',\n",
       "       'centre for the governance of ai',\n",
       "       'centre on ai technology for humanking  at nus business school',\n",
       "       'cerna', 'cifar',\n",
       "       'cigi gentre for international governance innovation',\n",
       "       'cigref/syntec numérique', 'cities coalition for digital rights',\n",
       "       \"commission du droit de l'ontario\",\n",
       "       'commission for the implementation of the code of ethics in the field of artificial intelligence',\n",
       "       \"commission nationale consultative des droits de l'homme\",\n",
       "       'commission nationale informatique et libertés',\n",
       "       'conference of the independent federal and state data protection supervisory authorities - datenschutzkonferenz',\n",
       "       'coordination office of incode2030 initiative',\n",
       "       'council of europe',\n",
       "       'council of europe and croatian presidency of the committee of ministers',\n",
       "       'council of europe and finnish presidency of the committee of ministers',\n",
       "       'council of europe: european commission for the efficiency of justice',\n",
       "       'council of the european union',\n",
       "       'critical engineering working group',\n",
       "       'danish expert group on data ethics - ekspertgruppen om dataetik',\n",
       "       'data & society', 'data ethics', 'data ethics commission',\n",
       "       'dataiku', 'defense innovation board', 'défenseur des droits',\n",
       "       'department for digital', 'department of defence',\n",
       "       'department of health & social care', 'department of industry',\n",
       "       'deutsche telekom', 'eth zurich',\n",
       "       'ethics committee of the federal ministry of transport and digital infrastructure  - ethkikkommission des bundesministeriums für verkehr und digitale infrastruktur',\n",
       "       'eurocontrol', 'european commission',\n",
       "       'european data protection supervisor', 'esma',\n",
       "       'european commission (dg for education',\n",
       "       'european commission (joint research centre',\n",
       "       'european digital rights',\n",
       "       'european economic and social committee', 'european law institute',\n",
       "       'european network of equality bodies', 'european parliament',\n",
       "       'european union', 'european union agency for cybersecurity',\n",
       "       'european union intellectual property office', 'examai',\n",
       "       'executive office of the president', 'executive yuan', 'fastai',\n",
       "       'federation of german consumer organisations',\n",
       "       'fraunhofer institute for intelligent analysis and information systems iais',\n",
       "       'freedom online coalition', 'french data protection authority',\n",
       "       'french national ethical consultative committee for life sciences and health',\n",
       "       'french presidency of the committee of ministers',\n",
       "       'fundamental rights agency', 'future advocacy',\n",
       "       'future of humanity institute', 'future of privacy forum', 'g20',\n",
       "       'g7', 'german informatics society - gesellschaft für informatik',\n",
       "       'global network initiative',\n",
       "       'global partnership on artificial intelligence', 'google',\n",
       "       'google - people + ai research', 'government cio office',\n",
       "       'government digital service and office for artificial intelligence',\n",
       "       'government of catalonia', 'government of ireland',\n",
       "       'government of the republic of korea',\n",
       "       'government of the republic of lithuania',\n",
       "       'government statistics authority', 'hm government', 'hub4ngi',\n",
       "       'iapp', 'ibm', 'icelandic institute for intelligent machines',\n",
       "       'ideo', 'indie', 'india government',\n",
       "       'information commissioner office',\n",
       "       \"information commissioner's office\",\n",
       "       'information commissioner’s office',\n",
       "       'institute for information and communications policy',\n",
       "       'institute for the future of work', 'institute of business ethics',\n",
       "       'institute of criminology at the faculty of law of ljubljana',\n",
       "       'institute of electrical and electronics engineers', 'integrateai',\n",
       "       'intel corporation', 'inter-american development bank',\n",
       "       'international conference of data protection and privacy commissioners',\n",
       "       'ipsos', 'iso', 'italian government', 'japanese government',\n",
       "       'kenyan government', 'konrad-adenauer-stiftung', 'kpmg',\n",
       "       'ku leuven', \"laboratoire national de métrologie et d'essai\",\n",
       "       'machine intelligence garage ethics committee',\n",
       "       'machine intelligence research institute',\n",
       "       'malta digital innovation authority', 'markkula center',\n",
       "       'massachusetts institute of technology', 'mc kinsey', 'microsoft',\n",
       "       'ministerio de asuntos economicos y transformacion digital',\n",
       "       'ministry of economic affairs and climate policy',\n",
       "       'ministry of education',\n",
       "       'ministry of finance and ministry of industry',\n",
       "       'ministry of internal affairs and communications',\n",
       "       'mission villani', 'monetary authority of singapore',\n",
       "       'montreal ai ethics institute', 'mozilla foundation',\n",
       "       'national academies of science',\n",
       "       'national institute of standards and technology',\n",
       "       'national institution for transforming india',\n",
       "       'national research council canada',\n",
       "       'national science and technology council',\n",
       "       'new zealand government', 'new zealand human rights commission',\n",
       "       'nordic council of ministers for digitalisation 2017-2020',\n",
       "       'numeum', \"o'reilly\", 'open ethics initiative', 'open loop',\n",
       "       'orange', 'organisation for economic co-operation and development',\n",
       "       'organization for security and co-operation in europe',\n",
       "       'oxford internet institute', 'personal data commission singapore',\n",
       "       'personal data protection commission singapore', 'philips',\n",
       "       'plos computational biology', 'poland',\n",
       "       'presidential advisory for economic affairs and digital transformation',\n",
       "       'pricewaterhousecoopers', 'prime minister of malaysia',\n",
       "       'privacy international & article 19', 'quantumblack', 'reghorizon',\n",
       "       'renaissance foundation', 'republic of užupis',\n",
       "       'research center for brain-inspired intelligence',\n",
       "       'salesforce research', 'smart dubai',\n",
       "       'software & information industry association',\n",
       "       'special interest group on artificial intelligence',\n",
       "       'standards australia', 'stanford law school',\n",
       "       'stanford university human-centered artificial intelligence',\n",
       "       'state council',\n",
       "       'stats new zealand and office of the privacy commissioner',\n",
       "       'sweden’s innovation agency',\n",
       "       'swiss academy of technical sciences',\n",
       "       'swiss alliance for data-intensive services', 'tbs canada',\n",
       "       'technical university of delft', 'telefonica executive committee',\n",
       "       'telia company', 'thales', 'the alan turing institute',\n",
       "       'the critical engineering working group',\n",
       "       'the danish institute for human rights', 'the ethics center',\n",
       "       'the european robotics research network',\n",
       "       'the future society science law and society  initiative',\n",
       "       'the german ethics council',\n",
       "       'the government of the grand duchy of luxembourg', 'the greens',\n",
       "       'the humanitarian data science and ethics group',\n",
       "       'the information accountability foundation',\n",
       "       'the institute for ethical ai & machine learning',\n",
       "       'the institute for ethical ai & ml', 'the internet society',\n",
       "       'the national council for artificial intelligence',\n",
       "       'the netherlands scientific council for government policy',\n",
       "       'the norwegian data protection authority', 'the public voice',\n",
       "       'the rathenau institute', 'the rathenau instituut',\n",
       "       'the royal society',\n",
       "       'the saudi data and artificial intelligence authority', 'think 20',\n",
       "       'third industrial revolution consulting group', 'thomson reuters',\n",
       "       'tieto', 'treasury board', 'tu wien',\n",
       "       'uk department of health & social care', 'uk ministry of defence',\n",
       "       'united arab emirates government', 'united nations',\n",
       "       \"united nations children's fund\",\n",
       "       'united nations educational scientific and cultural organization',\n",
       "       'université de montréal', 'university of buckingham',\n",
       "       'university of cambridge', 'university of central lancashire',\n",
       "       'university of duke', 'university of notre dame',\n",
       "       'university of stanford', 'university of tübingen',\n",
       "       'ux studio team', 'vrije universiteit brussel', 'w20',\n",
       "       'walloon government', 'wef', 'white house', 'women leading in ai',\n",
       "       'world economic forum', 'yale law school', 'z-inspection'],\n",
       "      dtype=object)"
      ]
     },
     "execution_count": 12,
     "metadata": {},
     "output_type": "execute_result"
    }
   ],
   "source": [
    "df['Institution'].unique()"
   ]
  },
  {
   "cell_type": "code",
   "execution_count": 22,
   "metadata": {},
   "outputs": [],
   "source": [
    "import pandas as pd\n",
    "\n",
    "\n",
    "\n",
    "\n",
    "# Dictionnaire des catégories et mots-clés associés\n",
    "categories = {\n",
    "    \"Gouvernements et organismes publics nationaux\": [\n",
    "        \"Government\", \"Ministry\", \"Department\", \"Authority\", \"Council\", \"Office\", \"Agency\", \n",
    "        \"Republic\", \"State\", \"Presidency\", \"Embassy\"\n",
    "    ],\n",
    "    \"Organisations internationales et institutions supranationales\": [\n",
    "        \"United Nations\", \"European Union\", \"Council of Europe\", \"OECD\", \"G7\", \"G20\", \n",
    "        \"European Commission\", \"World Bank\", \"World Health Organization\", \"NATO\", \"UNESCO\"\n",
    "    ],\n",
    "    \"Entreprises technologiques et multinationales\": [\n",
    "        \"Google\", \"Intel\", \"Microsoft\", \"IBM\", \"Salesforce\", \"Apple\", \"Amazon\", \"Facebook\", \n",
    "        \"Thales\", \"Axon\", \"Philips\", \"BlackBerry\", \"Aptiv\"\n",
    "    ],\n",
    "    \"Instituts de recherche et universités\": [\n",
    "        \"Institute\", \"University\", \"Academy\", \"MIT\", \"Stanford\", \"Harvard\", \"Oxford\", \n",
    "        \"Cambridge\", \"Fraunhofer\", \"Future of Humanity Institute\", \"Research Center\", \"AI Institute\"\n",
    "    ],\n",
    "    \"Comités éthiques et régulateurs\": [\n",
    "        \"Ethics\", \"Council\", \"Commission\", \"Supervisory\", \"Advisory\", \"Regulator\", \n",
    "        \"Data Protection\", \"Privacy Commission\", \"Rights Commission\", \"Ethikkommission\"\n",
    "    ],\n",
    "    \"Associations professionnelles et groupes de réflexion\": [\n",
    "        \"Association\", \"Forum\", \"Think Tank\", \"ACM\", \"IEEE\", \"Society\", \"Tech Alliance\", \n",
    "        \"Tech Group\", \"Advocacy Group\", \"Council\"\n",
    "    ],\n",
    "    \"ONG et initiatives de droits humains\": [\n",
    "        \"Human Rights\", \"Privacy\", \"Access Now\", \"Article 19\", \"Amnesty International\", \n",
    "        \"Open Rights Group\", \"Freedom Online Coalition\", \"Humanitarian\", \"Advocacy\"\n",
    "    ],\n",
    "    \"Organisations intersectorielles et partenariats publics-privés\": [\n",
    "        \"Partnership\", \"Alliance\", \"Initiative\", \"Coalition\", \"Collaboration\", \"Consortium\", \n",
    "        \"Task Force\", \"Forum\", \"Global\", \"Joint\", \"Group\"\n",
    "    ],\n",
    "    \"Organismes normatifs et de standardisation\": [\n",
    "        \"ISO\", \"Standards\", \"Standardization\", \"Regulation\", \"European Law Institute\", \n",
    "        \"Certification\", \"Norms\", \"Accreditation\", \"Compliance\"\n",
    "    ],\n",
    "    \"Conseils et groupes consultatifs gouvernementaux\": [\n",
    "        \"AI Council\", \"Board\", \"Advisory\", \"Task Force\", \"Council\", \"Mission\", \n",
    "        \"Strategy Group\", \"Committee\", \"AI Strategy\", \"Digital Service\"\n",
    "    ]\n",
    "}\n",
    "\n",
    "# Fonction pour trouver la catégorie d'une organisation en fonction des mots-clés\n",
    "def categorize_organization(org):\n",
    "    org_lower = org.lower()  # Convertir le nom de l'institution en minuscules\n",
    "    for category, keywords in categories.items():\n",
    "        # Comparer avec les mots-clés en minuscules\n",
    "        if any(keyword.lower() in org_lower for keyword in keywords):\n",
    "            return category\n",
    "    return \"Autres\"\n",
    "\n",
    "# Appliquer la fonction sur la colonne 'organization' et créer une nouvelle colonne 'category'\n",
    "df['categorie Institution'] = df['Institution'].apply(categorize_organization)\n"
   ]
  },
  {
   "cell_type": "code",
   "execution_count": 23,
   "metadata": {},
   "outputs": [
    {
     "data": {
      "text/plain": [
       "0                                 intel\n",
       "1     academy of medical royal colleges\n",
       "2                            access now\n",
       "3                            access now\n",
       "4                             accessnow\n",
       "                    ...                \n",
       "95                    council of europe\n",
       "96                    council of europe\n",
       "97                    council of europe\n",
       "98                    council of europe\n",
       "99                    council of europe\n",
       "Name: Institution, Length: 100, dtype: object"
      ]
     },
     "execution_count": 23,
     "metadata": {},
     "output_type": "execute_result"
    }
   ],
   "source": [
    "df['Institution'][df['categorie Institution'] == 'Autres'].head(100)"
   ]
  },
  {
   "cell_type": "code",
   "execution_count": 140,
   "metadata": {},
   "outputs": [],
   "source": [
    "# General imports\n",
    "import re\n",
    "import numpy as np\n",
    "import matplotlib.pyplot as plt\n",
    "import os\n",
    "import pandas as pd"
   ]
  },
  {
   "cell_type": "code",
   "execution_count": 186,
   "metadata": {},
   "outputs": [],
   "source": [
    "# Or we might want to use an already-implemented tool. The NLTK package has a lot of very useful text processing tools, among them various tokenizers\n",
    "# Careful, NLTK was the first well-documented NLP package, but it might be outdated for some uses. Check the documentation !\n",
    "from nltk.tokenize import word_tokenize\n",
    "\n",
    "\n",
    "df['I_tokenize'] = df['Institution'].apply(lambda x: word_tokenize(str(x)))"
   ]
  },
  {
   "cell_type": "code",
   "execution_count": null,
   "metadata": {},
   "outputs": [],
   "source": []
  },
  {
   "cell_type": "code",
   "execution_count": 18,
   "metadata": {},
   "outputs": [
    {
     "data": {
      "text/html": [
       "<div>\n",
       "<style scoped>\n",
       "    .dataframe tbody tr th:only-of-type {\n",
       "        vertical-align: middle;\n",
       "    }\n",
       "\n",
       "    .dataframe tbody tr th {\n",
       "        vertical-align: top;\n",
       "    }\n",
       "\n",
       "    .dataframe thead th {\n",
       "        text-align: right;\n",
       "    }\n",
       "</style>\n",
       "<table border=\"1\" class=\"dataframe\">\n",
       "  <thead>\n",
       "    <tr style=\"text-align: right;\">\n",
       "      <th></th>\n",
       "      <th>doc_id</th>\n",
       "      <th>Name of the document</th>\n",
       "      <th>Institution</th>\n",
       "      <th>URL</th>\n",
       "      <th>Authors</th>\n",
       "      <th>Affiliates</th>\n",
       "      <th>Sector</th>\n",
       "      <th>Country</th>\n",
       "      <th>Date</th>\n",
       "      <th>Keywords</th>\n",
       "      <th>...</th>\n",
       "      <th>all sources</th>\n",
       "      <th>Checked by</th>\n",
       "      <th>Unnamed: 27</th>\n",
       "      <th>Unnamed: 28</th>\n",
       "      <th>Unnamed: 29</th>\n",
       "      <th>text</th>\n",
       "      <th>langue</th>\n",
       "      <th>text_processed</th>\n",
       "      <th>tfidf</th>\n",
       "      <th>categorie Institution</th>\n",
       "    </tr>\n",
       "  </thead>\n",
       "  <tbody>\n",
       "    <tr>\n",
       "      <th>0</th>\n",
       "      <td>3</td>\n",
       "      <td>Intel Recommends Public Policy Principles for ...</td>\n",
       "      <td>intel</td>\n",
       "      <td>https://community.intel.com/t5/Blogs/Intel/Pol...</td>\n",
       "      <td>Naveen Rao</td>\n",
       "      <td>NaN</td>\n",
       "      <td>NaN</td>\n",
       "      <td>NaN</td>\n",
       "      <td>NaN</td>\n",
       "      <td>NaN</td>\n",
       "      <td>...</td>\n",
       "      <td>2.0</td>\n",
       "      <td>Maria</td>\n",
       "      <td>NaN</td>\n",
       "      <td>NaN</td>\n",
       "      <td>NaN</td>\n",
       "      <td>\\n\\n\\n\\tIntel Recommends Public Policy Princip...</td>\n",
       "      <td>en</td>\n",
       "      <td>Intel Recommends Public Policy Principles for ...</td>\n",
       "      <td>[0.01584336 0.         0.         ... 0.      ...</td>\n",
       "      <td>Autres</td>\n",
       "    </tr>\n",
       "    <tr>\n",
       "      <th>1</th>\n",
       "      <td>9</td>\n",
       "      <td>Artificial intelligence in Healthcare</td>\n",
       "      <td>academy of medical royal colleges</td>\n",
       "      <td>https://www.aomrc.org.uk/wp-content/uploads/20...</td>\n",
       "      <td>NaN</td>\n",
       "      <td>NaN</td>\n",
       "      <td>NaN</td>\n",
       "      <td>UK</td>\n",
       "      <td>NaN</td>\n",
       "      <td>NaN</td>\n",
       "      <td>...</td>\n",
       "      <td>1.0</td>\n",
       "      <td>Maria</td>\n",
       "      <td>NaN</td>\n",
       "      <td>NaN</td>\n",
       "      <td>NaN</td>\n",
       "      <td>Artificial Intelligence in HealthcareJanuary /...</td>\n",
       "      <td>en</td>\n",
       "      <td>Artificial Intelligence in HealthcareJanuary /...</td>\n",
       "      <td>[0.         0.00460673 0.         ... 0.      ...</td>\n",
       "      <td>Autres</td>\n",
       "    </tr>\n",
       "    <tr>\n",
       "      <th>2</th>\n",
       "      <td>12</td>\n",
       "      <td>Human rights in the age of Artificial Intellig...</td>\n",
       "      <td>access now</td>\n",
       "      <td>https://www.accessnow.org/cms/assets/uploads/2...</td>\n",
       "      <td>.</td>\n",
       "      <td>.</td>\n",
       "      <td>NaN</td>\n",
       "      <td>NaN</td>\n",
       "      <td>NaN</td>\n",
       "      <td>NaN</td>\n",
       "      <td>...</td>\n",
       "      <td>3.0</td>\n",
       "      <td>Tiphaine</td>\n",
       "      <td>NaN</td>\n",
       "      <td>NaN</td>\n",
       "      <td>NaN</td>\n",
       "      <td>HUMAN RIGHTS  IN THE AGE OF ARTIFICIAL INTELLI...</td>\n",
       "      <td>en</td>\n",
       "      <td>HUMAN RIGHTS IN THE AGE OF ARTIFICIAL INTELLIG...</td>\n",
       "      <td>[0.        0.0039761 0.        ... 0.        0...</td>\n",
       "      <td>Autres</td>\n",
       "    </tr>\n",
       "    <tr>\n",
       "      <th>3</th>\n",
       "      <td>13</td>\n",
       "      <td>The Toronto Declaration: Protecting the right ...</td>\n",
       "      <td>access now</td>\n",
       "      <td>https://www.torontodeclaration.org/declaration...</td>\n",
       "      <td>Anna Bacciarelli, Joe Westby, Fanny Hidvegi, E...</td>\n",
       "      <td>Access Now, AI Now Institute at New York Unive...</td>\n",
       "      <td>civil society</td>\n",
       "      <td>UK</td>\n",
       "      <td>2018-05-16</td>\n",
       "      <td>NaN</td>\n",
       "      <td>...</td>\n",
       "      <td>7.0</td>\n",
       "      <td>Tiphaine</td>\n",
       "      <td>NaN</td>\n",
       "      <td>NaN</td>\n",
       "      <td>NaN</td>\n",
       "      <td>\\n\\n\\n\\n\\nThe Toronto Declaration\\n\\n\\n\\n\\n\\n\\...</td>\n",
       "      <td>en</td>\n",
       "      <td>The Toronto Declaration Skip to main content T...</td>\n",
       "      <td>[0. 0. 0. ... 0. 0. 0.]</td>\n",
       "      <td>Autres</td>\n",
       "    </tr>\n",
       "    <tr>\n",
       "      <th>4</th>\n",
       "      <td>14</td>\n",
       "      <td>Europe’s approach to artificial intelligence: ...</td>\n",
       "      <td>accessnow</td>\n",
       "      <td>https://www.accessnow.org/wp-content/uploads/2...</td>\n",
       "      <td>NaN</td>\n",
       "      <td>NaN</td>\n",
       "      <td>NaN</td>\n",
       "      <td>USA</td>\n",
       "      <td>2020-12</td>\n",
       "      <td>NaN</td>\n",
       "      <td>...</td>\n",
       "      <td>1.0</td>\n",
       "      <td>Tiphaine</td>\n",
       "      <td>NaN</td>\n",
       "      <td>NaN</td>\n",
       "      <td>NaN</td>\n",
       "      <td>accessnow.org EUROPE’S APPROACH TO ARTIFICIAL ...</td>\n",
       "      <td>en</td>\n",
       "      <td>accessnow.org EUROPE ’ S APPROACH TO ARTIFICIA...</td>\n",
       "      <td>[0.         0.00197569 0.         ... 0.      ...</td>\n",
       "      <td>Autres</td>\n",
       "    </tr>\n",
       "  </tbody>\n",
       "</table>\n",
       "<p>5 rows × 36 columns</p>\n",
       "</div>"
      ],
      "text/plain": [
       "   doc_id                               Name of the document  \\\n",
       "0       3  Intel Recommends Public Policy Principles for ...   \n",
       "1       9              Artificial intelligence in Healthcare   \n",
       "2      12  Human rights in the age of Artificial Intellig...   \n",
       "3      13  The Toronto Declaration: Protecting the right ...   \n",
       "4      14  Europe’s approach to artificial intelligence: ...   \n",
       "\n",
       "                         Institution  \\\n",
       "0                              intel   \n",
       "1  academy of medical royal colleges   \n",
       "2                         access now   \n",
       "3                         access now   \n",
       "4                          accessnow   \n",
       "\n",
       "                                                 URL  \\\n",
       "0  https://community.intel.com/t5/Blogs/Intel/Pol...   \n",
       "1  https://www.aomrc.org.uk/wp-content/uploads/20...   \n",
       "2  https://www.accessnow.org/cms/assets/uploads/2...   \n",
       "3  https://www.torontodeclaration.org/declaration...   \n",
       "4  https://www.accessnow.org/wp-content/uploads/2...   \n",
       "\n",
       "                                             Authors  \\\n",
       "0                                         Naveen Rao   \n",
       "1                                                NaN   \n",
       "2                                                  .   \n",
       "3  Anna Bacciarelli, Joe Westby, Fanny Hidvegi, E...   \n",
       "4                                                NaN   \n",
       "\n",
       "                                          Affiliates         Sector Country  \\\n",
       "0                                                NaN            NaN     NaN   \n",
       "1                                                NaN            NaN      UK   \n",
       "2                                                  .            NaN     NaN   \n",
       "3  Access Now, AI Now Institute at New York Unive...  civil society      UK   \n",
       "4                                                NaN            NaN     USA   \n",
       "\n",
       "         Date Keywords  ...  all sources Checked by Unnamed: 27  Unnamed: 28  \\\n",
       "0         NaN      NaN  ...          2.0      Maria         NaN          NaN   \n",
       "1         NaN      NaN  ...          1.0      Maria         NaN          NaN   \n",
       "2         NaN      NaN  ...          3.0   Tiphaine         NaN          NaN   \n",
       "3  2018-05-16      NaN  ...          7.0   Tiphaine         NaN          NaN   \n",
       "4     2020-12      NaN  ...          1.0   Tiphaine         NaN          NaN   \n",
       "\n",
       "   Unnamed: 29                                               text  langue  \\\n",
       "0          NaN  \\n\\n\\n\\tIntel Recommends Public Policy Princip...      en   \n",
       "1          NaN  Artificial Intelligence in HealthcareJanuary /...      en   \n",
       "2          NaN  HUMAN RIGHTS  IN THE AGE OF ARTIFICIAL INTELLI...      en   \n",
       "3          NaN  \\n\\n\\n\\n\\nThe Toronto Declaration\\n\\n\\n\\n\\n\\n\\...      en   \n",
       "4          NaN  accessnow.org EUROPE’S APPROACH TO ARTIFICIAL ...      en   \n",
       "\n",
       "                                      text_processed  \\\n",
       "0  Intel Recommends Public Policy Principles for ...   \n",
       "1  Artificial Intelligence in HealthcareJanuary /...   \n",
       "2  HUMAN RIGHTS IN THE AGE OF ARTIFICIAL INTELLIG...   \n",
       "3  The Toronto Declaration Skip to main content T...   \n",
       "4  accessnow.org EUROPE ’ S APPROACH TO ARTIFICIA...   \n",
       "\n",
       "                                               tfidf  categorie Institution  \n",
       "0  [0.01584336 0.         0.         ... 0.      ...                 Autres  \n",
       "1  [0.         0.00460673 0.         ... 0.      ...                 Autres  \n",
       "2  [0.        0.0039761 0.        ... 0.        0...                 Autres  \n",
       "3                            [0. 0. 0. ... 0. 0. 0.]                 Autres  \n",
       "4  [0.         0.00197569 0.         ... 0.      ...                 Autres  \n",
       "\n",
       "[5 rows x 36 columns]"
      ]
     },
     "execution_count": 18,
     "metadata": {},
     "output_type": "execute_result"
    }
   ],
   "source": [
    "df.head()"
   ]
  },
  {
   "cell_type": "code",
   "execution_count": 188,
   "metadata": {},
   "outputs": [],
   "source": [
    "def count_words(texts, voc = None):\n",
    "    \"\"\"Vectorize text : return count of each word in the text snippets\n",
    "\n",
    "    Parameters\n",
    "    ----------\n",
    "    texts : list of str\n",
    "        The texts\n",
    "    Returns\n",
    "    -------\n",
    "    vocabulary : dict\n",
    "        A dictionary that points to an index in counts for each word.\n",
    "    counts : ndarray, shape (n_samples, n_features)\n",
    "        The counts of each word in each text.\n",
    "    \"\"\"\n",
    "    n_samples = len(texts)\n",
    "    if voc == None:\n",
    "        words = set()\n",
    "        for text in texts:\n",
    "            words = words.union(set(text)) # list of all words\n",
    "        n_features = len(words) # number of different words\n",
    "        vocabulary = dict(zip(words, range(n_features))) # vocab[wd] = index ; indexisation\n",
    "    else:\n",
    "        vocabulary = voc\n",
    "        n_features = len(voc)\n",
    "    counts = np.zeros((n_samples, n_features))\n",
    "    for k, text in enumerate(texts): # enumeration a k for a text[k]\n",
    "        for w in text:\n",
    "            if w in vocabulary:\n",
    "                counts[k][vocabulary[w]] += 1.\n",
    "    return vocabulary, counts"
   ]
  },
  {
   "cell_type": "code",
   "execution_count": 189,
   "metadata": {},
   "outputs": [
    {
     "name": "stdout",
     "output_type": "stream",
     "text": [
      "(474, 441)\n"
     ]
    }
   ],
   "source": [
    "voc, bow = count_words(df['I_tokenize'])\n",
    "print(bow.shape)"
   ]
  },
  {
   "cell_type": "code",
   "execution_count": 190,
   "metadata": {},
   "outputs": [],
   "source": [
    "from sklearn.feature_extraction.text import CountVectorizer"
   ]
  },
  {
   "cell_type": "code",
   "execution_count": 191,
   "metadata": {},
   "outputs": [
    {
     "name": "stdout",
     "output_type": "stream",
     "text": [
      "(474, 426)\n"
     ]
    }
   ],
   "source": [
    "# Create and fit the vectorizer to the training data\n",
    "vectorizer = CountVectorizer()\n",
    "Bow = vectorizer.fit_transform(df['Institution'])\n",
    "bow_a = Bow.toarray()\n",
    "print(bow_a.shape)"
   ]
  },
  {
   "cell_type": "code",
   "execution_count": 192,
   "metadata": {},
   "outputs": [],
   "source": [
    "frequency = bow.sum(axis = 0)\n",
    "top_words = np.argsort(frequency)[::-1]"
   ]
  },
  {
   "cell_type": "code",
   "execution_count": 193,
   "metadata": {},
   "outputs": [
    {
     "data": {
      "image/png": "[encoded data removed]",
      "text/plain": [
       "<Figure size 1600x800 with 1 Axes>"
      ]
     },
     "metadata": {},
     "output_type": "display_data"
    }
   ],
   "source": [
    "rev_voc = {i: w for w, i in voc.items()}\n",
    "fig, ax = plt.subplots(figsize=(16,8))\n",
    "ax.bar(range(15), frequency[top_words[:15]])\n",
    "ax.set_xticks(range(15))\n",
    "ax.set_xticklabels([rev_voc[i] for i in top_words[:15]], rotation='vertical')\n",
    "plt.show()"
   ]
  },
  {
   "cell_type": "code",
   "execution_count": 164,
   "metadata": {},
   "outputs": [],
   "source": [
    "def euclidean(u, v):\n",
    "    return np.linalg.norm(u-v)\n",
    "\n",
    "def length_norm(u):\n",
    "    return u / np.sqrt(u.dot(u))\n",
    "\n",
    "def cosine(u, v):\n",
    "    return 1.0 - length_norm(u).dot(length_norm(v))\n",
    "\n",
    "from sklearn.neighbors import NearestNeighbors"
   ]
  },
  {
   "cell_type": "code",
   "execution_count": 168,
   "metadata": {},
   "outputs": [],
   "source": [
    "def print_neighbors(distance, texts, representations, index, k=5):\n",
    "    \"\"\"\n",
    "    Parameters\n",
    "    ----------\n",
    "    distance : function\n",
    "        The distance to use to compare documents\n",
    "    texts : list of str\n",
    "        The texts\n",
    "    representations: 2D Array\n",
    "        Vector representations of the texts, in the same order\n",
    "    index: int\n",
    "        Index of the document for which to return nearest neighbors\n",
    "    k: int\n",
    "        Number of neighbors to display    \n",
    "    \"\"\"\n",
    "    neigh = NearestNeighbors(n_neighbors=k, algorithm='brute', metric=distance)\n",
    "    neigh.fit(representations) \n",
    "    dist, ind = neigh.kneighbors([representations[index]])\n",
    "    print(\"Plus proches voisins de: \\n '%s' \\n selon la distance '%s':\" % (texts[index], distance.__name__))\n",
    "    print([[texts[i] for i in s[1:]]  for s in ind])\n",
    "    print(\"\\n\")"
   ]
  },
  {
   "cell_type": "code",
   "execution_count": 161,
   "metadata": {},
   "outputs": [],
   "source": [
    "from sklearn.feature_extraction.text import TfidfVectorizer"
   ]
  },
  {
   "cell_type": "code",
   "execution_count": 208,
   "metadata": {},
   "outputs": [
    {
     "name": "stdout",
     "output_type": "stream",
     "text": [
      "(474, 426)\n"
     ]
    }
   ],
   "source": [
    "# Create and fit the vectorizer to the training data\n",
    "tfidf_vectorizer = TfidfVectorizer()\n",
    "Tfidf = tfidf_vectorizer.fit_transform(df['Institution'])\n",
    "tfidf_a = Tfidf.toarray()\n",
    "print(tfidf_a.shape)"
   ]
  },
  {
   "cell_type": "code",
   "execution_count": 199,
   "metadata": {},
   "outputs": [
    {
     "name": "stdout",
     "output_type": "stream",
     "text": [
      "Plus proches voisins de: \n",
      " 'AlgorithmWatch' \n",
      " selon la distance 'euclidean':\n",
      "[['AlgorithmWatch', 'AlgorithmWatch', 'All Tech is Human', 'Article 29 Working Party']]\n",
      "\n",
      "\n",
      "Plus proches voisins de: \n",
      " 'AlgorithmWatch' \n",
      " selon la distance 'cosine':\n",
      "[['AlgorithmWatch', 'AlgorithmWatch', 'Women leading in AI', 'White House']]\n",
      "\n",
      "\n"
     ]
    }
   ],
   "source": [
    "print_neighbors(euclidean, df['Institution'], tfidf_a, 24)\n",
    "print_neighbors(cosine, df['Institution'], tfidf_a, 24)\n"
   ]
  },
  {
   "cell_type": "code",
   "execution_count": 174,
   "metadata": {},
   "outputs": [],
   "source": [
    "import altair as alt\n",
    "import pandas as pd"
   ]
  },
  {
   "cell_type": "code",
   "execution_count": 205,
   "metadata": {},
   "outputs": [],
   "source": [
    "from sklearn.decomposition import PCA\n",
    "pca = PCA(n_components=2, whiten=True)\n",
    "docs_pca = pca.fit_transform(tfidf_a)"
   ]
  },
  {
   "cell_type": "code",
   "execution_count": 206,
   "metadata": {},
   "outputs": [
    {
     "data": {
      "text/plain": [
       "array([0.08779307, 0.06441508])"
      ]
     },
     "execution_count": 206,
     "metadata": {},
     "output_type": "execute_result"
    }
   ],
   "source": [
    "pca.explained_variance_ratio_"
   ]
  },
  {
   "cell_type": "code",
   "execution_count": 210,
   "metadata": {},
   "outputs": [
    {
     "name": "stdout",
     "output_type": "stream",
     "text": [
      "[1 1 1 1 1 1 1 0 1 1 1 1 1 0 0 0 0 1 1 1 1 1 1 1 1 1 1 1 1 1 1 1 1 1 1 1 1\n",
      " 1 1 1 0 1 1 1 1 1 1 1 1 1 1 1 1 1 1 1 1 1 1 1 1 1 1 1 1 1 1 1 1 1 1 1 1 1\n",
      " 1 1 1 1 1 1 1 1 1 1 1 1 1 1 1 1 1 1 1 1 1 1 1 1 1 1 1 1 1 1 1 1 1 1 1 1 1\n",
      " 1 1 1 1 1 1 1 1 1 1 1 1 1 1 1 1 1 1 1 1 1 1 1 1 2 2 2 1 1 2 2 2 2 2 2 2 2\n",
      " 2 2 2 2 2 2 1 2 2 2 2 2 2 2 2 2 2 2 2 2 1 1 1 1 0 0 1 1 2 2 2 2 2 2 2 2 2\n",
      " 2 2 2 2 2 2 2 2 2 2 2 2 2 2 2 2 2 2 2 2 2 2 2 2 2 2 1 1 1 1 1 1 1 1 0 1 1\n",
      " 1 1 1 1 1 1 1 1 0 0 1 1 1 1 1 1 1 1 1 1 1 1 1 1 1 1 1 1 1 1 1 1 1 1 1 1 1\n",
      " 1 0 1 1 1 1 1 1 1 0 0 0 0 0 0 0 0 1 1 1 1 1 1 1 1 1 1 1 1 1 1 1 1 1 1 0 1\n",
      " 1 0 1 1 1 1 1 1 1 1 1 1 1 1 1 1 1 1 1 0 0 1 1 0 0 1 1 1 1 1 1 1 1 1 1 1 1\n",
      " 1 1 1 1 1 1 1 1 1 1 1 1 1 1 1 1 1 0 0 1 1 1 1 1 1 1 1 1 1 1 1 1 1 1 1 1 1\n",
      " 1 1 1 1 1 1 1 1 1 1 1 1 1 1 1 1 1 1 0 0 0 1 0 1 1 1 1 1 1 1 1 0 0 1 1 1 1\n",
      " 1 0 1 1 1 1 1 1 1 1 1 1 1 1 1 1 1 1 1 1 1 1 1 1 1 1 1 1 1 1 1 1 1 1 1 1 1\n",
      " 1 1 1 1 1 1 1 1 1 1 1 1 1 1 1 1 1 1 1 1 1 1 1 1 1 1 1 1 1 1]\n"
     ]
    }
   ],
   "source": [
    "from sklearn.cluster import KMeans\n",
    "\n",
    "kmeans = KMeans(n_clusters=3, random_state=0)\n",
    "\n",
    "\n",
    "kmeans.fit(tfidf_a)\n",
    "\n",
    "\n",
    "labels = kmeans.labels_\n",
    "\n",
    "\n",
    "print(labels)"
   ]
  },
  {
   "cell_type": "code",
   "execution_count": 213,
   "metadata": {},
   "outputs": [],
   "source": [
    "data = pd.DataFrame({'x': docs_pca[:,0],\n",
    "                     'y': docs_pca[:,1],\n",
    "                     'texte': df['Institution'],\n",
    "                     'Category': labels})"
   ]
  },
  {
   "cell_type": "code",
   "execution_count": 215,
   "metadata": {},
   "outputs": [
    {
     "data": {
      "text/html": [
       "\n",
       "<style>\n",
       "  #altair-viz-f05171460ff04411ac8b4a36e19c63b8.vega-embed {\n",
       "    width: 100%;\n",
       "    display: flex;\n",
       "  }\n",
       "\n",
       "  #altair-viz-f05171460ff04411ac8b4a36e19c63b8.vega-embed details,\n",
       "  #altair-viz-f05171460ff04411ac8b4a36e19c63b8.vega-embed details summary {\n",
       "    position: relative;\n",
       "  }\n",
       "</style>\n",
       "<div id=\"altair-viz-f05171460ff04411ac8b4a36e19c63b8\"></div>\n",
       "<script type=\"text/javascript\">\n",
       "  var VEGA_DEBUG = (typeof VEGA_DEBUG == \"undefined\") ? {} : VEGA_DEBUG;\n",
       "  (function(spec, embedOpt){\n",
       "    let outputDiv = document.currentScript.previousElementSibling;\n",
       "    if (outputDiv.id !== \"altair-viz-f05171460ff04411ac8b4a36e19c63b8\") {\n",
       "      outputDiv = document.getElementById(\"altair-viz-f05171460ff04411ac8b4a36e19c63b8\");\n",
       "    }\n",
       "    const paths = {\n",
       "      \"vega\": \"https://cdn.jsdelivr.net/npm/vega@5?noext\",\n",
       "      \"vega-lib\": \"https://cdn.jsdelivr.net/npm/vega-lib?noext\",\n",
       "      \"vega-lite\": \"https://cdn.jsdelivr.net/npm/vega-lite@5.20.1?noext\",\n",
       "      \"vega-embed\": \"https://cdn.jsdelivr.net/npm/vega-embed@6?noext\",\n",
       "    };\n",
       "\n",
       "    function maybeLoadScript(lib, version) {\n",
       "      var key = `${lib.replace(\"-\", \"\")}_version`;\n",
       "      return (VEGA_DEBUG[key] == version) ?\n",
       "        Promise.resolve(paths[lib]) :\n",
       "        new Promise(function(resolve, reject) {\n",
       "          var s = document.createElement('script');\n",
       "          document.getElementsByTagName(\"head\")[0].appendChild(s);\n",
       "          s.async = true;\n",
       "          s.onload = () => {\n",
       "            VEGA_DEBUG[key] = version;\n",
       "            return resolve(paths[lib]);\n",
       "          };\n",
       "          s.onerror = () => reject(`Error loading script: ${paths[lib]}`);\n",
       "          s.src = paths[lib];\n",
       "        });\n",
       "    }\n",
       "\n",
       "    function showError(err) {\n",
       "      outputDiv.innerHTML = `<div class=\"error\" style=\"color:red;\">${err}</div>`;\n",
       "      throw err;\n",
       "    }\n",
       "\n",
       "    function displayChart(vegaEmbed) {\n",
       "      vegaEmbed(outputDiv, spec, embedOpt)\n",
       "        .catch(err => showError(`Javascript Error: ${err.message}<br>This usually means there's a typo in your chart specification. See the javascript console for the full traceback.`));\n",
       "    }\n",
       "\n",
       "    if(typeof define === \"function\" && define.amd) {\n",
       "      requirejs.config({paths});\n",
       "      require([\"vega-embed\"], displayChart, err => showError(`Error loading script: ${err.message}`));\n",
       "    } else {\n",
       "      maybeLoadScript(\"vega\", \"5\")\n",
       "        .then(() => maybeLoadScript(\"vega-lite\", \"5.20.1\"))\n",
       "        .then(() => maybeLoadScript(\"vega-embed\", \"6\"))\n",
       "        .catch(showError)\n",
       "        .then(() => displayChart(vegaEmbed));\n",
       "    }\n",
       "  })({\"config\": {\"view\": {\"continuousWidth\": 300, \"continuousHeight\": 300}}, \"data\": {\"name\": \"data-1547ff9cc5e83272280e565bffdef94d\"}, \"mark\": {\"type\": \"circle\", \"size\": 200}, \"encoding\": {\"color\": {\"field\": \"Category\", \"type\": \"quantitative\"}, \"tooltip\": [{\"field\": \"texte\", \"type\": \"nominal\"}], \"x\": {\"field\": \"x\", \"type\": \"quantitative\"}, \"y\": {\"field\": \"y\", \"type\": \"quantitative\"}}, \"height\": 500, \"params\": [{\"name\": \"param_5\", \"select\": {\"type\": \"interval\", \"encodings\": [\"x\", \"y\"]}, \"bind\": \"scales\"}], \"width\": 500, \"$schema\": \"https://vega.github.io/schema/vega-lite/v5.20.1.json\", \"datasets\": {\"data-1547ff9cc5e83272280e565bffdef94d\": [{\"x\": -0.18166663247824852, \"y\": -0.4495343721596311, \"texte\": \"Intel\", \"Category\": 1}, {\"x\": -0.35022530404162705, \"y\": -0.104263048988533, \"texte\": \"Academy of Medical Royal Colleges\", \"Category\": 1}, {\"x\": -0.19200377785319517, \"y\": -0.48276156783172935, \"texte\": \"Access Now\", \"Category\": 1}, {\"x\": -0.1920037778531855, \"y\": -0.48276156783174023, \"texte\": \"Access Now\", \"Category\": 1}, {\"x\": -0.18465701752914077, \"y\": -0.4598564741371969, \"texte\": \"AccessNow\", \"Category\": 1}, {\"x\": -0.18465701752914077, \"y\": -0.4598564741371951, \"texte\": \"AccessNow\", \"Category\": 1}, {\"x\": -0.18465701752914102, \"y\": -0.4598564741371957, \"texte\": \"AccessNow\", \"Category\": 1}, {\"x\": -0.2052163927306166, \"y\": -0.4943954763276421, \"texte\": \"Ada Lovelace Institute\", \"Category\": 0}, {\"x\": -0.1884584095874148, \"y\": -0.47199319738480877, \"texte\": \"Adapt Center\", \"Category\": 1}, {\"x\": -0.2402497945330634, \"y\": -0.5988729807098712, \"texte\": \"Advisory Board on Artificial Intelligence and Human Society\", \"Category\": 1}, {\"x\": -0.17650983415654956, \"y\": -0.42825175991871556, \"texte\": \"Agenzia per l'Italia Digitale\", \"Category\": 1}, {\"x\": -0.7555952035839069, \"y\": 0.8023392276770369, \"texte\": \"AI Council\", \"Category\": 1}, {\"x\": -0.2455694325477232, \"y\": -0.5698461771038474, \"texte\": \"AI Forum\", \"Category\": 1}, {\"x\": -0.2614537648753504, \"y\": -0.6123044416388367, \"texte\": \"AI Now Institute\", \"Category\": 0}, {\"x\": -0.26145376487535044, \"y\": -0.6123044416388366, \"texte\": \"AI Now Institute\", \"Category\": 0}, {\"x\": -0.2614537648753504, \"y\": -0.6123044416388367, \"texte\": \"AI Now Institute\", \"Category\": 0}, {\"x\": -0.2614537648753504, \"y\": -0.6123044416388367, \"texte\": \"AI Now Institute\", \"Category\": 0}, {\"x\": -0.20979510519813555, \"y\": -0.4838316334176825, \"texte\": \"AI Recht\", \"Category\": 1}, {\"x\": -0.17519687490354383, \"y\": -0.42744616583134487, \"texte\": \"AI4People\", \"Category\": 1}, {\"x\": -0.18429990735565274, \"y\": -0.457374060803913, \"texte\": \"AIEI Group\", \"Category\": 1}, {\"x\": -0.17519687490354383, \"y\": -0.4274461658313448, \"texte\": \"AISOMA\", \"Category\": 1}, {\"x\": -0.17519687490354383, \"y\": -0.4274461658313448, \"texte\": \"AISP\", \"Category\": 1}, {\"x\": -0.18465701752914085, \"y\": -0.4598564741371957, \"texte\": \"AlgorithmWatch\", \"Category\": 1}, {\"x\": -0.18465701752914085, \"y\": -0.4598564741371957, \"texte\": \"AlgorithmWatch\", \"Category\": 1}, {\"x\": -0.18465701752914085, \"y\": -0.4598564741371957, \"texte\": \"AlgorithmWatch\", \"Category\": 1}, {\"x\": -0.1773474785059159, \"y\": -0.4440572820609031, \"texte\": \"All Tech is Human\", \"Category\": 1}, {\"x\": -0.17519687490354383, \"y\": -0.42744616583134487, \"texte\": \"ALLAI\", \"Category\": 1}, {\"x\": -0.21306028842961383, \"y\": -0.5391425608969246, \"texte\": \"Always Designing for People\", \"Category\": 1}, {\"x\": -0.3781306771620473, \"y\": -0.05945131340246131, \"texte\": \"American College of Radiology\", \"Category\": 1}, {\"x\": -0.17519687490354383, \"y\": -0.4274461658313448, \"texte\": \"Aptiv\", \"Category\": 1}, {\"x\": -0.17519687490354383, \"y\": -0.42744616583134487, \"texte\": \"ArmAI\", \"Category\": 1}, {\"x\": -0.17881295046673876, \"y\": -0.43896451541373, \"texte\": \"Article 29 Working Party\", \"Category\": 1}, {\"x\": -0.38233269611329324, \"y\": -0.3272407711705061, \"texte\": \"Association for Computing Machinery - Future of Computing Machinery\", \"Category\": 1}, {\"x\": -0.38233269611329324, \"y\": -0.3272407711705061, \"texte\": \"Association for Computing Machinery - Future of Computing Machinery\", \"Category\": 1}, {\"x\": -0.38233269611329324, \"y\": -0.3272407711705061, \"texte\": \"Association for Computing Machinery - Future of Computing Machinery\", \"Category\": 1}, {\"x\": -0.38233269611329324, \"y\": -0.3272407711705061, \"texte\": \"Association for Computing Machinery - Future of Computing Machinery\", \"Category\": 1}, {\"x\": -0.2594487457774116, \"y\": -0.6173472563094994, \"texte\": \"Association for Computing Machinery\", \"Category\": 1}, {\"x\": -0.2594487457774116, \"y\": -0.6173472563094994, \"texte\": \"Association for Computing Machinery\", \"Category\": 1}, {\"x\": -0.45049066736744225, \"y\": -0.3052835447451635, \"texte\": \"Australian Government - Department of Industry Innovation and Science\", \"Category\": 1}, {\"x\": 0.15251450062748637, \"y\": -0.38605535612319203, \"texte\": \"Australian Human Rights Commission\", \"Category\": 1}, {\"x\": -0.2156302918422103, \"y\": -0.5128837070088237, \"texte\": \"Australian Strategic Policy Institute\", \"Category\": 0}, {\"x\": -0.17783451784137436, \"y\": -0.450638569917976, \"texte\": \"Autorit\\u00e9 de contr\\u00f4le prudentiel et de r\\u00e9solution\", \"Category\": 1}, {\"x\": -0.17519687490354383, \"y\": -0.42744616583134487, \"texte\": \"Axon\", \"Category\": 1}, {\"x\": -0.17519687490354383, \"y\": -0.42744616583134487, \"texte\": \"BCG\", \"Category\": 1}, {\"x\": -0.17865754388521943, \"y\": -0.4392213207760788, \"texte\": \"Bertelsmann Stiftung\", \"Category\": 1}, {\"x\": -0.2323257536307978, \"y\": -0.578418013013428, \"texte\": \"Biometrics and Forensics Ethics Group\", \"Category\": 1}, {\"x\": -0.17519687490354383, \"y\": -0.42744616583134487, \"texte\": \"Bitkom\", \"Category\": 1}, {\"x\": -0.17519687490354383, \"y\": -0.42744616583134487, \"texte\": \"BlackBerry\", \"Category\": 1}, {\"x\": -0.4352475887527572, \"y\": -0.009696476914861968, \"texte\": \"Brazil\\u2019s Ministry of Science\", \"Category\": 1}, {\"x\": -0.1751968749035438, \"y\": -0.42744616583134476, \"texte\": \"British Embassy Mexico City\", \"Category\": 1}, {\"x\": -0.17519687490354383, \"y\": -0.42744616583134487, \"texte\": \"Brookings\", \"Category\": 1}, {\"x\": -0.19312239966562936, \"y\": -0.47797001533102174, \"texte\": \"Cabinet Office\", \"Category\": 1}, {\"x\": -0.18614683329992293, \"y\": -0.4306160505984794, \"texte\": \"Canada\", \"Category\": 1}, {\"x\": -0.25589450543437287, \"y\": -0.6088056215837266, \"texte\": \"Center for Democracy & Technology\", \"Category\": 1}, {\"x\": -0.25589450543437287, \"y\": -0.6088056215837266, \"texte\": \"Center for Democracy & technology\", \"Category\": 1}, {\"x\": -0.2514271071995899, \"y\": -0.5963888436707256, \"texte\": \"Center for Humane Technology\", \"Category\": 1}, {\"x\": -0.2137639353992951, \"y\": -0.607808666260889, \"texte\": \"Central Digital & Data Office\", \"Category\": 1}, {\"x\": -0.25327171225586925, \"y\": -0.7860719967671019, \"texte\": \"Centre for Data Ethics and Innovation\", \"Category\": 1}, {\"x\": -0.25327171225586925, \"y\": -0.7860719967671019, \"texte\": \"Centre for Data Ethics and Innovation\", \"Category\": 1}, {\"x\": -0.4736474679417166, \"y\": -0.2106018360845094, \"texte\": \"Centre for the Governance of AI\", \"Category\": 1}, {\"x\": -0.4736474679417166, \"y\": -0.2106018360845094, \"texte\": \"Centre for the Governance of AI\", \"Category\": 1}, {\"x\": -0.22124041961797863, \"y\": -0.5560574348141423, \"texte\": \"Centre on AI Technology for Humanking  at NUS Business School\", \"Category\": 1}, {\"x\": -0.17519687490354383, \"y\": -0.42744616583134487, \"texte\": \"CERNA\", \"Category\": 1}, {\"x\": -0.17519687490354377, \"y\": -0.4274461658313448, \"texte\": \"CIFAR\", \"Category\": 1}, {\"x\": -0.22126524287248395, \"y\": -0.546790587108472, \"texte\": \"CIGI Gentre for International Governance Innovation\", \"Category\": 1}, {\"x\": -0.17519687490354388, \"y\": -0.42744616583134465, \"texte\": \"CIGREF/Syntec Num\\u00e9rique\", \"Category\": 1}, {\"x\": -0.22876909151719027, \"y\": -0.639516523715104, \"texte\": \"Cities Coalition for Digital Rights\", \"Category\": 1}, {\"x\": 0.07998497919117656, \"y\": -0.35848125425314536, \"texte\": \"Commission du droit de l'Ontario\", \"Category\": 1}, {\"x\": -0.4395549463244692, \"y\": 0.1124536273565744, \"texte\": \"Commission for the Implementation of the Code of Ethics in the Field of Artificial Intelligence\", \"Category\": 1}, {\"x\": 0.04197303044887056, \"y\": -0.3833005906563027, \"texte\": \"Commission nationale consultative des droits de l'Homme\", \"Category\": 1}, {\"x\": 0.09693604221789713, \"y\": -0.35982979977754087, \"texte\": \"Commission nationale informatique et libert\\u00e9s\", \"Category\": 1}, {\"x\": 0.09693604221789713, \"y\": -0.35982979977754087, \"texte\": \"Commission nationale informatique et libert\\u00e9s\", \"Category\": 1}, {\"x\": -0.34410982175578086, \"y\": -0.3026612029808735, \"texte\": \"Conference of the Independent Federal and State Data Protection Supervisory Authorities - Datenschutzkonferenz\", \"Category\": 1}, {\"x\": -0.37437746445469333, \"y\": -0.12182216136537909, \"texte\": \"Coordination Office of INCoDe2030 Initiative\", \"Category\": 1}, {\"x\": -1.6795309342499152, \"y\": 3.085411299655613, \"texte\": \"Council of Europe\", \"Category\": 1}, {\"x\": -1.6795309342499152, \"y\": 3.085411299655613, \"texte\": \"Council of Europe\", \"Category\": 1}, {\"x\": -1.6795309342499152, \"y\": 3.085411299655613, \"texte\": \"Council of Europe\", \"Category\": 1}, {\"x\": -1.6795309342499152, \"y\": 3.085411299655613, \"texte\": \"Council of Europe\", \"Category\": 1}, {\"x\": -1.6795309342499152, \"y\": 3.085411299655613, \"texte\": \"Council of Europe\", \"Category\": 1}, {\"x\": -1.6795309342499152, \"y\": 3.085411299655613, \"texte\": \"Council of Europe\", \"Category\": 1}, {\"x\": -1.6795309342499152, \"y\": 3.085411299655613, \"texte\": \"Council of Europe\", \"Category\": 1}, {\"x\": -1.6795309342499152, \"y\": 3.085411299655613, \"texte\": \"Council of Europe\", \"Category\": 1}, {\"x\": -1.6795309342499152, \"y\": 3.085411299655613, \"texte\": \"Council of Europe\", \"Category\": 1}, {\"x\": -1.6795309342499152, \"y\": 3.085411299655613, \"texte\": \"Council of Europe\", \"Category\": 1}, {\"x\": -1.6795309342499152, \"y\": 3.085411299655613, \"texte\": \"Council of Europe\", \"Category\": 1}, {\"x\": -1.6795309342499152, \"y\": 3.085411299655613, \"texte\": \"Council of Europe\", \"Category\": 1}, {\"x\": -1.6795309342499152, \"y\": 3.085411299655613, \"texte\": \"Council of Europe\", \"Category\": 1}, {\"x\": -1.6795309342499152, \"y\": 3.085411299655613, \"texte\": \"Council of Europe\", \"Category\": 1}, {\"x\": -1.6795309342499152, \"y\": 3.085411299655613, \"texte\": \"Council of Europe\", \"Category\": 1}, {\"x\": -1.6795309342499152, \"y\": 3.085411299655613, \"texte\": \"Council of Europe\", \"Category\": 1}, {\"x\": -1.6795309342499152, \"y\": 3.085411299655613, \"texte\": \"Council of Europe\", \"Category\": 1}, {\"x\": -1.6795309342499152, \"y\": 3.085411299655613, \"texte\": \"Council of Europe\", \"Category\": 1}, {\"x\": -1.6795309342499152, \"y\": 3.085411299655613, \"texte\": \"Council of Europe\", \"Category\": 1}, {\"x\": -1.6795309342499152, \"y\": 3.085411299655613, \"texte\": \"Council of Europe\", \"Category\": 1}, {\"x\": -1.6795309342499152, \"y\": 3.085411299655613, \"texte\": \"Council of Europe\", \"Category\": 1}, {\"x\": -1.6795309342499152, \"y\": 3.085411299655613, \"texte\": \"Council of Europe\", \"Category\": 1}, {\"x\": -1.6795309342499152, \"y\": 3.085411299655613, \"texte\": \"Council of Europe\", \"Category\": 1}, {\"x\": -1.6795309342499152, \"y\": 3.085411299655613, \"texte\": \"Council of Europe\", \"Category\": 1}, {\"x\": -1.6795309342499152, \"y\": 3.085411299655613, \"texte\": \"Council of Europe\", \"Category\": 1}, {\"x\": -1.6795309342499152, \"y\": 3.085411299655613, \"texte\": \"Council of Europe\", \"Category\": 1}, {\"x\": -1.6795309342499152, \"y\": 3.085411299655613, \"texte\": \"Council of Europe\", \"Category\": 1}, {\"x\": -1.6795309342499152, \"y\": 3.085411299655613, \"texte\": \"Council of Europe\", \"Category\": 1}, {\"x\": -1.6795309342499152, \"y\": 3.085411299655613, \"texte\": \"Council of Europe\", \"Category\": 1}, {\"x\": -1.6795309342499152, \"y\": 3.085411299655613, \"texte\": \"Council of Europe\", \"Category\": 1}, {\"x\": -1.6795309342499152, \"y\": 3.085411299655613, \"texte\": \"Council of Europe\", \"Category\": 1}, {\"x\": -1.6795309342499152, \"y\": 3.085411299655613, \"texte\": \"Council of Europe\", \"Category\": 1}, {\"x\": -1.0835698820092705, \"y\": 1.3411155907468901, \"texte\": \"Council of Europe and Croatian Presidency of the Committee of Ministers\", \"Category\": 1}, {\"x\": -1.083569882009271, \"y\": 1.3411155907468904, \"texte\": \"Council of Europe and Finnish Presidency of the Committee of Ministers\", \"Category\": 1}, {\"x\": -0.31257666907984993, \"y\": 1.599487038465488, \"texte\": \"Council of Europe: European Commission for the efficiency of Justice\", \"Category\": 1}, {\"x\": -0.06892395791571426, \"y\": 1.3875789033167516, \"texte\": \"Council of the European Union\", \"Category\": 1}, {\"x\": -0.06892395791571426, \"y\": 1.3875789033167516, \"texte\": \"Council of the European Union\", \"Category\": 1}, {\"x\": -0.18751312342442295, \"y\": -0.4666039600265886, \"texte\": \"Critical Engineering Working Group\", \"Category\": 1}, {\"x\": -0.1945301500357177, \"y\": -0.5181963512285087, \"texte\": \"Danish Expert Group on Data Ethics - Ekspertgruppen om DATAETIK\", \"Category\": 1}, {\"x\": -0.18983897257698423, \"y\": -0.545868721134811, \"texte\": \"Data & Society\", \"Category\": 1}, {\"x\": -0.20213962314892456, \"y\": -0.5908967686389334, \"texte\": \"Data Ethics\", \"Category\": 1}, {\"x\": 0.27567850505520364, \"y\": -0.41921366816279304, \"texte\": \"Data Ethics Commission\", \"Category\": 1}, {\"x\": 0.27567850505520364, \"y\": -0.41921366816279304, \"texte\": \"Data Ethics Commission\", \"Category\": 1}, {\"x\": -0.17519687490354388, \"y\": -0.4274461658313448, \"texte\": \"Dataiku\", \"Category\": 1}, {\"x\": -0.19134017050151864, \"y\": -0.4803215345947786, \"texte\": \"Defense Innovation Board\", \"Category\": 1}, {\"x\": -0.17615144785862163, \"y\": -0.43435350113232774, \"texte\": \"D\\u00e9fenseur des droits\", \"Category\": 1}, {\"x\": -0.2971567171828574, \"y\": -0.794020838439203, \"texte\": \"Department for Digital\", \"Category\": 1}, {\"x\": -0.2971567171828574, \"y\": -0.794020838439203, \"texte\": \"Department for Digital\", \"Category\": 1}, {\"x\": -0.2971567171828574, \"y\": -0.794020838439203, \"texte\": \"Department for Digital\", \"Category\": 1}, {\"x\": -0.2971567171828574, \"y\": -0.794020838439203, \"texte\": \"Department for Digital\", \"Category\": 1}, {\"x\": -0.2971567171828574, \"y\": -0.794020838439203, \"texte\": \"Department for Digital\", \"Category\": 1}, {\"x\": -0.2971567171828574, \"y\": -0.794020838439203, \"texte\": \"Department for Digital\", \"Category\": 1}, {\"x\": -0.2971567171828574, \"y\": -0.794020838439203, \"texte\": \"Department for Digital\", \"Category\": 1}, {\"x\": -0.48707038148461707, \"y\": 0.014048274714963144, \"texte\": \"Department of Defence\", \"Category\": 1}, {\"x\": -0.3949824801070203, \"y\": -0.1289707843871879, \"texte\": \"Department of Health & Social Care\", \"Category\": 1}, {\"x\": -0.5066709665186233, \"y\": 0.027490754602968414, \"texte\": \"Department of Industry\", \"Category\": 1}, {\"x\": -0.1751968749035439, \"y\": -0.42744616583134487, \"texte\": \"Deutsche Telekom\", \"Category\": 1}, {\"x\": -0.1798025981123222, \"y\": -0.44305939788398324, \"texte\": \"ETH Zurich\", \"Category\": 1}, {\"x\": -0.1798025981123222, \"y\": -0.44305939788398324, \"texte\": \"ETH Zurich\", \"Category\": 1}, {\"x\": -0.42315793374818544, \"y\": -0.18872894829596093, \"texte\": \"Ethics Committee of the Federal Ministry of Transport and Digital Infrastructure  - Ethkikkommission des Bundesministeriums f\\u00fcr Verkehr und digitale Infrastruktur\", \"Category\": 1}, {\"x\": -0.17519687490354394, \"y\": -0.4274461658313446, \"texte\": \"EUROCONTROL\", \"Category\": 1}, {\"x\": 1.990596624215979, \"y\": 0.5560896093939706, \"texte\": \"European Commission\", \"Category\": 2}, {\"x\": 1.990596624215979, \"y\": 0.5560896093939706, \"texte\": \"European Commission\", \"Category\": 2}, {\"x\": 1.990596624215979, \"y\": 0.5560896093939706, \"texte\": \"European Commission\", \"Category\": 2}, {\"x\": 0.5029284447542653, \"y\": -0.15731220137987928, \"texte\": \"European Data Protection Supervisor\", \"Category\": 1}, {\"x\": -0.17519687490354388, \"y\": -0.42744616583134476, \"texte\": \"ESMA\", \"Category\": 1}, {\"x\": 1.990596624215979, \"y\": 0.5560896093939706, \"texte\": \"European Commission\", \"Category\": 2}, {\"x\": 1.990596624215979, \"y\": 0.5560896093939706, \"texte\": \"European Commission\", \"Category\": 2}, {\"x\": 1.990596624215979, \"y\": 0.5560896093939706, \"texte\": \"European Commission\", \"Category\": 2}, {\"x\": 1.990596624215979, \"y\": 0.5560896093939706, \"texte\": \"European Commission\", \"Category\": 2}, {\"x\": 1.990596624215979, \"y\": 0.5560896093939706, \"texte\": \"European Commission\", \"Category\": 2}, {\"x\": 1.990596624215979, \"y\": 0.5560896093939706, \"texte\": \"European Commission\", \"Category\": 2}, {\"x\": 1.990596624215979, \"y\": 0.5560896093939706, \"texte\": \"European Commission\", \"Category\": 2}, {\"x\": 1.990596624215979, \"y\": 0.5560896093939706, \"texte\": \"European Commission\", \"Category\": 2}, {\"x\": 1.990596624215979, \"y\": 0.5560896093939706, \"texte\": \"European Commission\", \"Category\": 2}, {\"x\": 1.990596624215979, \"y\": 0.5560896093939706, \"texte\": \"European Commission\", \"Category\": 2}, {\"x\": 1.990596624215979, \"y\": 0.5560896093939706, \"texte\": \"European Commission\", \"Category\": 2}, {\"x\": 1.990596624215979, \"y\": 0.5560896093939706, \"texte\": \"European Commission\", \"Category\": 2}, {\"x\": 1.990596624215979, \"y\": 0.5560896093939706, \"texte\": \"European Commission\", \"Category\": 2}, {\"x\": 1.990596624215979, \"y\": 0.5560896093939706, \"texte\": \"European Commission\", \"Category\": 2}, {\"x\": 0.7059756743058997, \"y\": -0.12183691079987816, \"texte\": \"European Commission (DG for Education\", \"Category\": 1}, {\"x\": 1.990596624215979, \"y\": 0.5560896093939706, \"texte\": \"European Commission\", \"Category\": 2}, {\"x\": 1.990596624215979, \"y\": 0.5560896093939706, \"texte\": \"European Commission\", \"Category\": 2}, {\"x\": 0.958027755368689, \"y\": 0.006350197585398385, \"texte\": \"European Commission (Joint Research Centre\", \"Category\": 2}, {\"x\": 0.958027755368689, \"y\": 0.006350197585398385, \"texte\": \"European Commission (Joint Research Centre\", \"Category\": 2}, {\"x\": 0.958027755368689, \"y\": 0.006350197585398385, \"texte\": \"European Commission (Joint Research Centre\", \"Category\": 2}, {\"x\": 0.958027755368689, \"y\": 0.006350197585398385, \"texte\": \"European Commission (Joint Research Centre\", \"Category\": 2}, {\"x\": 0.958027755368689, \"y\": 0.006350197585398385, \"texte\": \"European Commission (Joint Research Centre\", \"Category\": 2}, {\"x\": 0.958027755368689, \"y\": 0.006350197585398385, \"texte\": \"European Commission (Joint Research Centre\", \"Category\": 2}, {\"x\": 0.958027755368689, \"y\": 0.006350197585398385, \"texte\": \"European Commission (Joint Research Centre\", \"Category\": 2}, {\"x\": 1.990596624215979, \"y\": 0.5560896093939706, \"texte\": \"European Commission\", \"Category\": 2}, {\"x\": 1.990596624215979, \"y\": 0.5560896093939706, \"texte\": \"European Commission\", \"Category\": 2}, {\"x\": 1.990596624215979, \"y\": 0.5560896093939706, \"texte\": \"European Commission\", \"Category\": 2}, {\"x\": 1.990596624215979, \"y\": 0.5560896093939706, \"texte\": \"European Commission\", \"Category\": 2}, {\"x\": 0.5029284447542653, \"y\": -0.15731220137987928, \"texte\": \"European Data Protection Supervisor\", \"Category\": 1}, {\"x\": 0.6785547378301624, \"y\": -0.1284492022332043, \"texte\": \"European Digital Rights\", \"Category\": 1}, {\"x\": 0.4057981177277999, \"y\": -0.3135798537759937, \"texte\": \"European Economic and Social Committee\", \"Category\": 1}, {\"x\": 0.4057981177277999, \"y\": -0.3135798537759937, \"texte\": \"European Economic and Social Committee\", \"Category\": 1}, {\"x\": 0.6873630780085339, \"y\": -0.06333711169526625, \"texte\": \"European Law Institute\", \"Category\": 0}, {\"x\": 0.6873630780085339, \"y\": -0.06333711169526625, \"texte\": \"European Law Institute\", \"Category\": 0}, {\"x\": 0.20847235219968568, \"y\": 0.26503386542700785, \"texte\": \"European Network of Equality Bodies\", \"Category\": 1}, {\"x\": 0.20847235219968568, \"y\": 0.26503386542700785, \"texte\": \"European Network of Equality Bodies\", \"Category\": 1}, {\"x\": 2.649129122482225, \"y\": 1.1771488486909965, \"texte\": \"European Parliament\", \"Category\": 2}, {\"x\": 2.649129122482225, \"y\": 1.1771488486909965, \"texte\": \"European Parliament\", \"Category\": 2}, {\"x\": 2.649129122482225, \"y\": 1.1771488486909965, \"texte\": \"European Parliament\", \"Category\": 2}, {\"x\": 2.649129122482225, \"y\": 1.1771488486909965, \"texte\": \"European Parliament\", \"Category\": 2}, {\"x\": 2.649129122482225, \"y\": 1.1771488486909965, \"texte\": \"European Parliament\", \"Category\": 2}, {\"x\": 2.649129122482225, \"y\": 1.1771488486909965, \"texte\": \"European Parliament\", \"Category\": 2}, {\"x\": 2.649129122482225, \"y\": 1.1771488486909965, \"texte\": \"European Parliament\", \"Category\": 2}, {\"x\": 2.649129122482225, \"y\": 1.1771488486909965, \"texte\": \"European Parliament\", \"Category\": 2}, {\"x\": 2.649129122482225, \"y\": 1.1771488486909965, \"texte\": \"European Parliament\", \"Category\": 2}, {\"x\": 2.649129122482225, \"y\": 1.1771488486909965, \"texte\": \"European Parliament\", \"Category\": 2}, {\"x\": 2.649129122482225, \"y\": 1.1771488486909965, \"texte\": \"European Parliament\", \"Category\": 2}, {\"x\": 2.649129122482225, \"y\": 1.1771488486909965, \"texte\": \"European Parliament\", \"Category\": 2}, {\"x\": 2.649129122482225, \"y\": 1.1771488486909965, \"texte\": \"European Parliament\", \"Category\": 2}, {\"x\": 2.649129122482225, \"y\": 1.1771488486909965, \"texte\": \"European Parliament\", \"Category\": 2}, {\"x\": 2.649129122482225, \"y\": 1.1771488486909965, \"texte\": \"European Parliament\", \"Category\": 2}, {\"x\": 2.649129122482225, \"y\": 1.1771488486909965, \"texte\": \"European Parliament\", \"Category\": 2}, {\"x\": 2.649129122482225, \"y\": 1.1771488486909965, \"texte\": \"European Parliament\", \"Category\": 2}, {\"x\": 2.649129122482225, \"y\": 1.1771488486909965, \"texte\": \"European Parliament\", \"Category\": 2}, {\"x\": 2.649129122482225, \"y\": 1.1771488486909965, \"texte\": \"European Parliament\", \"Category\": 2}, {\"x\": 2.649129122482225, \"y\": 1.1771488486909965, \"texte\": \"European Parliament\", \"Category\": 2}, {\"x\": 2.649129122482225, \"y\": 1.1771488486909965, \"texte\": \"European Parliament\", \"Category\": 2}, {\"x\": 2.649129122482225, \"y\": 1.1771488486909965, \"texte\": \"European Parliament\", \"Category\": 2}, {\"x\": 2.649129122482225, \"y\": 1.1771488486909965, \"texte\": \"European Parliament\", \"Category\": 2}, {\"x\": 2.649129122482225, \"y\": 1.1771488486909965, \"texte\": \"European Parliament\", \"Category\": 2}, {\"x\": 2.649129122482225, \"y\": 1.1771488486909965, \"texte\": \"European Parliament\", \"Category\": 2}, {\"x\": 2.649129122482225, \"y\": 1.1771488486909965, \"texte\": \"European Parliament\", \"Category\": 2}, {\"x\": 2.649129122482225, \"y\": 1.1771488486909965, \"texte\": \"European Parliament\", \"Category\": 2}, {\"x\": 2.649129122482225, \"y\": 1.1771488486909965, \"texte\": \"European Parliament\", \"Category\": 2}, {\"x\": 2.649129122482225, \"y\": 1.1771488486909965, \"texte\": \"European Parliament\", \"Category\": 2}, {\"x\": 2.649129122482225, \"y\": 1.1771488486909965, \"texte\": \"European Parliament\", \"Category\": 2}, {\"x\": 2.649129122482225, \"y\": 1.1771488486909965, \"texte\": \"European Parliament\", \"Category\": 2}, {\"x\": 2.649129122482225, \"y\": 1.1771488486909965, \"texte\": \"European Parliament\", \"Category\": 2}, {\"x\": 2.649129122482225, \"y\": 1.1771488486909965, \"texte\": \"European Parliament\", \"Category\": 2}, {\"x\": 2.649129122482225, \"y\": 1.1771488486909965, \"texte\": \"European Parliament\", \"Category\": 2}, {\"x\": 2.649129122482225, \"y\": 1.1771488486909965, \"texte\": \"European Parliament\", \"Category\": 2}, {\"x\": 0.8702737969701663, \"y\": 0.17067234384729155, \"texte\": \"European Union\", \"Category\": 1}, {\"x\": 0.3792561549428336, \"y\": -0.2263115325162367, \"texte\": \"European Union Agency for Cybersecurity\", \"Category\": 1}, {\"x\": 0.3513675158824183, \"y\": -0.15520838527773392, \"texte\": \"European Union Intellectual Property Office\", \"Category\": 1}, {\"x\": -0.17519687490354394, \"y\": -0.4274461658313448, \"texte\": \"ExamAI\", \"Category\": 1}, {\"x\": -0.4349146923645331, \"y\": -0.09702057102374986, \"texte\": \"Executive Office of the President\", \"Category\": 1}, {\"x\": -0.18110232165230303, \"y\": -0.43455448036537553, \"texte\": \"Executive Yuan\", \"Category\": 1}, {\"x\": -0.17519687490354388, \"y\": -0.4274461658313448, \"texte\": \"Fastai\", \"Category\": 1}, {\"x\": -0.35058614262255516, \"y\": -0.09878319405440222, \"texte\": \"Federation of German Consumer Organisations\", \"Category\": 1}, {\"x\": -0.2550800269366127, \"y\": -0.6373989773494455, \"texte\": \"Fraunhofer Institute for Intelligent Analysis and Information Systems IAIS\", \"Category\": 0}, {\"x\": -0.17692470142052305, \"y\": -0.43409099082678865, \"texte\": \"Freedom Online Coalition\", \"Category\": 1}, {\"x\": -0.18787025474244198, \"y\": -0.5260384666200046, \"texte\": \"French Data Protection Authority\", \"Category\": 1}, {\"x\": -0.25852562682105124, \"y\": -0.5748119486984694, \"texte\": \"French National Ethical Consultative Committee for Life Sciences and Health\", \"Category\": 1}, {\"x\": -0.5841500673125597, \"y\": 0.25345088690067147, \"texte\": \"French Presidency of the Committee of Ministers\", \"Category\": 1}, {\"x\": -0.18825016556516294, \"y\": -0.5284697575617, \"texte\": \"Fundamental Rights Agency\", \"Category\": 1}, {\"x\": -0.18825016556516294, \"y\": -0.5284697575617, \"texte\": \"Fundamental Rights Agency\", \"Category\": 1}, {\"x\": -0.18825016556516294, \"y\": -0.5284697575617, \"texte\": \"Fundamental Rights Agency\", \"Category\": 1}, {\"x\": -0.18825016556516294, \"y\": -0.5284697575617, \"texte\": \"Fundamental Rights Agency\", \"Category\": 1}, {\"x\": -0.18825016556516294, \"y\": -0.5284697575617, \"texte\": \"Fundamental Rights Agency\", \"Category\": 1}, {\"x\": -0.20492478655697388, \"y\": -0.4444288957939081, \"texte\": \"Future Advocacy\", \"Category\": 1}, {\"x\": -0.4871462220920297, \"y\": -0.04497323374499713, \"texte\": \"Future of Humanity Institute\", \"Category\": 0}, {\"x\": -0.4871462220920297, \"y\": -0.04497323374499713, \"texte\": \"Future of Humanity Institute\", \"Category\": 0}, {\"x\": -0.4761388404154539, \"y\": -0.0452323745924487, \"texte\": \"Future of Privacy Forum\", \"Category\": 1}, {\"x\": -0.4761388404154539, \"y\": -0.0452323745924487, \"texte\": \"Future of Privacy Forum\", \"Category\": 1}, {\"x\": -0.17519687490354394, \"y\": -0.4274461658313448, \"texte\": \"G20\", \"Category\": 1}, {\"x\": -0.17519687490354383, \"y\": -0.42744616583134487, \"texte\": \"G7\", \"Category\": 1}, {\"x\": -0.18812913997292902, \"y\": -0.44557278520024945, \"texte\": \"German Informatics Society - Gesellschaft f\\u00fcr Informatik\", \"Category\": 1}, {\"x\": -0.1762294951470247, \"y\": -0.43969281654939946, \"texte\": \"Global Network Initiative\", \"Category\": 1}, {\"x\": -0.20019101931973243, \"y\": -0.48310282698768564, \"texte\": \"Global Partnership on Artificial Intelligence\", \"Category\": 1}, {\"x\": -0.19244184086489968, \"y\": -0.48889027967134396, \"texte\": \"Google\", \"Category\": 1}, {\"x\": -0.19244184086489968, \"y\": -0.48889027967134396, \"texte\": \"Google\", \"Category\": 1}, {\"x\": -0.19244184086489968, \"y\": -0.48889027967134396, \"texte\": \"Google\", \"Category\": 1}, {\"x\": -0.19244184086489968, \"y\": -0.48889027967134396, \"texte\": \"Google\", \"Category\": 1}, {\"x\": -0.18227254422671837, \"y\": -0.5263664433503776, \"texte\": \"Google - People + AI Research\", \"Category\": 1}, {\"x\": -0.22769434814977907, \"y\": -0.5305984075306621, \"texte\": \"Government CIO Office\", \"Category\": 1}, {\"x\": -0.30785183465203647, \"y\": -0.7643413670441526, \"texte\": \"Government Digital Service and Office for Artificial Intelligence\", \"Category\": 1}, {\"x\": -0.4793151448139791, \"y\": 0.038813519835515675, \"texte\": \"Government of Catalonia\", \"Category\": 1}, {\"x\": -0.4793151448139791, \"y\": 0.03881351983551565, \"texte\": \"Government of Ireland\", \"Category\": 1}, {\"x\": -0.6265495210951558, \"y\": 0.26161505417137676, \"texte\": \"Government of the Republic of Korea\", \"Category\": 1}, {\"x\": -0.6265495210951558, \"y\": 0.2616150541713768, \"texte\": \"Government of the Republic of Lithuania\", \"Category\": 1}, {\"x\": -0.220731115082164, \"y\": -0.5092484522000006, \"texte\": \"Government Statistics Authority\", \"Category\": 1}, {\"x\": -0.220731115082164, \"y\": -0.5092484522000006, \"texte\": \"Government Statistics Authority\", \"Category\": 1}, {\"x\": -0.2125252324796555, \"y\": -0.4809027251451431, \"texte\": \"HM Government\", \"Category\": 1}, {\"x\": -0.17519687490354388, \"y\": -0.4274461658313448, \"texte\": \"HUB4NGI\", \"Category\": 1}, {\"x\": -0.17519687490354388, \"y\": -0.42744616583134487, \"texte\": \"IAPP\", \"Category\": 1}, {\"x\": -0.1951971174733914, \"y\": -0.4975849228825512, \"texte\": \"IBM\", \"Category\": 1}, {\"x\": -0.1951971174733914, \"y\": -0.4975849228825512, \"texte\": \"IBM\", \"Category\": 1}, {\"x\": -0.1951971174733914, \"y\": -0.4975849228825512, \"texte\": \"IBM\", \"Category\": 1}, {\"x\": -0.1951971174733914, \"y\": -0.4975849228825512, \"texte\": \"IBM\", \"Category\": 1}, {\"x\": -0.1951971174733914, \"y\": -0.4975849228825512, \"texte\": \"IBM\", \"Category\": 1}, {\"x\": -0.23588958786505274, \"y\": -0.5878209433046708, \"texte\": \"Icelandic Institute for Intelligent Machines\", \"Category\": 0}, {\"x\": -0.17519687490354388, \"y\": -0.4274461658313448, \"texte\": \"IDEO\", \"Category\": 1}, {\"x\": -0.17519687490354388, \"y\": -0.42744616583134487, \"texte\": \"indie\", \"Category\": 1}, {\"x\": -0.21657343989493905, \"y\": -0.49067572911563456, \"texte\": \"India Government\", \"Category\": 1}, {\"x\": -0.2140038801117705, \"y\": -0.5439355521028807, \"texte\": \"Information Commissioner Office\", \"Category\": 1}, {\"x\": -0.2140038801117705, \"y\": -0.5439355521028807, \"texte\": \"Information Commissioner's Office\", \"Category\": 1}, {\"x\": -0.2140038801117705, \"y\": -0.5439355521028807, \"texte\": \"Information Commissioner\\u2019s Office\", \"Category\": 1}, {\"x\": -0.2140038801117705, \"y\": -0.5439355521028807, \"texte\": \"Information Commissioner\\u2019s Office\", \"Category\": 1}, {\"x\": -0.3073275018424993, \"y\": -0.7550089248806165, \"texte\": \"Institute for Information and Communications Policy\", \"Category\": 0}, {\"x\": -0.3073275018424993, \"y\": -0.7550089248806165, \"texte\": \"Institute for Information and Communications Policy\", \"Category\": 0}, {\"x\": -0.5351578187004264, \"y\": -0.22466142082054152, \"texte\": \"Institute for the Future of Work\", \"Category\": 0}, {\"x\": -0.5351578187004264, \"y\": -0.22466142082054152, \"texte\": \"Institute for the Future of Work\", \"Category\": 0}, {\"x\": -0.47904933969688324, \"y\": -0.07927065127023242, \"texte\": \"Institute of Business Ethics\", \"Category\": 0}, {\"x\": -0.6095835450152977, \"y\": 0.27707937819530903, \"texte\": \"Institute of Criminology at the Faculty of Law of Ljubljana\", \"Category\": 0}, {\"x\": -0.4305237639542441, \"y\": -0.22191062845568166, \"texte\": \"Institute of Electrical and Electronics Engineers\", \"Category\": 0}, {\"x\": -0.4305237639542441, \"y\": -0.22191062845568166, \"texte\": \"Institute of Electrical and Electronics Engineers\", \"Category\": 0}, {\"x\": -0.17519687490354388, \"y\": -0.4274461658313448, \"texte\": \"Integrateai\", \"Category\": 1}, {\"x\": -0.18309659003245943, \"y\": -0.4543847099366092, \"texte\": \"Intel Corporation\", \"Category\": 1}, {\"x\": -0.18309659003245943, \"y\": -0.4543847099366092, \"texte\": \"Intel Corporation\", \"Category\": 1}, {\"x\": -0.21015911970906945, \"y\": -0.5558765828923604, \"texte\": \"Inter-American Development Bank\", \"Category\": 1}, {\"x\": -0.21015911970906945, \"y\": -0.5558765828923604, \"texte\": \"Inter-American Development Bank\", \"Category\": 1}, {\"x\": -0.21015911970906945, \"y\": -0.5558765828923604, \"texte\": \"Inter-American Development Bank\", \"Category\": 1}, {\"x\": -0.3700215126058613, \"y\": -0.27034344664367277, \"texte\": \"International Conference of Data Protection and Privacy Commissioners\", \"Category\": 1}, {\"x\": -0.17519687490354377, \"y\": -0.4274461658313448, \"texte\": \"Ipsos\", \"Category\": 1}, {\"x\": -0.17519687490354388, \"y\": -0.4274461658313448, \"texte\": \"ISO\", \"Category\": 1}, {\"x\": -0.21252523247965557, \"y\": -0.4809027251451431, \"texte\": \"Italian Government\", \"Category\": 1}, {\"x\": -0.21252523247965557, \"y\": -0.4809027251451431, \"texte\": \"Japanese Government\", \"Category\": 1}, {\"x\": -0.21252523247965557, \"y\": -0.4809027251451431, \"texte\": \"Kenyan Government\", \"Category\": 1}, {\"x\": -0.181550127442325, \"y\": -0.44902873954941336, \"texte\": \"Konrad-Adenauer-Stiftung\", \"Category\": 1}, {\"x\": -0.181550127442325, \"y\": -0.44902873954941336, \"texte\": \"Konrad-Adenauer-Stiftung\", \"Category\": 1}, {\"x\": -0.17519687490354388, \"y\": -0.42744616583134487, \"texte\": \"KPMG\", \"Category\": 1}, {\"x\": -0.1751968749035438, \"y\": -0.4274461658313448, \"texte\": \"KU Leuven\", \"Category\": 1}, {\"x\": -0.19573424118802665, \"y\": -0.44645427591954584, \"texte\": \"Laboratoire National de m\\u00e9trologie et d'Essai\", \"Category\": 1}, {\"x\": -0.21114415629237754, \"y\": -0.5016502711999705, \"texte\": \"Machine Intelligence Garage Ethics Committee\", \"Category\": 1}, {\"x\": -0.19003289576707202, \"y\": -0.553908405721111, \"texte\": \"Machine Intelligence Research Institute\", \"Category\": 0}, {\"x\": -0.20967426899142214, \"y\": -0.5533651424892934, \"texte\": \"Malta Digital Innovation Authority\", \"Category\": 1}, {\"x\": -0.18845840958741472, \"y\": -0.4719931973848089, \"texte\": \"Markkula Center\", \"Category\": 1}, {\"x\": -0.4691376658597756, \"y\": -0.05785895235926198, \"texte\": \"Massachusetts Institute of Technology\", \"Category\": 0}, {\"x\": -0.17519687490354377, \"y\": -0.4274461658313448, \"texte\": \"Mc Kinsey\", \"Category\": 1}, {\"x\": -0.20701329912613675, \"y\": -0.5420574670639282, \"texte\": \"Microsoft\", \"Category\": 1}, {\"x\": -0.20701329912613675, \"y\": -0.5420574670639282, \"texte\": \"Microsoft\", \"Category\": 1}, {\"x\": -0.20701329912613675, \"y\": -0.5420574670639282, \"texte\": \"Microsoft\", \"Category\": 1}, {\"x\": -0.20701329912613675, \"y\": -0.5420574670639282, \"texte\": \"Microsoft\", \"Category\": 1}, {\"x\": -0.20701329912613675, \"y\": -0.5420574670639282, \"texte\": \"Microsoft\", \"Category\": 1}, {\"x\": -0.20701329912613675, \"y\": -0.5420574670639282, \"texte\": \"Microsoft\", \"Category\": 1}, {\"x\": -0.20701329912613675, \"y\": -0.5420574670639282, \"texte\": \"Microsoft\", \"Category\": 1}, {\"x\": -0.18930229681382849, \"y\": -0.49449919628886346, \"texte\": \"Ministerio de asuntos economicos y transformacion digital\", \"Category\": 1}, {\"x\": -0.4433706134296071, \"y\": -0.2946449807851449, \"texte\": \"Ministry of Economic Affairs and Climate Policy\", \"Category\": 1}, {\"x\": -0.4433706134296071, \"y\": -0.2946449807851449, \"texte\": \"Ministry of Economic Affairs and Climate Policy\", \"Category\": 1}, {\"x\": -0.4543466323168866, \"y\": 0.075657811562302, \"texte\": \"Ministry of Education\", \"Category\": 1}, {\"x\": -0.5389129554046299, \"y\": 0.07318224628428949, \"texte\": \"Ministry of Finance and Ministry of Industry\", \"Category\": 1}, {\"x\": -0.4173527504090311, \"y\": -0.19127821311363516, \"texte\": \"Ministry of Internal Affairs and Communications\", \"Category\": 1}, {\"x\": -0.22769434814977907, \"y\": -0.5305984075306621, \"texte\": \"Government CIO Office\", \"Category\": 1}, {\"x\": -0.17519687490354388, \"y\": -0.42744616583134476, \"texte\": \"Mission Villani\", \"Category\": 1}, {\"x\": -0.3937213197775959, \"y\": -0.056639216603650795, \"texte\": \"Monetary Authority of Singapore\", \"Category\": 1}, {\"x\": -0.25466679714226487, \"y\": -0.6031652990616887, \"texte\": \"Montreal AI Ethics Institute\", \"Category\": 0}, {\"x\": -0.25466679714226487, \"y\": -0.6031652990616887, \"texte\": \"Montreal AI Ethics Institute\", \"Category\": 0}, {\"x\": -0.1793903620429611, \"y\": -0.4406474716548399, \"texte\": \"Mozilla Foundation\", \"Category\": 1}, {\"x\": -0.445627694562507, \"y\": -0.001980712645424028, \"texte\": \"National Academies of Science\", \"Category\": 1}, {\"x\": -0.507565122165903, \"y\": -0.20899736476155598, \"texte\": \"National Institute of Standards and Technology\", \"Category\": 0}, {\"x\": -0.507565122165903, \"y\": -0.20899736476155598, \"texte\": \"National Institute of Standards and Technology\", \"Category\": 0}, {\"x\": -0.23283785859599182, \"y\": -0.5322702747375088, \"texte\": \"National Institution for Transforming India\", \"Category\": 1}, {\"x\": -0.48979080551633336, \"y\": 0.3183347786620679, \"texte\": \"National Research Council Canada\", \"Category\": 1}, {\"x\": -0.6009839683170697, \"y\": 0.20311717100561535, \"texte\": \"National Science and Technology Council\", \"Category\": 1}, {\"x\": -0.6009839683170697, \"y\": 0.20311717100561535, \"texte\": \"National Science and Technology Council\", \"Category\": 1}, {\"x\": -0.6009839683170697, \"y\": 0.20311717100561535, \"texte\": \"National Science and Technology Council\", \"Category\": 1}, {\"x\": -0.2101927398174476, \"y\": -0.48701479171683176, \"texte\": \"New Zealand Government\", \"Category\": 1}, {\"x\": 0.10392146240479402, \"y\": -0.40040640284117796, \"texte\": \"New Zealand Human Rights Commission\", \"Category\": 1}, {\"x\": -0.5565829194439054, \"y\": 0.2743777633747432, \"texte\": \"Nordic Council of Ministers for Digitalisation 2017-2020\", \"Category\": 1}, {\"x\": -0.17519687490354388, \"y\": -0.4274461658313448, \"texte\": \"Numeum\", \"Category\": 1}, {\"x\": -0.17519687490354394, \"y\": -0.4274461658313446, \"texte\": \"O'Reilly\", \"Category\": 1}, {\"x\": -0.19960617050412358, \"y\": -0.4957415627741677, \"texte\": \"Open Ethics Initiative\", \"Category\": 1}, {\"x\": -0.17748513956926587, \"y\": -0.4352645429227093, \"texte\": \"Open Loop\", \"Category\": 1}, {\"x\": -0.1798025981123222, \"y\": -0.44305939788398324, \"texte\": \"Orange\", \"Category\": 1}, {\"x\": -0.1798025981123222, \"y\": -0.44305939788398324, \"texte\": \"Orange\", \"Category\": 1}, {\"x\": -0.37372343931912394, \"y\": -1.1120416153351087, \"texte\": \"Organisation for Economic Co-operation and Development\", \"Category\": 1}, {\"x\": -0.37372343931912394, \"y\": -1.1120416153351087, \"texte\": \"Organisation for Economic Co-operation and Development\", \"Category\": 1}, {\"x\": -0.37372343931912394, \"y\": -1.1120416153351087, \"texte\": \"Organisation for Economic Co-operation and Development\", \"Category\": 1}, {\"x\": -0.37372343931912394, \"y\": -1.1120416153351087, \"texte\": \"Organisation for Economic Co-operation and Development\", \"Category\": 1}, {\"x\": -0.37372343931912394, \"y\": -1.1120416153351087, \"texte\": \"Organisation for Economic Co-operation and Development\", \"Category\": 1}, {\"x\": -0.37372343931912394, \"y\": -1.1120416153351087, \"texte\": \"Organisation for Economic Co-operation and Development\", \"Category\": 1}, {\"x\": -0.37372343931912394, \"y\": -1.1120416153351087, \"texte\": \"Organisation for Economic Co-operation and Development\", \"Category\": 1}, {\"x\": -0.37372343931912394, \"y\": -1.1120416153351087, \"texte\": \"Organisation for Economic Co-operation and Development\", \"Category\": 1}, {\"x\": -0.37372343931912394, \"y\": -1.1120416153351087, \"texte\": \"Organisation for Economic Co-operation and Development\", \"Category\": 1}, {\"x\": -0.37372343931912394, \"y\": -1.1120416153351087, \"texte\": \"Organisation for Economic Co-operation and Development\", \"Category\": 1}, {\"x\": -0.37372343931912394, \"y\": -1.1120416153351087, \"texte\": \"Organisation for Economic Co-operation and Development\", \"Category\": 1}, {\"x\": -0.37372343931912394, \"y\": -1.1120416153351087, \"texte\": \"Organisation for Economic Co-operation and Development\", \"Category\": 1}, {\"x\": -0.37372343931912394, \"y\": -1.1120416153351087, \"texte\": \"Organisation for Economic Co-operation and Development\", \"Category\": 1}, {\"x\": -0.37372343931912394, \"y\": -1.1120416153351087, \"texte\": \"Organisation for Economic Co-operation and Development\", \"Category\": 1}, {\"x\": -0.5460523686287129, \"y\": -0.17997425641145487, \"texte\": \"Organization for Security and Co-operation in Europe\", \"Category\": 1}, {\"x\": -0.21477741479473927, \"y\": -0.5223294880938311, \"texte\": \"Oxford Internet Institute\", \"Category\": 0}, {\"x\": -0.21477741479473927, \"y\": -0.5223294880938311, \"texte\": \"Oxford Internet Institute\", \"Category\": 0}, {\"x\": 0.16635110767250638, \"y\": -0.3940682263888145, \"texte\": \"Personal Data Commission Singapore\", \"Category\": 1}, {\"x\": 0.13156011430141784, \"y\": -0.41530005365580386, \"texte\": \"Personal Data Protection Commission Singapore\", \"Category\": 1}, {\"x\": 0.13156011430141784, \"y\": -0.41530005365580386, \"texte\": \"Personal Data Protection Commission Singapore\", \"Category\": 1}, {\"x\": -0.17519687490354388, \"y\": -0.42744616583134476, \"texte\": \"Philips\", \"Category\": 1}, {\"x\": -0.1751968749035438, \"y\": -0.4274461658313448, \"texte\": \"PLOS Computational Biology\", \"Category\": 1}, {\"x\": -0.175196874903544, \"y\": -0.42744616583134476, \"texte\": \"Poland\", \"Category\": 1}, {\"x\": -0.2728122633886499, \"y\": -0.7307042228393977, \"texte\": \"Presidential advisory for economic affairs and digital transformation\", \"Category\": 1}, {\"x\": -0.1798025981123221, \"y\": -0.44305939788398335, \"texte\": \"PriceWaterhouseCoopers\", \"Category\": 1}, {\"x\": -0.1798025981123221, \"y\": -0.44305939788398335, \"texte\": \"PriceWaterhouseCoopers\", \"Category\": 1}, {\"x\": -0.36546723465155195, \"y\": -0.06050150664017583, \"texte\": \"Prime Minister of Malaysia\", \"Category\": 1}, {\"x\": -0.18944919618108289, \"y\": -0.4413898209275365, \"texte\": \"Privacy International & Article 19\", \"Category\": 1}, {\"x\": -0.1751968749035439, \"y\": -0.4274461658313448, \"texte\": \"QuantumBlack\", \"Category\": 1}, {\"x\": -0.17519687490354388, \"y\": -0.4274461658313448, \"texte\": \"RegHorizon\", \"Category\": 1}, {\"x\": -0.17939036204296102, \"y\": -0.4406474716548398, \"texte\": \"RenAIssance Foundation\", \"Category\": 1}, {\"x\": -0.427437653182297, \"y\": 0.04511427670831966, \"texte\": \"Republic of U\\u017eupis\", \"Category\": 1}, {\"x\": -0.20562726698361014, \"y\": -0.6027638156330452, \"texte\": \"Research Center for Brain-inspired Intelligence\", \"Category\": 1}, {\"x\": -0.20562726698361014, \"y\": -0.6027638156330452, \"texte\": \"Research Center for Brain-inspired Intelligence\", \"Category\": 1}, {\"x\": -0.13387273059063554, \"y\": -0.44385636510465715, \"texte\": \"Salesforce research\", \"Category\": 1}, {\"x\": -0.17519687490354383, \"y\": -0.42744616583134476, \"texte\": \"Smart Dubai\", \"Category\": 1}, {\"x\": -0.20459189863660607, \"y\": -0.48237818068703525, \"texte\": \"Software & Information Industry Association\", \"Category\": 1}, {\"x\": -0.20284265596992523, \"y\": -0.4939230397037446, \"texte\": \"Special Interest Group on Artificial Intelligence\", \"Category\": 1}, {\"x\": -0.18489596666169988, \"y\": -0.4329404244306005, \"texte\": \"Standards Australia\", \"Category\": 1}, {\"x\": -0.20354574047480595, \"y\": -0.43420024322745676, \"texte\": \"Stanford Law School\", \"Category\": 1}, {\"x\": -0.2589156867709769, \"y\": -0.46285138535799414, \"texte\": \"Stanford University Human-Centered Artificial Intelligence\", \"Category\": 1}, {\"x\": -0.6060368714182031, \"y\": 0.6257216174651171, \"texte\": \"State Council\", \"Category\": 1}, {\"x\": -0.4067167813649783, \"y\": -0.2866153839838957, \"texte\": \"Stats New Zealand and Office of the Privacy Commissioner\", \"Category\": 1}, {\"x\": -0.1897146589616748, \"y\": -0.4880066182772396, \"texte\": \"Sweden\\u2019s innovation agency\", \"Category\": 1}, {\"x\": -0.3593052183127062, \"y\": -0.09593464579997983, \"texte\": \"Swiss Academy of Technical Sciences\", \"Category\": 1}, {\"x\": -0.20883770777920313, \"y\": -0.5572520694918865, \"texte\": \"Swiss Alliance for Data-Intensive Services\", \"Category\": 1}, {\"x\": -0.1835795816454505, \"y\": -0.43289714048542083, \"texte\": \"TBS Canada\", \"Category\": 1}, {\"x\": -0.4358053716463302, \"y\": -0.0031832930644436663, \"texte\": \"Technical University of Delft\", \"Category\": 1}, {\"x\": -0.18983241272691695, \"y\": -0.4307134758052226, \"texte\": \"Telefonica Executive Committee\", \"Category\": 1}, {\"x\": -0.17519687490354388, \"y\": -0.4274461658313448, \"texte\": \"Telia Company\", \"Category\": 1}, {\"x\": -0.18465701752914085, \"y\": -0.4598564741371957, \"texte\": \"Thales\", \"Category\": 1}, {\"x\": -0.18465701752914085, \"y\": -0.4598564741371957, \"texte\": \"Thales\", \"Category\": 1}, {\"x\": -0.18465701752914085, \"y\": -0.4598564741371957, \"texte\": \"Thales\", \"Category\": 1}, {\"x\": -0.25969583196585216, \"y\": -0.5372430910113302, \"texte\": \"The Alan Turing Institute\", \"Category\": 0}, {\"x\": -0.25969583196585216, \"y\": -0.5372430910113302, \"texte\": \"The Alan Turing Institute\", \"Category\": 0}, {\"x\": -0.25969583196585216, \"y\": -0.5372430910113302, \"texte\": \"The Alan Turing Institute\", \"Category\": 0}, {\"x\": -0.22176858282707765, \"y\": -0.4765996665787417, \"texte\": \"The Critical Engineering Working Group\", \"Category\": 1}, {\"x\": -0.28100163925423327, \"y\": -0.6611637748918616, \"texte\": \"The Danish Institute for Human Rights\", \"Category\": 0}, {\"x\": -0.2654141642709612, \"y\": -0.552826180467159, \"texte\": \"The Ethics Center\", \"Category\": 1}, {\"x\": 0.4080667920116205, \"y\": -0.14316105842355237, \"texte\": \"The European Robotics Research Network\", \"Category\": 1}, {\"x\": -0.26948592216138495, \"y\": -0.5619122840425168, \"texte\": \"The Future Society Science Law and Society  Initiative\", \"Category\": 1}, {\"x\": -0.5861913769587515, \"y\": 0.3357717318971493, \"texte\": \"The German Ethics Council\", \"Category\": 1}, {\"x\": -0.5480583630343071, \"y\": 0.09607196050990593, \"texte\": \"The Government of the Grand Duchy of Luxembourg\", \"Category\": 1}, {\"x\": -0.23256997214890082, \"y\": -0.4447456724214122, \"texte\": \"The Greens\", \"Category\": 1}, {\"x\": -0.2830934084468549, \"y\": -0.6286536832463492, \"texte\": \"The Humanitarian Data Science and Ethics Group\", \"Category\": 1}, {\"x\": -0.22979580788320375, \"y\": -0.4893142493216507, \"texte\": \"The Information Accountability Foundation\", \"Category\": 1}, {\"x\": -0.2910934437903775, \"y\": -0.6377896843508382, \"texte\": \"The Institute for Ethical AI & Machine Learning\", \"Category\": 0}, {\"x\": -0.3017567511502482, \"y\": -0.6511399556743296, \"texte\": \"The Institute for Ethical AI & ML\", \"Category\": 0}, {\"x\": -0.2393214870045549, \"y\": -0.4902043673750465, \"texte\": \"The Internet Society\", \"Category\": 1}, {\"x\": -0.5993060117722929, \"y\": 0.10815077587779408, \"texte\": \"The National Council for Artificial Intelligence\", \"Category\": 1}, {\"x\": -0.5439991429180295, \"y\": -0.03681819929002341, \"texte\": \"The Netherlands Scientific Council for Government Policy\", \"Category\": 1}, {\"x\": -0.22020373094595894, \"y\": -0.5288696423570093, \"texte\": \"The Norwegian Data Protection Authority\", \"Category\": 1}, {\"x\": -0.21844542457401828, \"y\": -0.4410546151115825, \"texte\": \"The Public Voice\", \"Category\": 1}, {\"x\": -0.2687010054858225, \"y\": -0.5341583234185199, \"texte\": \"The Rathenau Institute\", \"Category\": 0}, {\"x\": -0.22302030529154046, \"y\": -0.4506551232270356, \"texte\": \"The Rathenau Instituut\", \"Category\": 1}, {\"x\": -0.23630372597194316, \"y\": -0.474956737209283, \"texte\": \"The Royal Society\", \"Category\": 1}, {\"x\": -0.2738625096285575, \"y\": -0.6260736975503587, \"texte\": \"The Saudi Data and Artificial Intelligence Authority\", \"Category\": 1}, {\"x\": -0.17519687490354424, \"y\": -0.42744616583134437, \"texte\": \"Think 20\", \"Category\": 1}, {\"x\": -0.18098832497314724, \"y\": -0.4465533505754484, \"texte\": \"Third Industrial Revolution Consulting Group\", \"Category\": 1}, {\"x\": -0.17519687490354388, \"y\": -0.4274461658313448, \"texte\": \"Thomson Reuters\", \"Category\": 1}, {\"x\": -0.1751968749035439, \"y\": -0.4274461658313448, \"texte\": \"Tieto\", \"Category\": 1}, {\"x\": -0.1882403702960419, \"y\": -0.4724466926868626, \"texte\": \"Treasury Board\", \"Category\": 1}, {\"x\": -0.1882403702960419, \"y\": -0.4724466926868626, \"texte\": \"Treasury Board\", \"Category\": 1}, {\"x\": -0.1882403702960419, \"y\": -0.4724466926868626, \"texte\": \"Treasury Board\", \"Category\": 1}, {\"x\": -0.17519687490354383, \"y\": -0.42744616583134487, \"texte\": \"TU Wien\", \"Category\": 1}, {\"x\": -0.37332955391797557, \"y\": -0.1641810272049504, \"texte\": \"UK Department of Health & Social Care\", \"Category\": 1}, {\"x\": -0.4156271201873376, \"y\": -0.02122565894601327, \"texte\": \"UK Ministry of Defence\", \"Category\": 1}, {\"x\": -0.22885003088196076, \"y\": -0.5758818445781294, \"texte\": \"United Arab Emirates Government\", \"Category\": 1}, {\"x\": -0.2717250417716487, \"y\": -0.8201522434346388, \"texte\": \"United Nations\", \"Category\": 1}, {\"x\": -0.2717250417716487, \"y\": -0.8201522434346388, \"texte\": \"United Nations\", \"Category\": 1}, {\"x\": -0.2717250417716487, \"y\": -0.8201522434346388, \"texte\": \"United Nations\", \"Category\": 1}, {\"x\": -0.2717250417716487, \"y\": -0.8201522434346388, \"texte\": \"United Nations\", \"Category\": 1}, {\"x\": -0.2353668870414436, \"y\": -0.6722504491277688, \"texte\": \"United Nations Children's Fund\", \"Category\": 1}, {\"x\": -0.2353668870414436, \"y\": -0.6722504491277688, \"texte\": \"United Nations Children's Fund\", \"Category\": 1}, {\"x\": -0.3234246389492532, \"y\": -0.9481838428268494, \"texte\": \"United Nations Educational Scientific and Cultural Organization\", \"Category\": 1}, {\"x\": -0.3234246389492532, \"y\": -0.9481838428268494, \"texte\": \"United Nations Educational Scientific and Cultural Organization\", \"Category\": 1}, {\"x\": -0.3234246389492532, \"y\": -0.9481838428268494, \"texte\": \"United Nations Educational Scientific and Cultural Organization\", \"Category\": 1}, {\"x\": -0.3234246389492532, \"y\": -0.9481838428268494, \"texte\": \"United Nations Educational Scientific and Cultural Organization\", \"Category\": 1}, {\"x\": -0.3234246389492532, \"y\": -0.9481838428268494, \"texte\": \"United Nations Educational Scientific and Cultural Organization\", \"Category\": 1}, {\"x\": -0.3234246389492532, \"y\": -0.9481838428268494, \"texte\": \"United Nations Educational Scientific and Cultural Organization\", \"Category\": 1}, {\"x\": -0.3234246389492532, \"y\": -0.9481838428268494, \"texte\": \"United Nations Educational Scientific and Cultural Organization\", \"Category\": 1}, {\"x\": -0.3234246389492532, \"y\": -0.9481838428268494, \"texte\": \"United Nations Educational Scientific and Cultural Organization\", \"Category\": 1}, {\"x\": -0.3234246389492532, \"y\": -0.9481838428268494, \"texte\": \"United Nations Educational Scientific and Cultural Organization\", \"Category\": 1}, {\"x\": -0.3234246389492532, \"y\": -0.9481838428268494, \"texte\": \"United Nations Educational Scientific and Cultural Organization\", \"Category\": 1}, {\"x\": -0.3234246389492532, \"y\": -0.9481838428268494, \"texte\": \"United Nations Educational Scientific and Cultural Organization\", \"Category\": 1}, {\"x\": -0.2717250417716487, \"y\": -0.8201522434346388, \"texte\": \"United Nations\", \"Category\": 1}, {\"x\": -0.2717250417716487, \"y\": -0.8201522434346388, \"texte\": \"United Nations\", \"Category\": 1}, {\"x\": -0.2717250417716487, \"y\": -0.8201522434346388, \"texte\": \"United Nations\", \"Category\": 1}, {\"x\": -0.17770143045573145, \"y\": -0.4429466822196733, \"texte\": \"Universit\\u00e9 de Montr\\u00e9al\", \"Category\": 1}, {\"x\": -0.4945221849812311, \"y\": 0.09995884592012173, \"texte\": \"University of Buckingham\", \"Category\": 1}, {\"x\": -0.5146773105143936, \"y\": 0.1232371116609728, \"texte\": \"University of Cambridge\", \"Category\": 1}, {\"x\": -0.5146773105143936, \"y\": 0.1232371116609728, \"texte\": \"University of Cambridge\", \"Category\": 1}, {\"x\": -0.435177152536866, \"y\": -0.010146383653387365, \"texte\": \"University of Central Lancashire\", \"Category\": 1}, {\"x\": -0.4945221849812311, \"y\": 0.09995884592012168, \"texte\": \"University of Duke\", \"Category\": 1}, {\"x\": -0.427167172300708, \"y\": -0.01213947325675403, \"texte\": \"University of Notre Dame\", \"Category\": 1}, {\"x\": -0.5837909701225629, \"y\": 0.18794894030668463, \"texte\": \"University of Stanford\", \"Category\": 1}, {\"x\": -0.5837909701225629, \"y\": 0.18794894030668463, \"texte\": \"University of Stanford\", \"Category\": 1}, {\"x\": -0.5837909701225629, \"y\": 0.18794894030668463, \"texte\": \"University of Stanford\", \"Category\": 1}, {\"x\": -0.5837909701225629, \"y\": 0.18794894030668463, \"texte\": \"University of Stanford\", \"Category\": 1}, {\"x\": -0.5837909701225629, \"y\": 0.18794894030668463, \"texte\": \"University of Stanford\", \"Category\": 1}, {\"x\": -0.5837909701225629, \"y\": 0.18794894030668463, \"texte\": \"University of Stanford\", \"Category\": 1}, {\"x\": -0.4945221849812311, \"y\": 0.09995884592012172, \"texte\": \"University of T\\u00fcbingen\", \"Category\": 1}, {\"x\": -0.17519687490354388, \"y\": -0.42744616583134476, \"texte\": \"UX Studio Team\", \"Category\": 1}, {\"x\": -0.1751968749035439, \"y\": -0.4274461658313448, \"texte\": \"Vrije Universiteit Brussel\", \"Category\": 1}, {\"x\": -0.175196874903544, \"y\": -0.42744616583134476, \"texte\": \"W20\", \"Category\": 1}, {\"x\": -0.2125252324796556, \"y\": -0.4809027251451431, \"texte\": \"Walloon Government\", \"Category\": 1}, {\"x\": -0.175196874903544, \"y\": -0.42744616583134476, \"texte\": \"WEF\", \"Category\": 1}, {\"x\": -0.17519687490354388, \"y\": -0.4274461658313448, \"texte\": \"White House\", \"Category\": 1}, {\"x\": -0.203412379128656, \"y\": -0.4672046920183563, \"texte\": \"Women leading in AI\", \"Category\": 1}, {\"x\": -0.24811618717631478, \"y\": -0.6930777294242947, \"texte\": \"World Economic Forum\", \"Category\": 1}, {\"x\": -0.24811618717631478, \"y\": -0.6930777294242947, \"texte\": \"World Economic Forum\", \"Category\": 1}, {\"x\": -0.24811618717631478, \"y\": -0.6930777294242947, \"texte\": \"World Economic Forum\", \"Category\": 1}, {\"x\": -0.2971567171828574, \"y\": -0.794020838439203, \"texte\": \"Department for Digital\", \"Category\": 1}, {\"x\": -0.24811618717631478, \"y\": -0.6930777294242947, \"texte\": \"World Economic Forum\", \"Category\": 1}, {\"x\": -0.24811618717631478, \"y\": -0.6930777294242947, \"texte\": \"World Economic Forum\", \"Category\": 1}, {\"x\": -0.24811618717631478, \"y\": -0.6930777294242947, \"texte\": \"World Economic Forum\", \"Category\": 1}, {\"x\": -0.24811618717631453, \"y\": -0.6930777294242948, \"texte\": \"World Economic Forum\", \"Category\": 1}, {\"x\": -0.1697122883637444, \"y\": -0.4447777741792513, \"texte\": \"Yale Law School\", \"Category\": 1}, {\"x\": -0.17519687490354363, \"y\": -0.4274461658313448, \"texte\": \"Z-Inspection\", \"Category\": 1}]}}, {\"mode\": \"vega-lite\"});\n",
       "</script>"
      ],
      "text/plain": [
       "alt.Chart(...)"
      ]
     },
     "execution_count": 215,
     "metadata": {},
     "output_type": "execute_result"
    }
   ],
   "source": [
    "alt.Chart(data[:]).mark_circle(size=200).encode(\n",
    "    x=\"x\", y=\"y\",color='Category',\n",
    "    tooltip=['texte']\n",
    "    ).interactive().properties(\n",
    "    width=500,\n",
    "    height=500\n",
    ")"
   ]
  }
 ],
 "metadata": {
  "kernelspec": {
   "display_name": ".env_projet_NLP",
   "language": "python",
   "name": "python3"
  },
  "language_info": {
   "codemirror_mode": {
    "name": "ipython",
    "version": 3
   },
   "file_extension": ".py",
   "mimetype": "text/x-python",
   "name": "python",
   "nbconvert_exporter": "python",
   "pygments_lexer": "ipython3",
   "version": "3.12.3"
  }
 },
 "nbformat": 4,
 "nbformat_minor": 2
}
