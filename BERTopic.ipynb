{
 "cells": [
  {
   "cell_type": "code",
   "execution_count": 127,
   "metadata": {},
   "outputs": [],
   "source": [
    "import pandas as pd\n",
    "import numpy as np\n",
    "import matplotlib.pyplot as plt\n",
    "from bertopic import BERTopic\n",
    "\n",
    "from nltk import word_tokenize\n",
    "import os.path as op\n",
    "import re \n",
    "import numpy as np\n",
    "import matplotlib.pyplot as plt\n",
    "import pandas as pd\n",
    "import sklearn\n",
    "from sklearn.feature_extraction.text import CountVectorizer\n",
    "import nltk"
   ]
  },
  {
   "cell_type": "code",
   "execution_count": 128,
   "metadata": {},
   "outputs": [],
   "source": [
    "# import the preprocess doc\n",
    "\n",
    "df = pd.read_csv('./Data_csv/data_preprocessed.csv')"
   ]
  },
  {
   "cell_type": "code",
   "execution_count": 129,
   "metadata": {},
   "outputs": [
    {
     "data": {
      "text/plain": [
       "Index(['doc_id', 'Name of the document', 'Institution', 'URL', 'Authors',\n",
       "       'Affiliates', 'Sector', 'Country', 'Date', 'Keywords',\n",
       "       'Exclusion criteria', 'Status', 'Label', 'MapAIE (ours)', 'Jobin',\n",
       "       'Fjeld', 'Tidjon', 'Hagendorff', 'Floridi', 'Zeng (LAIP)',\n",
       "       'Attard-Frost', 'EP', 'Algorithm watch', 'CE', 'Winfield',\n",
       "       'EthicalML GitHub', 'all sources', 'Checked by', 'Unnamed: 27',\n",
       "       'Unnamed: 28', 'Unnamed: 29', 'text', 'langue', 'text_processed',\n",
       "       'tfidf', 'categorie Institution', 'theme'],\n",
       "      dtype='object')"
      ]
     },
     "execution_count": 129,
     "metadata": {},
     "output_type": "execute_result"
    }
   ],
   "source": [
    "df.columns"
   ]
  },
  {
   "cell_type": "code",
   "execution_count": 130,
   "metadata": {},
   "outputs": [
    {
     "data": {
      "text/plain": [
       "doc_id                   458\n",
       "Name of the document     458\n",
       "Institution              458\n",
       "URL                      458\n",
       "Authors                   33\n",
       "Affiliates                28\n",
       "Sector                    43\n",
       "Country                  446\n",
       "Date                      45\n",
       "Keywords                   6\n",
       "Exclusion criteria         0\n",
       "Status                   458\n",
       "Label                    394\n",
       "MapAIE (ours)            458\n",
       "Jobin                     61\n",
       "Fjeld                     20\n",
       "Tidjon                    22\n",
       "Hagendorff                12\n",
       "Floridi                    3\n",
       "Zeng (LAIP)               43\n",
       "Attard-Frost              28\n",
       "EP                         8\n",
       "Algorithm watch          104\n",
       "CE                       378\n",
       "Winfield                  15\n",
       "EthicalML GitHub          12\n",
       "all sources              458\n",
       "Checked by               458\n",
       "Unnamed: 27                2\n",
       "Unnamed: 28                0\n",
       "Unnamed: 29                2\n",
       "text                     458\n",
       "langue                   458\n",
       "text_processed           458\n",
       "tfidf                    458\n",
       "categorie Institution    458\n",
       "theme                    458\n",
       "dtype: int64"
      ]
     },
     "execution_count": 130,
     "metadata": {},
     "output_type": "execute_result"
    }
   ],
   "source": [
    "df.count()"
   ]
  },
  {
   "cell_type": "code",
   "execution_count": 131,
   "metadata": {},
   "outputs": [
    {
     "data": {
      "text/plain": [
       "\"intel recommends public policy principles artificial intelligence intel community longer support internet explorer v10 older compatibility view enabled disable compatibility view upgrade newer version use different browser search browse support community developer software forums developer software forums software development tools toolkits sdks software development topics software development technologies oneapi registration download licensing installation gpu compute software intel® tiber developer cloud software archive edge software catalog product support forums product support forums fpga memory storage visual computing embedded products graphics processors wireless ethernet products server products intel vpro® platform intel® enpirion® power solutions intel® unison™ app intel® quickassist technology intel® qat intel® trusted execution technology intel® txt thunderbolt™ share intel® gaudi® ai accelerator gaming forums gaming forums intel® arc™ graphics gaming intel® processors intel® graphics developing games intel graphics blogs blogs intel products solutions tech innovation thought leadership intel foundry private forums private forums intel oneapi toolkits private forums intel ai software private forums intel® connectivity research program private intel-habana gaudi technology forum harp private forum neural object cloning beta policy intel place exchange ideas perspectives promoting thriving innovation economy public policy success subscription added success subscription removed sorry must verify complete action please click verification link email may re-send via profile intel community blogs intel policy intel intel recommends public policy principles artificial intelligence 650 discussions intel recommends public policy principles artificial intelligence subscribe article options subscribe rss feed mark new mark read bookmark subscribe printer friendly page report inappropriate content naveen_rao employee \\u200e10-18-2017 12:00 0 0 2,631 naveen rao vice president general manager artificial intelligence products groupthe computational advances past years enabled new era innovation – one machines analyze vast amounts data find useful insights data artificial intelligence ai proliferation large data sets computers solve problems previously required human intervention dr. naveen rao intel vpas previous revolutions industrial development possibilities applying ai improve societies advance human welfare substantial intel working across industry government civil society make advancements consideration global technological economic social cultural contexts leveraged one contexts public policy environment considers tremendous complexity behind implementing technology makes decisions based human-defined datasets important ai get used ai get used public policy conversation necessary work develop new methods integrating ai capabilities fabric society.today ’ proud release intel ’ first ai public policy white paper offers set public policy principles discussions debate among technologists academics data scientists policymakers public vision policymakers around world integrate principles workable policy frameworks foster innovation open development – better understand impactful ai lives continue explore spectrum applications policy encourage investment r ai sectors governments support controlled testing artificially intelligent systems help industry academia stakeholders improve systems create new human employment opportunities protect people ’ welfare – ai change way many us work public policy support adding skills workforce promoting employment across sectors enhance workforce also protecting people ’ welfare liberate data responsibly – ai powered access data maintaining security data privacy machine learning algorithms improve absorbing data time data acquisition imperative achieving enhanced model development training keeping data moving help machine learning deep learning reach full potential rethink privacy – many privacy frameworks like fair information practice principles privacy design withstood test time evolution new technology major technological advancements “ rethink ” models apply new environment require accountability ethical design implementation – social implications computing grown continue expand people access smart systems policies work identify mitigate discrimination algorithms encourage diversity design thinking.additionally intel excited announce launch blog series dedicated exploring vast scope ai implementations across different industries – cybersecurity agriculture everything october cybersecurity awareness month united states europe australia first entry feature examination ai ’ implementations cybersecurity better predict prevent cyberattacks security breaches sign receive future posts intel ’ policy blog site.naveen raointel vpgm artificial intelligence productslink intel ai public policy white paper http //intel.ly/aipublicpolicypolicy blog http //blogs.intel.com/policy/learn ai intel intelnervana.comintel intel logo intel nervana trademarks intel corporation subsidiaries u.s. and/or countries names brands may claimed property others.© intel corporation tags 13 tags artificial intelligencebig datadatadata privacydata privacy dayemploymentethicsgovernmentinnovationpolicyprivacysecuritywhite paper 0 kudos must registered user add comment 've already registered sign otherwise register sign comment community support provided monday friday contact methods available intel verify solutions including limited file transfers may appear community accordingly intel disclaims express implied warranties including without limitation implied warranties merchantability fitness particular purpose non-infringement well warranty arising course performance course dealing usage trade complete information compiler optimizations see optimization notice ©intel corporation terms use trademarks cookies privacy supply chain transparency site map\""
      ]
     },
     "execution_count": 131,
     "metadata": {},
     "output_type": "execute_result"
    }
   ],
   "source": [
    "df['text_processed'][0]"
   ]
  },
  {
   "cell_type": "code",
   "execution_count": 132,
   "metadata": {},
   "outputs": [],
   "source": [
    "from hdbscan import HDBSCAN\n",
    "\n",
    "hdbscan_model = HDBSCAN(min_cluster_size=15, min_samples=1, cluster_selection_epsilon=0.1)\n",
    "topic_model = BERTopic(hdbscan_model=hdbscan_model, language=\"english\", nr_topics=10)\n"
   ]
  },
  {
   "cell_type": "code",
   "execution_count": 133,
   "metadata": {},
   "outputs": [],
   "source": [
    "documents = df['text_processed'].to_list()"
   ]
  },
  {
   "cell_type": "code",
   "execution_count": 134,
   "metadata": {},
   "outputs": [],
   "source": [
    "vectorizer = CountVectorizer(stop_words='english')\n",
    "Bow = vectorizer.fit_transform(documents)\n",
    "\n",
    "# Calculer la fréquence totale de chaque mot\n",
    "frequency = Bow.toarray().sum(axis=0)\n",
    "\n",
    "# Obtenir les 20 mots les plus fréquents\n",
    "top_indices = np.argsort(frequency)[-20:]  # Indices des 20 mots les plus fréquents\n",
    "vocabulary = np.array(vectorizer.get_feature_names_out())  # Le vocabulaire\n",
    "top_words = vocabulary[top_indices] \n",
    "\n",
    "stopwords_to_remove = set(top_words)\n",
    "\n",
    "dates = set([str(i) for i in range(1990, 2021)])\n",
    "html_stopwords = set({'maxwidth', 'px', 'maxheight', 'img', 'src', 'https', 'com', 'www', 'http', 'jpg', 'png', 'gif', 'jpeg', 'pdf', 'html'})\n",
    "css_stopwords = set({'grid','body', ':root', '\\n', 'padding',',button','margintop', 'px', 'margin', 'border', 'width', 'height', 'color', 'font', 'size', 'background', 'position', 'left', 'right', 'top', 'bottom', 'display', 'flex', 'align', 'justify', 'content', 'center', 'float', 'clear', 'overflow', 'hidden', 'zindex', 'cursor', 'pointer', 'hover', 'active', 'focus', 'transition', 'transform', 'rotate', 'scale', 'translate', 'opacity', 'box', 'shadow', 'outline', 'none', 'block', 'inline', 'inlineblock', 'relative', 'absolute', 'fixed', 'static', 'sticky', 'visible', 'hidden'})\n",
    "\n",
    "stopwords_to_remove = stopwords_to_remove.union(dates)\n",
    "stopwords_to_remove = stopwords_to_remove.union(html_stopwords)\n",
    "stopwords_to_remove = stopwords_to_remove.union(css_stopwords)\n",
    "\n",
    "\n",
    "\n",
    "\n",
    "def remove_frequent_words(doc, stopwords):\n",
    "    words = doc.split()\n",
    "    cleaned_words = [word for word in words if word not in stopwords]\n",
    "    return \" \".join(cleaned_words)\n",
    "\n",
    "\n",
    "documents = [remove_frequent_words(doc, stopwords_to_remove) for doc in documents]\n",
    "\n"
   ]
  },
  {
   "cell_type": "code",
   "execution_count": 135,
   "metadata": {},
   "outputs": [],
   "source": [
    "topics, probs = topic_model.fit_transform(documents)"
   ]
  },
  {
   "cell_type": "code",
   "execution_count": 136,
   "metadata": {},
   "outputs": [],
   "source": [
    "df['topic'] = topics\n",
    "df['probs'] = probs"
   ]
  },
  {
   "cell_type": "code",
   "execution_count": 137,
   "metadata": {},
   "outputs": [
    {
     "name": "stdout",
     "output_type": "stream",
     "text": [
      "   Topic  Count                                             Name  \\\n",
      "0     -1     65                -1_media_maxwidth_important_767px   \n",
      "1      0     34                     0_system_also_may_protection   \n",
      "2      1     31              1_uk_government_strategy_innovation   \n",
      "3      2     72                    2_algorithmic_system_may_bias   \n",
      "4      3     95                  3_ethics_ethical_machine_system   \n",
      "5      4     40  4_government_international_services_cooperation   \n",
      "6      5    121                          5_eu_also_system_policy   \n",
      "\n",
      "                                      Representation  \\\n",
      "0  [media, maxwidth, important, 767px, margintop,...   \n",
      "1  [system, also, may, protection, used, personal...   \n",
      "2  [uk, government, strategy, innovation, work, s...   \n",
      "3  [algorithmic, system, may, bias, algorithms, m...   \n",
      "4  [ethics, ethical, machine, system, may, also, ...   \n",
      "5  [government, international, services, cooperat...   \n",
      "6  [eu, also, system, policy, national, based, la...   \n",
      "\n",
      "                                 Representative_Docs  \n",
      "0  [october preparing future national science cou...  \n",
      "1  [privacy report january 201 8 2 3 contents rep...  \n",
      "2  [roadmapuk council council independent expert ...  \n",
      "3  [study panel future science eprs parliamentary...  \n",
      "4  [machine power promise computers learn example...  \n",
      "5  [october 2021 strengthening international coop...  \n",
      "6  [council europe continent ’ leading organisati...  \n"
     ]
    }
   ],
   "source": [
    "# Afficher les topics les plus fréquents\n",
    "print(topic_model.get_topic_info())\n",
    "\n"
   ]
  },
  {
   "cell_type": "code",
   "execution_count": 138,
   "metadata": {},
   "outputs": [
    {
     "name": "stdout",
     "output_type": "stream",
     "text": [
      "[('media', 0.030944214109267166), ('maxwidth', 0.029436405774000654), ('important', 0.02523083124878923), ('767px', 0.018624442927137802), ('margintop', 0.01567078684202728), ('100', 0.015610790783711952), ('backgroundcolor', 0.01476998524118875), ('fontsize', 0.014619967134584543), ('16px', 0.014536464382859304), ('24px', 0.010940878853319038)]\n"
     ]
    }
   ],
   "source": [
    "print(topic_model.get_topic(-1)) "
   ]
  },
  {
   "cell_type": "code",
   "execution_count": 139,
   "metadata": {},
   "outputs": [
    {
     "data": {
      "application/vnd.plotly.v1+json": {
       "config": {
        "plotlyServerURL": "https://plot.ly"
       },
       "data": [
        {
         "customdata": [
          [
           0,
           "system | also | may | protection | used",
           34
          ],
          [
           1,
           "uk | government | strategy | innovation | work",
           31
          ],
          [
           2,
           "algorithmic | system | may | bias | algorithms",
           72
          ],
          [
           3,
           "ethics | ethical | machine | system | may",
           95
          ],
          [
           4,
           "government | international | services | cooperation | technologies",
           40
          ],
          [
           5,
           "eu | also | system | policy | national",
           121
          ]
         ],
         "hovertemplate": "<b>Topic %{customdata[0]}</b><br>%{customdata[1]}<br>Size: %{customdata[2]}",
         "legendgroup": "",
         "marker": {
          "color": "#B0BEC5",
          "line": {
           "color": "DarkSlateGrey",
           "width": 2
          },
          "size": [
           34,
           31,
           72,
           95,
           40,
           121
          ],
          "sizemode": "area",
          "sizeref": 0.075625,
          "symbol": "circle"
         },
         "mode": "markers",
         "name": "",
         "orientation": "v",
         "showlegend": false,
         "type": "scatter",
         "x": [
          3.8907670974731445,
          3.0952138900756836,
          3.133863925933838,
          4.239795207977295,
          3.3514628410339355,
          5.180325984954834
         ],
         "xaxis": "x",
         "y": [
          -12.794666290283203,
          -11.946551322937012,
          -12.8513822555542,
          -9.353606224060059,
          -11.219385147094727,
          -11.033732414245605
         ],
         "yaxis": "y"
        }
       ],
       "layout": {
        "annotations": [
         {
          "showarrow": false,
          "text": "D1",
          "x": 2.6309318065643312,
          "y": -11.36482744216919,
          "yshift": 10
         },
         {
          "showarrow": false,
          "text": "D2",
          "x": 4.294153344631195,
          "xshift": 10,
          "y": -7.95056529045105
         }
        ],
        "height": 650,
        "hoverlabel": {
         "bgcolor": "white",
         "font": {
          "family": "Rockwell",
          "size": 16
         }
        },
        "legend": {
         "itemsizing": "constant",
         "tracegroupgap": 0
        },
        "margin": {
         "t": 60
        },
        "shapes": [
         {
          "line": {
           "color": "#CFD8DC",
           "width": 2
          },
          "type": "line",
          "x0": 4.294153344631195,
          "x1": 4.294153344631195,
          "y0": -14.77908959388733,
          "y1": -7.95056529045105
         },
         {
          "line": {
           "color": "#9E9E9E",
           "width": 2
          },
          "type": "line",
          "x0": 2.6309318065643312,
          "x1": 5.957374882698059,
          "y0": -11.36482744216919,
          "y1": -11.36482744216919
         }
        ],
        "sliders": [
         {
          "active": 0,
          "pad": {
           "t": 50
          },
          "steps": [
           {
            "args": [
             {
              "marker.color": [
               [
                "red",
                "#B0BEC5",
                "#B0BEC5",
                "#B0BEC5",
                "#B0BEC5",
                "#B0BEC5"
               ]
              ]
             }
            ],
            "label": "Topic 0",
            "method": "update"
           },
           {
            "args": [
             {
              "marker.color": [
               [
                "#B0BEC5",
                "red",
                "#B0BEC5",
                "#B0BEC5",
                "#B0BEC5",
                "#B0BEC5"
               ]
              ]
             }
            ],
            "label": "Topic 1",
            "method": "update"
           },
           {
            "args": [
             {
              "marker.color": [
               [
                "#B0BEC5",
                "#B0BEC5",
                "red",
                "#B0BEC5",
                "#B0BEC5",
                "#B0BEC5"
               ]
              ]
             }
            ],
            "label": "Topic 2",
            "method": "update"
           },
           {
            "args": [
             {
              "marker.color": [
               [
                "#B0BEC5",
                "#B0BEC5",
                "#B0BEC5",
                "red",
                "#B0BEC5",
                "#B0BEC5"
               ]
              ]
             }
            ],
            "label": "Topic 3",
            "method": "update"
           },
           {
            "args": [
             {
              "marker.color": [
               [
                "#B0BEC5",
                "#B0BEC5",
                "#B0BEC5",
                "#B0BEC5",
                "red",
                "#B0BEC5"
               ]
              ]
             }
            ],
            "label": "Topic 4",
            "method": "update"
           },
           {
            "args": [
             {
              "marker.color": [
               [
                "#B0BEC5",
                "#B0BEC5",
                "#B0BEC5",
                "#B0BEC5",
                "#B0BEC5",
                "red"
               ]
              ]
             }
            ],
            "label": "Topic 5",
            "method": "update"
           }
          ]
         }
        ],
        "template": {
         "data": {
          "bar": [
           {
            "error_x": {
             "color": "rgb(36,36,36)"
            },
            "error_y": {
             "color": "rgb(36,36,36)"
            },
            "marker": {
             "line": {
              "color": "white",
              "width": 0.5
             },
             "pattern": {
              "fillmode": "overlay",
              "size": 10,
              "solidity": 0.2
             }
            },
            "type": "bar"
           }
          ],
          "barpolar": [
           {
            "marker": {
             "line": {
              "color": "white",
              "width": 0.5
             },
             "pattern": {
              "fillmode": "overlay",
              "size": 10,
              "solidity": 0.2
             }
            },
            "type": "barpolar"
           }
          ],
          "carpet": [
           {
            "aaxis": {
             "endlinecolor": "rgb(36,36,36)",
             "gridcolor": "white",
             "linecolor": "white",
             "minorgridcolor": "white",
             "startlinecolor": "rgb(36,36,36)"
            },
            "baxis": {
             "endlinecolor": "rgb(36,36,36)",
             "gridcolor": "white",
             "linecolor": "white",
             "minorgridcolor": "white",
             "startlinecolor": "rgb(36,36,36)"
            },
            "type": "carpet"
           }
          ],
          "choropleth": [
           {
            "colorbar": {
             "outlinewidth": 1,
             "tickcolor": "rgb(36,36,36)",
             "ticks": "outside"
            },
            "type": "choropleth"
           }
          ],
          "contour": [
           {
            "colorbar": {
             "outlinewidth": 1,
             "tickcolor": "rgb(36,36,36)",
             "ticks": "outside"
            },
            "colorscale": [
             [
              0,
              "#440154"
             ],
             [
              0.1111111111111111,
              "#482878"
             ],
             [
              0.2222222222222222,
              "#3e4989"
             ],
             [
              0.3333333333333333,
              "#31688e"
             ],
             [
              0.4444444444444444,
              "#26828e"
             ],
             [
              0.5555555555555556,
              "#1f9e89"
             ],
             [
              0.6666666666666666,
              "#35b779"
             ],
             [
              0.7777777777777778,
              "#6ece58"
             ],
             [
              0.8888888888888888,
              "#b5de2b"
             ],
             [
              1,
              "#fde725"
             ]
            ],
            "type": "contour"
           }
          ],
          "contourcarpet": [
           {
            "colorbar": {
             "outlinewidth": 1,
             "tickcolor": "rgb(36,36,36)",
             "ticks": "outside"
            },
            "type": "contourcarpet"
           }
          ],
          "heatmap": [
           {
            "colorbar": {
             "outlinewidth": 1,
             "tickcolor": "rgb(36,36,36)",
             "ticks": "outside"
            },
            "colorscale": [
             [
              0,
              "#440154"
             ],
             [
              0.1111111111111111,
              "#482878"
             ],
             [
              0.2222222222222222,
              "#3e4989"
             ],
             [
              0.3333333333333333,
              "#31688e"
             ],
             [
              0.4444444444444444,
              "#26828e"
             ],
             [
              0.5555555555555556,
              "#1f9e89"
             ],
             [
              0.6666666666666666,
              "#35b779"
             ],
             [
              0.7777777777777778,
              "#6ece58"
             ],
             [
              0.8888888888888888,
              "#b5de2b"
             ],
             [
              1,
              "#fde725"
             ]
            ],
            "type": "heatmap"
           }
          ],
          "heatmapgl": [
           {
            "colorbar": {
             "outlinewidth": 1,
             "tickcolor": "rgb(36,36,36)",
             "ticks": "outside"
            },
            "colorscale": [
             [
              0,
              "#440154"
             ],
             [
              0.1111111111111111,
              "#482878"
             ],
             [
              0.2222222222222222,
              "#3e4989"
             ],
             [
              0.3333333333333333,
              "#31688e"
             ],
             [
              0.4444444444444444,
              "#26828e"
             ],
             [
              0.5555555555555556,
              "#1f9e89"
             ],
             [
              0.6666666666666666,
              "#35b779"
             ],
             [
              0.7777777777777778,
              "#6ece58"
             ],
             [
              0.8888888888888888,
              "#b5de2b"
             ],
             [
              1,
              "#fde725"
             ]
            ],
            "type": "heatmapgl"
           }
          ],
          "histogram": [
           {
            "marker": {
             "line": {
              "color": "white",
              "width": 0.6
             }
            },
            "type": "histogram"
           }
          ],
          "histogram2d": [
           {
            "colorbar": {
             "outlinewidth": 1,
             "tickcolor": "rgb(36,36,36)",
             "ticks": "outside"
            },
            "colorscale": [
             [
              0,
              "#440154"
             ],
             [
              0.1111111111111111,
              "#482878"
             ],
             [
              0.2222222222222222,
              "#3e4989"
             ],
             [
              0.3333333333333333,
              "#31688e"
             ],
             [
              0.4444444444444444,
              "#26828e"
             ],
             [
              0.5555555555555556,
              "#1f9e89"
             ],
             [
              0.6666666666666666,
              "#35b779"
             ],
             [
              0.7777777777777778,
              "#6ece58"
             ],
             [
              0.8888888888888888,
              "#b5de2b"
             ],
             [
              1,
              "#fde725"
             ]
            ],
            "type": "histogram2d"
           }
          ],
          "histogram2dcontour": [
           {
            "colorbar": {
             "outlinewidth": 1,
             "tickcolor": "rgb(36,36,36)",
             "ticks": "outside"
            },
            "colorscale": [
             [
              0,
              "#440154"
             ],
             [
              0.1111111111111111,
              "#482878"
             ],
             [
              0.2222222222222222,
              "#3e4989"
             ],
             [
              0.3333333333333333,
              "#31688e"
             ],
             [
              0.4444444444444444,
              "#26828e"
             ],
             [
              0.5555555555555556,
              "#1f9e89"
             ],
             [
              0.6666666666666666,
              "#35b779"
             ],
             [
              0.7777777777777778,
              "#6ece58"
             ],
             [
              0.8888888888888888,
              "#b5de2b"
             ],
             [
              1,
              "#fde725"
             ]
            ],
            "type": "histogram2dcontour"
           }
          ],
          "mesh3d": [
           {
            "colorbar": {
             "outlinewidth": 1,
             "tickcolor": "rgb(36,36,36)",
             "ticks": "outside"
            },
            "type": "mesh3d"
           }
          ],
          "parcoords": [
           {
            "line": {
             "colorbar": {
              "outlinewidth": 1,
              "tickcolor": "rgb(36,36,36)",
              "ticks": "outside"
             }
            },
            "type": "parcoords"
           }
          ],
          "pie": [
           {
            "automargin": true,
            "type": "pie"
           }
          ],
          "scatter": [
           {
            "fillpattern": {
             "fillmode": "overlay",
             "size": 10,
             "solidity": 0.2
            },
            "type": "scatter"
           }
          ],
          "scatter3d": [
           {
            "line": {
             "colorbar": {
              "outlinewidth": 1,
              "tickcolor": "rgb(36,36,36)",
              "ticks": "outside"
             }
            },
            "marker": {
             "colorbar": {
              "outlinewidth": 1,
              "tickcolor": "rgb(36,36,36)",
              "ticks": "outside"
             }
            },
            "type": "scatter3d"
           }
          ],
          "scattercarpet": [
           {
            "marker": {
             "colorbar": {
              "outlinewidth": 1,
              "tickcolor": "rgb(36,36,36)",
              "ticks": "outside"
             }
            },
            "type": "scattercarpet"
           }
          ],
          "scattergeo": [
           {
            "marker": {
             "colorbar": {
              "outlinewidth": 1,
              "tickcolor": "rgb(36,36,36)",
              "ticks": "outside"
             }
            },
            "type": "scattergeo"
           }
          ],
          "scattergl": [
           {
            "marker": {
             "colorbar": {
              "outlinewidth": 1,
              "tickcolor": "rgb(36,36,36)",
              "ticks": "outside"
             }
            },
            "type": "scattergl"
           }
          ],
          "scattermapbox": [
           {
            "marker": {
             "colorbar": {
              "outlinewidth": 1,
              "tickcolor": "rgb(36,36,36)",
              "ticks": "outside"
             }
            },
            "type": "scattermapbox"
           }
          ],
          "scatterpolar": [
           {
            "marker": {
             "colorbar": {
              "outlinewidth": 1,
              "tickcolor": "rgb(36,36,36)",
              "ticks": "outside"
             }
            },
            "type": "scatterpolar"
           }
          ],
          "scatterpolargl": [
           {
            "marker": {
             "colorbar": {
              "outlinewidth": 1,
              "tickcolor": "rgb(36,36,36)",
              "ticks": "outside"
             }
            },
            "type": "scatterpolargl"
           }
          ],
          "scatterternary": [
           {
            "marker": {
             "colorbar": {
              "outlinewidth": 1,
              "tickcolor": "rgb(36,36,36)",
              "ticks": "outside"
             }
            },
            "type": "scatterternary"
           }
          ],
          "surface": [
           {
            "colorbar": {
             "outlinewidth": 1,
             "tickcolor": "rgb(36,36,36)",
             "ticks": "outside"
            },
            "colorscale": [
             [
              0,
              "#440154"
             ],
             [
              0.1111111111111111,
              "#482878"
             ],
             [
              0.2222222222222222,
              "#3e4989"
             ],
             [
              0.3333333333333333,
              "#31688e"
             ],
             [
              0.4444444444444444,
              "#26828e"
             ],
             [
              0.5555555555555556,
              "#1f9e89"
             ],
             [
              0.6666666666666666,
              "#35b779"
             ],
             [
              0.7777777777777778,
              "#6ece58"
             ],
             [
              0.8888888888888888,
              "#b5de2b"
             ],
             [
              1,
              "#fde725"
             ]
            ],
            "type": "surface"
           }
          ],
          "table": [
           {
            "cells": {
             "fill": {
              "color": "rgb(237,237,237)"
             },
             "line": {
              "color": "white"
             }
            },
            "header": {
             "fill": {
              "color": "rgb(217,217,217)"
             },
             "line": {
              "color": "white"
             }
            },
            "type": "table"
           }
          ]
         },
         "layout": {
          "annotationdefaults": {
           "arrowhead": 0,
           "arrowwidth": 1
          },
          "autotypenumbers": "strict",
          "coloraxis": {
           "colorbar": {
            "outlinewidth": 1,
            "tickcolor": "rgb(36,36,36)",
            "ticks": "outside"
           }
          },
          "colorscale": {
           "diverging": [
            [
             0,
             "rgb(103,0,31)"
            ],
            [
             0.1,
             "rgb(178,24,43)"
            ],
            [
             0.2,
             "rgb(214,96,77)"
            ],
            [
             0.3,
             "rgb(244,165,130)"
            ],
            [
             0.4,
             "rgb(253,219,199)"
            ],
            [
             0.5,
             "rgb(247,247,247)"
            ],
            [
             0.6,
             "rgb(209,229,240)"
            ],
            [
             0.7,
             "rgb(146,197,222)"
            ],
            [
             0.8,
             "rgb(67,147,195)"
            ],
            [
             0.9,
             "rgb(33,102,172)"
            ],
            [
             1,
             "rgb(5,48,97)"
            ]
           ],
           "sequential": [
            [
             0,
             "#440154"
            ],
            [
             0.1111111111111111,
             "#482878"
            ],
            [
             0.2222222222222222,
             "#3e4989"
            ],
            [
             0.3333333333333333,
             "#31688e"
            ],
            [
             0.4444444444444444,
             "#26828e"
            ],
            [
             0.5555555555555556,
             "#1f9e89"
            ],
            [
             0.6666666666666666,
             "#35b779"
            ],
            [
             0.7777777777777778,
             "#6ece58"
            ],
            [
             0.8888888888888888,
             "#b5de2b"
            ],
            [
             1,
             "#fde725"
            ]
           ],
           "sequentialminus": [
            [
             0,
             "#440154"
            ],
            [
             0.1111111111111111,
             "#482878"
            ],
            [
             0.2222222222222222,
             "#3e4989"
            ],
            [
             0.3333333333333333,
             "#31688e"
            ],
            [
             0.4444444444444444,
             "#26828e"
            ],
            [
             0.5555555555555556,
             "#1f9e89"
            ],
            [
             0.6666666666666666,
             "#35b779"
            ],
            [
             0.7777777777777778,
             "#6ece58"
            ],
            [
             0.8888888888888888,
             "#b5de2b"
            ],
            [
             1,
             "#fde725"
            ]
           ]
          },
          "colorway": [
           "#1F77B4",
           "#FF7F0E",
           "#2CA02C",
           "#D62728",
           "#9467BD",
           "#8C564B",
           "#E377C2",
           "#7F7F7F",
           "#BCBD22",
           "#17BECF"
          ],
          "font": {
           "color": "rgb(36,36,36)"
          },
          "geo": {
           "bgcolor": "white",
           "lakecolor": "white",
           "landcolor": "white",
           "showlakes": true,
           "showland": true,
           "subunitcolor": "white"
          },
          "hoverlabel": {
           "align": "left"
          },
          "hovermode": "closest",
          "mapbox": {
           "style": "light"
          },
          "paper_bgcolor": "white",
          "plot_bgcolor": "white",
          "polar": {
           "angularaxis": {
            "gridcolor": "rgb(232,232,232)",
            "linecolor": "rgb(36,36,36)",
            "showgrid": false,
            "showline": true,
            "ticks": "outside"
           },
           "bgcolor": "white",
           "radialaxis": {
            "gridcolor": "rgb(232,232,232)",
            "linecolor": "rgb(36,36,36)",
            "showgrid": false,
            "showline": true,
            "ticks": "outside"
           }
          },
          "scene": {
           "xaxis": {
            "backgroundcolor": "white",
            "gridcolor": "rgb(232,232,232)",
            "gridwidth": 2,
            "linecolor": "rgb(36,36,36)",
            "showbackground": true,
            "showgrid": false,
            "showline": true,
            "ticks": "outside",
            "zeroline": false,
            "zerolinecolor": "rgb(36,36,36)"
           },
           "yaxis": {
            "backgroundcolor": "white",
            "gridcolor": "rgb(232,232,232)",
            "gridwidth": 2,
            "linecolor": "rgb(36,36,36)",
            "showbackground": true,
            "showgrid": false,
            "showline": true,
            "ticks": "outside",
            "zeroline": false,
            "zerolinecolor": "rgb(36,36,36)"
           },
           "zaxis": {
            "backgroundcolor": "white",
            "gridcolor": "rgb(232,232,232)",
            "gridwidth": 2,
            "linecolor": "rgb(36,36,36)",
            "showbackground": true,
            "showgrid": false,
            "showline": true,
            "ticks": "outside",
            "zeroline": false,
            "zerolinecolor": "rgb(36,36,36)"
           }
          },
          "shapedefaults": {
           "fillcolor": "black",
           "line": {
            "width": 0
           },
           "opacity": 0.3
          },
          "ternary": {
           "aaxis": {
            "gridcolor": "rgb(232,232,232)",
            "linecolor": "rgb(36,36,36)",
            "showgrid": false,
            "showline": true,
            "ticks": "outside"
           },
           "baxis": {
            "gridcolor": "rgb(232,232,232)",
            "linecolor": "rgb(36,36,36)",
            "showgrid": false,
            "showline": true,
            "ticks": "outside"
           },
           "bgcolor": "white",
           "caxis": {
            "gridcolor": "rgb(232,232,232)",
            "linecolor": "rgb(36,36,36)",
            "showgrid": false,
            "showline": true,
            "ticks": "outside"
           }
          },
          "title": {
           "x": 0.05
          },
          "xaxis": {
           "automargin": true,
           "gridcolor": "rgb(232,232,232)",
           "linecolor": "rgb(36,36,36)",
           "showgrid": false,
           "showline": true,
           "ticks": "outside",
           "title": {
            "standoff": 15
           },
           "zeroline": false,
           "zerolinecolor": "rgb(36,36,36)"
          },
          "yaxis": {
           "automargin": true,
           "gridcolor": "rgb(232,232,232)",
           "linecolor": "rgb(36,36,36)",
           "showgrid": false,
           "showline": true,
           "ticks": "outside",
           "title": {
            "standoff": 15
           },
           "zeroline": false,
           "zerolinecolor": "rgb(36,36,36)"
          }
         }
        },
        "title": {
         "font": {
          "color": "Black",
          "size": 22
         },
         "text": "<b>Intertopic Distance Map</b>",
         "x": 0.5,
         "xanchor": "center",
         "y": 0.95,
         "yanchor": "top"
        },
        "width": 650,
        "xaxis": {
         "anchor": "y",
         "domain": [
          0,
          1
         ],
         "range": [
          2.6309318065643312,
          5.957374882698059
         ],
         "title": {
          "text": ""
         },
         "visible": false
        },
        "yaxis": {
         "anchor": "x",
         "domain": [
          0,
          1
         ],
         "range": [
          -14.77908959388733,
          -7.95056529045105
         ],
         "title": {
          "text": ""
         },
         "visible": false
        }
       }
      }
     },
     "metadata": {},
     "output_type": "display_data"
    }
   ],
   "source": [
    "# Visualisation des topics\n",
    "topic_model.visualize_topics()\n"
   ]
  },
  {
   "cell_type": "code",
   "execution_count": 140,
   "metadata": {},
   "outputs": [
    {
     "data": {
      "application/vnd.plotly.v1+json": {
       "config": {
        "plotlyServerURL": "https://plot.ly"
       },
       "data": [
        {
         "hoverinfo": "text",
         "marker": {
          "color": "rgb(61,153,112)"
         },
         "mode": "lines",
         "type": "scatter",
         "x": [
          0,
          0.13072336938975926,
          0.13072336938975926,
          0
         ],
         "xaxis": "x",
         "y": [
          -15,
          -15,
          -25,
          -25
         ],
         "yaxis": "y"
        },
        {
         "hoverinfo": "text",
         "marker": {
          "color": "rgb(61,153,112)"
         },
         "mode": "lines",
         "type": "scatter",
         "x": [
          0.13072336938975926,
          0.16999379160869282,
          0.16999379160869282,
          0
         ],
         "xaxis": "x",
         "y": [
          -20,
          -20,
          -35,
          -35
         ],
         "yaxis": "y"
        },
        {
         "hoverinfo": "text",
         "marker": {
          "color": "rgb(61,153,112)"
         },
         "mode": "lines",
         "type": "scatter",
         "x": [
          0,
          0.21052488889017293,
          0.21052488889017293,
          0.16999379160869282
         ],
         "xaxis": "x",
         "y": [
          -5,
          -5,
          -27.5,
          -27.5
         ],
         "yaxis": "y"
        },
        {
         "hoverinfo": "text",
         "marker": {
          "color": "rgb(61,153,112)"
         },
         "mode": "lines",
         "type": "scatter",
         "x": [
          0,
          0.2359391893640549,
          0.2359391893640549,
          0
         ],
         "xaxis": "x",
         "y": [
          -45,
          -45,
          -55,
          -55
         ],
         "yaxis": "y"
        },
        {
         "hoverinfo": "text",
         "marker": {
          "color": "rgb(61,153,112)"
         },
         "mode": "lines",
         "type": "scatter",
         "x": [
          0.21052488889017293,
          0.3755291429094787,
          0.3755291429094787,
          0.2359391893640549
         ],
         "xaxis": "x",
         "y": [
          -16.25,
          -16.25,
          -50,
          -50
         ],
         "yaxis": "y"
        }
       ],
       "layout": {
        "autosize": false,
        "height": 290,
        "hoverlabel": {
         "bgcolor": "white",
         "font": {
          "family": "Rockwell",
          "size": 16
         }
        },
        "hovermode": "closest",
        "plot_bgcolor": "#ECEFF1",
        "showlegend": false,
        "template": {
         "data": {
          "bar": [
           {
            "error_x": {
             "color": "#2a3f5f"
            },
            "error_y": {
             "color": "#2a3f5f"
            },
            "marker": {
             "line": {
              "color": "white",
              "width": 0.5
             },
             "pattern": {
              "fillmode": "overlay",
              "size": 10,
              "solidity": 0.2
             }
            },
            "type": "bar"
           }
          ],
          "barpolar": [
           {
            "marker": {
             "line": {
              "color": "white",
              "width": 0.5
             },
             "pattern": {
              "fillmode": "overlay",
              "size": 10,
              "solidity": 0.2
             }
            },
            "type": "barpolar"
           }
          ],
          "carpet": [
           {
            "aaxis": {
             "endlinecolor": "#2a3f5f",
             "gridcolor": "#C8D4E3",
             "linecolor": "#C8D4E3",
             "minorgridcolor": "#C8D4E3",
             "startlinecolor": "#2a3f5f"
            },
            "baxis": {
             "endlinecolor": "#2a3f5f",
             "gridcolor": "#C8D4E3",
             "linecolor": "#C8D4E3",
             "minorgridcolor": "#C8D4E3",
             "startlinecolor": "#2a3f5f"
            },
            "type": "carpet"
           }
          ],
          "choropleth": [
           {
            "colorbar": {
             "outlinewidth": 0,
             "ticks": ""
            },
            "type": "choropleth"
           }
          ],
          "contour": [
           {
            "colorbar": {
             "outlinewidth": 0,
             "ticks": ""
            },
            "colorscale": [
             [
              0,
              "#0d0887"
             ],
             [
              0.1111111111111111,
              "#46039f"
             ],
             [
              0.2222222222222222,
              "#7201a8"
             ],
             [
              0.3333333333333333,
              "#9c179e"
             ],
             [
              0.4444444444444444,
              "#bd3786"
             ],
             [
              0.5555555555555556,
              "#d8576b"
             ],
             [
              0.6666666666666666,
              "#ed7953"
             ],
             [
              0.7777777777777778,
              "#fb9f3a"
             ],
             [
              0.8888888888888888,
              "#fdca26"
             ],
             [
              1,
              "#f0f921"
             ]
            ],
            "type": "contour"
           }
          ],
          "contourcarpet": [
           {
            "colorbar": {
             "outlinewidth": 0,
             "ticks": ""
            },
            "type": "contourcarpet"
           }
          ],
          "heatmap": [
           {
            "colorbar": {
             "outlinewidth": 0,
             "ticks": ""
            },
            "colorscale": [
             [
              0,
              "#0d0887"
             ],
             [
              0.1111111111111111,
              "#46039f"
             ],
             [
              0.2222222222222222,
              "#7201a8"
             ],
             [
              0.3333333333333333,
              "#9c179e"
             ],
             [
              0.4444444444444444,
              "#bd3786"
             ],
             [
              0.5555555555555556,
              "#d8576b"
             ],
             [
              0.6666666666666666,
              "#ed7953"
             ],
             [
              0.7777777777777778,
              "#fb9f3a"
             ],
             [
              0.8888888888888888,
              "#fdca26"
             ],
             [
              1,
              "#f0f921"
             ]
            ],
            "type": "heatmap"
           }
          ],
          "heatmapgl": [
           {
            "colorbar": {
             "outlinewidth": 0,
             "ticks": ""
            },
            "colorscale": [
             [
              0,
              "#0d0887"
             ],
             [
              0.1111111111111111,
              "#46039f"
             ],
             [
              0.2222222222222222,
              "#7201a8"
             ],
             [
              0.3333333333333333,
              "#9c179e"
             ],
             [
              0.4444444444444444,
              "#bd3786"
             ],
             [
              0.5555555555555556,
              "#d8576b"
             ],
             [
              0.6666666666666666,
              "#ed7953"
             ],
             [
              0.7777777777777778,
              "#fb9f3a"
             ],
             [
              0.8888888888888888,
              "#fdca26"
             ],
             [
              1,
              "#f0f921"
             ]
            ],
            "type": "heatmapgl"
           }
          ],
          "histogram": [
           {
            "marker": {
             "pattern": {
              "fillmode": "overlay",
              "size": 10,
              "solidity": 0.2
             }
            },
            "type": "histogram"
           }
          ],
          "histogram2d": [
           {
            "colorbar": {
             "outlinewidth": 0,
             "ticks": ""
            },
            "colorscale": [
             [
              0,
              "#0d0887"
             ],
             [
              0.1111111111111111,
              "#46039f"
             ],
             [
              0.2222222222222222,
              "#7201a8"
             ],
             [
              0.3333333333333333,
              "#9c179e"
             ],
             [
              0.4444444444444444,
              "#bd3786"
             ],
             [
              0.5555555555555556,
              "#d8576b"
             ],
             [
              0.6666666666666666,
              "#ed7953"
             ],
             [
              0.7777777777777778,
              "#fb9f3a"
             ],
             [
              0.8888888888888888,
              "#fdca26"
             ],
             [
              1,
              "#f0f921"
             ]
            ],
            "type": "histogram2d"
           }
          ],
          "histogram2dcontour": [
           {
            "colorbar": {
             "outlinewidth": 0,
             "ticks": ""
            },
            "colorscale": [
             [
              0,
              "#0d0887"
             ],
             [
              0.1111111111111111,
              "#46039f"
             ],
             [
              0.2222222222222222,
              "#7201a8"
             ],
             [
              0.3333333333333333,
              "#9c179e"
             ],
             [
              0.4444444444444444,
              "#bd3786"
             ],
             [
              0.5555555555555556,
              "#d8576b"
             ],
             [
              0.6666666666666666,
              "#ed7953"
             ],
             [
              0.7777777777777778,
              "#fb9f3a"
             ],
             [
              0.8888888888888888,
              "#fdca26"
             ],
             [
              1,
              "#f0f921"
             ]
            ],
            "type": "histogram2dcontour"
           }
          ],
          "mesh3d": [
           {
            "colorbar": {
             "outlinewidth": 0,
             "ticks": ""
            },
            "type": "mesh3d"
           }
          ],
          "parcoords": [
           {
            "line": {
             "colorbar": {
              "outlinewidth": 0,
              "ticks": ""
             }
            },
            "type": "parcoords"
           }
          ],
          "pie": [
           {
            "automargin": true,
            "type": "pie"
           }
          ],
          "scatter": [
           {
            "fillpattern": {
             "fillmode": "overlay",
             "size": 10,
             "solidity": 0.2
            },
            "type": "scatter"
           }
          ],
          "scatter3d": [
           {
            "line": {
             "colorbar": {
              "outlinewidth": 0,
              "ticks": ""
             }
            },
            "marker": {
             "colorbar": {
              "outlinewidth": 0,
              "ticks": ""
             }
            },
            "type": "scatter3d"
           }
          ],
          "scattercarpet": [
           {
            "marker": {
             "colorbar": {
              "outlinewidth": 0,
              "ticks": ""
             }
            },
            "type": "scattercarpet"
           }
          ],
          "scattergeo": [
           {
            "marker": {
             "colorbar": {
              "outlinewidth": 0,
              "ticks": ""
             }
            },
            "type": "scattergeo"
           }
          ],
          "scattergl": [
           {
            "marker": {
             "colorbar": {
              "outlinewidth": 0,
              "ticks": ""
             }
            },
            "type": "scattergl"
           }
          ],
          "scattermapbox": [
           {
            "marker": {
             "colorbar": {
              "outlinewidth": 0,
              "ticks": ""
             }
            },
            "type": "scattermapbox"
           }
          ],
          "scatterpolar": [
           {
            "marker": {
             "colorbar": {
              "outlinewidth": 0,
              "ticks": ""
             }
            },
            "type": "scatterpolar"
           }
          ],
          "scatterpolargl": [
           {
            "marker": {
             "colorbar": {
              "outlinewidth": 0,
              "ticks": ""
             }
            },
            "type": "scatterpolargl"
           }
          ],
          "scatterternary": [
           {
            "marker": {
             "colorbar": {
              "outlinewidth": 0,
              "ticks": ""
             }
            },
            "type": "scatterternary"
           }
          ],
          "surface": [
           {
            "colorbar": {
             "outlinewidth": 0,
             "ticks": ""
            },
            "colorscale": [
             [
              0,
              "#0d0887"
             ],
             [
              0.1111111111111111,
              "#46039f"
             ],
             [
              0.2222222222222222,
              "#7201a8"
             ],
             [
              0.3333333333333333,
              "#9c179e"
             ],
             [
              0.4444444444444444,
              "#bd3786"
             ],
             [
              0.5555555555555556,
              "#d8576b"
             ],
             [
              0.6666666666666666,
              "#ed7953"
             ],
             [
              0.7777777777777778,
              "#fb9f3a"
             ],
             [
              0.8888888888888888,
              "#fdca26"
             ],
             [
              1,
              "#f0f921"
             ]
            ],
            "type": "surface"
           }
          ],
          "table": [
           {
            "cells": {
             "fill": {
              "color": "#EBF0F8"
             },
             "line": {
              "color": "white"
             }
            },
            "header": {
             "fill": {
              "color": "#C8D4E3"
             },
             "line": {
              "color": "white"
             }
            },
            "type": "table"
           }
          ]
         },
         "layout": {
          "annotationdefaults": {
           "arrowcolor": "#2a3f5f",
           "arrowhead": 0,
           "arrowwidth": 1
          },
          "autotypenumbers": "strict",
          "coloraxis": {
           "colorbar": {
            "outlinewidth": 0,
            "ticks": ""
           }
          },
          "colorscale": {
           "diverging": [
            [
             0,
             "#8e0152"
            ],
            [
             0.1,
             "#c51b7d"
            ],
            [
             0.2,
             "#de77ae"
            ],
            [
             0.3,
             "#f1b6da"
            ],
            [
             0.4,
             "#fde0ef"
            ],
            [
             0.5,
             "#f7f7f7"
            ],
            [
             0.6,
             "#e6f5d0"
            ],
            [
             0.7,
             "#b8e186"
            ],
            [
             0.8,
             "#7fbc41"
            ],
            [
             0.9,
             "#4d9221"
            ],
            [
             1,
             "#276419"
            ]
           ],
           "sequential": [
            [
             0,
             "#0d0887"
            ],
            [
             0.1111111111111111,
             "#46039f"
            ],
            [
             0.2222222222222222,
             "#7201a8"
            ],
            [
             0.3333333333333333,
             "#9c179e"
            ],
            [
             0.4444444444444444,
             "#bd3786"
            ],
            [
             0.5555555555555556,
             "#d8576b"
            ],
            [
             0.6666666666666666,
             "#ed7953"
            ],
            [
             0.7777777777777778,
             "#fb9f3a"
            ],
            [
             0.8888888888888888,
             "#fdca26"
            ],
            [
             1,
             "#f0f921"
            ]
           ],
           "sequentialminus": [
            [
             0,
             "#0d0887"
            ],
            [
             0.1111111111111111,
             "#46039f"
            ],
            [
             0.2222222222222222,
             "#7201a8"
            ],
            [
             0.3333333333333333,
             "#9c179e"
            ],
            [
             0.4444444444444444,
             "#bd3786"
            ],
            [
             0.5555555555555556,
             "#d8576b"
            ],
            [
             0.6666666666666666,
             "#ed7953"
            ],
            [
             0.7777777777777778,
             "#fb9f3a"
            ],
            [
             0.8888888888888888,
             "#fdca26"
            ],
            [
             1,
             "#f0f921"
            ]
           ]
          },
          "colorway": [
           "#636efa",
           "#EF553B",
           "#00cc96",
           "#ab63fa",
           "#FFA15A",
           "#19d3f3",
           "#FF6692",
           "#B6E880",
           "#FF97FF",
           "#FECB52"
          ],
          "font": {
           "color": "#2a3f5f"
          },
          "geo": {
           "bgcolor": "white",
           "lakecolor": "white",
           "landcolor": "white",
           "showlakes": true,
           "showland": true,
           "subunitcolor": "#C8D4E3"
          },
          "hoverlabel": {
           "align": "left"
          },
          "hovermode": "closest",
          "mapbox": {
           "style": "light"
          },
          "paper_bgcolor": "white",
          "plot_bgcolor": "white",
          "polar": {
           "angularaxis": {
            "gridcolor": "#EBF0F8",
            "linecolor": "#EBF0F8",
            "ticks": ""
           },
           "bgcolor": "white",
           "radialaxis": {
            "gridcolor": "#EBF0F8",
            "linecolor": "#EBF0F8",
            "ticks": ""
           }
          },
          "scene": {
           "xaxis": {
            "backgroundcolor": "white",
            "gridcolor": "#DFE8F3",
            "gridwidth": 2,
            "linecolor": "#EBF0F8",
            "showbackground": true,
            "ticks": "",
            "zerolinecolor": "#EBF0F8"
           },
           "yaxis": {
            "backgroundcolor": "white",
            "gridcolor": "#DFE8F3",
            "gridwidth": 2,
            "linecolor": "#EBF0F8",
            "showbackground": true,
            "ticks": "",
            "zerolinecolor": "#EBF0F8"
           },
           "zaxis": {
            "backgroundcolor": "white",
            "gridcolor": "#DFE8F3",
            "gridwidth": 2,
            "linecolor": "#EBF0F8",
            "showbackground": true,
            "ticks": "",
            "zerolinecolor": "#EBF0F8"
           }
          },
          "shapedefaults": {
           "line": {
            "color": "#2a3f5f"
           }
          },
          "ternary": {
           "aaxis": {
            "gridcolor": "#DFE8F3",
            "linecolor": "#A2B1C6",
            "ticks": ""
           },
           "baxis": {
            "gridcolor": "#DFE8F3",
            "linecolor": "#A2B1C6",
            "ticks": ""
           },
           "bgcolor": "white",
           "caxis": {
            "gridcolor": "#DFE8F3",
            "linecolor": "#A2B1C6",
            "ticks": ""
           }
          },
          "title": {
           "x": 0.05
          },
          "xaxis": {
           "automargin": true,
           "gridcolor": "#EBF0F8",
           "linecolor": "#EBF0F8",
           "ticks": "",
           "title": {
            "standoff": 15
           },
           "zerolinecolor": "#EBF0F8",
           "zerolinewidth": 2
          },
          "yaxis": {
           "automargin": true,
           "gridcolor": "#EBF0F8",
           "linecolor": "#EBF0F8",
           "ticks": "",
           "title": {
            "standoff": 15
           },
           "zerolinecolor": "#EBF0F8",
           "zerolinewidth": 2
          }
         }
        },
        "title": {
         "font": {
          "color": "Black",
          "size": 22
         },
         "text": "<b>Hierarchical Clustering</b>",
         "x": 0.5,
         "xanchor": "center",
         "yanchor": "top"
        },
        "width": 1000,
        "xaxis": {
         "mirror": "allticks",
         "rangemode": "tozero",
         "showgrid": false,
         "showline": true,
         "showticklabels": true,
         "ticks": "outside",
         "type": "linear",
         "zeroline": false
        },
        "yaxis": {
         "mirror": "allticks",
         "range": [
          -60,
          0
         ],
         "rangemode": "tozero",
         "showgrid": false,
         "showline": true,
         "showticklabels": true,
         "tickmode": "array",
         "ticks": "outside",
         "ticktext": [
          "3_ethics_ethical_machine",
          "2_algorithmic_system_may",
          "0_system_also_may",
          "5_eu_also_system",
          "4_government_international_...",
          "1_uk_government_strategy"
         ],
         "tickvals": [
          -5,
          -15,
          -25,
          -35,
          -45,
          -55
         ],
         "type": "linear",
         "zeroline": false
        }
       }
      }
     },
     "metadata": {},
     "output_type": "display_data"
    }
   ],
   "source": [
    "\n",
    "# Visualisation des hiérarchies entre les topics\n",
    "topic_model.visualize_hierarchy()"
   ]
  },
  {
   "cell_type": "code",
   "execution_count": 141,
   "metadata": {},
   "outputs": [
    {
     "data": {
      "application/vnd.plotly.v1+json": {
       "config": {
        "plotlyServerURL": "https://plot.ly"
       },
       "data": [
        {
         "marker": {
          "color": "#D55E00"
         },
         "orientation": "h",
         "type": "bar",
         "x": [
          0.015028430764679433,
          0.01550827904402027,
          0.017926776961363373,
          0.018372123373654976,
          0.019689695919392663
         ],
         "xaxis": "x",
         "y": [
          "used  ",
          "protection  ",
          "may  ",
          "also  ",
          "system  "
         ],
         "yaxis": "y"
        },
        {
         "marker": {
          "color": "#0072B2"
         },
         "orientation": "h",
         "type": "bar",
         "x": [
          0.016726623794731645,
          0.0170316296378939,
          0.01887218917627184,
          0.024337895195015582,
          0.03793712419850955
         ],
         "xaxis": "x2",
         "y": [
          "work  ",
          "innovation  ",
          "strategy  ",
          "government  ",
          "uk  "
         ],
         "yaxis": "y2"
        },
        {
         "marker": {
          "color": "#CC79A7"
         },
         "orientation": "h",
         "type": "bar",
         "x": [
          0.01577279129560262,
          0.015944249855311652,
          0.01613129620159518,
          0.016393673523059815,
          0.02151423047369148
         ],
         "xaxis": "x3",
         "y": [
          "algorithms  ",
          "bias  ",
          "may  ",
          "system  ",
          "algorithmic  "
         ],
         "yaxis": "y3"
        },
        {
         "marker": {
          "color": "#E69F00"
         },
         "orientation": "h",
         "type": "bar",
         "x": [
          0.015609209391528937,
          0.017143609238147096,
          0.01886878429241096,
          0.02046686400100868,
          0.026357061782295167
         ],
         "xaxis": "x4",
         "y": [
          "may  ",
          "system  ",
          "machine  ",
          "ethical  ",
          "ethics  "
         ],
         "yaxis": "y4"
        },
        {
         "marker": {
          "color": "#56B4E9"
         },
         "orientation": "h",
         "type": "bar",
         "x": [
          0.015835287669366732,
          0.017460437355255844,
          0.017948055239120474,
          0.01856584665100533,
          0.02000432206644092
         ],
         "xaxis": "x5",
         "y": [
          "technologies  ",
          "cooperation  ",
          "services  ",
          "international  ",
          "government  "
         ],
         "yaxis": "y5"
        },
        {
         "marker": {
          "color": "#009E73"
         },
         "orientation": "h",
         "type": "bar",
         "x": [
          0.010740496840638316,
          0.010870229419354473,
          0.012621196194500424,
          0.015495570019150277,
          0.016950633504827145
         ],
         "xaxis": "x6",
         "y": [
          "national  ",
          "policy  ",
          "system  ",
          "also  ",
          "eu  "
         ],
         "yaxis": "y6"
        }
       ],
       "layout": {
        "annotations": [
         {
          "font": {
           "size": 16
          },
          "showarrow": false,
          "text": "Topic 0",
          "x": 0.0875,
          "xanchor": "center",
          "xref": "paper",
          "y": 1,
          "yanchor": "bottom",
          "yref": "paper"
         },
         {
          "font": {
           "size": 16
          },
          "showarrow": false,
          "text": "Topic 1",
          "x": 0.36250000000000004,
          "xanchor": "center",
          "xref": "paper",
          "y": 1,
          "yanchor": "bottom",
          "yref": "paper"
         },
         {
          "font": {
           "size": 16
          },
          "showarrow": false,
          "text": "Topic 2",
          "x": 0.6375000000000001,
          "xanchor": "center",
          "xref": "paper",
          "y": 1,
          "yanchor": "bottom",
          "yref": "paper"
         },
         {
          "font": {
           "size": 16
          },
          "showarrow": false,
          "text": "Topic 3",
          "x": 0.9125,
          "xanchor": "center",
          "xref": "paper",
          "y": 1,
          "yanchor": "bottom",
          "yref": "paper"
         },
         {
          "font": {
           "size": 16
          },
          "showarrow": false,
          "text": "Topic 4",
          "x": 0.0875,
          "xanchor": "center",
          "xref": "paper",
          "y": 0.4,
          "yanchor": "bottom",
          "yref": "paper"
         },
         {
          "font": {
           "size": 16
          },
          "showarrow": false,
          "text": "Topic 5",
          "x": 0.36250000000000004,
          "xanchor": "center",
          "xref": "paper",
          "y": 0.4,
          "yanchor": "bottom",
          "yref": "paper"
         }
        ],
        "height": 500,
        "hoverlabel": {
         "bgcolor": "white",
         "font": {
          "family": "Rockwell",
          "size": 16
         }
        },
        "showlegend": false,
        "template": {
         "data": {
          "bar": [
           {
            "error_x": {
             "color": "#2a3f5f"
            },
            "error_y": {
             "color": "#2a3f5f"
            },
            "marker": {
             "line": {
              "color": "white",
              "width": 0.5
             },
             "pattern": {
              "fillmode": "overlay",
              "size": 10,
              "solidity": 0.2
             }
            },
            "type": "bar"
           }
          ],
          "barpolar": [
           {
            "marker": {
             "line": {
              "color": "white",
              "width": 0.5
             },
             "pattern": {
              "fillmode": "overlay",
              "size": 10,
              "solidity": 0.2
             }
            },
            "type": "barpolar"
           }
          ],
          "carpet": [
           {
            "aaxis": {
             "endlinecolor": "#2a3f5f",
             "gridcolor": "#C8D4E3",
             "linecolor": "#C8D4E3",
             "minorgridcolor": "#C8D4E3",
             "startlinecolor": "#2a3f5f"
            },
            "baxis": {
             "endlinecolor": "#2a3f5f",
             "gridcolor": "#C8D4E3",
             "linecolor": "#C8D4E3",
             "minorgridcolor": "#C8D4E3",
             "startlinecolor": "#2a3f5f"
            },
            "type": "carpet"
           }
          ],
          "choropleth": [
           {
            "colorbar": {
             "outlinewidth": 0,
             "ticks": ""
            },
            "type": "choropleth"
           }
          ],
          "contour": [
           {
            "colorbar": {
             "outlinewidth": 0,
             "ticks": ""
            },
            "colorscale": [
             [
              0,
              "#0d0887"
             ],
             [
              0.1111111111111111,
              "#46039f"
             ],
             [
              0.2222222222222222,
              "#7201a8"
             ],
             [
              0.3333333333333333,
              "#9c179e"
             ],
             [
              0.4444444444444444,
              "#bd3786"
             ],
             [
              0.5555555555555556,
              "#d8576b"
             ],
             [
              0.6666666666666666,
              "#ed7953"
             ],
             [
              0.7777777777777778,
              "#fb9f3a"
             ],
             [
              0.8888888888888888,
              "#fdca26"
             ],
             [
              1,
              "#f0f921"
             ]
            ],
            "type": "contour"
           }
          ],
          "contourcarpet": [
           {
            "colorbar": {
             "outlinewidth": 0,
             "ticks": ""
            },
            "type": "contourcarpet"
           }
          ],
          "heatmap": [
           {
            "colorbar": {
             "outlinewidth": 0,
             "ticks": ""
            },
            "colorscale": [
             [
              0,
              "#0d0887"
             ],
             [
              0.1111111111111111,
              "#46039f"
             ],
             [
              0.2222222222222222,
              "#7201a8"
             ],
             [
              0.3333333333333333,
              "#9c179e"
             ],
             [
              0.4444444444444444,
              "#bd3786"
             ],
             [
              0.5555555555555556,
              "#d8576b"
             ],
             [
              0.6666666666666666,
              "#ed7953"
             ],
             [
              0.7777777777777778,
              "#fb9f3a"
             ],
             [
              0.8888888888888888,
              "#fdca26"
             ],
             [
              1,
              "#f0f921"
             ]
            ],
            "type": "heatmap"
           }
          ],
          "heatmapgl": [
           {
            "colorbar": {
             "outlinewidth": 0,
             "ticks": ""
            },
            "colorscale": [
             [
              0,
              "#0d0887"
             ],
             [
              0.1111111111111111,
              "#46039f"
             ],
             [
              0.2222222222222222,
              "#7201a8"
             ],
             [
              0.3333333333333333,
              "#9c179e"
             ],
             [
              0.4444444444444444,
              "#bd3786"
             ],
             [
              0.5555555555555556,
              "#d8576b"
             ],
             [
              0.6666666666666666,
              "#ed7953"
             ],
             [
              0.7777777777777778,
              "#fb9f3a"
             ],
             [
              0.8888888888888888,
              "#fdca26"
             ],
             [
              1,
              "#f0f921"
             ]
            ],
            "type": "heatmapgl"
           }
          ],
          "histogram": [
           {
            "marker": {
             "pattern": {
              "fillmode": "overlay",
              "size": 10,
              "solidity": 0.2
             }
            },
            "type": "histogram"
           }
          ],
          "histogram2d": [
           {
            "colorbar": {
             "outlinewidth": 0,
             "ticks": ""
            },
            "colorscale": [
             [
              0,
              "#0d0887"
             ],
             [
              0.1111111111111111,
              "#46039f"
             ],
             [
              0.2222222222222222,
              "#7201a8"
             ],
             [
              0.3333333333333333,
              "#9c179e"
             ],
             [
              0.4444444444444444,
              "#bd3786"
             ],
             [
              0.5555555555555556,
              "#d8576b"
             ],
             [
              0.6666666666666666,
              "#ed7953"
             ],
             [
              0.7777777777777778,
              "#fb9f3a"
             ],
             [
              0.8888888888888888,
              "#fdca26"
             ],
             [
              1,
              "#f0f921"
             ]
            ],
            "type": "histogram2d"
           }
          ],
          "histogram2dcontour": [
           {
            "colorbar": {
             "outlinewidth": 0,
             "ticks": ""
            },
            "colorscale": [
             [
              0,
              "#0d0887"
             ],
             [
              0.1111111111111111,
              "#46039f"
             ],
             [
              0.2222222222222222,
              "#7201a8"
             ],
             [
              0.3333333333333333,
              "#9c179e"
             ],
             [
              0.4444444444444444,
              "#bd3786"
             ],
             [
              0.5555555555555556,
              "#d8576b"
             ],
             [
              0.6666666666666666,
              "#ed7953"
             ],
             [
              0.7777777777777778,
              "#fb9f3a"
             ],
             [
              0.8888888888888888,
              "#fdca26"
             ],
             [
              1,
              "#f0f921"
             ]
            ],
            "type": "histogram2dcontour"
           }
          ],
          "mesh3d": [
           {
            "colorbar": {
             "outlinewidth": 0,
             "ticks": ""
            },
            "type": "mesh3d"
           }
          ],
          "parcoords": [
           {
            "line": {
             "colorbar": {
              "outlinewidth": 0,
              "ticks": ""
             }
            },
            "type": "parcoords"
           }
          ],
          "pie": [
           {
            "automargin": true,
            "type": "pie"
           }
          ],
          "scatter": [
           {
            "fillpattern": {
             "fillmode": "overlay",
             "size": 10,
             "solidity": 0.2
            },
            "type": "scatter"
           }
          ],
          "scatter3d": [
           {
            "line": {
             "colorbar": {
              "outlinewidth": 0,
              "ticks": ""
             }
            },
            "marker": {
             "colorbar": {
              "outlinewidth": 0,
              "ticks": ""
             }
            },
            "type": "scatter3d"
           }
          ],
          "scattercarpet": [
           {
            "marker": {
             "colorbar": {
              "outlinewidth": 0,
              "ticks": ""
             }
            },
            "type": "scattercarpet"
           }
          ],
          "scattergeo": [
           {
            "marker": {
             "colorbar": {
              "outlinewidth": 0,
              "ticks": ""
             }
            },
            "type": "scattergeo"
           }
          ],
          "scattergl": [
           {
            "marker": {
             "colorbar": {
              "outlinewidth": 0,
              "ticks": ""
             }
            },
            "type": "scattergl"
           }
          ],
          "scattermapbox": [
           {
            "marker": {
             "colorbar": {
              "outlinewidth": 0,
              "ticks": ""
             }
            },
            "type": "scattermapbox"
           }
          ],
          "scatterpolar": [
           {
            "marker": {
             "colorbar": {
              "outlinewidth": 0,
              "ticks": ""
             }
            },
            "type": "scatterpolar"
           }
          ],
          "scatterpolargl": [
           {
            "marker": {
             "colorbar": {
              "outlinewidth": 0,
              "ticks": ""
             }
            },
            "type": "scatterpolargl"
           }
          ],
          "scatterternary": [
           {
            "marker": {
             "colorbar": {
              "outlinewidth": 0,
              "ticks": ""
             }
            },
            "type": "scatterternary"
           }
          ],
          "surface": [
           {
            "colorbar": {
             "outlinewidth": 0,
             "ticks": ""
            },
            "colorscale": [
             [
              0,
              "#0d0887"
             ],
             [
              0.1111111111111111,
              "#46039f"
             ],
             [
              0.2222222222222222,
              "#7201a8"
             ],
             [
              0.3333333333333333,
              "#9c179e"
             ],
             [
              0.4444444444444444,
              "#bd3786"
             ],
             [
              0.5555555555555556,
              "#d8576b"
             ],
             [
              0.6666666666666666,
              "#ed7953"
             ],
             [
              0.7777777777777778,
              "#fb9f3a"
             ],
             [
              0.8888888888888888,
              "#fdca26"
             ],
             [
              1,
              "#f0f921"
             ]
            ],
            "type": "surface"
           }
          ],
          "table": [
           {
            "cells": {
             "fill": {
              "color": "#EBF0F8"
             },
             "line": {
              "color": "white"
             }
            },
            "header": {
             "fill": {
              "color": "#C8D4E3"
             },
             "line": {
              "color": "white"
             }
            },
            "type": "table"
           }
          ]
         },
         "layout": {
          "annotationdefaults": {
           "arrowcolor": "#2a3f5f",
           "arrowhead": 0,
           "arrowwidth": 1
          },
          "autotypenumbers": "strict",
          "coloraxis": {
           "colorbar": {
            "outlinewidth": 0,
            "ticks": ""
           }
          },
          "colorscale": {
           "diverging": [
            [
             0,
             "#8e0152"
            ],
            [
             0.1,
             "#c51b7d"
            ],
            [
             0.2,
             "#de77ae"
            ],
            [
             0.3,
             "#f1b6da"
            ],
            [
             0.4,
             "#fde0ef"
            ],
            [
             0.5,
             "#f7f7f7"
            ],
            [
             0.6,
             "#e6f5d0"
            ],
            [
             0.7,
             "#b8e186"
            ],
            [
             0.8,
             "#7fbc41"
            ],
            [
             0.9,
             "#4d9221"
            ],
            [
             1,
             "#276419"
            ]
           ],
           "sequential": [
            [
             0,
             "#0d0887"
            ],
            [
             0.1111111111111111,
             "#46039f"
            ],
            [
             0.2222222222222222,
             "#7201a8"
            ],
            [
             0.3333333333333333,
             "#9c179e"
            ],
            [
             0.4444444444444444,
             "#bd3786"
            ],
            [
             0.5555555555555556,
             "#d8576b"
            ],
            [
             0.6666666666666666,
             "#ed7953"
            ],
            [
             0.7777777777777778,
             "#fb9f3a"
            ],
            [
             0.8888888888888888,
             "#fdca26"
            ],
            [
             1,
             "#f0f921"
            ]
           ],
           "sequentialminus": [
            [
             0,
             "#0d0887"
            ],
            [
             0.1111111111111111,
             "#46039f"
            ],
            [
             0.2222222222222222,
             "#7201a8"
            ],
            [
             0.3333333333333333,
             "#9c179e"
            ],
            [
             0.4444444444444444,
             "#bd3786"
            ],
            [
             0.5555555555555556,
             "#d8576b"
            ],
            [
             0.6666666666666666,
             "#ed7953"
            ],
            [
             0.7777777777777778,
             "#fb9f3a"
            ],
            [
             0.8888888888888888,
             "#fdca26"
            ],
            [
             1,
             "#f0f921"
            ]
           ]
          },
          "colorway": [
           "#636efa",
           "#EF553B",
           "#00cc96",
           "#ab63fa",
           "#FFA15A",
           "#19d3f3",
           "#FF6692",
           "#B6E880",
           "#FF97FF",
           "#FECB52"
          ],
          "font": {
           "color": "#2a3f5f"
          },
          "geo": {
           "bgcolor": "white",
           "lakecolor": "white",
           "landcolor": "white",
           "showlakes": true,
           "showland": true,
           "subunitcolor": "#C8D4E3"
          },
          "hoverlabel": {
           "align": "left"
          },
          "hovermode": "closest",
          "mapbox": {
           "style": "light"
          },
          "paper_bgcolor": "white",
          "plot_bgcolor": "white",
          "polar": {
           "angularaxis": {
            "gridcolor": "#EBF0F8",
            "linecolor": "#EBF0F8",
            "ticks": ""
           },
           "bgcolor": "white",
           "radialaxis": {
            "gridcolor": "#EBF0F8",
            "linecolor": "#EBF0F8",
            "ticks": ""
           }
          },
          "scene": {
           "xaxis": {
            "backgroundcolor": "white",
            "gridcolor": "#DFE8F3",
            "gridwidth": 2,
            "linecolor": "#EBF0F8",
            "showbackground": true,
            "ticks": "",
            "zerolinecolor": "#EBF0F8"
           },
           "yaxis": {
            "backgroundcolor": "white",
            "gridcolor": "#DFE8F3",
            "gridwidth": 2,
            "linecolor": "#EBF0F8",
            "showbackground": true,
            "ticks": "",
            "zerolinecolor": "#EBF0F8"
           },
           "zaxis": {
            "backgroundcolor": "white",
            "gridcolor": "#DFE8F3",
            "gridwidth": 2,
            "linecolor": "#EBF0F8",
            "showbackground": true,
            "ticks": "",
            "zerolinecolor": "#EBF0F8"
           }
          },
          "shapedefaults": {
           "line": {
            "color": "#2a3f5f"
           }
          },
          "ternary": {
           "aaxis": {
            "gridcolor": "#DFE8F3",
            "linecolor": "#A2B1C6",
            "ticks": ""
           },
           "baxis": {
            "gridcolor": "#DFE8F3",
            "linecolor": "#A2B1C6",
            "ticks": ""
           },
           "bgcolor": "white",
           "caxis": {
            "gridcolor": "#DFE8F3",
            "linecolor": "#A2B1C6",
            "ticks": ""
           }
          },
          "title": {
           "x": 0.05
          },
          "xaxis": {
           "automargin": true,
           "gridcolor": "#EBF0F8",
           "linecolor": "#EBF0F8",
           "ticks": "",
           "title": {
            "standoff": 15
           },
           "zerolinecolor": "#EBF0F8",
           "zerolinewidth": 2
          },
          "yaxis": {
           "automargin": true,
           "gridcolor": "#EBF0F8",
           "linecolor": "#EBF0F8",
           "ticks": "",
           "title": {
            "standoff": 15
           },
           "zerolinecolor": "#EBF0F8",
           "zerolinewidth": 2
          }
         }
        },
        "title": {
         "font": {
          "color": "Black",
          "size": 22
         },
         "text": "Topic Word Scores",
         "x": 0.5,
         "xanchor": "center",
         "yanchor": "top"
        },
        "width": 1000,
        "xaxis": {
         "anchor": "y",
         "domain": [
          0,
          0.175
         ],
         "showgrid": true
        },
        "xaxis2": {
         "anchor": "y2",
         "domain": [
          0.275,
          0.45
         ],
         "showgrid": true
        },
        "xaxis3": {
         "anchor": "y3",
         "domain": [
          0.55,
          0.7250000000000001
         ],
         "showgrid": true
        },
        "xaxis4": {
         "anchor": "y4",
         "domain": [
          0.825,
          1
         ],
         "showgrid": true
        },
        "xaxis5": {
         "anchor": "y5",
         "domain": [
          0,
          0.175
         ],
         "showgrid": true
        },
        "xaxis6": {
         "anchor": "y6",
         "domain": [
          0.275,
          0.45
         ],
         "showgrid": true
        },
        "xaxis7": {
         "anchor": "y7",
         "domain": [
          0.55,
          0.7250000000000001
         ],
         "showgrid": true
        },
        "xaxis8": {
         "anchor": "y8",
         "domain": [
          0.825,
          1
         ],
         "showgrid": true
        },
        "yaxis": {
         "anchor": "x",
         "domain": [
          0.6000000000000001,
          1
         ],
         "showgrid": true
        },
        "yaxis2": {
         "anchor": "x2",
         "domain": [
          0.6000000000000001,
          1
         ],
         "showgrid": true
        },
        "yaxis3": {
         "anchor": "x3",
         "domain": [
          0.6000000000000001,
          1
         ],
         "showgrid": true
        },
        "yaxis4": {
         "anchor": "x4",
         "domain": [
          0.6000000000000001,
          1
         ],
         "showgrid": true
        },
        "yaxis5": {
         "anchor": "x5",
         "domain": [
          0,
          0.4
         ],
         "showgrid": true
        },
        "yaxis6": {
         "anchor": "x6",
         "domain": [
          0,
          0.4
         ],
         "showgrid": true
        },
        "yaxis7": {
         "anchor": "x7",
         "domain": [
          0,
          0.4
         ],
         "showgrid": true
        },
        "yaxis8": {
         "anchor": "x8",
         "domain": [
          0,
          0.4
         ],
         "showgrid": true
        }
       }
      }
     },
     "metadata": {},
     "output_type": "display_data"
    }
   ],
   "source": [
    "\n",
    "# Visualisation des relations entre les topics\n",
    "topic_model.visualize_barchart()"
   ]
  },
  {
   "cell_type": "code",
   "execution_count": 142,
   "metadata": {},
   "outputs": [
    {
     "ename": "ValueError",
     "evalue": "Make sure to set `n_clusters` lower than the total number of unique topics.",
     "output_type": "error",
     "traceback": [
      "\u001b[0;31m---------------------------------------------------------------------------\u001b[0m",
      "\u001b[0;31mValueError\u001b[0m                                Traceback (most recent call last)",
      "Cell \u001b[0;32mIn[142], line 1\u001b[0m\n\u001b[0;32m----> 1\u001b[0m \u001b[43mtopic_model\u001b[49m\u001b[38;5;241;43m.\u001b[39;49m\u001b[43mvisualize_heatmap\u001b[49m\u001b[43m(\u001b[49m\u001b[43mn_clusters\u001b[49m\u001b[38;5;241;43m=\u001b[39;49m\u001b[38;5;241;43m8\u001b[39;49m\u001b[43m)\u001b[49m\n",
      "File \u001b[0;32m~/Documents/Code_Telecom/projet_NLP/.env_projet_NLP/lib/python3.12/site-packages/bertopic/_bertopic.py:3173\u001b[0m, in \u001b[0;36mBERTopic.visualize_heatmap\u001b[0;34m(self, topics, top_n_topics, n_clusters, use_ctfidf, custom_labels, title, width, height)\u001b[0m\n\u001b[1;32m   3136\u001b[0m \u001b[38;5;250m\u001b[39m\u001b[38;5;124;03m\"\"\"Visualize a heatmap of the topic's similarity matrix.\u001b[39;00m\n\u001b[1;32m   3137\u001b[0m \n\u001b[1;32m   3138\u001b[0m \u001b[38;5;124;03mBased on the cosine similarity matrix between c-TF-IDFs or semantic embeddings of the topics,\u001b[39;00m\n\u001b[0;32m   (...)\u001b[0m\n\u001b[1;32m   3170\u001b[0m \u001b[38;5;124;03m```\u001b[39;00m\n\u001b[1;32m   3171\u001b[0m \u001b[38;5;124;03m\"\"\"\u001b[39;00m\n\u001b[1;32m   3172\u001b[0m check_is_fitted(\u001b[38;5;28mself\u001b[39m)\n\u001b[0;32m-> 3173\u001b[0m \u001b[38;5;28;01mreturn\u001b[39;00m \u001b[43mplotting\u001b[49m\u001b[38;5;241;43m.\u001b[39;49m\u001b[43mvisualize_heatmap\u001b[49m\u001b[43m(\u001b[49m\n\u001b[1;32m   3174\u001b[0m \u001b[43m    \u001b[49m\u001b[38;5;28;43mself\u001b[39;49m\u001b[43m,\u001b[49m\n\u001b[1;32m   3175\u001b[0m \u001b[43m    \u001b[49m\u001b[43mtopics\u001b[49m\u001b[38;5;241;43m=\u001b[39;49m\u001b[43mtopics\u001b[49m\u001b[43m,\u001b[49m\n\u001b[1;32m   3176\u001b[0m \u001b[43m    \u001b[49m\u001b[43mtop_n_topics\u001b[49m\u001b[38;5;241;43m=\u001b[39;49m\u001b[43mtop_n_topics\u001b[49m\u001b[43m,\u001b[49m\n\u001b[1;32m   3177\u001b[0m \u001b[43m    \u001b[49m\u001b[43mn_clusters\u001b[49m\u001b[38;5;241;43m=\u001b[39;49m\u001b[43mn_clusters\u001b[49m\u001b[43m,\u001b[49m\n\u001b[1;32m   3178\u001b[0m \u001b[43m    \u001b[49m\u001b[43muse_ctfidf\u001b[49m\u001b[38;5;241;43m=\u001b[39;49m\u001b[43muse_ctfidf\u001b[49m\u001b[43m,\u001b[49m\n\u001b[1;32m   3179\u001b[0m \u001b[43m    \u001b[49m\u001b[43mcustom_labels\u001b[49m\u001b[38;5;241;43m=\u001b[39;49m\u001b[43mcustom_labels\u001b[49m\u001b[43m,\u001b[49m\n\u001b[1;32m   3180\u001b[0m \u001b[43m    \u001b[49m\u001b[43mtitle\u001b[49m\u001b[38;5;241;43m=\u001b[39;49m\u001b[43mtitle\u001b[49m\u001b[43m,\u001b[49m\n\u001b[1;32m   3181\u001b[0m \u001b[43m    \u001b[49m\u001b[43mwidth\u001b[49m\u001b[38;5;241;43m=\u001b[39;49m\u001b[43mwidth\u001b[49m\u001b[43m,\u001b[49m\n\u001b[1;32m   3182\u001b[0m \u001b[43m    \u001b[49m\u001b[43mheight\u001b[49m\u001b[38;5;241;43m=\u001b[39;49m\u001b[43mheight\u001b[49m\u001b[43m,\u001b[49m\n\u001b[1;32m   3183\u001b[0m \u001b[43m\u001b[49m\u001b[43m)\u001b[49m\n",
      "File \u001b[0;32m~/Documents/Code_Telecom/projet_NLP/.env_projet_NLP/lib/python3.12/site-packages/bertopic/plotting/_heatmap.py:80\u001b[0m, in \u001b[0;36mvisualize_heatmap\u001b[0;34m(topic_model, topics, top_n_topics, n_clusters, use_ctfidf, custom_labels, title, width, height)\u001b[0m\n\u001b[1;32m     78\u001b[0m \u001b[38;5;28;01mif\u001b[39;00m n_clusters:\n\u001b[1;32m     79\u001b[0m     \u001b[38;5;28;01mif\u001b[39;00m n_clusters \u001b[38;5;241m>\u001b[39m\u001b[38;5;241m=\u001b[39m \u001b[38;5;28mlen\u001b[39m(\u001b[38;5;28mset\u001b[39m(topics)):\n\u001b[0;32m---> 80\u001b[0m         \u001b[38;5;28;01mraise\u001b[39;00m \u001b[38;5;167;01mValueError\u001b[39;00m(\u001b[38;5;124m\"\u001b[39m\u001b[38;5;124mMake sure to set `n_clusters` lower than \u001b[39m\u001b[38;5;124m\"\u001b[39m \u001b[38;5;124m\"\u001b[39m\u001b[38;5;124mthe total number of unique topics.\u001b[39m\u001b[38;5;124m\"\u001b[39m)\n\u001b[1;32m     82\u001b[0m     distance_matrix \u001b[38;5;241m=\u001b[39m cosine_similarity(embeddings[topics])\n\u001b[1;32m     83\u001b[0m     Z \u001b[38;5;241m=\u001b[39m linkage(distance_matrix, \u001b[38;5;124m\"\u001b[39m\u001b[38;5;124mward\u001b[39m\u001b[38;5;124m\"\u001b[39m)\n",
      "\u001b[0;31mValueError\u001b[0m: Make sure to set `n_clusters` lower than the total number of unique topics."
     ]
    }
   ],
   "source": [
    "topic_model.visualize_heatmap(n_clusters=8)"
   ]
  },
  {
   "cell_type": "code",
   "execution_count": null,
   "metadata": {},
   "outputs": [
    {
     "data": {
      "text/plain": [
       "[\"october national strategic plan national science council networking subcommittee ii iii national science council national science council nstc principal means executive branch coordinates science policy across diverse entities make federal r enterprise one nstc ’ primary objectives establishing national goal federal science investments nstc prepares r packages aimed accomplishing multiple national goals nstc ’ work organized five committees environment natural resources sustainability homeland national ecurity science engineering mathematics stem education science committees oversees subcommittees working groups focused different aspects science available www.whitehouse.gov/ostp/nstc office science policy office science policy ostp established national science policy organization priorities act 1976 mission ostp threefold first provide president senior staff accurate relevant timely scientific technical advice matters consequence second ensure th policies executive branch informed sound science third ensure scientific technical work executive branch properly coordinated provide greatest benefit society director ostp also erves assistant president science manages nstc available www.whitehouse.gov/ostp subcommittee networking subcommittee networking nitrd committee cot national science council nstc nitrd subcommittee coordinates multiagency programs help assure continued u.s. leadership networking satisfy needs federal government advanced networking accelerate deployment advanced networking also implements relevant provisions high -performance computing act p.l 102 -194 amended next generation internet act p. l. 105 -305 america creating opportunities meaningfully promote excellence education science competes act p.l 110 -69 see www.nitrd.gov acknowledgments document developed contributions members staff nitrd task force special thanks appreciation additional contribut ors helped write edit review document chaitan baru nsf eric daimler presidential innovation fellow ronald ferguson dod nancy forbes nitrd eric harder dhs erin kenneally dhs dai kim dod tatiana korelsky nsf david kuehn dot terence langendoen nsf peter lyster nitrd kc morris nist hector munoz -avila nsf thomas rindflesch nih craig schlenoff nist donald sofge nrl sylvia spengler nsf iv copyright work u.s. government domain may freely distributed copied translated acknowledgment publication office science policy appreciated translation include disclaime r accuracy translation responsibility translator ostp requested copy translation sent ostp work available worldwide reuse creative commons cc0 1.0 universal license vi vii national science council chair john p. holdren assistant president science director office science policystaff afua bruce executive director office science policy subcommittee machine co-chair ed felten deputy u.s. chief officer office science policy co-chair michael garris senior scientist national institute standards u.s. department commerce subcommittee networking co-chair bryan biegel director national c oordination office networking co-chair james kurose assistant director computer science engineering national science foundation networking task force co-chair lynne parker division director intelligent system national science foundation co-chair jason matheny director advanced projects activity members milton corn national institutes health nikunj oza national aeronautics space administration william ford national institute justice robinson pino department energy michael garris national institute standards gregory shannon office science policy steven knox national security agency scott tousley department homeland security viii john launchbury defense advanced projects agency faisal ’ souza technical coordinator national coordination office networking richard linderman office secretary defense national strategic plan 1 contents national science council ................................ ................................ .......................... iii office science policy ................................ ................................ ............................ iii subcommittee networking ................ iii acknowledgments ................................ ................................ ................................ ................................ ............... iii copyright ................................ ................................ ................................ ................................ .......... iv national science council ................................ ................................ ................................ ........... vii subcommittee machine ................................ ................................ .......... vii subcommittee networking ................................ vii task force ................................ ................................ ................................ ..................... vii executive summary ................................ ................................ ................................ ................................ ................... 3 introduction ................................ ................................ ................................ ................................ ............................... 5 purpose national r strategic plan ................................ ................................ ................................ 5 desired outcome ................................ ................................ ................................ ................................ ............. 7 vision advancing national priorities ................................ ................................ .................... 8 current state ................................ ................................ ................................ ................................ .......... 12 r strategy ................................ ................................ ................................ ................................ ........................... 15 strategy 1 make long-term investments ................................ ................................ ............. 16 strategy 2 develop effective methods -ai collaboration ................................ ........................... 22 strategy 3 understand address ethical le gal societal implications ............................... 26 strategy 4 ensure safety security ................................ ................................ .............. 27 strategy 5 develop shared datasets environments training testing ......................... 30 strategy 6 measure evaluate technologies standards benchmarks ............................. 32 strategy 7 better understand national r workforce needs ................................ ......................... 35 recommendations ................................ ................................ ................................ ................................ ................... 37 acronyms ................................ ................................ ................................ ................................ ................................ 39 national strategic plan 2 national strategic plan 3 executive summary transformative holds promise tremendous societal economic benefit potential revolutionize live work learn discover communicate national pri orities including increased economic prosperity improved educational opportunit ies quality life enhanced national homeland security hese potential benefits u. s. government invested many years yet significant federal government interest tremendous opportunities also number considerations must taken account guiding overall direction federally -funded r may 3 administration announced formation n stc subcommittee machine intell igence help coordinate federal activity ai.1 subcommittee june 15 directed subcommittee netw orking nitrd create national strategic plan nitrd task force formed define federal strategic prioritie r particular attention areas industry unlikely address national r strategic plan establishes set objectives fo r federally funded occurring within government well federally -funded occurring outside government academia ultimate goal produce knowledge technologies provide range positive benefits society minimizing negativ e impacts achieve goal r strategic plan identifies following priorities federally -funded strategy 1 make long -term investments prioritize investments next generation drive discovery insight enable u nited states remain world leader strategy 2 develop effective methods -ai collaboration rather replace humans collaborate humans achieve optimal performance needed create effective inte ractions humans strategy 3 understand address ethical legal societal implications expect technologies behave according formal informal norms hold fellow humans needed understand ethical legal social implications develop methods designing ethical legal soci etal goals strategy 4 ensure safety security widespread assurance needed operate safely securely controlled well -defined well-understood manner progress needed address challenge cr eating reliable dependable trustworthy strategy 5 develop shared datasets environments training testing depth quality accuracy training datasets resources significantly affect performan ce researchers need develop high quality datasets environments enable responsible access high -quality datasets well testing training resources strategy 6 measure evaluate technologies standards benchmarks essential advancements standards benchmarks testbeds community engagement guide 1 e. felten “ preparing future ” white house office science policy blog may 5 //www.whitehouse.gov/blog/2016/05/03/preparing -future -artificial -intelligence national strategic plan 4 evaluate progress i. additional r esearch needed develop broad spectrum evaluative techniques strategy 7 better understand national r workforce needs advances require strong community researchers improved understanding current future r workforce demands needed help ensure sufficient experts available address strategic r areas outlined plan r strategic plan closes two recommendations recommendation 1 develop r implementation framework identify opportunities support effective coordinat ion r investments consistent strategies 1 -6 plan recommendation 2 study national landscape creating sus taining healthy r workforce consistent strategy 7 plan national strategic plan 5 introduction purpose national r strategic plan 1956 researchers computer science across united states met dartmouth college hampshire discuss seminal ideas emerging branch computing called imagined world “ machines language form abstractions concepts solve kinds problems reserved humans improve ” .2 historic meeting set stage decades government industry including advances perception automated reasoning/planning cognitive machine natural language processing robotics related fields today advances resulted sectors economy impacting everyday lives mapping technologies voice -assisted smart phones handwriting recognition mail delivery financial trading smart logistics spam filtering language translation advances also providing great benefits social wellbeing areas suc h precision medicine environmental sustainability education welfare.3 increased prominence approaches past 25 years boosted large part adoption statistical probabilistic methods availability large amounts increased computer processing power past decade sub field machine enables computers learn experience examples demonstrated increasingly accurate results causing much excitement near -term prospects recent attention paid importance statistical approaches deep learning,4 impactful advances also made wide variety areas perception natural language processing formal logics knowledge representations robotics control theory cognitive system architectures search optimization techniques many others recent accomplishments generated important questions ultimate direction implications technologies important scientific technological g aps current technologies advances would provide positive neede economic societal impacts technologies continue used safely beneficially designed ethical legal societa l principles implications advancements r workforce landscape r becoming increasingly complex past present investments u.s. government led groundbr eaking approaches sectors also become significant contributors including wide range industries non -prof organizations investment landscape raises major questions appropriate role federal investments technol ogies priorities federal investments especially regarding areas timeframes industry unlikely invest opportunities industrial international r collaborations advance u.s. priorities 2 j. mccarthy m. l. minsky n. rochester c. e. shannon “ proposal dartmouth summer project ” august 31 1955 //www formal.stanford.edu/jmc/history/dartmouth/dartmouth.html 3 see presentation subject matter experts social good workshop june 7 //cra.org/ccc/events/ai -social -good/ 4 deep refers general family methods multi -layered neural networks methods supported rapid progress tasks believed incapable automation national strategic plan 6 u.s government ’ investment unclassified r -related technologies approximately 1.1 billion although investments led important science technologies opportunity coordination across federal government investments achieve full potential.5 recognizing transf ormative effects may white house office science policy ostp announced interagency working group explore benefits risks ai.6 ostp also announced series four workshops held may -july time frame aimed spurring dialogue identifying challenges opportunities entails outcomes workshop part companion report preparing future released conjunction plan june n ew n stc subcommittee machine —which chartered stay abreast advances within federal government private sector internationally help coor dinate federal activities —tasked nitrd national coord ination office nco create national devel opment strategic plan subcommittee directed plan convey set r priorities address strategic goals federal investments areas industry unlikely invest address need expand sustain pipeline r talent input r strategic plan come wide range sources including federal agencies discussions -related meetings omb call across federal agencies invest itrelated r ostp request rfi solicited input america best prepare future,7 open publications plan makes several assumptions future ai.8 first assumes technologies continue grow sophistication ubiquity thanks r investments government industry second plan assumes impact society continue increase including employ ment education safety national security well impact u.s. economic growth third assumes industry investment continue grow recent commercial successes increased perceived returns investment r time plan assumes important areas unlikely receive sufficient investment industry subject typical underinvestment problem surrounding goods lastly plan assumes demand expertise continue grow within industry academia government leading private workforce pressures r strategic plans initiatives relevance r strategic plan include federal big strategic plan ,9 federal cybersecurity strategic plan ,10 national privacy strategy ,11 national nanotechnology 5 nitrd several working groups touch aspects current nitrd working group focused specifically coordinating inter -agency r investments activities 6 e. felten “ preparing future ” white house office science policy blog may 5 //www.whitehouse.gov/blog/2016/05/03/preparing -future -artificial -intelligence 7 wh/ostp rfi blog post //www.whitehouse.gov/blog/2016/06/27/how -prepare -future -artificial 8 j. furman time different opportunities challenges council economic advisors remarks york university symposium july 7 9 federal big strategic plan may //www.n itrd.gov/pubs/bigdatardstrategicplan.pdf 10 federal cybersecurity strategic plan february //www.nitrd.gov/cybersecurity/publications/2016_federal_cybersecurity_research_and_development_stra tegic _plan.pdf national strategic plan 7 initiative strategic plan,12 national strategic computing initiative ,13 brain advancing innovative neurotechnologies initiative ,14 national robotics initiative.15 additional strategic r plans strategic frameworks developmental stages addressing certain subfields including video image analytics health robotics intelligent additional plans frameworks provide synergistic recommendations complement expand upon r strategic plan desired outcome r strategic plan looks beyond near -term capabilities toward longer -term transformational impacts society world recent advances led significant optimism potential resulting strong industry growth commercialization approaches however federal government leverage industrial investments many application areas long -term challenges near -term profit drivers thus may significantly addressed industry federal government primary source funding long term high -risk initiatives well near -term developmental work achieve department agency -specific requirements address important societal sues private industry pursue federal government therefore emphasize investments areas strong societal importance aimed consumer markets —areas health urban smart communiti es social welfare criminal justice environmental sustainability national security well long -term accelerates production knowledge technologies coordinated r effort across federal government crease positive impact technologies provide policymakers knowledge needed address complex policy challenges related coordinated approach moreover help u nited states capitalize full potenti al technologies betterment society r strategic plan defines high -level framework used identify scientific technological gaps track federal r investments designed fill gaps r strategic plan identifies strategic priorities near -term long -term support address important technical societal challenges r strategic plan however define specific agenda individual federal agencies instead sets objectives executive branch within agencies may pursue priorities consistent missions capabilities authorities budgets overall portfolio consisten r strategic plan r strategic plan also set policy technologies explore broader concerns potential influence jobs economy topics cri tically important nation discussed council economic advisors report entitled “ time different opportunities challenges ” 8 11 national privacy strategy june //www.nitrd.gov/pubs/nationalprivacyresearchstrategy.pdf 12 national nanotechnology initiative strategic plan february //www.nano.gov/sites/default/files/pub_resource/2014_nni_strategic_plan.pdf 13 national strategic computing initiative strategi c plan july //www.whitehouse.gov/sites/whitehouse.gov/files/images/nsci 20strategic 20plan.pdf 14 brain advancing innovati neurotechnologies brain april //www.whitehouse.gov/brain 15 national robotics initiative june //www.whitehouse.gov/blog/2011/06/24/developing -next generation -robots national strategic plan 8 r strategic plan focuses r investments needed help define advance policies ensure responsible safe beneficial vision advancing national priorities driving r strategic plan hopeful vision future world safely used significant benefit members society progress could enhance wellbeing nearly sectors society ,16 potentially leading advance ments national priorities including increased economic prosperity improved quality life strengthen ed national security examples potential benefits include increased economic prosperity products services create markets improve quality efficiency existing goods services across multiple industries efficient logistics supply chains created expert decision systems.17 products transported effectively vision -based driver -assist automated/robotic systems.18 manufacturing improved methods controlling fabrication processes scheduling work flow s.19 increased econ omic prosperity achieved \\uf0b7 manufacturing technological advances lead industrial revolution manufacturing including entire engineering product life cycle increased used robotics could enable manufacturing move back onshore.20 accelerate production capabilities reliable demand forecasting increased flexibility operations supply chain better prediction impacts change manufacturing operations create smarter f aster cheaper environmentally -friendly production processes increase worker productivity improve product quality lower costs improve worker health safety.21 machine algorithms improve scheduling manufacturing processes reduce inventory requirements.22 consumers benefit access commercial -grade 3 -d printing.23 \\uf0b7 logistics private -sector manufacturers shippers improve supply -chain management adaptive scheduling routing.24 supply chains become robust 16 see “ report one hundred year study ” focuses anticipated uses impacts year 2030 //ai100.stanford.edu/2016 -report 17 e. w. t. ngai s. peng p. alexander k. k. l. moon `` decision support intelligent textile apparel supply chain academic review articles '' expert applications 41 81-91 18 j. fishelson d. freckleton k. heaslip '' evaluation automated electric transportation deployment strateg ies integrated isolated '' iet intelligent transport 7 337-344 19 c. h. dagli ed. neural networks intelligent manufacturing springer science business media 20 d. w. brin “ robotics rise ” mhi soluti ons q3 //dinahwbrin.files.wordpress.com/2013/07/mhi -solutions -robotics.pdf 21 “ robotics challenge aims enhance worker safety improve em cleanup ” doe office environmental management august 31 //energy.gov/em/articles/robotics -challenge -aims -enhance -worker -safety improve -em-cleanup -other -em-events -set 22 m. j. shaw s. park n. raman `` intelligent scheduling machine capabilities induction scheduling knowledge '' iie transactions 24.2 156-168 23 h. lipson m. kurman fabricated world 3d printing john wiley sons 24 m. s. fox m. barbuceanu r. teigen `` agent -oriented supply -chain management '' international journal flexible manufacturing 12 165-188. national strategic plan 9 disruption automatically adjusting anticipated effects weather traffic unforeseen events.25 \\uf0b7 finance industry government provide early detection unusual financial risk multiple scales.26 safety controls ensure automation financial reduces opportunities malicious behavior market manipulation fraud anomalous trading .27 additionally increase efficiency reduce volatility trading costs preventing systemic failures pricing bubbles undervaluing credit risk.28 \\uf0b7 transportation augment modes transportation materially impact safety types travel.29 used structura l health monitoring infrastructure asset management provid ing increased trust reducing costs repairs reconstruction.30 used passenger freight vehicles improve safety increas ing situational awareness provide drivers travelers real-time route information.31 applications also improve network -level mobility reduce overall system energy transportation -related emissions .32 \\uf0b7 agriculture create approach es sustainable agriculture smarter production processing storage distribution consumption agricultural products robotics gather site -specific timely crops apply needed inputs e.g. water chemic als fertilizers needed fill urgent gaps agricultural labor force.33 \\uf0b7 marketing approaches enable commerc ial entities better match supply demand driving revenue funds ongoing private sector development.34 anticipate identify consumer needs enabling better find products services want lower cost .35 25 s. k. kumar m. k. tiwari r. f. babiceanu `` minimisation supply chain cost embedded risk using computational approaches '' international journal production 48 3717 -3739 26 a. s. koyuncugil n. ozgulbas `` financial early warning system model mining application risk detection '' expert applications 39 6238 -6253 27 k. golmohammadi o. r. zaiane `` time series contextual anomaly detection detecting market manipulation stock market '' ieee interna tional conference science advanced analytics dsaa 28t mizuta k. izumi s. yoshimura `` price variation limits financial market bubbles market simulations agents process '' ieee conference computation al financial engineering economics cifer 29 j. h. gillulay c. j. tomlin `` guaranteed safe online bounded system '' ieee/rsj international conference intelligent robots 30 j. m. w. brownjohn `` structural health monitoring civil infrastructure '' philosophical transactions royal society london mathematical physical engineering sciences 365 589-622 31 dia hussein `` agent -based approach modelling driver route choice behaviour influence real time '' transportation part c emerging technologies 10 331-349 32 h. kargupta j. gama w. fan `` next generation transportation greenhouse emissions mini ng '' proc eedings 16th acm sigkdd international conference knowledge discovery mining 33 h. hagras m. colley v. callaghan m. carr -west `` online adaptation autonomous mobile robots sustainable agriculture '' autonomous robots 13 37-52 34 t. di noia e. di sciascio f. m. donini m. mongiello `` system principled matchmaking electronic marketplace '' international journal electronic commerce 8 9-37 35 r. h. guttman a. g. moukas p. maes `` agent -mediated electronic commerce survey '' knowledge engineering review 13 147-159. national strategic plan 10 \\uf0b7 communications technologies maximize efficient bandwidth automation storage retrieval.36 improve filtering searching language translation summarization communications positively affecting commerce way live lives .37 \\uf0b7 science assist scientists engineers reading publications patents refin ing theories consistent prior observations generat ing testable hypotheses perform ing experiments using robotic simulations engineering devices software .38 improved educational opportunity quality life lifelong possible virtual tutors develop custom ized plans challenge engage person based interests abilities education al needs people live healthier lives using personalized health tailored adapted individual smart homes personal virtual assistants save people time reduce time lost daily repetitive tas ks improve educational opportunit ies social wellbeing \\uf0b7 education ai-enhanced schools universally available automated tutoring gauges student.16 tutors complement -person teachers education advanced and/or remedial appropriate student.16 tools foster life -long acquisition skills members society.16 \\uf0b7 medicine support bioinformatics identify genetic risks large -scale genomic studies e.g. genome -wide association studies sequencing studies predict safety efficacy pharmaceuticals.39 techniques allow assessments across multi dimensional study health issues provide decision support medical diagnoses prescribe treatments.40 technologies requir ed customization drugs individual result increased medical efficacy patient comfort less waste.41 \\uf0b7 law analysis law case history machines become widespread.42 increased sophistication processes allow richer level analysis assisting discovery process.42 legal discovery tools identify summarize relevant evidence may even formulate legal arguments increasing ophistication.42 36 i. kushchu `` web -based evolutionary adaptive retrieval '' ieee transactions evolutionary computation 9 117-125 37 j. jin p. ji y. liu s. c. j. lim `` translating online customer opinions enginee ring characteristics qfd probabilistic language analysis approach '' engineering applications 41 115-127 38 r. d. king j. rowland s. g. oliver m. young w. aubrey e. byrne m. liakata m. markham p. pir l. n. soldatova a. sparkes k. e. whelan a. clare “ automation science ” science 324 85-89 39 b. aksu a. paradkhar m. de matas o. ozer t. guneri p. york `` quality design approach using techniques control critical quality attributes ramipril tablets manufactured wet granulation '' pharmaceutical 18 236-245 40 p. szolovits r. s. patil w. b. schwartz `` medical diagnosis '' annal internal medicine 108 1988 80-87 41 j. awwalu jamilu a. g. garba a. ghazvini r. atuah '' personalized medicine application algorithms solving personalized medicine problems '' international journal compu ter theory engineering 7 439 42 t. bench -capon m. araszkiewicz k. ashley k. atkinson f. bex f. borges d. bourcier p. bourgine j. conrad e. francesconi t. gordon g. governatori j. leidner d. lewis r. loui l. mccarty h. prakken f. schilder e. schweighofer p. thompson a. tyrrell b. verheij d. walton a. wyner `` history law 50 papers 25 years international conference law '' law 20 215-319. national strategic plan 11 \\uf0b7 personal services software make knowledge multiple sources provide accurate multitude uses .43 natural language provide intuitive interfaces technological real -world noisy environments.44 personalized tools enable automated assistance individual group scheduling .45 text automatically summarized multiple search outcomes enhanced across multiple media.46 enable real -time spoken multi -lingual translation.47 enhanced national homeland security machine agents process large amounts identify relevant patterns -of-life adversaries rapidly changing tactics.48 thes e agents also provide protection critical infrastructure major economic sectors vulnerable attack.49 defense significantly reduce battlefield risks casualties.50 enhanced national homeland security achieved \\uf0b7 security law enforcement law enforcement security officials help create safer society pattern detection detect anomalous behavior individual actors predict dangerous crowd behavior.48 intelligent perception protect critical infrastructure airports power plants .49 \\uf0b7 safety prediction distributed sensor pattern understanding normal condition detect probability major infrastruc ture disruptions increases significantly whether triggered natural man -made causes 51 anticipat ory capability help indicate problem adapt operations forestall disruption even happens.51 vision positive however requires significant r advancements many cr itical difficult technical challenges remain subfields basic science areas application technologies also present risks potential disruption labor market humans augmented replaced automated uncertainties safety reliability subsequent sect ions r strategic p lan discuss high -priority strategic areas r investments support vision mitigating potential disruption risk 43 k. wei j. huang s. fu `` survey e-commerce recommender '' international conference service service management 44 m. fleischman d. roy `` intentional context situated natural language '' proceedings ninth conference computational natural language association computational linguistics 45 p. berry k. conley m. gervasio b. peintner t. uribe n. yorke -smith `` deploying personalized time management agent '' proceedings fifth international joint conference autonomous agents multiagent 46 u. hahn i. mani `` challenges automatic summarization '' computer 33 29-36 47 m. paul h. okuma h. yamamoto e. sumita s. matsuda t. shimizu s. nakamura '' multilingual mobile phone translation services world travelers '' 22nd international conference computational linguistics demonstration papers association computational linguistics 48 g. gross e. little b. park j. llinas r. nagi `` application multi -level fusion pattern life analysis '' 18th international conference fusion 49 s. l. p. yasakethu j. jiang a. graziano `` intelligent risk detection analysis tools critical infra structure protection '' ieee international conference computer tool eurocon 50 n. g. siegel a. m. madni `` battlefield behind -the-scenes look perspective '' procedia computer science 28 799-808 51 b. genge c. siaterlis g. karopoulos `` fusion -based anomaly detection networked critical infrastructures '' 43rd annual ieee/ifip conference dependable networks workshop dsn -w 2013. national strategic plan 12 current state since beginnings advanced three tech nology waves first wave focused handcrafted knowledge strong 1980s rule -based expert well -defined domains knowledge collected expert expressed “ -then ” rules implemented hardware -enabled reasoning applied successfully narrowly defined problems ability learn deal uncertainty nevertheless still led important solutions techniques till actively used today second wave 2000s present characterized ascent machine availability significantly larger amounts relatively inexpensive massively parallel computational capabilities improved techniques brought significant advances applied tasks image writing recognition speech understanding language translation fruits advances everywh ere smartphones perform speech recognition atms perform handwriting recognition written checks email applications perform spam filtering free online services perform machine translation key successes deep regularly outperform humans specialized tasks major ilestones first surpassed performance include chess ,52 trivia ,53 atari games ,54 image recognition ,55 speech recognition ,56 go .57 pace milestones appears increasing degree best -performing based machine methods rather sets hand -coded rules achievements fueled strong base fundamental expanding likely spur future advan ces one indicator number web science -indexed journal articles menti oning `` deep '' increased six -fold figure 1 trends also r eveal increasingly global nature u nited states longer leading world publication numbers even publications receiving least one citation figure 2 u.s. government played key role althoug h commercial sector also -related r d.58 sharp increase number patents term “ deep ” “ deep neural net ” figure 3 four -fold increase venture capital dire cted startups.59 applications generating substantial revenues large businesses.60 impact financial even larger —automated “ algorithmic ” trading responsible half global financial trading repre senting trillions dollars transactions.61 52 m. campbell a. j. hoane jr. f -h. hsu “ deep blue ” 134 57 -83 53 `` ibm 's `` watson '' computing system challenge time jeopardy champions '' news release sony pictures television december 14 54 “ asynchronous methods deep reinforcement ” //arxiv.org/pdf/1602.01783v2.pdf 55 “ deep residual image recognition ” //arxiv.org/abs/1512.03385v1 performance see //karpathy.github.io/2014/09/02/what -i-learned -from -competing -against -a-convnet -on-imagenet/ 56 “ deep speech 2 end -to-end speech recognitio n english mandarin ” //arxiv.org/abs/1512.02595v1 57 s. byford `` google 's alphago beats lee se -dol win go series 4 -1 '' verge march 15 58 “ microsoft google facebook investing plan key players ” techworld september 29 2106 //www.techworld.com/picture -gallery/big -data/9 -tech giants -investing -in-artificial -intelligence -3629737/ 59 “ startups see 302 funding jump ” cb insights february 10 60 “ business google ” investopedia //www.investopedia.com/articles/investing/020515/business -google.asp retrieved october 5 61 b. m. weller “ effic ient prices cost algorithmic trading deter acquisition ” may 21 //ssrn.com/abstract=2662254 //dx.doi.org/10.2139/ssrn.2662254 national strategic plan 13 figure 1 journal articles mentioning “ deep ” “ deep neural network ” nation .62 figure 2 journal articles cited least mentioning “ deep ” “ deep neural network ” nation .63 62 figure obtained search web science core collection `` deep '' `` deep neural net '' publication retrieved 30 august 63 figure obtained search web science core collection `` deep '' `` deep neural net '' limited publications receiving one citations retrieved 30 august 2016. national strategic plan 14 figure 3 analysis number patents using term “ deep ” “ deep neural net ” .64 despite progress still limitations virtu ally progress `` n arrow '' performs well specialized tasks little progress made `` g eneral '' functions well across variety cognitive domains even within n arrow progress uneven image recognition rely significant effort label answers thousands examples .65 contrast humans capable `` one -shot '' examples machine vision easily confused complex scenes overlapping objects children easily perform `` scene parsing '' scene understanding easy still often difficult machine field beginning stages possible third wave focuses explanatory general technologies goals approaches enhance learned models explanation correction interface clarify basis reliability outputs operate high degree transparency move beyond narrow capabilities generalize across broader task domains successful engineers could create construct explanatory models classes real world phenomena engage natura l communication people learn reason encounter ta sks situations solve novel problems generalizing past experience explanatory models f might constructed automatically advanced methods models could enable rapid may su pply “ meaning ” “ understanding ” system could enable achieve g eneral capabilities 64 figure obtained search derwent world patents index `` deep '' `` deep neural net '' retrieved 30 august 65 technical parlance refers supervised national strategic plan 15 r strateg priorities outlined r strategic plan areas industry unlikely address thus areas likely benefit federal investment priorities cut across include needs common sub -fields perception automated reasoning/planning cognitive machine natural language processing robotics related fields breadth th ese priorities span entire fiel rather ly focusing individual challenges specific sub -domain implement plan detailed roadmaps developed address capability gaps consistent plan one important federal priorit ies outlined strategy 1 sustained long -term drive discovery insight many investments u.s. federal government high -risk high -reward fundamental led revolutionary technological advances depend today including internet gps smartphone speech recognition heart monitors solar panels advanced batteries cancer therapies much much promise touches nearly every aspect society potential significant positive societal economic benefits thus maintain world leadership area u nited states must investments high -priority fundamental long -term many technologies work alongside humans,16 thus leading important challenges best create work people intuitive helpful ways.16 walls humans slowly beginning erode augmenting enhancing capabilities fundamental needed develop effective methods -ai interaction collabor ation outlined strategy 2. advancements providing many positive benefits society increasing u.s. national competitiveness.8 however w ith transformative technologies presents risks several areas jobs economy safety ethical legal questions thus science develop federal government must also invest better understand implications realms address implications developing ethical legal societal goals outlined strategy 3. critical gap current lack methodologies ensure safety predictable performance ensuring safety challenge unusual complexity evolving nature several priorities address safety challeng e. first strategy 4 emphasizes need explainable transparent trusted users perform manner acceptable users guaranteed act user intended potential capabilities complexity combined wealth possible interactions users environment makes critically important invest increases security control technologies strategy 5 calls federa l government invest shared datasets training testing order advance progress enable effective comparison alternative solutions strategy 6 discusses tandards benchmarks r define progress close gaps drive innovative solutions specific problems challenges standards benchmarks essential measuring evaluating ensuring technologies meet critical objectives functionalit interoperability finally growing prevalence technologies across sectors society creates pressures r experts .66 opportunities abound core scientists engineers deep understand ing 66 “ talent grab sparks excitement concern ” nature april 26 2016. national strategic plan 16 generate ideas advancing boundaries knowledge field nation take action ensure sufficient pipeline -capable talent strategy 7 addresses challenge figure 4 provides graphical illustration overal l organization r strategic plan across red crosscutting underlying foundations affect foundations described strategies 3 -7. next layer higher lighter dium dark blue includes many areas needed advance basic areas including -inspired basic outlined strategies 1 -2.67 across row graphic dark blue examples applications expected benefit advances discussed vision section earlier document together components r strategic plan define high -level framework federal investments lead impac tful advances field positive societal benefits figure 4. organization r strategic plan combination crosscutting r foundations lower red row important many basic r areas lighter medium dark blue row build upon crosscutting foundations impact wide array societal applications dark blue row small number brackets indicate number strategy plan develops topic ordering strategies indicate priority importance strategy 1 make long-term investments res earch investments needed areas potential long -term payoffs important component lon g-term res earch incremental predictable outcomes long -term sustained investments high -risk lead high -reward payoffs payoffs seen 67 throughout document basic includes pure basic use-inspired basic – so-called pasteur ’ quadrant defined donald stokes book name – referring basic society mind example fundamental nih investments often called useinspired basic national strategic plan 17 5 years 10 years recent national council report emphasizes th e critical role federal investments long -term noting “ long unpredictable incubation period —requiring steady work funding —between initial exploration commercial deployment. ” 68 note “ time first concept successful market often measured decades ” .68 well documented examples sustained fundamental efforts led high -reward payoff include world wide web deep cases basic foundations began 1960 30+ years continued efforts ideas materialized transformative technologies witness ed today many categories national institutes health nih grants -supported computational pathology image interpretation plays central role pathologic diagnosis cancer since late 19th century primary tool used pathologists make definitive cancer diagnoses microscope pathologists diagnose cancer manually examining st ained sections cancer tissues determine cancer subtype pathologic diagnosis using conventional methods labor intensive poor reproducibility quality concerns approaches fundamental build tools make pathologi c analysis efficient accurate predictive camelyon grand challenge metastatic cancer detection,69 -performing entry competition -based computational system achieved error rate 7.5 .70 pathologist reviewing set evaluation images achieved error rate 3.5 combining predictions system pathologist lowered error rate 0.5 representing 85 reduction error see image .71 example illustrat es fundamental drive high performing computational offer great potential making patho logical diagnoses efficient accurate following subsections highlight areas additional categories important discussed strategies 2 6. advancing -focused methodologies knowledge discovery discussed federal big strategic plan ,9 many fundamental tools technologies needed achieve intelligent understanding knowledge discovery progress needed advanced machin e algorithms 68 continuing innovation washington d.c. national academies press page 11 69 //camelyon16.gr and-challenge.org/ 70 d. wang a. khosla r. gargeya h. irshad a. beck “ deep identifying metastatic breast cancer ” //arxiv.org/pdf/1606.05718v1.pdf 71 full results presented //grand -challenge.org/site/camelyon16/results/ significantly reduces pathologist error rate identification metastatic breast cancer sentinel lymph node biopsies national strategic plan 18 identify useful big many open questions revolve around creation including veracity appropriate ness system raining veracity part icularly challenging dealing vast amounts making difficult humans assess extract knowledge much dealt veracity quality assurance methods perform cleaning knowledge discover study needed improve efficiency cleaning techniques create methods discovering inconsistencies anomalies develop approaches incorporating feedback researchers need explore n ew methods enable associated metadata mined simultaneously many applications interdisciplinary nature make heterogeneous investigation multi -mod ality machine needed enable knowledge iscovery wide variety different types e.g. discrete continuous text spatial temporal sp atio-temporal graphs investigators must determine amount needed training properly address large -scale versus long -tail needs must also determine identify process rare events beyond purely statistical approaches work knowledge sources i.e. type explains world knowledge law gravity soci al norms well sources integrating models ontologies process obtain effective performance little big sources may available enhancing perceptual capabilities perception n intelligent system ’ window world perception begins possibly distributed sensor come diverse modalities forms status system environment sensor processed fused often along priori knowledge models extract relevant system ’ task geometric features attributes location velocity integrated perception forms situational awareness provide comprehensive knowledge model state world necessary plan execute tasks effectively safely would greatly benefit advancements hardware algorithms enable robust rel iable perception sensors must able capture longer distances higher resolution real time perception need able integrate variety sensors sources including computational cloud de termine system currently perceiving allow prediction future states detection classification identification recognition objects remain challenging especially cluttered dynamic conditions addition perception humans must greatly improved using appropriate combination sensors algorithms work effectively people .16 framework calculating propagating uncertainty throughout perception process needed quantify confidence level system situational aware ness improve accuracy understand ing theoretical capabilities limitations ultimate goal algorithms address open challenges -like solutions good understanding theoretical capabilities limit ation extent -like solutions even possible algorithms theoretical work needed better understand techniques —especially machine —often work well practice different disciplines including mathematics control sciences computer science studying issue field currently lacks unified theoretical models frameworks understand system performance additional r esearch needed computational solvability understand ing classes problems algorithms theoretically capable solving likewise capable solving understanding must developed context existing hardware order see hardware affect performance f national strategic plan 19 algorithms understanding problems theoretically unsolvable lead researchers develop appr oximate solutions problems even open lines hardware example invented 1 960s neural networks ann could used solve simple problems became feasible anns solve complex problems hardware improvements parallelization made algorithms adjusted make hardware developments key factor enabling today ’ significant advances deep pursu ing general -purpose approaches divided “ narrow ” “ general ai. ” narrow perform individual tasks specialized well -defined domains speech recognition image recognition translation several recent highly -visible narrow including ibm watson deepmind 's alphago achieved major feats .72,73 indeed se particular labeled “ superhuman ” outperform ed best players jeopardy go respectively exemplify narrow since applied tasks specifically designed using wider range problem requires significant re-engineering effort contrast long -term goal general create system exhibit flexibility versatility intellig ence broad range cognitive domains including language perception reasoning creativity planning broad capabilities would provide general ability transfer knowledge one domain another interactively learn experience humans general n ambition researchers since advent current still far achieving goal relationship narrow general currently explore possible lessons one applied improve vice versa general consensus researchers believe general still decades away requiring long -term sustained effort achieve developing scalable groups networks may coordinated autonomously collaborate perform tasks possible single system may also include humans working alongside leading team multi -ai create significant challenges planning coordination control scalability planning techniques multi -ai must fast enough operate adapt real time changes envir onment adapt fluid manner changes available communication bandwidth system degradation faults many prior efforts focused centralized planning coordination techniques however approaches subject single points failure loss planner loss communications link planner distributed planning control techniques harder achieve algorithmically often less efficient incomplete potentially offer greater robustness single points failure future must discover efficient robust scalable techniques planning control collaboration teams multiple humans 72 ibm watson defeated two players considered among best players jeopardy game 73 alphago defeated reigning world champion go lee se-dol notably alphago combines deep monte carlo search —a method developed 1980s —which builds probabilisti c method discovered 1940 s. national strategic plan 20 foster ing -like attainin g -like requires explain ways people understand result generation intelligent intelligent tutoring intelligent assistants effective assisting people performing tasks significant gap however way current algorithms work people learn perform tasks people capable examples receiving formal instruction and/or “ hints ” perform ing tasks observing p eople performing tasks medical schools take approach example medical students learn b observing established doctor perform ing complex medical procedure even high -performance tasks world -championship go games master -level player would played thousand games train him/herself contrast would take hundreds years play number games needed train alphago foundational approaches achieving -like would bring closer goal nsf-funded framework game theory security security critical concern around world whether challenge protecting ports airports critical infrastructure protecting endangered wildlife forests fisheries suppressing urban crime security cyberspace unfortunately limited security resources prevent full security coverage tim es instead must optimize limited secu rity resources end `` security games '' framework —based basic computational game theory also incorporating elements behavior modeling planning u ncertain ty machine —has led building deployment decision aids security agencies u nited states around world.74 example armor system deployed lax airport since iris system f ederal air mar shals service since protect system u .s coast guard since 2011. typically given limited security resources e.g. boats air marshals police large number targets different values e.g. different flight different terminals airport security games -based decision aids provide randomized allocation patrolling schedule takes account weights different targets intelligent reaction adversary different security po stures applications shown provide significant improvement performance different security agencies using variety metrics e.g. capture rates red teams patrol schedule randomness others .74 developing capable reliable robots significant advances robotic technologies last decade leading potential impacts multiplicity applications including manufacturing logistics medicine healthcare defense national security agriculture consumer products robots historically envisioned 74 m. tambe security game theory algorithms deployed lessons learned cambridge cambridge university press u.s. coast guard worldwide applications la sheriff ’ department lax airport police many types applications may benefit game -theoretic approaches security national strategic plan 21 industrial environments recent advances involve close collabor ation robots humans robotics technologies showing promise ability complement augment enhance emulate physical capabilities however scientists need make robotic capa ble reliable easy -to-use researchers need better understand robotic perception extract variety sensors provide robots real -time situational awareness progress needed cognition reasoning allow robots better understand interact physical world improved ability adapt learn allow robots generalize skills perform self -assessment current performance learn repertoire physical movements te achers mobility manipulation areas investigation robots move across rugged uncertain terrain handle variety objects dexterously robots need learn team together seamless fashion collaborate hum ans way trustworthy predictable advancing h ardware improved commonly associated advances software performance heavily dependent hardware upon runs current renaissance deep machine directly tied progress gpu -based hardware improved memory,75 input/output clock speeds parallelism energy efficiency developing hardware optimized algorithms enab le even higher levels performance gpus one example “ neuromorphic ” processors loosely inspired organization brain and,76 cases optimized operation neural networks hardware advances also improve performance methods highly -intensive study methods turn pipelines controlled ways throughout distributed system called continued also needed allow machine algorithms efficiently learn high -velocity including distributed machine algorithms simultaneously learn mul tiple pipelines advanced achine -based feedback methods allow intelligently sample pri oritize large -scale simulations experimental instruments distributed sensor smart buildings internet things iot methods may require dynamic i/o decision -making choices made real time tore based importance significance rather simply storing frequencies creating improved hardware improved hardware lead capable also improve performance hardware.77 reciprocity lead advances hardware performance since physical limits computing require novel approaches hardware designs .78 ai-based methods could especially important improving operation high performance computing hpc consume vast quantities energy used predict hpc performance 75 gpu stands graphic processing unit power cost-efficient processor incorporating hundreds processing cores design makes especially well suited inherently parallel applications including 76 neuromorphic computing refers ability hardware learn adapt physically reconfigure taking inspiration biology neuroscience 77 m. milano l. benini `` predictive modeling job power consumption hpc '' proceedings high performance computing 31st international conference isc high performance vol 9697 springer 78 physical limits computing called dennard scaling lead high on-chip power densities phenomenon called “ dark silicon ” different parts chip need turned order limit temperatures ensure integrity national strategic plan 22 resource usage make online optimization decisions increase efficiency advanced techniques could enhance system per formance also used create selfreconfigurable hpc handle system faults th ey occur without intervention.79 improved algorithms increase performance ulti-core reducing movements processors memo ry—the primary impediment exascale computing operate 10 times faster today ’ supercomputers.80 practice configuration executions hpc never different applications executed concurrently state different software code evolving independently time algorithms need designed operate online hpc strategy 2 develop effective met hods -ai collaboration completely autonomous important application domains e.g. underwater deep space exploration application areas e.g. disaster recovery medical diagnostics effec tively addressed combination humans working together achieve application goals collaborative interaction takes advantage complementary nature humans effective approaches -ai collabora tion already exist “ point solutions ” work specific environments using specific platforms toward specific goals generating point solutions every possible application instance work thus needed go beyond point solutions toward general methods -ai collaboration tradeoffs must explored designing general work types problems requiring less effort build greater facility switc hing applications versus building large number problem -specific may work effectively problem future applications vary considerably functional role divisions humans nature f interactions humans number humans working together humans communicate share situational awareness functional role divisions humans typically fall one following categories 1. performs functions alongside perform peripheral task support decision maker example assist humans working memory short long -term memory retrieval prediction task s. 2. performs functions encounters high cognitive overload perform complex monitoring functions ground proximity warning system aircraft ecision making automated medical diagnoses humans need assistance 3. performs functions lieu perform tasks humans limited capabilities complex mathematical operations control guidance dynamic 79 a. cocaña -fernández j. ranilla l. sánchez `` energy -efficient allocation computing node slots hpc clusters parameter hybrid genetic fuzzy system modeling '' journal supercomputing 71 1163 -1174 80 exascale computing refers computing achieve least billion billion calculations per second national strategic plan 23 contested operational environme nts aspects control automated harmful toxic environments situations system respond rapidly e.g nuclear reactor control rooms achieving effective interactions humans requires additional r ensure system design lead excessive complexity undertrust overtrust familiarity humans increased training experience ensure good understandin g system ’ capabilities system address concerns certain -centered automation principles used design systems:81 1. employ intuitive user -friendly design hu man -ai system interfaces controls displays 2. keep operator informed critical states system changes states 3. keep operator trained engage current training general knowledge skills abilities ksas well training algorithms logic employed expected failure modes system 4. make automation flexible deploying considered design option operators wish dec ide whether want also important design deployment adaptive used support operators periods excessive workload fatigue .82 83 many fundamental challenges arise researchers creating work effectively humans several important challenges outlined following subsections seeking algorithms -aware years algorithms become able solve problems increasing c omplexity however gap capabilities algorithms usability humans -aware intelligent needed interact intuitively users enable seamless machine -human collaboratio ns intuitive interactions include shallow interactions user discards option recommended system model -based approaches take account users ’ past actions even deep models user intent based upon accurat e cognitive models interruption models must developed allow intelligent system interrupt necessary appropriate intelligent also ability augment cognition knowing informat ion retrieve user needs even prompted system explicitly future intelligent must able account social norms act accordingly intelligent effectively work humans possess degree emotional recognize users ’ emotions respond appropriately additional goal go beyond interactions one hum one machine toward “ -of-systems ” teams composed multiple machines interacting multiple humans -ai system interactions wide range objectives need ability represent multitude goals actions take reach goals constraints actions factors well easily adapt modifications goal s. addition humans 81 c. wickens j. g. hollands `` attention time -sharing workload '' engineering psychology performance london pearson plc 439-479 82 //www.nasa.gov/mission_pages/so fia/index.html 83 //cloud1.arc.nasa.gov/intex -na/ national strategic plan 24 must share common goals mutual understanding relevant aspects current states investigation needed generalize facets -ai develop require less engineering developing techniques augmentation much prior algorithms match outperform people performing narrow tasks additional work needed develop augment capabilities across many domains augmentation includes algorithms tha work stationary device computer wearable devices smart glasses implanted devices brain interfaces specific user environments specially tailored operating rooms example augmented awarene ss could enable medical assistant point mistake medical procedure based readings combined multiple devices could augment cognition helping user recall past experiences applicable user ’ curre nt situation another type collaboration humans involves intelligent understanding input sought domain expert performed lear ning algori thm uncertain important technique reduc e amount training needs generated first place amount needs learned also key way obtain domain expert input increase trust algorithm far used within supervised —further needed incorporate unsupervised e.g. clustering anomaly detection reinforcement learning.84 probabi listic networks allow domain knowledge included form prior probability distributions general ways allowing machine algorithms incorporate domain knowledge must sought whether form mathematical models text others developing techniques visualization -human interfaces better v isualization user interfaces additional areas need much greater help humans understand large -volume modern datasets coming variety sources visualization user interfaces must clearly present increasingly complex derived -understandable way providing real -time results important safety -critical operations may achieved increasing computational power connected ypes situations users need visualization user interfaces quickly convey correct real -time response human-ai collaboration applied wide variety environment constraints communication domains -ai communication latencies low communication rapid reliable domains e.g. nasa ’ deploy ment rovers spirit opportunity mars remote communication betwe en humans system high latency e.g. round trip times 5 -20 minutes earth mars thus requiring deployed platform operate largely autonomously high -level strategic goals communicated platform communications requirements constraints important considerations r user interfaces developing effective language processing ystems enabling people interact spoken written language long goal 84 supervised requires humans provide ground truth answers reinforcement unsupervised national strategic plan 25 researchers significant advances made considerable open challenges must addressed language processing humans communicate effectively humans much recent progress language processing credited -driven machine approaches resulted successful exa mple successfully recognize fluent english speech quiet surroundings real time achievements however first steps toward reaching longer -term goals current deal real -world challenges speech noisy surroundings heavily accented speech children ’ speech impaired speech speech sign languages language processing capable engaging real -time dialogue humans also needed need infer g oals intentions interlocutors appropriate register style rhetoric situation employ repair strategies case dialogue misunderstandings needed developing easily genera lize across different languages additionally study required acquiring useful structured domain knowledge form readily accessible language processing darpa ’ personalized assistant learns pal program created echnology apple commercialized siri computing critical every aspect modern life daily lack general flexible abilities cognition personalized assistant learns pal program,85 darpa set create cognitive assistants learn experience reason told via speech interface darpa envisioned pal technologies making efficient effective users darpa pal performers worked military operators apply pal technologies problems command control pal procedure integrated u.s. army 's command post future version battle command 10 see figure around world darpa also acutely aware commercial potential pal especially mobile applications speech -based smartphone interaction would required darpa strongly encouraged pal commercialization response darpa ’ encouragement siri inc. created commercialize pal system could assist user managing automating tasks speech -based interface april siri inc. acquired apple developed technologies make integral part –and defining feature –of apple ’ mobile operating system available iphon e ipad language processing advances many areas also needed make interactions humans natural intuitive robust computational models must built patterns spoken written language prov ide evidence emotional state affect stance determining implicit speech text language processing techniques needed grounding langua ge environmental context operate 85 //pal.sri.com pal procedure assistant learns reusable procedures observing one example national strategic plan 26 physical world robotics finally ince manner people communicate online interactions quite different voice interactions models languages used contexts must perfected social interact effectively people strategy 3 understand address ethical legal societal implications agents act autonomously expect behave according formal informal norms hold fellow humans fundamental social ordering forces law ethics therefore inform adjudge behavior dominant needs involve understanding ethical legal social implications well developing methods design ethical legal social principles privacy concerns must also taken account furt issue found national privacy strategy acceptable uses informed tenets law ethics challenge apply tenets par ticularly involving autonomy agency control illuminated `` priorities robust beneficial '' `` order build robustly behave well course need decide good behavior means application domain ethical dimension tied intimately questions engineering techniques available reliable techniques trade -offs made —all areas computer science machine broade r expertise valuable `` 86 area benefit multi disciplinary perspectives involve experts computer science social behavioral sciences ethics biomedical science psychology economics law policy investigation needed areas inside outside nitrd -relevant domain i.e. well disciplines mentioned inform r impacts society following subsections explore key challenges area improving f airness ransparency ccountability -by-design many concerns voiced susceptibility -intensive algorithms error misuse possible ramifications gender age racial economic classes proper collection regard represent n important challenge beyond purely related issues however larger questions arise design inherently fair transparent accountable researchers must learn design actions decision -making transparent easily interpretable humans thus examined bi may contain rather repeating biases serious intellectual issues represent “ encode ” value belief scientists must also study extent justice fairness considerations designed system accomplish within bounds current engineering techniques 86 “ open letter priorities robust beneficial ” future life institute //futureoflife.org/ ai-open -letter/ national strategic plan 27 building e thical beyond fundamental assumptions justice fairness concerns whether exhibit behavior bides general ethical principles might advances frame “ machine -relevant ” questions ethics uses might considered unethical ethics inherently philosophical question depends limited b engineering within limits technologically feasible therefore researchers must strive develop algorithms architectures verifiably consistent conform existing laws social norms ethics —clearly challenging task ethical principles typically stated varying degrees vagueness hard precise system algorithm design also complications particularly kinds autonomous decisio n-making algorithms face moral dilemmas based independent possibly conflicting value ethical issues vary according culture reli gion beliefs however acceptable ethics reference framework developed guide system reaso ning decision -making order explain conclusions actions multi -disciplinary approach needed generate datasets training reflect appropriate value system including examples indicate preferred behavior w hen presented difficult moral issue conflicting values examples include legal ethical “ corner cases ” labeled outcome judgment transparent user.87 needs adequate methods values -based conflict resolu tion system incorporates principles address realities complex situations strict rules impracticable designing rchitecture e thical additional progress fundamental must made determine best design architectures incorporate ethical reasoning variety approaches suggested two -tier monitor architecture separates operational monitor agent responsible ethical legal assessment operational action.87 alternative view safety engineering preferred precise conceptual framework agent architecture used ensure behavior safe harmful humans.88 third method formulate ethical architecture using set theoretic principles combined logical constraints system behavior restrict action conform ethical doctrine.89 become general ar chitectures likely include subsystems take ethical issues multiple levels judgment including :90 rapid response pattern matching rules deliberative reasoning fo r slower responses describing justifying actions social signaling indicate trustworthiness user social processes operate even longer time scales enable system abide cultural norms researchers need best address overall design ethical legal societal goals strategy 4 ensure safety security system put widespread assurance needed system operate safely securely controlled manner needed address challenge creating 87 a. etzione o. etzioni “ designing obey laws values ” comm unications acm 59 9 :29 -31 88 r. y. yampolsky “ safety engineering machine ethics wrong approach ” philosophy theory edited v.c muller heidelberg springer verlag 389-396 89 r. c. arkin “ governing legal behavior embedding ethics hybrid deliberative/reactive robot architecture ” georgia institute technical report git-gvu -07-11 90 b. kuipers “ -like morality ethics robots ” aaai -16 workshop ethics society 2016. national strategic plan 28 reliable dependable trustworth y. complex face important safety security challenges due 91 \\uf0b7 complex uncertain environments many cases designed operate complex environments large number potential states exhaustively examined tested system may confront conditions never considered design \\uf0b7 emergent behavior learn deployment system 's behavior may determined largely periods learni ng unsupervised conditions conditions may difficult predict system ’ behavior \\uf0b7 goal misspecification due difficulty translating goals computer instructions goals programmed system may match goals intended programmer \\uf0b7 -machine interactions many cases performance system substantially affected interactions cases variation response may affect safety system 92 address issues others additional investments needed advance safety security ,93 including explainability transparency trust verification validation security attacks long -term safety value -alignment improving e xplainability transparency key challenge increasing “ explainability ” “ transparency ” many algorithms including based deep opaque rs existing mechanisms explaining results especially problematic domains healthcare doctors need explanations particular diagnosis course treatment techniques decision -tree duction provide built -in explanation generally less accurate thus ers must develop transparent intrinsically capable explaining reasons results users building rust achieve trust system designers need create accurate reliable informative user friendly interfaces operators must take time adequ ate training understand system operation limits performance complex widely trusted b users manual controls vehicles tend transparent system operates manner user credible system ’ outputs accepted user auditable system evaluated reliable system act user intended recoverable user recover control desired significant challenge current future remains inconsistent quality 91 j. bornstein “ dod autonomy roadmap – autonomy community interest ” presentation ndia 16th annual science engineering conference march 92 j. m. bradshaw r. r. hoffman m. johnson d. d. woods “ seven deadly myths autonomous '' ieee intelligent 28 3 54 -61 93 see instance d. odei c. olah j. steinhardt p. christiano j. schulman d. mane `` concrete problems safety '' arxiv 1606.06565v2 s. russell d. dewey m. tegmark `` priorities robu st beneficial '' arxiv 1602.03506 t. g. dietterich e. j. horvitz `` rise concerns reflections directions '' communications acm vol 58 10 k. s. r. yampolsky 19 december `` responses catastrophic agi risk survey '' physica scripta 90 1 national strategic plan 29 software production advances bring greater linkages h umans challenge area trust keep pace changing increasing capabilities anticipate technological advances adoption long -term establish governing principles policies study best pract ices design construction including proper operator training safe operation enhancing v erification validation methods needed v erification validation “ verification ” establishes system meets formal specifications “ validation ” establishes system meets user ’ operational needs safe may require means assessment determining system malfunctioning perhaps operating outside expected parameters diagnosis determining causes malfunction repair adjusting system address malfunction operating autonomously extended periods time system designers may considered every condition system encounter may need possess capabilities self assessment self -diagnosis self -repair order robust reliable nasa ames predicting failures happen nasa mes developed -driven anomaly detection method called inductive monitoring system ims inadequacies model -based methods anomaly detection since deployed system health monitoring ap plications within nasa including monitoring space shuttle international space station iss well non -nasa applications comprehensive engineering management solutions cemsol licensed ims enhanced teamed nasa ames lockheed martin test integrated system health monitoring system lockheed c -130 hercules military transport plane lockheed martin invested 70,000 test recovered 10 times amount almost immediately reduced maintenance costs mission delays .94 securi ng attacks embedded critical must robust order handle accidents also secure wide range intentional cyber attacks security engineering involves understanding vulnerabilities system actions actors may interested attacking 94 “ system health monitor predicts failures happen ” spinoff national aeronautics space administration nasa //spinoff.nasa.gov/spinoff2016/it_1.html c-130 hercules military transport plane predictive software used anticipate failures valve used switch air flow engines test launch orion crew vehicle ims used monitor electrical national strategic plan 30 cybersecurity r needs addressed greater detail nitrd cybersecurity r strategic plan cybersecurity risks specific example one key area “ adversarial machine ” explores degree compromised “ cont aminating ” training modifying algorithms making subtle changes object prevent correctly identified e.g. prosthetics spoof facial recognition implementation cybersecurity quire high degree autonomy also area study one recent example work area darpa ’ cyber grand challenge involved agents autonomously analyzing countering cyber attacks.95 achieving l ong-term safety valu e-alignment may eventually become capable “ recursive self -improvement ” substantial software modifications made software rather programmers ensure safety self -modifying additional called develop self -monitoring architectures check behavioral consistency original goals designers confinement strategies preventing release evaluated value values goals intentions users inferred system value frameworks provably resistant self -modification strategy 5 develop shared datasets environments training testing benefits continue accrue extent training testing resources developed made available variety depth quality accuracy training datasets resources significantly affects performa nce many dif ferent technologies require high -quality training testing well dynamic interactive testbeds simulation environments technical question significant “ good ” challenge progress wo uld suffer training testing limited entities already hold valuable datasets resources yet must simultaneously respect commercial individual interests needed develop high -quality datasets environments wide variety applications enable responsible access good datasets testing training resources additional open -source software libraries toolkits also needed accelerate advancem ent r following subsections key areas importance developing making accessible wide variety datasets meet needs diverse spectrum interests applications integrity availability traini ng testing datasets crucial ensuring scientifically reliable results technical well socio -technical infrastructure necessary support reproducible area recognized important challenge —and essential technologies well lack vetted openly available datasets identified provenance enable reproducibility critical factor confident advancement ai.96 -intensive sciences capturing provenance critical researchers must able reproduce results well different datasets datasets must representative challenging real -world applications simp lified versions make progress quickly emphasis placed 95 //cgc.darpa.mil 96 toward end advanced projects activity iarpa issued request novel training datasets environments advance see //www.iarpa.gov/index.php/working -with iarpa/requests -for-information/novel -training -datasets -and-environments -to-advance -artificial -intelligence national strategic plan 31 making available already existing datasets held government de veloped federal funding extent possible held industry machine learn ing aspect challenge often linked “ big ” analysis considering wide variety relevant datasets remains growing challenge appropriate representation access analysis unstructured semi -structured represented —in well context -dependent terms c urrent real -world databases highly susceptible inconsistent incomplete noisy therefore number preprocessing techniques e.g. cle aning integration transformation reduction representation important establishing useful datasets applications preprocessing impact quality especially additional analysis performed encouraging sha ring datasets —especially government -funded —would likely stimulate innovative approaches solutions however technologies neede ens ure safe sharing since owners take risk sharing search community dataset sharing must also follow applicable laws regulations carried ethical manner risks arise various ways inappropriate datasets inaccurate inappropriate disclosure limitations de -identification techniques ensure privacy confidentiality protections making training testing resources responsive commercial interest continuing explosion sources te chnology worldwide number datasets increasing techniques technologies analyze keeping high volume raw sources capture curation analysis visualization key res earch challenges science needed extract valuabl e knowledge enormous amounts lagging behind repositories exist often unable deal scaling datasets limited provenance support semantically rich searches dynamic agile repositories needed one example kind open/sharing infrastructure program needed support needs impact program marketplace policy analysis cyber -risk trust developed department homeland security hs .97 program supports global cyber security risk effort coordinating developing real -world informa tion sharing capabilities including tools models methodologies impact also supports empirical sharing international cybersecurity r community critical infrastructure providers government supporters r would benef comparable programs across application s. developing open -source software libraries toolkits increased availability open -source software libraries toolkits provides access cutting -edge technologies developer internet connection resources weka toolkit ,98 mallet ,99 opennlp ,100 among many others accelerated application tools including free low -cost code repository version control well free low -cost languages e.g. r octave python provide low barriers using 97 //www.dhs.gov/csd -impact 98 //sourceforge.net/projects/weka/ 99 //mallet.cs.umass.edu 100 //opennlp.apache.org national strategic plan 32 extending libraries addition may want integrate libraries directly number cloud -based machine services exist perform tasks image classification demand low -latency web protocols require little programming fin ally many web services also offer specialized hardware including gpu -based reasonable assume specialized hardware algorithms including neuromorphic processors also become widely available hese services together resources provide infrastructure encourages marketplace innovation allowing entrepreneurs develop solutions solve narrow domain problems without requiring expensive hardware software requiring high level expertise permitting rapid scaling -up demand narrow domains barriers marketplace innovation extremely low many areas help support continued high level innovation area u.s. government boost efforts support open technologies particularly beneficial would open resources standardized open formats open standards representing semantic including domain ontologies available government may also encourage greater adoption open resources accelerating open technologies within government thus help maintain low barrier entry innovators whenever possible government contribute algorithms software open source projects government specific concerns greater emphasis privacy security may b e necessary government develop mechanisms ease government adoption example may useful create task force perform “ horizon scan ” across government agencies find particular application areas within departments determine specific concerns would need addressed permit adoption techniques agencies strategy 6 measure evaluate technologies standards benchmarks standards benchmarks testbeds nd adoption community essential guiding promoting r technologies following subsections areas additional progress must made developing broad spectrum standards standards must hastened keep pace rapidly evolving capabilities expanding domains applications standards provide requirements specifications guidelines characteristics used consistently ensu technologies meet critical objectives functionality interoperability perform reliably safely adoption standards brings credibility advancements facilitates expanded interoperable marketplace one example -relevant standard developed p1872 -2015 standard ontologi es robotics automation developed institute electric al electronics engineers ieee standard provides systematic way representin g knowledge common set terms definitions allow unambiguous knowledge transfer among humans robots well provide foundational basis application technologies robotics additional work standards needed across subdomains national strategic plan 33 standards needed address \\uf0b7 software engineering manage system complexity sustainment security monitor control emergent behaviors \\uf0b7 performance ensure accuracy reliability robustness accessibility scalability \\uf0b7 metrics quantify factors impacting performance compliance standards \\uf0b7 safety evaluate risk management hazard analysis computer interactions contr ol regulatory compliance \\uf0b7 usability ensure interfaces controls effective efficient intuitive \\uf0b7 interoperability define interchangeable components transaction models via standard compatible interfaces \\uf0b7 security address confidentiality integrity availability well cybersecurity \\uf0b7 privacy control protection processed transit stored \\uf0b7 traceability provide record events implementation testing completion curation \\uf0b7 domains define domain -specific standard lexicon corresponding frameworks establishing benchmarks benchmarks made tests evaluations provide quantitative measures developing standards assessing compliance standards benchmarks drive innovation promoting advancements aimed address ing strategically selected scenarios additionally provide objective track evolution science technologies effectively evaluate technologies relevant effective testing methodologies metrics must developed standardized standard testing methods prescribe prot ocols procedures assessing comparing managing performance technologies standard metrics needed define quantifiable measures order characterize technologies including limited accuracy complexity trust competency risk uncertainty explainability unintended bias comparison performance economic impact important note benchmarks driven strategy 5 discusses importance datasets training testing successful example -relevant benchmarks national institute standards nist developed comprehensive set standard test methods associated performance metrics assess key capabilities emergency response robots objective facilitate quantitative comparisons different robot models making statistically significant robot capabilities captured using standard test methods comparisons guide purchasing decisions help developers understand deployment capabilities resulting test methods standardized though astm international standards committee homeland security applications robotic perati onal equipment referred standard e54.08.01 versions test methods used challenge community robocup rescue robot league competitions ,101 emphasize autonomous capabilities another example ieee agile robotics industrial automation competition ariac ,102 joint effort ieee nist 101 //www.robocup2016.org/en/ 102 //robotagility.wixsite.com/competition national strategic plan 34 promot es robot agility utilizing latest advances robot planning core competition test agil ity industrial robot goal enabling shop floors productive autonomous requiring less time shop floor workers efforts provide strong foundation dr iving benchmarking forward limited domain -specific additional standards testbeds benchmark needed across broader range domains ensure solutions broadly applicable widely adopted increasing availability testbed mportance testbeds stated cyber experimentation future report :103 “ testbeds essential researchers actual operational model run experiments real world system … scenarios good test environments ” adequate testbeds need across areas government massive amounts mission -sensitive unique government much distributed outside community appropriate programs could established academic industrial researchers conduct within secured curated testbed environments established specific agencies models experimental methods could shared validated community access test environments affording scientists engineers students unique opportunities otherwise available engaging community standards benchmarks government leadership coordination needed drive standa rdization encourage widespread government academia industry community –made users industry academia government —must energized participate developing standards benchmark programs government agen cy engages community different ways based role mission community interactions leveraged coordination order strengthen impact c oordinat ion needed collectively gather user -driven requirements antic ipate developer -driven standards promote educational opportunities user -driven requirements shape objectives design challenge problems enable evaluation community benchmarks focuses r define progress close gaps drive innovative solutions specific problems benchmarks must include methods defining assigning ground truth creation benchmark simulation analysis tools also accelerate developments results benchm arks also help match user ’ need forming objective criteria standards compliance qualified product lists potential source selection industry academia primary sources emerging technologies promoti ng coordinating participation standards benchmarking activities critical solutions emerge opportunities abound anticipating developer user -driven standards sharing common visions technical architectures devel oping reference implementations emerging standards show feasibility conducting pre -competitive testing ensure high -quality interoperable solutions well develop best practices applications one successful example high -impact community -based -relevant benchmark program text retrieval conference trec ,104 started nist provide infrastructure necessary large -scale evaluation retrieval methodologies 250 groups participated trec including academic commercial organizations large small standard widely available carefully constructed set put forth trec credited 103 sri international usc sciences institute “ cybersecurity experime ntation future cef catalyzing generation experimental cybersecurity ” final report july 31 104 //trec.nist.gov national strategic plan 35 revitalizing informa tion retrieval .105 106 second example nist periodic benchmark program area machine vision applied biometrics ,107 particularly face recognition.108 began face recognition feret evaluation provided tandard dataset face photos designed support face recognition algorithm well evaluation protocol effort evolved years face recognition vendor test frvt ,109 involving th e distribution datasets hosti ng challenge problems conducting sequestered evaluations benchmark program contributed gr eatly improvement facial recognition trec frvt serve examples effective ai-relevant community benchmarking activities similar efforts needed areas important note developing adopting standards well participating benchmark activities comes cost r organizations incentivized see significant benefit updating acquisition processes across agencies include specific requirements standards requests proposals encourage community engage standards adoption community -based bench marks trec frvt also lower barriers strengthen incentives providing types training testing otherwise inaccessible fostering healthy competition developers drive best -of-breed algorithms providing objective comparative performance metrics relevant source selections strategy 7 better understand national r workforce needs attaining needed r advances outlined strategy require sufficient r workforce nations strongest presence r establish leading positions automation future become frontrunners competencies like algorithm creation capability demonstration commercial ization developing technical expertise provide basis advancements official workforce currently exist numerous recent reports commercial academic sectors indicating increased shortage available experts experts reportedly short supply ,110 demand expected continue escalate .66 high tech companies reportedly investing significan resources recruiting faculty members students expertise .111 universities industries reportedly battle recruit retain talent .112 additional studies needed better understand current future national workfor ce needs r needed characterize current state r workforce including needs academia government industry studies explore supply demand forces workplace help predict future workforce needs understanding needed projected r workforce pipeline considerations educational pathways potential retraining opportunities included diversity issues also explored since studies shown th diverse 105 e. m. voorhees d. k. harman trec experiment evaluation retrieval cambridge mit press 106 //googleblog.blogspot.com/2008/03/why -data -matters.html 107 //biometr ics.nist.gov 108 //face.nist.gov 109 p. j. phillips “ improving face recognition ” computer 44 3 84-96 110 “ startups aim exploit deep -learning skills gap ” mit review january 6 111 “ experts high demand ” wall street journal may 1 112 “ million dollar babies silicon valley fights talent universities struggle hold stars ” economist april 2 2016. national strategic plan 36 workforce lead improved outcomes .113 current future r workforce needs better understood appropriate plans actions considered address existing anticipated workforce challenges 113 j. w. moody c. m. beise a. b. woszczynski m. e. myers `` diversity workforce barriers opportunities '' journal computer 43 63-71. national strategic plan 37 recommendations federal government entirety support seven strategic priorities plan achieve vision supporting following recommendations recommendation 1 develop r implementation framework identify opportunities support effective coordinat ion r investments consistent strategies 1 -6 plan federal agencies collaborate nitrd develop r implementation framework facilitates coordination progress r challenges outlined plan enable agencies easily plan coordinate collaborate support strategic plan implementation framework take account r priorities agency bas ed missions capabilities authorities budget based implementation framework funding programs may need established coordinated execution national agenda help implement strategic plan nitrd hould consider forming interagency working group focused coordination existing working groups recommendation 2 study national landscape creating sustaining healthy r workforce consistent strategy 7 plan healthy vibrant r workforce important addressing r strategic challenges outlined report reports indicated potential growing shortage r experts official workforce exists characterize current state r workforce projected workforce pipeline supply demand forces workforce given role r workforce address ing strategic priorities identified plan better understanding needed attaining and/or maintainin g healthy r workforce nitrd study best characterize define current future r workforce needs develop ing additional studies recommendations ensure sufficient r workforce address needs nation indicated outcome studies appropriate federal organizations take steps ensure healthy national r workforce created maintained national strategic plan 38 page intentionally lef blank national strategic plan 39 acronyms \\u202c\\u202c\\u202c\\u202c\\u202c\\u202c\\u202c\\u202c\\u202c\\u202c\\u202c\\u202c\\u202c\\u202c\\u202c\\u202c\\u202c\\u202c\\u202c\\u202c\\u202c\\u202c\\u202c\\u202c\\u202c\\u202c\\u202c\\u202c\\u202c\\u202c\\u202c\\u202c\\u202c\\u202c\\u202c\\u202c\\u202c\\u202c\\u202c\\u202c\\u202c\\u202c\\u202c\\u202c\\u202c\\u202c\\u202c\\u202c\\u202c\\u202c\\u202c\\u202c\\u202c\\u202c\\u202c\\u202c\\u202c\\u202c\\u202c\\u202c\\u202c\\u202c\\u202c\\u202c\\u202c\\u202c\\u202c\\u202c\\u202c\\u202c\\u202c\\u202c\\u202c\\u202c\\u202c\\u202c\\u202c\\u202c\\u202c\\u202c\\u202c\\u202c\\u202c\\u202c\\u202c\\u202c\\u202c\\u202c\\u202c\\u202c\\u202c\\u202c\\u202c\\u202c\\u202c\\u202c\\u202c\\u202c\\u202c\\u202c 3-d three dimensional anns neural networks ariac agile robotics industrial automation competit ion armor assistant randomized monitoring routes astm american society international association testing materials atm automated teller machine brain brain advance innovative neurotechnologies cemsol comprehensive engineering management solutions competes america creating opportunities meaningfully promote excellence education science cot committee darpa defense advanced projects agency dhs department homeland security dod department defense doe department energy dot department transportation feret face recognition frvt face recognition vendor test gps global positioning system gpu graphics processing unit hpc high performance computing i/o input/output ibm international business machines corporation ieee institute electrical electronics engineers impact marketplace policy analysis cyber -risk trust ims inductive monitoring system iot internet things iris intelligent randomization international scheduling iss international space station ksa knowledge skills abilities lax los angeles world airports mallet machine language toolkit nasa national aeronautics space administration nco national coordination office nitrd nih national institutes health nist national institute standards nitrd networking nlp natural language processing nrl naval laboratory nsf national science foundation national strategic plan 40 nstc national science council omb office management budget ostp office science policy pal personalized assistant learns protect port resilience operational tactical enforcement combat terrorism r rfi request science stem science engineering mathematics trec text retrieval conference u.s. united states america\",\n",
       " 'humans keep upper hand ethical matters raised algorithms report debate led french protection authority cnil part ethical discussion assignment set republic bill december humans keep upper hand ethical matters raised algorithms december december 2017how humans keep upper hand ethical matters raised algorithms report debate led french protection authority cnil part ethical discussion assignment set republic bill report written victor demiaux contributions yacine si abdallah hhow humans keep upper hand ethical matters raised algorithms foreword2 hopes fears sparked today raised mythological status many imaginaries narratives foresee massive destruction jobs apocalyptic emergence hostile robotic consciousness downfall europe called get overwhelmed global competition others meanwhile pinned dream tailor-made world golden age every thankless repetitive task would delegated machines eden infallible tools would put end illness crime perhaps even political conflict short evil would become thing past myriad guises turn fascinating alarming bright gloomy arguably says fantasies fears future world look like appeal type eschatological rhetoric europe shows extent allows visions future generates power look ahead sometimes lacking political visions deflating hype surrounding one thing mean unaware many upheavals challenges addressed unprecedented tools assistants invade every corner lives safeguarding autonomy decision-making processes face machines sometimes considered infallible detecting discrimination generated unintentionally scalable protecting collective processes instances undermined sheer power personalisation ... challenges multiple implications already tangible prompting questions major social pacts community life founded priority authorities clearly identify challenges suitable solutions may found build technological innovation well-defined vision future idea behind assignment reflect ethical issues raised technologies republic bill set french protection authority cnil 2016. assignment understood undertaken many people pondered even questioned responsibility cnil ethics grasped stated regard highly complex changeable subjects capacity according approach seeking think fundamental principles underpinning life humans societies thus shaping shared social pact complex matter given time ethics eminently collective plural concept specific field health life sciences composition well collegiality principle governing work french governmental advisory council bioethics issues ccne meet need plurality custodian ethical principles set lawmaker forty years ago cnil legitimate lead ethical discussion time technical possibilities raising challenges calling status quo question foreword hhow humans keep upper hand ethical matters raised algorithms foreword 3 isabelle falque-pierrotin chair cnilhowever cnil could lay claim sort monopoly ethical discussions vast cross-cutting subject account held behind closed doors sector could entrusted select ethics committee members – however competent may innovate mindset cnil set collective approach motion several months overseeing debate help partners various sectorial fields health justice ... respect ethics much process outcome thus decided take starting point uses existing questions possible solutions outlined participants debate report recommendations contains written basis comments viewpoints voiced forty events held paris across rest france innovative action also required accommodate need involve general closely discussion since complex world modelling existence ever greater extent entails fundamental societal choices world called citizens included play increasing part cnil therefore organised consultation day montpellier 14 october forty volunteers able add voices polyphony debate first benefit inclusive decentralised approach opened debate widely possible thus helping enhance french society ’ knowledge questions raised algorithms appears crucial since limiting debate expert circles would risk arousing mistrust suspicion particularly regarding increasing complexity fragmentation sociotechnical always clearly foreseeable impacts constantly evolving artefacts enabling fellow citizens become informed critical users technologies utmost importance ethically democratically pragmatically speaking cnil also way continuing assist familiarising french society mission accomplishing 40 years time france setting regarding europe due thing shortly report following several months debate helping lay groundwork collective thought process provides overview issues outlines certain number principles recommendations common enable humans “ keep upper hand ” amid broad-scale digitisation may seem somewhat step reality yet believe precisely firmly focusing joint attention making sure tools designed humans serve humans mindset transparency accountability may discussions fuel way within authorities including villani mission ’ well within various sections civil society way may help shape french model ethical governance humans keep upper hand ethical matters raised algorithms contents4 executive summary innovative approach crafting collective pluralist ethical thought processkey dates glancekey figures glance algorithms today precise definition required clarify debatealgorithms central feature computer science long historyfrom algorithms intelligencesteer discussions towards crucial impacts applications algorithms todayuse promise across sectors ethical issues ethics prefiguration legal standardsautonomous machines threat free responsibilitybias discrimination exclusionalgorithmic profiling personalisation versus collective benefitspreventing massive files enhancing seeking balance quality quantity relevance challenges curated identity challenge respond ethical thinking algorithmic regulationwhat law already says algorithms intelligencethe limits current legal frameworkshould algorithms banned certain sectors two founding principles algorithms fairness continued attention vigilanceengineering principles intelligibility accountability interventionfrom principles policy recommendationsconclusionacknowledgementslist events organised debateglossary57 1011 13 141516 19 21 23 24263134383941 43 4445464748 51 5361626366contents humans keep upper hand ethical matters raised algorithms executive summary 5 report result debate organised french protection authority cnil january october 60 partners associations businesses government departments trade unions etc held 45 events across france view identifying ethical concerns raised algorithms well possible solutions addressing part one report provides pragmatic definition algorithms presents main uses – particular emphasis limelight today traditional ly algorithm defined finite unambiguous sequence instructions producing results output initial input definition covers mul-tiple applications using programs algorithms computer lan guage fulfil diverse functions yielding results web search engine providing medical diagnosis driving car b detecting fraud suspects among social welfare recipients etc contemporary de bate mainly refers class algorithms configured basis machine techniques instructions carried longer explicitly programmed developer instead generated machine “ learns ” input machine al-gorithms perform tasks traditional algorithms incapable picking particular object vast image datasets example un derlying logic remains incomprehensible mystery even wrote debate highlighted 6 main ethical issues • growing autonomy technical artefacts paving way ever complex critical decisions tasks delegated ma-chines conditions whilst may well increasing capacity act also posing threat autonomy free prestige trust placed machines often assumed “ neutral ” fail-proof tempt us hand machines burden responsibility judgment deci sion-making tackle ways complex highly segmented algorithmic might end watering responsibilities • algorithms create bias discrimination even exclusion although phenomena intentional far pressing matter time machine algorithms upon us without us even knowing challenge addressed • ecosystem grown inter net actuarial techniques largely tapped possibilities offered algorithms terms personalisation individuals gained great deal profiling ever finer segmentation mindset personalisation also likely affect individuals also key collective prin ciples forming bedrock societies democra tic cultural pluralism risk-sharing realm insurance • grounded machine techniques ar-tificial requires vast amounts yet aware risks creation massive files poses personal free doms protection legislation therefore advocates approach collection retention personal minimised pro-mise held rethink balance • choice much used algorithmic model thus existence potential bias datasets curated train algorithms paramount importance matter calls us critical attitude avoid placing excessive trust machines • involves increasing autonomy machines emergence forms hybridisation hu mans machines hybridisation terms ac tion assisted recommendation likely physical terms future challenges tion uniqueness indeed possible even speak literal terms “ ethics algorithms ” view class objects humanoid robots likely arouse emotional responses attachment humans part three report considers possible res-ponses outlined debate.it looks firstly principles likely frame benefits empowers humans two foun ding principles come light first substantial one principle fairness builds principle initially proposed french executive summary humans keep upper hand ethical matters raised algorithms executive summary6 council state platforms fair also consi ders collective outcomes meaning algorithmic tool betray community users might consumers citizens whether processes personal second methodical principle conti nued attention vigilance seeks address time challenge posed unstable unpredic table nature machine algorithms well provide answer forms indifference ne gligence watering responsibility highly segmented give rise lastly aimed taking board offsetting form co gnitive bias leads us placing excessive trust prescriptive statements algorithms point organise specific measures procedures ongoing methodical deliberative productive thinking process machines involve stakeholders throughout “ algorithmic chain ” designer train algorithms end users principles appear underpin regula tion complex assistants tools algorithms represent allow also oversight community rounded discussion two en gineering principles particularly relevant comes one aimed rethinking requirement intervention algorithmic decision-making article 10 french protection act organising intelligibility accountability algo rithmic principles set form 6 prac tical policy recommendations intended authorities well general businesses associations example • fostering education players involved “ algo rithmic chain “ designers professionals citizens subject ethics • making algorithmic understandable stren gthening existing organising mediation users • improving design algorithmic in-terests freedom • setting national platform auditing algorithms • increasing incentives ethical launching participatory national worthy cause general interest project • strengthening ethics within businesses 7 national debate ethical matters raised algorithms republic bill gave french protection authority cnil assignment leading dis-cussions ethical societal matters raised rapid technologies cnil decided discussions algorithms age un-beknownst us increasingly creeping every corner lives web search engine results financial orders placed robots markets au tomated medical diagnoses allocation students ap plying universities across areas algorithms work subject algorithms rushed unprecedented manner debate scene garnering widespread media coverage questions algorithm university admissions online portal “ admission post-bac ” trump ’ election campaign strategy role social media spread fake news .ethical thinking concerns decisive societal choices proceed without taking pluralist col lective dimension account – especially deals cross-cutting issue bearing aspects social personal lives would simply feasible bring together within single committee expertise perspectives necessary exami-ning matters raised algorithms sectors varied healthcare education marketing culture defence security example rather holding centralised discussions subjects directly cnil decided adopt original stance leader open decentralised natio nal debate launch organised 23 janua ry thus called interested stakeholders organisations – institutions civil society bu sinesses – host debate event subject would report back cnil aim therefore gather stakeholders ground ethical subjects identified date well ideas addressing sixty partners came forward response appeal launched cnil harking different sectors representing variety setups among could mention “ ligue de l ’ enseignement ” associa tion focused education concerns french insu rance federation ffa french ministry culture dg-mic open law association reflects justice system well trade unions cfe-cfc fo cadres recruitment hr etc.an innovative approach crafting collective pluralist ethical thought process ethical thinking concerns decisive societal choices proceed without taking pluralist collective dimension accounthow humans keep upper hand ethical matters raised algorithms innovative approach crafting collective pluralist ethical thought process humans keep upper hand ethical matters raised algorithms innovative approach crafting collective pluralist ethical thought process8 organised 45 events march october across several french cities well abroad future society harvard kennedy school 3,000 people took part cnil provided overall coherent coordination events events organised debate also opportunity get french society large thinking issues awareness among contemporaries among experts utmost democratic civic importance consultation montpellier 14 october questions raised algorithms intel ligence societal choices implications citizens consultation therefore organised find general think aim round views gathe red various events mainly experts different sectors.a consultation day therefore scheduled 14 octo ber support city montpellier montpellier méditerranée métropole diverse 37-strong citizen panel formed following call applications format adopted sought encourage sharing ideas formation collective opinion procedure enabled participants turn • understand basic concepts behind algorithms • jointly analyse four case studies medicine health care resources personalisation filter bubbles education transparency identify threats opportunities associated using algo rithms • come recommendations ensure algo rithms deployed within ethical framework assess level consensus reached outcomes insights gained presented insets headed “ think ” humans keep upper hand ethical matters raised algorithms innovative approach crafting collective pluralist ethical thought process 9 questions raised algorithms societal choices implications citizens structure report overviews reporting back events organised partners consultation made cnil views diverse stakeholders trade unions associations businesses researchers citizens etc across wide range sectors insurance education justice healthcare thus informed writing report provides overview ethical matters raised algorithms intel ligence current applications potential uses relatively short term well leading debate cnil also responsible reporting back regard decide structure report inevitably entailed making certain choices precedence given providing full fair account different views expressed ex-plains recommendations set end report intended settle debate much leave open certain number options proposals may take form requirements incentives exa mple arbitration thus required aim therefore inform decision-making rather replace cnil also relied documentary draw report often initiated recommendation particular partner articles publications referred cited footnotes reference could also made pages cnil ’ website dedicated ethi cal debate find select bibliographic facts 1. last ly findings certain number studies already carried various institutions france abroad analyzed including opecst french par-liamentary office scientific technological assessment cerna allistene ’ committee ethics cnnum french council french council state cge general economic council white house “ france ia ” inria french institute computer science automation 1 //www.cnil.fr/fr/ethique-et-numerique-les-algorithmes-en-debat-1 humans keep upper hand ethical matters raised algorithms key dates glance 10 “ republic ” bill gives cnil assignment leading discussion ethical societal issues raised cnil names algorithms theme launches round tables bringing together experts subjects first events held partners debate 45 events hosted 60 partners debate cnil organises consultation montpellier 40 citizens cnil presents report “ humans keep upper hand ethical matters raised algorithms ” summarises debate key dates glance 7 october 23 january end march début octobre 14 october 15 december 2017key figures glance 27 paris 14 french regions 4 overseas60 partners 1 consultation day general public45 events 327 221 1 1 1bordeauxcaenparis lille ly n marseille ax-les-termes montpellierpeople attended events nearl y3 000how humans keep upper hand ethical matters raised algorithms key figures glance 11 key dates glance toulouse3key figures glance humans keep upper hand ethical matters raised algorithms algorithms today algorithms today precise definition required clarify debate p .14 algorithms central feature computer science long history p .15 algorithms p .16 steer discussions towards crucial impacts applications algorithms today p .19 uses promises across sectors p .2113 14 precise definition required clarify debate algorithms buzzwords moment – everyone mean definitions examples currently provided debate often fairly vague – even conflicting times situation explained highly tech nical nature subjects however became topics discussion far beyond circles experts specialists traditionally confined hence actually notice lack sort precision terms used indeed austere notion “ ” defined cybernetic cir cles 1950s mainstream understanding term primarily depicted movies hollywood common incidentally pays attention fact “ ” mean thing french english – language expression “ ” invented make sense fact saying algorithms others busy insisting humans using thousands years beyond realities technical projects sup posed denote algorithms come represent mythologies time mere mention enough imply innovation modernity hardly surprising terms often mistakenly associated situations panies eager project appealing futuristic image presenting one ’ business coming within realm many stakeholders today tactic enhance image used years ago expression “ big ” whatever fact matter pro mise held less explicit bone contention researchers entrepreneurs opinion leaders kinds within realm technologies another type confusion return later seems times fuelled stakeholders whose business generally acknowledged coming within sphere latter would appear bent hugely overestimating much opportu nities threats could end gaining complete autonomy designer whole humanity imperilled competent voices rising stamp predic tions compared best fantasies worst lies stances seem divert attention mundane albeit pressing issues raised growing avoiding discrimination protecting personal down-to-earth matters.algorithms todayhow humans keep upper hand ethical matters raised algorithms algorithms today key setting constructive discussion subjects algorithms clearly specify link two subjects 15 algorithms central feature computer science long history strict sense term algorithm des cription finite unambiguous sequence steps instructions producing results output initial input recipe algorithm example dish made ingredients2 records algorithms used solve equations dating back centuries early 3rd millennium bc babylon mesopotamia increasingly digitalised world computer algorithms make possible combine diverse pieces produce wide variety results simu lating changing spread flu winter recommending books customers based choices already made customers comparing images faces fingerprints autonomously operating vehicles space probes etc computer able run algorithm must written computer language coded program sort text comprising written instructions also known “ source code ” program run software compiled form application software generally makes number algorithms inputting computing displaying results communicating software programs etc.algorithms subject poorly grasped french citizens awareness algorithms france fair amount confusion 83 population may already heard half exactly sure 52 85 french people reckon massive part everyday life 65 believe trend set rise years come poll carried french market opinion poll institute ifop cnil january among sample 1,001 people representative french population aged 18 years old level awareness algorithms among french population.survey 83 french people already heard algorithms 2 voir par exemple //www.cnrtl.fr/definition/algorithmehow humans keep upper hand ethical matters raised algorithms algorithms today let us start definition sub jects may appear questionable depending point view interests report looking minimum operational basis discussion prerequisite pragmatically scope algo -rithms raising crucial ethical societal issues words point put forward precise definition pos sible takes account reasons care today makes worthy attention 3 set machine methods attempt model high-level abstractions using structured architectures different nonlinear transformations adopts similar approach functioning neurons hence often hear talk “ neural networks ” 4 credit scoring algorithm apply technique customers ’ loans ’ known characteristics input customers repaid loan indicated algorithm able provide score risk future customers may repay loan 5 algorithm detecting fraud typologies employ technique algorithm given bearing demonstrated fraud able infer similarities produce fraud typologies unsupervised also harnessed identify word sequences different speakers waveband radio programme.from algorithms notions whose changes quite much “ ” today report decision made pragmatically actual uses already made precisely developed swiftly recent years step progress accomplished machine broadly speaking defined “ science making machines things would require done men ” marvin minsky notion officially came 1956 dartmouth conference among cybernetic circles still alain turing ’ article published 1950 computing machinery might considered star ting point latter asked question “ machines think ” researchers emerging field aspired create general – similar one humans – could embedded computers latter would extend far beyond limited number fields tasks progress course history since 1950s continuous begin researchers obliged turn attentions away objective developing general intelli gence strong towards specific tasks solving problems image recognition natural language unders tanding playing games draughts chess go exa mple referred “ weak ” focused one narrow task even look solely form history area applications plain sailing period optimism 1980s gave way “ winter ” 1990s progress faltered account inadequate computing power available particular last years contrary seen series milestones shone spotlight back promise holds alpha go ’ google victory go world champion lee sedol march remarkable symbolic terms achievements unlike chess go lend memorisation large number moves machine could simply reproduce instead gives rise sheer number pos sible combinations.alpha go ’ victory illustrates fact recent breakthroughs made particularly put deve lopment machine technique one applications whereas past programmers break multiple instructions task automated steps involved clearly specified machine involves presenting machine example inputs task wish accomplish way humans train system providing able learn algorithm makes decisions regarding opera tions performed accomplish task question technique makes possible carry much complex tasks conventional algorithm andrew ng stanford university defines machine follows “ science getting computers act without explicitly programmed ” encompasses design analysis implementation methods enabling machine operate via systematic process accomplish difficult tasks grounded machine therefore concerns algo rithms specifically designed behaviour evolve time based input deep subclass machine forms cornerstone recent inroads made latter3 dis tinction drawn supervised machine learning4 input labelled humans given algorithm defines rules based examples validated cases unsupervised learning5 unlabelled input given algorithm carries classification free produce output presented pattern variable supervised requires supervisors teach machine output must produce i.e must “ train ” supervisors often accomplish multitude simple tasks prac tice platforms like amazon ’ mechanical turk examples places recruit thousands “ micro-workers ” sociologist antonio casilli example label vast amounts photographs used train image recognition program google ’ captcha system recaptcha another large-scale example humans employed train machines machine algorithms embraced across growing number sectors road traffic prediction medical imaging analysis.16how humans keep upper hand ethical matters raised algorithms algorithms today 17 example image recognition see inset gives idea paving way automation tasks incomparably plex handled conventional algorithms unlike deterministic algorithms taps receives develop outside help models apply understand situations presented holds promise today sectors generate huge volumes meteorology already countless examples – many fields form recognition accordingly classification spam among incoming messages gmail simple typical example practice google gathers sizeable constantly updated base spam reported users system uses learn determine charac terises spam decide messages filter work google ’ machine translation service company also claims used machine analyse cooling system centres works automation analytical function reportedly enabled 40 reduction amount energy required cool facilities.example image recognition image recognition good example understanding difference conventional algorithms machine algorithms latter often labelled today let ’ imagine want machine able recognise tigers go means classical algorithm would able explicitly describe programming language intellectual operations carry realise looking tiger rather another animal even one lion cat example telling tiger apart cat easy even small child breaking process specify steps necessary recognise tiger words providing algorithm impossible certainly hugely daunting time-consuming challenge technique machine comes involves providing machine large amount examples instance scores photographs tigers well photographs animals dataset machine learn recognise tigers comparing thousands photographs input work entirely criteria recognise tigers photographs may subsequently receive “ supervised ” humans supply machine thousands photographs pre viously labelled showing tigers along others explicitly labelled showing tigers.focus know company like airbus already putting practice today purposes form recognition allow recognise different vessels aerial shot maritime zone goal behind comparing location craft thus identified signals sent beacons detect ships distress looking elude maritime surveillance example interest lies swiftness operation automated requires great deal time resources progress made techniques recent years machines reliable humans identifying ships sometimes difficult tell apart clouds 17how humans keep upper hand ethical matters raised algorithms algorithms today industry nothing particularly gained traction 1980s optimised operation nuclear power plant tank emptying automating puting improving reliability time enabling substantial savings made thanks shorter facility downtimes maintenance chatbots voice assistants siri google assistant alexa among another fast-developing branch capable supplying answering standard questions example applications see machine strictly speaking constitutes disruption conventio nal algorithms machine algorithms whole class algorithms steadily progressing “ programming world world ” jean-philippe desbiolles debate launch cnil 23 january classical algorithms deterministic operating criteria clearly defined people wishing run machine algorithms hand called probabilistic although represent much powerful former output always changing depending basis given changes step going back example tiger see inset possible form trained basis comprises one species tiger may capable recognising tiger belonging another species also feasible assume quite capable bettering skills recognising species tiger comes across ever cases traits common two species.beyond technical differences overall approach algorithms nevertheless remains pertinent deterministic machine algorithms alike raise common questions cases end goal applications making classes algorithm consists automating tasks would otherwise performed humans even delegate auto mated less complex decision-making move away purely technical approach subjects consider consequences social ethical even political implications issues raised largely overlap joint investigation final note many respects algorithms also overlap referred generally vague manner big encompasses immense quantities diverse also techniques processing getting make sense pinpointing unexpected correlations even bestowing predictive capacity similarly inextricably bound immense amounts required train turn process.18 algorithm without blind without algorithms dumbhow humans keep upper hand ethical matters raised algorithms algorithms today 6 two overarching approaches one hand symbolic cognitive science-inspired approach neuroscience-inspired connectionist approach machine neural networks etc. expert gained considerable ground 1980s main advances made recently concern machine learning.steer discussions towards crucial impacts applications algorithms today one sense algorithms tie computer science generally everything tend group term “ ” potentially vast subject neces sary entirely justified limit scope discus sions algorithms currently raising pressing ethical societal questions indeed ethical discussion algorithms meaningful also devotes thought implications social professional contexts pages follow thus focusing solely uses grounded machine – widely discussed today even strictly speaking account whole domain6 moreover strong general included analysis refers capable becoming completely autonomous point even turn humans vision often fuelled apocalyptic mindset inspired movies wake sometimes much older myths frankenstein etc. often connected questions level consciousness machine could attain keeping theme technological singularity strong promoted stances adopted high-profile leaders likes elon musk stephen hawking lastly promotion theme “ singularity ” transhumanist circles extending influence silicon valley lending credence claims machines soon surpass humans yet foremost researchers experts compu ter science france ’ jean-gabriel ganascia among sceptical claims including latter even lambast hypothesis looming strong means evading serious issues – ethical quite simply legal – tangible achievements made weak rising already shortly raising strictly speaking taking terms quite literally would possible include within scope discussions algorithms questions encryption insofar relies algorithms line thinking could led us consider “ blockchain ” integral part subject seemed preferable adopt pragmatic stance guided perception algorithms applications raising problems questions today words chosen limit thought process algorithms immense diversity age today raising issues likely directly concern general private decision-makers alike point view although recommendation algorithms technically account fraction different types algorithms important part question algorithms used esta blish predictive models large amount apply real-time specific cases develop predictions behaviours preferences make possible anticipate consumers ’ needs individual steered towards choice deemed appropriate regard recommendation algo rithms used make suggestions restaurants search engine example take approach thus list main functions applications algorithms likely controversial discussion addresses:19how humans keep upper hand ethical matters raised algorithms algorithms today 7 general protection regulation defines profiling “ form automated processing personal consisting personal evaluate certain personal aspects relating natural person particular analyse predict aspects concerning natural person ’ performance work economic situation health personal preferences interests reliability behaviour location movements ” .• producing knowledge • matching supply demand allocating resources passengers taxi drivers parents childcare places students university places etc • recommending product special offer persona lised way • assisting decision-making • predicting anticipating natural phenomena offences onset illness example significant functions enabled algorithms ’ capacity filter model phenomena identifying patterns massive datasets thus profile individuals7 generally speaking high profile algorithms questions raise today conside red isolation unprecedented volumes available across sectors need sorted harness full potential digitalisation society forms – electronic transactions ser-vices revolution sensors internet things surge smartphone broad-scale roll-out open poli cies – behind phenomenon whilst representing invaluable resource today also poses challenge need recommendations sheer amount available possible profile mere segmentation pre-determined categories longer sufficient light large amount collected subjects quality relevance chosen input algorithms key considerations discussion regard idea autonomisation must also mentioned correctly gauge issues raised algorithms today questions also stem fact algorithms make possible delegate tasks previously accomplished humans automated becoming increasingly “ autonomous ” delegation tasks decisions even conventional algorithms way imply however algorithms free control intervention well truly present algorithms algo rithm ’ configuration choice weighting criteria taken account obtain desired output example although humans longer directly involved suggestion restaurant recommendations platforms using algorithms developers still fundamental role play determine particular importance give places restaurants located rating users supposed match based criteria defined user ’ profile rise machine one step closer autonomisation momentum since machine “ ” writing instructions performs determining parameters guide accomplishing goal latter nevertheless still defined humans.20 algorithms today considered isolation unprecedented volumes available across sectors need sorted harness full potentialhow humans keep upper hand ethical matters raised algorithms algorithms today 21 promise across sectors algorithms growing across sectors economic stakeholders keen promote advantages promise held tools mention examples 8. commonplace uses today particularly concern online search engines road navigation apps cultural recommendation platforms netflix amazon type social media marketing targeted advertising purposes increasingly political campai gning elections regarding healthcare algorithms promoted health surveillance detection epidemics mental health risks increasing talk promises precision medicine personalised therapeutic solutions developed cross-linking patient datasets obtained large-scale cohorts state ’ governing powers also concerned actors example claim provide legal occupations judge instance tools would enable processing case law anticipate outcome trial fine-tune judicial strategy meanwhile police forces france abroad beginning algorith mic tools channel resources towards given area analysis wide media coverage french university admis sions platform “ admission post-bac ” opened general ’ eyes algorithms allocating univer sity places hundreds thousands pupils flow management algorithms challenging teaching practices via ever advanced strategies personalise education via detection potential early school leavers finally job market various stakeholders currently working developing solutions assisting recruit ment matching supply demand particular managing resources without claiming provide exhaustive coverage sub ject countless applications table next page nevertheless gives idea way ’ algorithms ’ main identified functions across different sectors 8 industrial mainly driven two types stakeholders one hand specialist providers services large companies ibm watson giants including gafa investing heavily making central feature services google image recognition automatic speech recognition example .patchy knowledge algorithm general well aware algorithms targeted advertising example 90 respondents wised less aware reliance algo rithms assess “ relationship compatibility ” dating applications 46 respondents establish medical diagnosis 33 example survey carried part debate rural-based family association “ familles rurales ” among 1,076 members.surveyhow humans keep upper hand ethical matters raised algorithms algorithms today 22 education justice health security work hr culture generating knowledgebetter identify learners ’ abilitiesreveal different ways judgments handed regionstap vast amount scientific publicationsidentify unsuspected links solving gendarmerie-led investigations understand social phenomena workplacecreate cultural showpieces painting music fine-tune insurance company customer ’ risk profile matchingallocate higher education places candidates apb allocate patients participation clinical trialmatch list applicants job vacancymatch “ compatible ” profiles dating apps etc predictingpredict early school leavingpredict thelikelihood trial successful potential amount damagespredict epidemics pinpoint predispositions certain diseases prevent onsetdetect at-risk profiles counterterrorism strategy predict future crimes offencesdetect employees likely resign coming monthscreate crowd-pleasers netflix recommen dingrecommend personalised pathways studentsrecommend mediation solutions based profile individuals similar cases pastrecommend career guidelines line individual profilesrecommend books amazon tv series netflix etc.personalise political messages social media assisting withdecisionssuggest judge fitting case-law solution given casesuggest suitable therapeutic solutions doctorsuggest hotspots police forces patrolhelp drivers find shortest route b gps main functions algorithms across different sectorshow humans keep upper hand ethical matters raised algorithms algorithms today 23 ethical issues ethics prefiguration legal standards p .24 autonomous machines threat free responsibility p .26 bias discrimination exclusion p .31 algorithmic profiling personalisation versus collective benefits p .34 preventing massive files enhancing seeking balance p .38 quality quantity relevance challenges curated p .39 identity challenge p .41how humans keep upper hand ethical matters raised algorithms ethical issues 24 ethics prefiguration legal standards notion ethics often attributed different meanings times giving rise certain ambiguity definitions given dictionaries liken ethics morals words standards necessarily intended come within realm law individual behaviour ancient philosophers ethics nothing answer question “ good life ” – i.e guidelines action first foremost concern individual fast forward recent times notion ethics evolved refer something alongside law used stakeholders companies instance ethics set standards laid company obliges abide standards go beyond legal sphere often purpose restate – consciously otherwise – legal standards examples “ ethical ” customer sometimes merely another way saying company legally compliant third meaning attributed notion ethics – arguably relevant within context report – emerged jargon institutions since setup back 1983 french governmental advisory council bioethics issues ccne context ethics comes across guiding process legal matters ethical standard prefiguration legal standard fact lawmaker asks institution engage ethical thinking means soon followed corresponding legislative framework setup ccne law shared key common deno minator creation republic bill provision ethical discussion assignment entrusted cnil backdrop swift technological progress grave uncertainties attitude community subsequently adopting one hand breakthroughs biotechnology first test-tube baby france born 1982 billed “ revolution ” making show measure distrust algorithms three commonly held fears loss control 63 members normativity restriction standardisation recruitment 56 disproportionate collection personal 50 recruitement resources opportunities highlighted including possibility examining applications basis identical criteria 52 said 72 respondents possibility recruited algorithms basis analysis profile compatibility specific job perceived threat 71 thus state definition ethics charter algorithm genuine priority survey carried part debate cfe-cgc trade union executives france among 1,263 members primarily “ metallurgy ” “ banking finance ” federations .survey 72 respondents perceive possibility recruited algorithms threatthe ethical issueshow humans keep upper hand ethical matters raised algorithms ethical issues 25 ethical thought process part law therefore way laying necessary groundwork holding collective discussions social pact latter indeed see founding principles fundamental freedoms equality citizens dignity called question technological shift moves boundary possible impossible calls distinction desirable undesirable redrawn first discussion cnil decided call stakeholders keen express views subjects algorithms ethical issues chosen therefore ones stakeholders raised selves logically already firm feature everyday lives even likely gain even greater ground years come hand forward-looking challenges associated progress still hypothetical transhumanism human-machine hybridisation etc uppermost minds partners involved greatly delved report participants consultation organised cnil montpellier 14 october shared thoughts ethical matters raised algorithms see “ innovative approach crafting collective pluralist ethical thought process ” issues bring light chime largely identified throughout debate seems anxious decision-making processes adopted watering-down liability result algorithms potential “ loss competence ” part doctors employers would come rely heavily algorithms highlighted detrimental consequences mentioned include automated “ management uncertainties ” deemed effective humans capable inability “ manage exceptions ” “ loss sense humanity ” particularly emphasised regard lack appeal options “ admission post-bac ” apb portal reliance sometimes autonomous make decisions stoking fears liability event error “ ” – concern voiced particularly medical sector subject apb members criticise lack transparency explains algorithm serves “ scape goat creating distance make political choices complain choices ” problem personalisation social media collective effects touched context us presidential elections also heightens fear “ one really accountable supervising internet anymore ” danger filter bubbles though brought less often nevertheless mentioned several participants “ resources ” “ platforms ” workshops also spoke risk recruitment “ standardisation ” subsequent streamlining sector well risk boxed online “ profile might hamper personal growth ” lastly subjects bias discrimination exclusion warrant particular vigilance participants ’ view irrespective whether bias question intentional respect recruitment fears algorithm could coded “ according employers ’ objectives employees ’ expense ” unintentional algorithmic tool source concern terms errors could generate .what thinkthe technological shift moving boundary possible impossible calls distinction desirable undesirable redrawnhow humans keep upper hand ethical matters raised algorithms ethical issues 9 strictly speaking remember generally much algorithms execution form computer program 10 debate launch cnil 23 january 2017.26 autonomous machines threat free responsibility beyond sheer number practical applications uses put purpose algorithms alike automatically accomplish task operation involving form “ ” would otherwise carried directly humans words entails humans delegating tasks automatic systems9 case “ admission post-bac ” apb university admissions online portal good example software allocates higher education places high school graduates could considered nothing applying set instructions criteria could well carried civil servants key interest using algorithm instance gain productivity brought delegating machine task would take great deal time resources another interest guarantee uniform impartial application rules defined beforehand allocation available university places indeed implementation rules complex administrative chain command much likely give rise forms arbitrary decision-ma-king even simply different interpretations depending staff applying regard educational policy specialist roger-françois gauthier points apb least merit putting paid “ mafia-like ” system practised preferential treatment 10. apb example classic deterministic algorithm however also harnessed accomplish tasks might otherwise prove costly terms resources example form recognition used identify real time vessels satellite images vast maritime surface areas simple software program thus perform round-the-clock monitoring immense surface areas would otherwise require shift work part several specialists future could possible least technically speaking – already progress united states – assign algorithms task determining threat posed inmate therefore opportunity granting remission next step refer “ predictive justice ” would involve entrusting task making decisions based cross-analysis pertaining certain case case-law data.delegating tasks algorithms contrasting situations immediately becomes concern potential ethical social implications automated varies depending tasks delegated latter conditions shaping delegation accordingly step taken distinguishing cases discussion concentrate think typology task delegation automated grounded two criteria impact individuals task delegated type system task delegated first criterion concerns type impact and/or task delegated automated system might routine mechanical fairly innocuous task sorting series computer files alphabetical order hand task might lose trivial nature prove hugely complex could assume aspects decision take vital importance individual group case involves establishing guidance medical diagnosis two extre mes lies vast spectrum contrasting situations include two aforementioned examples well autonomous vehicle case apb common case automated medical diagnosis examples end spectrum second criterion would whether automated system relies conventional algorithm machine algorithm words degree autonomy system able establish operating criteria also stake extent system ’ ability produce satisfactory explanation output produces typology shows wide diversity situations covered discussion ethical social issues algorithms sheds light sheer range spectrum serious less serious matters algorithm.how humans keep upper hand ethical matters raised algorithms ethical issues 11 bilel benbouzid “ situational crime prevention predictive policing sociology ignored controversy “ 27 delegating critical decisions algorithms absolving responsibility crucial decisions medical diagnoses court judg ments decisions open fire armed conflict could sometimes already abroad particular dele gated automated decisions often already clearly identified legal tradition france doctor thus qualified establish diagnosis would unlawful medical practice applies judge ’ decision legally place delegated automated system mind algorithms endorse role decision “ support ” increase humans laws however solve problems raised delegation decisions ensured predictions recommendations provided algorithms remain nothing supports decision- making action instead leading humans longer held account meaning overall loss free medicine quality decision-making assessed least quantified easily might logically ask much scope autonomy would doctors keep despite recommendation diagnosis treatment supplied cutting-edge decision support system indeed hailed potential diagnose certain cancers analyse x-rays accuracy humans prove correct could there-fore become risky doctor make different diagnosis therapeutic choice one recommended machine case machine would become official decision-maker kind scenario raises question liability transferred machine would need granted legal personality designers doctor still held accountable case although certainly seems resolve legal problem still ultimately lead de facto absolution responsibility sense irresponsibility ethics predictive policing algorithmic software actively developed quest form crime prediction space time goal predict crimes likely occur order provide patrolling guidance law enforcement united states predpol grounded models inspired seismology assess intense risk given location given time startup thus claims factor “ contagious ” dimension spread crime space time predictive potential nevertheless shown limits one hand contagion much smaller impact crime detection after-shocks earthquake structure criminality varies one year next yet nothing dampen appeal help “ handle basis management criteria daily patrolling law enforcement officers ” practice “ predictive stays red map long police yet patrolled location arrival turns blue police officer spent sufficient optimum amount time calculated according resources available finally turns green ” 11 raises major concern risk machine ’ recommendations taken truth require discussion practical consequences insofar algorithm uses victims ’ statements one consequence beefed-up police presence zones population reported crime sustained fashion implies exclusion protection provision certain populations report crime often would also far-fetched imagine type algorithm focusing police attention certain types offence detriment others line critical assessment type tool paramount capacity determine effectiveness models whether crime detected patrol taking cue system outcome could easily falsely interpreted sign tool ’ effectiveness.focushow humans keep upper hand ethical matters raised algorithms ethical issues 12 tim ’ reilly “ open algorithmic regulation ” ed brett goldstein beyond transparency open future civic innovation san francisco code america pp 289-301 13 rouvroy antoinette berns thomas “ gouvernementalité algorithmique et perspectives ’ émancipation le disparate comme condition ’ individuation par la relation ” réseaux 2013/1 issue 177 p. 163-196 14 so-called “ machine objectivity ” actually diluted unassumed subjectivity respect.28 case medicine particularly critical account impact decisions recommenda tions individuals also ins tance machine algorithms play implies underlying processes work potentially incomprehensible people proposed designers selves incidentally cnil-led debate brought controversy light regard concerning ibm ’ watson platform ibm ’ policy stresses watson trained via “ supervised ” words system guided step-by-step mean process monitored opposed unsupervised machine full autonomy determining operating criteria ibm also claims check decision retain certain type experts researching sub ject spoken various organised debates least allistene ’ committee ethics cerna insisted time statements erroneous based current “ output ” produced recent machine lear-ning algorithms explainable explainable concept ongoing also point difficult audit machine system practice might therefore wonder whether algorithms arti ficial undermining traditional figures authority – decision-makers leaders – perhaps even authority rule law trend sometimes actively supported tim ’ reilly among already considering advent “ algorithmic regulation ” 12 city “ governance ” would entrus ted algorithms sites infrastructure citizens would constantly communicate processed thanks smart sensors could streamline optimise community life according so-called “ natural ” laws laws would stem way things really “ immanent mativity ” explained thomas berns antoinette rouvroy13 undoubtedly sheds light temptation turn away normativity towards “ algo rithmic normativity ” driven market incentives discourses extol supposed “ objectivity ” automated comparison judgment always fallible users thus increasingly willing take output produced machine unquestionable truth – actually determined throughout choices criteria types fed system 14.the impact algorithms decision-making could also come different form report submitted cnil conseil national des barreaux national institution represents practising lawyers france highlighted “ care must taken ensure obsession effectiveness predictability behind algorithms lead us designing legal rules categories longer grounds ideal justice readily ‘ codable ’ ” quite possible ongoing shift towards forms “ algorithmic regulation ” holds certain appeal decision-makers delegating decisions machine – credit neutral impar tial infallible – may way remove responsi bility oneself wash one ’ hands need accountable one ’ choices autonomous lethal weapons killer robots could make decision kill battlefield law enforcement purposes throw question particularly sharp relief act killing – even considered lawful situation international conflict enemy armed – remain control direct responsibility humans difficulty potentially traumatic implications person carrying deemed necessary guarantee avoiding abusive practices considerations concern situations tasks decisions delegated machine algorithm traditional deterministic algo rithm also concerned debates apb ’ algorithm provided good example practice apb gives us insight possible process take root societal choices depoliticised neutralised – even though discussion warranted regard controversy focused algorithm particularly wake revelation drawing lots ended carrying certain applicants over-subscribed courses algorithms ever reflection political choices society choices instance choice draw lots allocate places over-subscribed courses result politi cal choice two possible alternatives could put simply selection upon admission university investment increase number available places courses question matches demand words “ code law ” famously asserted lawrence lessig.how humans keep upper hand ethical matters raised algorithms ethical issues 15 subject see mit ’ commendable website provides practical illustration dilemmas //moralmachine.mit.edu/ 16 le monde 29 juin “ le médiateur de l ’ education nationale dénonce la solitude des familles face à apb ” .29 indeed “ neutral ” description ever ascribe algorithm understood broad sense socio-technical system fits inevitably incor porates bias – social political ethical moral – usually meets purposes include commercial dimension designer commonly cited example choice algorithm driverless car might forced make killing occupant pedestrian road illustrates reliance raise certain moral dilemmas moves different stage quandary settled real time person directly involved replaced choice made others elsewhere well beforehand15 intentional purpose setting apb enhanced administrative effectiveness fairer harmonisation allocation higher education places ended evasion society choices configu ration system masked assumed impartia lity algorithm responsible implementing algorithm takes decisions must therefore look ways counter type effect informing target audience example must systematically take care neither exploit hiding behind machine allow insofar tends keep conflicts legitimate debates bay moreover likely behaviours lead feeling inhumanity individuals concerned would risk turning distrust especially pos -sibility contacting managing talking bid “ find solutions heard ” highlighted french mediator national education16 deterministic algorithm one discussed watering-down responsibility illusion crucial decisions choices simply moved configuration stage algorithm tantamount saying control computer code becoming real decision-makers risk power becoming concen trated hands “ small caste scribes ” antoine garapon debate launch 23 january least picture get apb example rate following opening source code autho rities ’ algorithms required republic bill apb ’ algorithm examined etalab mission works france sharing sector became developers taken care document within origin change configuration algorithm case instruction received government authorities nutshell traceability terms accountability organised developers apb example mask fact algorithms tend bring decision-making forward technical stages system ’ design configuration coding system results automatic flawless implementation choices made initially antoine garapon ’ aforementioned concern therefore well-founded demands answers essential design stages become independent decisions made question accountability decision- making set approached slightly different way dealing machine case would better think terms chain accountability system designer user via person feeding training system latter operate differently depending input subject could mention microsoft ’ chatbot tay shut mere 24 hours later release posts social media users begun tweet racist sexist comments needless say working precise share responsibility diffe rent links chain laborious task base condition liability attributed certainty already know outperform algorithms ways undermining traditional figures authority decision-makers leaders perhaps even authority rule lawhow humans keep upper hand ethical matters raised algorithms ethical issues 17 cnil linc la plateforme ’ une ville les données personnelles au cœur de la fabrique de la smart city cahier ip n°5 octobre p. 20 18 cathy ’ neil weapons math destruction big increases inequality threatens democracy crown 2016.30 humans comes certain tasks without properly understanding work result errors might commit rand hindi thus explains “ makes fewer mistakes humans makes mistakes humans would done happened tesla ’ driverless car accident never would happened ” consider bestowing legal per sonality hold users responsible medical sector example means patients would wise over-stress specificity machine case imagine form arti ficial tasked allocating patients within hospital ’ departments determining end hospital stay “ effective ” way possible bound inherent machine system may objectives set regard well weighting guaranteeing many recoveries long term possible minimising rate rehospitalisation short term aiming short hospital stays etc would still choices made explicitly humans question massive delegation non-critical decisions ethical thinking algorithms intel-ligence limited crucial decisions sectors impact humans undeniable medicine justice educational guidance even automotive sector implications terms safety attention also paid algorithms gradually delegating apparently innocuous decisions taken together form substance everyday lives simply account ability operate repeated manner long timeframes vast scales algorithms substantial impact individuals societies whole take criteria underpinning operation basic navigation app example significantly alter form city urban life whole used large number drivers placing implicit trust app map itineraries take repercussions urban traffic spread pollution.the cnil ’ innovation laboratory linc puts way “ aside question collection personal also issue stakeholder ’ loss control planning space manage ment flows beyond notion service general interest individual interests waze app ’ customers taken together sometimes odds local authority ’ policies ” 17 book weapons math destruction18 cathy ’ neil provides particularly meaningful example imagines could draw rules implicitly follows plan children ’ meals diversity green vegetables many kids ’ protest much easing rules sundays special occasions etc. program running algorithm would fine long used automatically generate meal planner limited number people specificity algorithms executed computer programs application program kind used millions people would inevitably powerful potentially destablising effects major social economic balances certain foods would become expensive production others would collapse standardisation production impact agri-food occupations example specific aspect computer algorithms deployed internet age currently living laid bare author altogether challenge addressed deployment anyone deploying algorithms likely used large urged bear mind algorithms compressing time frames one defining features way algorithm works immediacy simplicity least uniformity inexorable character algorithms capable accomplishing task almost immediately simply time takes machine compute also capable accomplishing task large spatial terms everywhere identically respect hold considerable appeal authorities businesses committed effective rational standard way working.how humans keep upper hand ethical matters raised algorithms ethical issues 31 characteristic algorithms also potentially problematic compressing duration spatial dimension process delegated machine also undermine quality action practical examples algorithms used authorities well example predictive justice give clearer idea ambivalence optimising diminishing processes stripped spatial dimension means using algorithm along lines apb platform ’ may certainly authorities ’ point view seen guarantee form simplicity consistency application rules complex chain administration involving many people may instead give rise differences interpretation arbitrary choices might also possible consider something first glance comes across lack effec tiveness sign somehow erratic process something else ’ instead invaluable source decision-makers feedback questions reported charge applying rules observe ground works limits similarly symposium predictive justice orga nised 19 may lille bar law department université catholique de lille douai court appeal certain participants stressed “ knowledge judgments given neighbouring jurisdictions magistrates would contribute towards certain consistency prevent outcome dispute depends knowing whether heard city another ” idea lies ability algorithms handle large amounts case-law made “ open ” reveal disparities application law across different jurisdictions identification disparities judge aware would facilitate consistent application law nationwide yet absolutely certain within certain limits forms regional disparity fact reflect responsible exercising caution part judge intelligent detailed adaptation social realities vary one place next way allowing leeway law applied apart rigid automatic application line thinking could applied idea predictive justice judgment handed idea taken extreme would cir cumvent benefit collective deliberation meaning gained individuals working towards common goal comparing points view deliberations carried juries magistrates solely involve trotting pre-existing arguments way software “ executes ” program time deliberations take simply minor detail resource whose cost kept minimum contrary utmost importance enables juries take board insights course hearing different arguments change opinion shows clearly demonstration film sidney lumet twelve angry men end day seems advisable draw attention users algorithms need heed advantages also disadvantages technologies potentially ambivalent nature think ways overcome bias discrimination exclusion tendency algorithms generate bias turn spawn reinforce discrimination raised significant concerns ques tions essential highlight point since technical also sometimes fuel belief objectiveness valuable since often lacking humans yet algorithms biased sense insofar always reflection – configuration operating criteria training input – set societal choices values debate raging bias discri mination appears magnifying glass shows problems associated key characteristic several recent controversies illustrated type bias particularly shocking way google photos face recognition software thus caused uproar two young african-americans realised one photos tagged “ gorillas ” humans keep upper hand ethical matters raised algorithms ethical issues 19 //usbeketrica.com/article/un-algorithme-peut-il-predire-le-risque-de-recidive-des-detenus 20 //www.propublica.org/article/machine-bias-risk-assessments-in-criminal-sentencing 32 glitch explained type algorithm trained recognise people ins tance likely primarily – exclusively – trained photographs white people examples racist bias exist face recognition software detri ment “ asian ” people result algorithm conside red black person points common object “ gorilla ” trained recognise object “ ” note also deliberate malicious acts part people involved training type algorithm unknown case chatbot tay developed microsoft began post racist sexist tweets hours working based posts internet users algorithms also exhibit gender bias three researchers carnegie mellon university algorithms prevent recidivism predictive justice applications subjected particularly close scrutiny regards management profile alternative sanction tool designed come recidivism risk score prisoners defendants trial although analysis tools us courts since 197 0s automated score calculations making decisions bearing conditional release something words social workers using comp access interface together defen dant answer questions “ defendant think police ” “ defendant ’ friends like ” “ already convicted ” 19 risk score calculated added defendant ’ file propublica website accused northpointe company marketing comp producing biased racist scores20 finding based comparison released prisoners ’ recidivism risk scores actual recidivism rates two years scored rate false positives i.e high score subsequent reoffence observed turned considerably higher former prisoners african-american origin white people.focus international computer science instituteshowed adsense google ’ advertising program generated bias women using testing tool called adfisher created 17,000 profiles simulated browsing web conduct series experiments found women much less likely displayed job ads highly-paid positions men similar levels qualifications experience emerged limited number women received online ads job earning 200,000 year far one-off “ targeted advertising like google ’ ubiquitous shown people could tangible effects decisions make ” says anupam datta co-author study.here exact causes hard pin course conceivable bias result advertisers ’ intentions would deliberately chosen send different ads men women equally possible phenomenon result algorithm ’ reaction given instance well-known social sciences studies already pointed women likely practise self-censorship thus men could tended click often ads highly paid jobs point view algorithm ’ gender bias would therefore originated pre-existing bias society.how humans keep upper hand ethical matters raised algorithms ethical issues 21 //www.bloomberg.com/graphics/2016-amazon-same-day/33 debate organised 24 june génotoul reflects legal ethical questions raised biosciences philippe besse professor mathematics statistics university toulouse made point equal comes personalised medicine databases currently used contain considerable bias one study shown 96 samples taken bases ancestors demonstration bore 1.5 million samples sources bias age since databases tend populated relatively old people gender several recent publications underscoring importance gender effect onset diseases question chromosome x vastly under-represented databases chromosome hardly features philippe besse draws conclusion “ young african woman think consider personalised medicine reach pointless ” .did know third example april amazon found excluded one services free same-day delivery predominantly poor neighbourhoods boston atlanta chicago dallas york city washington outset amazon algorithm analysing disposal shown neighbourhoods question represent profitable areas business even amazon ’ intention exclude services areas predominantly black nevertheless ended outcome algorithm put six large cities becomes “ service area excludes predominantly black zip codes varying degrees … black citizens half likely live neighborhoods access amazon sameday delivery white residents ” 21 boston three zip codes encompassing primarily black neighbourhood roxbury excluded same-day service neighbourhoods surround sides eligible phenomenon explained amazon stressed – quite rightly ’ doubt – curate racial give algorithm put amazon neighbourhoods question exactly decades subject practice known “ redlining ” refers banks systemati cally refusing grant loans african-americans – even solvent – solely basis skin colour residence predominantly minority areas therefore evident amazon ’ algorithm ended reproducing pre-existing discriminations even intentional racism involved configuration algorithms i.e explicit definition criteria determine way func tion sort select recommend may course source bias discrimination see three examples bias generated ’ input poses daunting challenge today referring historical patterns dataset reproduce pre-existing discriminations inequalities therefore quite possible algorithm seeking define profiles recruited could exclude women based set profiles corresponding successful career paths within company past either excluded past tended take career breaks often male colleagues example also bear mind company question irrational kind algorithm could end depriving certain talents ethical implications would become directly tangled question efficiency operation training algorithms – curation implies taken account – seems raise crucial ethical legal issue one efficiency technical nature issue partly overlaps one involving delegation decision-making discussed earlier choosing input training stages clearly entails making decisions could far-reaching consequences makes issue talking specific involves making decisions choices times almost unconscious manner whereas coding tra ditional deterministic algorithm always deliberate ope -the people curating input unaware bias users subjects necessarily wised eitherhow humans keep upper hand ethical matters raised algorithms ethical issues 22 kate crawford “ ’ white guy problem ” york times 25 juin 23 eli pariser filter bubble internet hiding york penguin press 2011.34 ration whoever trains algorithm ways builds way seeing world values least values less directly inherent gathered past researcher kate crawford particular thus lifted lid ingrained social racial gender bias rife among circles training intelli gence today recruited22 goes long way explaining one biggest problems associated bias discrimination algorithms replicate often particularly difficult detect people curating input unaware users subjects necessarily wised either targeted nature job ads mentioned earlier means women involved unaware job ads men receiving time one consequences “ filter bubble ” phenomenon delve later finally make choices underlying logic even existence beyond grasp designers algorithm-generated bias discrimination raise two key questions today firstly postu late least cases ever replicates bias discrimination already ingrained society words case algorithms would ever “ vehicles ” bias – repeating without ever actually creating objection standpoint could least argue deployed potential impact make ideal tools addressing discrimination words great power comes great responsibility mention quite possible could also multiplier effect bias secondly ensure properly detect kind bias already explained times pass unnoticed distinguish bias might regarded acceptable forms society simply tolerate forms mentioned stamp bias effectively whilst making sure algorithms respect fundamental values democratically esta blished societies final point need highlight dimension see crop report individual impacts person also collective impacts algorithms exclusion entire neighbourhoods amazon service provides one exa mple regard algorithmic profiling personalisation versus collective benefits fact algorithms creeping every area lives especially online lives explained increasing personalisation services potential downside personalisation service individuals may indeed undermine inhe rently collective processes underpinning society functioning democracy idea risk-sharing economic order impact algorithms individuals clearly identified written legislation time collective impacts raising questions too.filter bubbles loss cultural pluralism implications “ filter bubble ” sparking widespread debate ever since eli pariser ’ publication subject23 idea useful tasks performed algorithms terms classifying filtering masses fingertips would indirectly erode pluralism cultural diversity filtering based characte -how humans keep upper hand ethical matters raised algorithms ethical issues 24 report csa lab 25 natali helberger kari karppinen lucia ’ acunto “ exposure diversity design principle recommender ” communication society 2016.35 would seem algorithms reinforcing individuals ’ tendencies embrace objects people opinions cultures conform interests reject unknownristics profiles would seem algorithms reinforcing individuals ’ tendencies embrace objects people opinions cultures conform interests reject unknown two levels considered relation “ filter bubble ” phenomenon individual society whole individual level risk person sees compared purely simply associated alter ego one implied personal isolating within bubble recommendations always conforms profile promises access greater amount cultural ever would thus end para doxically cancelled individuals ’ poor exposure cultural diversity practice could occur even individual looking diversity principle french ministry culture dgmic highlights connection “ algorithm-driven recommendations based users ’ actual consumer practices rather desires aspirations ” nevertheless important point many specialists researchers practitioners sec tor either contest idea filter bubbles calling questions asked specific way regard accordingly antoinette rouvroy says “ matter filter bubble unique algorithms highly predictable beings behave regular way makes much easier isolate us inside bubbles isolate profit gained ’ question algorithm configuration also contrary expose us elements would never searched ” state ment debate launch 23 january cnil admittedly evidence alterna tive greatly exploited practice cultural consumer trends based two-sided preference structure one side strong links “ reflecting proven preference previously well identified type ” weak links “ conveying potential affinity type awaits discovery 24 ” predictive algorithms used prominent platforms providing entertaining cultural services netflix amazon spotify etc strong links major categories algorithms consider serendipity key variable consumer choices.dominique cardon meanwhile asserts “ tech nology brought diversity wit hout precedent whole history humanity absurd say facebook isolates people risks involved curious people give curiosity signals encouraged curiosity return hand people show little sign curiosity steered towards less diversity ... risk within certain context certain audience social practices develop algorithm factor enrichment discovery rather gives ” statement debate launch 23 january cnil lastly french ministry culture dgmic points incentive gain compe titive edge “ liberal-individualistic perspective diverse exposure valued simply extends individual choice affords individuals opportunities realize interests ” 25 could limit threats diversity urging stakeholders take challenge filter bubbles find solutions society level taken whole different ways individuals shielded otherness opinions differ – terms politics particular – could problematic quality vitality debate quality diversity overall healthy functioning democracies personalisation could lead extreme fragmentation space disappearance minimum core set shared whole politic enables organisation proper debate .how humans keep upper hand ethical matters raised algorithms ethical issues 26 according pew 61 millennials “ report getting political news facebook ” pew millennials political news social media – local tv next generation june 27 //www-personal.umich.edu/~csandvig/research/eslami_algorithms_chi15.pdf36 age increasing numbers citizens using social media main sometimes means getting information26 stakes high future democratic life true tend surround people similar mind value least traditional press editorial policy informs reader clearly leanings reading current debates subject nevertheless underline fact “ filter bubble ” effects inevitably cases produced algorithms result algorithms configured could well programmed differently given contrary objective exposing individuals strong cultural informational political diversity nature problem may well delayed arrival spotlight indeed quite possible individual live inside bubble without even aware existence filter bubbles likely challenged since individuals feel way comfortable absence contradiction partly due confirmation bias characterising mind cognitive sciences well fami liar words nothing predisposes individual notice caught inside bubble therefore comes great surprise critical statements regar ding “ filter bubbles ” often accompanied stories moment awakening experienced something shock debates filter bubble politi cal outcomes substantial media coverage us presidential elections brexit referendum result months earlier two electoral earthquakes internet users supported hillary clinton opponents brexit particularly shocked find results newsfeed given clue recently august sociologist zeynep tufekci specialises online social movements alone noticing facebook newsfeed made mention story surrounding ferguson even could see hashtag ferguson spreading twitter individuals ’ hazy grasp underlying workings platforms get might considered big part problem one study thus shown 60 facebook users completely unaware editorial activity algorithm actually carries think instead every single friends ’ posts pages follow appear newsfeed.27 reality shown 20 selected according several factors advertising post past interaction user posts considered similar – like comment share – number users done economy makes algorithms purposes personalising services user experience therefore follows mindset poses problem effects considered longer economic point view also cultural political one end goal main platforms using algorithms consumer satisfaction consumer understood homo economicus large-scale political cultural effects algorithms secondary details atomisation political community effect brought algorithms perso nalisation function nevertheless become direct lever certain stakeholders intent exploiting wield influence even manipulate fake news hit headlines donald trump ’ campaign – although directly resulting algorithms – spread gain traction within echo chambers formed social media search engine algorithms directly still sophisti cated political campaigning software able target voters precisely ever leads potentially unprecedented fragmentation political messages henceforth crafted attention atomised individuals practices cambridge analytica firm work trump ’ presidential campaign forefront uses made algorithms electoral purposes see inset increasing tailoring political narrative individuals ’ profiles thanks ’ growing capacity curate messages based profiles prompting serious questions see form manipulation laying limits regard view practices inevitable side effects technological shift difficult regulate require us think ways counterbalance go see theme filter bubble flip side algorithmic personalisation means filter bubbles fragmentation also occur sectors cultural consumption media politics.how humans keep upper hand ethical matters raised algorithms ethical issues 37 algorithms political campaigning election campaign software based predictive algorithms analysing electoral increasingly harnessed recent presidential elections united states well france far cry traditional campaign methods highly targeted political messages conveyed voters accomplished examples individual profiling identified united states already presidential elections barack obama ’ campaign teams scores datasets disposal virtually voters analysing harvested social media sites brokers cambridge analytica could sent thousands extremely personalised pro-trump messages space one evening28 although company subsequently struck tone aimed downplaying initial claims incident still lifts lid underlying trend likely grow future france principles governing personal protection nevertheless limit extent individual targeting software develop practice since consent prerequisite collection incidentally press release november cnil gave reminder rules using social media political communication purposes 29. filter bubbles cross-cutting challenge questions raised filter bubbles exclusive culture political sectors prediction recommendation functions work algorithmic embedded ecosystem today likely spawn self-fulfilling prophecies enclose subjects within “ predicted ” destiny form isolation possible consequence future uses analytics adaptive without casting doubt promises techniques quite reasonable us question possible effects claiming define paths basis student ’ profile predictions established application mathematical model profile risk prediction becomes self-fulfilling student sees acade mic professional future mapped soon analysis made highlighted roger-françois gauthier “ analytics prediction could lead pupils confined within certain pathways france enough attention paid problem – need make sure students subject determinism question values written algorithmic fundamental 30 ” way possible associate filter bubble idea potential impacts algorithm resources recruitment sector laurence devillers thus speaks risk “ standardisation pro files ” algorithm – imprudent algorithm – might pose recruiter ways would latter would fall victim bubble containing solely profiles predefined advance would deprived measure serendipity inherent recruitment process insofar bring fore profiles whilst match criteria set beforehand end much offer profiles spotted growing part selection candidates delegated automated 28 //www.theguardian.com/politics/2017/feb/26/robert-mercer-breitbart-war-on-media-steve-bannon-donald-trump-nigel-farage 29 //www.cnil.fr/fr/communication-politique-quelles-sont-les-regles-pour-lutilisation-des-donnees-issues-des-reseaux 30 statement debate launch 23 january cnil.how humans keep upper hand ethical matters raised algorithms ethical issues 31 antoinette rouvroy applies concept proposed john rawls establish thought experiment considering moral problem insurance sector 32 “ algorithmes et risques de discriminations dans le secteur de l ’ assurance ” algorithms risks discrimination insurance sector event organised ligue des droits de l ’ homme ’ league 15 september 2017.38 preventing massive files enhancing seeking balance algorithms daily basis work proces sing scores including significant proportion personal traces online browsing using smartphones credit cards quest ever better performing algorithms calling increasing collection processing retention personal might therefore wonder whether might sooner later run counter ethical principles enshrined law since 1978 french protection act consumes reams upon reams requires large memory i.e databases retain long possible principles 1978 act refer means principle specifying purpose minimisation personal demutualisation algorithmic personalisation poses specific challenge insurance sector trend towards ever per sonalised services would seem calling question principle mutualisation insurance social pact founded group individuals agree insure i.e share risks supposes risks remain least partially unknown insure without knowing neighbour contract disease incurring significant health expenses greater segmentation enabled masses generated individuals ’ behaviours online social media particular line harvested smart wristbands example would tendency lift “ veil ignorance ” 31 underlying pooling insurance risks basic level segmentation helps maintain might innovations beget forms discrimination exclusion people deemed “ risk ” could lumbered higher rates even denied insurance cover altogether furthermore associating type behaviour risk developing particular illness could end penalising individuals adopting lifestyle deemed “ risk ” smoking following diet considered high fat sugar question would bear limit come across excessive standardisation individual behaviours would considered “ unhealthy ” risk would algorithms via correlations make datasets end laying one accepted set norms individual behaviours could deviate paying higher insurance premium unlike choice raising price tobacco example smoking considered cost community decisions would involve collective deliberation result directly input approach sort would pletely away collective social determinants behaviours focusing solely accountability individuals risk factors associated individual ’ environment genetic makeup would likely lead inevitable discrimination exclusion insofar completely hands individuals question although race “ risks ” could therefore esca late insurance companies doubtful good thing latter whole merits mutualisation insurers according florence picard institut des actuaires french institute actuaries “ strictly groups segmented greater risk mutualisation aim risk controlled greater segmentation greater room error32 ” .how humans keep upper hand ethical matters raised algorithms ethical issues 39 33 debate organised génotoul toulouse 24 june 2017.quality quantity relevance challenges curated algorithmic dependent input whether personal otherwise given process produce output short characteristic raises three associated albeit separate challenges bearing quality quantity relevance supplied matter quality processed algorithms straightforward difficult understand incorrect quite simply date lead errors malfunctions varying gravity depending sector question mere dispatch targeted advertising match actual profile incorrect medical diagno sis ensuring quality input algorithmic thus challenge set take ever greater importance machines become ever autonomous costly challenge corrup tion might well result tangible technical glitch caused damaged sensors collecting problem stemming interest stakeholders introducing bias input temp tation negligence regard must taken seriously especially areas impact poor quality might immediately perceptible resources recruitment regard reliability collection well limitation retention period said necessary safeguards protection subjects freedoms principles 1978 act also set forth general protection regulation poised come force may provide general balance allows certain amount flexibility overall one example heighte ned security measures certain extent consi dered offset longer retention period said possibility sheer technological change brought intel ligence calls state affairs question example leaps bounds made precision medicine seem conditional upon compilation ever larger databases terms numbers subjects amount variety retained latter way epigenetics thus claims combine approach relying individuals ’ genetic approach takes environmental account – i.e concerning setting even lifestyle “ patient ” assuming notion still means something context increa singly “ prediction ” promise predictive medicine obtaining detailed profile possible indi vidual disorder able compare individuals similar profiles objective iden tifying appropriate treatment patient could go far maintain healthcare benefits pursued entails compilation vast databases yet guidelines stating collection stop medical record genome epigenetic – i.e environmental living habits living environ ment diet etc. going back many years note type dilemma way exclusive medicine also issue addressed similar angle security policies example requirement identify suspects seems collection bigger bigger individuals question concerns balance struck protection freedoms protection personal medical progress report seek determine balance inasmuch warrants in-depth discussion – one would include assessment precisely much progress expected made precision medicine philippe besse professor mathematics university toulouse believes made available medi cal national health system snds sufficient making progress case limited complexity living organism – level far hype certain prophecies33 humans keep upper hand ethical matters raised algorithms ethical issues 40 available professional social networks must regarded inexhaustible resource must instead questioned given people ’ tendencies embroider cv alternatively lack updates negligence also comes confidence user output produced machine deemed objective competent humans quantity available another factor detri mental quality output produced algorithms cathy ’ neil refers regard exa mple local authority united states used algorithm-based program assess teachers program resulted laying-off teachers turned good reputation within local communi ties worked one main reasons algorithm used assess annual progress teacher would need much concerning dozen students limited number cases statistical value situation many different variables likely explain one hand teacher ’ performance poor grades student relationship problems family problems health problems etc. value found result gives decision-makers sense making rational objective effec tive decisions prestige machine pretext way mean collection constitute end per se cases would value variety simply large quantity case algorithm gps application example pertaining millions vehicles following route less much smaller set vehicles travelling along greater variety routes lastly question relevance less truthfulness bias introduced curated already shown see “ bias discrimination exclusion ” may entirely true women lead uninterrupted high-level career particular company taking fact sign women ’ ability future accomplish successful careers company plainly amounts biased approach case dataset question incorporates forms inequality and/or discrimination ignoring type bias would equate allow phe nomena keep going.what becomes apparent three challenges promise held algorithms come bear utmost stringency practised collection processing used stringency along investment material resources may overlooked certain stakeholders poses evident risk algorithms often described sources “ objective ” “ neutral ” truth example algorithm used assess teachers united states highlighted cathy ’ neil methodological negligence part algorithm ’ designers promoters resulted users placing excessive trust devoid critical thinking algorithm focusing solely need obtain quota teachers dismissed system yet although ensuring quality relevance input given algorithms thus strikes ethical requirement ultimately also condition sustainable utility algorithms users wider society people become sceptical algorithms age young people faith oppor tunities harboured algorithms 68.5 18-24 year olds believe opportunities outweigh potential threats however 36 55-64 year olds consider benefits greater risks algorithm applications viewed favourably youngsters 75 18-24 year olds think recommendations good thing online purchases versus 48 whole panel 50 choosing soulmate versus 26 survey carried part debate rural-based family association “ familles rurales ” among 1,076 members.surveyhow humans keep upper hand ethical matters raised algorithms ethical issues 34 meaning general rule assessing respond situation – deontology consequentialism – set rules fulfilling role – kantian ethics buddhist ethics example.41 identity challenge idea irreducible uniqueness challenged autonomisation machines one hand increasing hybridisation humans machines ethical machines boundaries humans machines firstly begin questioned concept “ ethical machine ” appears radical way address ques tions raised potential delegation decisions auto nomous machines making machines “ ethical ” would one solution problems touched earlier report line thinking probes question whether even possible establish ethi cal framework34 programming machine words possible automate ethics emerged debates one key issues currently grabbing attention community researchers highlighted gilles dowek cerna study day organised “ collège des bernardins ” 20 september 2017. famous trolley problem frequently crops discussions subject know dilemma involves trolley brakes hurtling slope trolley arrives junction depending two tracks goes either kill one several people person possibility pulling lever switch tracks therefore choose one two possible scenarios react interest thought experiment give rise whole host variants lone person bound one two tracks turned close 5 100 people track easy see similar dilemmas applied autonomous vehicles soon expected taking roads according principles car faced ethical dilemma type “ choose ” react trolley problem reveals extent different “ ethical ” choices possible kind situation would anticipated stage system ’ would course possible provide answer surely specific ethics precisely concerns previously unencountered situations possibly involving conflicts values solution must worked subject play antigone comes mind ethical conflict family loyalty civic duty ’ point always worked heat moment ’ therefore make whole hypothesis establishing pre-defined ethical framework somewhat delusive least implies implicit conception part far straightforward let us say time expressions “ ethics algorithms ” “ ethical algorithms ” taken literally contain measure anthropomor phism since attribute capacities machines opinion expressions risk skewing debate instead focusing requi rements met humans design train roll algorithmic therefore seen merely handy metaphor taken literally however pointed gilles dowek example using type metaphor considered entirely justified insofar acknowledges growing autonomy need establish extent possible ethical framework programmed algorithms end day even possible code ethics machine meaning machine able respond certain way ethical situation envisaged beforehand stage also tackle situa tions applying ethical thinking choice ethics coded would remain responsibility humans real challenge make sure ethical choices made stage commandeered “ small caste scribes ” antoine garapon sheer algorithms rolled age makes democratic ques tion utmost importance.how humans keep upper hand ethical matters raised algorithms ethical issues 35 question hybridisation humans artefacts socrates already commenting plato ’ phaedrus algorithms helping shape identity way writing affects memory skills constitutes silent artefact incapable slightest explanation idea strictly separate “ identity ” objects questioned therefore necessarily imply radical concept 36 gérard berry “ non l ’ artificielle ne menace pas l ’ humanité ” interview le point 18 may 37 strong parallels issue one raised political communication models supposed tailor candidate ’ message expectations targeted profiled individual 38 sherry turckle alone together york basic books january 39 serge tisseron le jour où mon robot ’ aimera vers l ’ empathie artificielle paris 2015.42 hybridisation humans machines rethinking identity one way consider ethical question applied algo rithms might view light statement – set article 1 french protection act – “ shall infringe identity ” report previously looked problems associated way humans organise action machines – age-old question gained fresh currency emergence ever “ autonomous ” machines age algorithms intelligence35 point underscores fact depending technologies developed one components identity dignity – namely freedom responsibility – may well impacted rise form machine “ autonomy ” obviously needs carefully qualified gérard berry professor “ collège de france ” “ algorithms machines languages ” chairholder puts way “ one day told machines talk autonomous give rise form life one saying machines gain autonomy capacity creative thinking ’ know either – long way kind life talking 36 ” could ask whether technological course already set prompting questions relevance notion “ identity ” insofar implies watertight separation non-human issue “ legal status robots ” already raised legal experts recently examined parliament delvaux report comes prospect possible blurring lines constitutes response post-hu manist arguments humanist tradition could admittedly fire back machine autonomy nothing illusion today solely metaphor intended des-cribe complex object ultimately masks real liability action – however watered fragmented may become beginning hybridisation humans machines taking place terms action atten tion also called broaden future factor upcoming physical form hybridisation algo rithms humans even animals smart communicating implants physical hybridisation another stage evolutionary path along already bound ongoing interaction linking us whole host algorithmic processes finally theme unclear boundary humans things rather humans machines already come crystal-clear fruition phenomeno logical context certain recent robotic application trials intend give robots appearance humans one example robot pepper firm aldebaran designed used shopping centres interact customers directly tied subject algo rithms entire field geared towards designing empathetic robots capable perceiving emotions analysing face voice example adapt behaviour mood interlocutor raises question limit lies one hand benefits form capable understanding adapting moods interlocutors form manipulation relying technical engineering capable exploiting emotional vulnerabilities37 second question related first know extent capacity illusion unique techno logies imbalance exist robots people whose emotions read make morally acceptable sherry turckle professor mit maintains humans readily attribute subjective sensitive side robots38 strong temptation aging societies increasingly entrust care elderly type robot france serge tisseron devoting critical thought technologies39 whatever answers found questions seems essential way hide societal choice political dimension weighed decision robots assist vulnerable members societies instead investing types resources time staff .how humans keep upper hand ethical matters raised algorithms ethical issues depending technologies developed one components identity dignity – namely freedom responsibility – may well impacted algorithmes et ia un objet mal connu des français un sondage mené par l ’ ifop pour la cnil en janvier auprès ’ un échantillon de 1001 personnes représentatif de la population française âgée de 18 ans et plus permis ’ estimer le niveau de notoriété des algorithmes au sein de la population française les algorithmes sont présents dans l ’ esprit des français mais de façon assez confuse si 83 des français ont déjà entendu parler des algorithmes ils sont plus de la moitié à ne pas savoir précisément de quoi il ’ agit 52 leur présence est déjà appréhendée comme massive dans la vie de tous les jours par 80 des français qui considèrent à 65 que cette dynamique va encore ’ accentuer dans les années qui viennent.enquête 83 des français ont déjà entendu parler des algorithmes ethical thinking algorithmic regulation p .44 law already says algorithms p .45 limits current legal framework p .46 algorithms banned certain sectors p .47 two founding principles algorithms fairness continued attention vigilance p .48 engineering principles intelligibility accountability intervention p .51 principles policy recommendations p .53how respond 43how humans keep upper hand ethical matters raised algorithms respond 40 question “ consider priority define ethical charter algorithms hr management recruitment ” 92 answered yes.44 ethical thinking algorithmic regulation algorithms regulated question cropped several times recent mon ths general print media among experts fields policy fact merely extension question regulation know environment partly arisen opposition idea standards – legal standards rate evidence given counterculture developed united states 1960s firms ’ insistence innovation must hindered system standards unsuitable reality distrust regulation common thread running past decades one clearest formulations view found john perry barlow ’ famous declaration independence cyberspace 1996. number years thinking contend state actors ’ efforts subject environment ordinary law sometimes mechanically times deploying full-on legal innovations many stakeholders today maintain algorithms arti ficial regulated argue would soon enforce rules bound prove unsuitable would quickly obsolete breakneck speed technological progress taking place legal invention could simply case keep pace truth told though ignores legal reality far-reaching times little known algo rithms uses already governed whether directly indirectly raft legal regulations admittedly see rules scattered across diverse laws codes practice reflecting cross-cutting nature polls carried debate initiated cnil incidentally revealed expectation rules limits comes algorithms rules limits may take forms binding standards example soft regulation “ charters ” adopted company profession sector came across survey conducted cfe-cgc among 1,263 members example 40. setup parliament discussion assignment entrus ted cnil ethical societal issues raised technologies fits squarely context sign commitment think limits standards – whatever form might come – set also shows authority intend give temptation rushing regulation process ending rules meet requirements regard belief alongside emergence uptake thought must given limits way mean law systematically represents approach laying limits cnil ’ perspective case hence wished open debate widely possible include stakeholders also practitioners professionals general able draw recommendations therefore begin exploring main innovations ethical societal issues raise subject first parts report pages follow set review main principles likely address issues well concrete recommendations make today.how respond humans keep upper hand ethical matters raised algorithms respond 45 law already says algorithms challenges identified report tricot commission whose report formed basis french protection act 1978 already drawn attention discussion processing bore challenges raised computerisation state french society risk discrimination exclusion people well risk excessive trust placed computers clearly enunciated beginning along challenges directly connected ability collect store huge amounts debate whether need “ regulate algorithms ” quite simply overlooks fact algorithms governed legislation protection act particular laws forty years already indeed 1978 protection act tricot commission ’ work culminated contains certain number provisions could summarised according three principles – coming single general principle enshrined article 1 “ processing shall service every citizen shall develop context international cooperation shall infringe neither identity man privacy individual liberties ” .these three principles also laid general protection regulation gdpr due come force may 2018. follows first law governs personal required operation algorithms beyond strict stage algorithmic processing words governs conditions collecting retaining data41 well exercise subjects ’ object access rectification order protect privacy freedoms second protection act prohibits machine able make decisions alone inter vention significant consequences involved subjects court judgment decision grant loan example 42. third law provides subjects shall obtain controller logic involved algorithm-based processing 43. beyond protection act older pieces legis lation provide framework series limits algorithms certain sectors precisely insofar regulate sectors 44. question algorithmic col lusion taxing competition regulators today instance completely devoid legal references effectiveness rule law need invent ways proving existence unlawful conspiracy 45. legal provisions prohibiting different forms discrimination drawn wake article 7 universal declaration man also applied natu rally algorithms46 41 principles purpose proportionality security limitation storage period 42 article 10 1978 act article 22 gdpr 43 article 39 1978 act article 15.1 h general protection regulation gdpr provides subject shall obtain controller following “ existence automated decision making including profiling referred article 20 1 3 least cases meaningful logic involved well significance envisaged consequences processing subject ” legal limits laid gdpr particularly concern “ profiling ” decision based solely processing subject certain exceptions 44 little effort could consider health code punishes unlawful practice medicine anyone without medical qualification might apply intelligence-based medical sector could also imagine unlawful algorithm make diagnosis alone pursuant legal provision legislation came turn 19th century response authorities ’ determination crack “ charlatanism ” critics exaggerated promises made companies miss ironic parallels current situation 45 //internetactu.blog.lemonde.fr/2017/02/11/comment-prouver-les-pratiques-anticoncurrentielles-a-lheure-de-leur-optimisation-algorithmique/ 46 “ equal law entitled without discrimination equal protection law entitled equal protection discrimination violation declaration incitement discrimination ” .the debate whether need “ regulate algorithms ” overlooks fact algorithms governed legislation forty years alreadyhow humans keep upper hand ethical matters raised algorithms respond 47 protection act particularly makes enrichment individual profiles harvested social media conditional upon obtaining subjects ’ consent 48 article 14.1a gdpr example strengthens providing intelligible supplied algorithmic processing controller accord.46 limits current legal framework certain number issues raised algorithms never theless represent blind spot law various afo rementioned legal provisions date algorithms process personal consideration collective effects algorithms first point make provisions concern algo rithms extent personal tasks output applies directly subjects particularly case protection act one among french pieces legislation mentioned bear directly algorithms referred “ automated processing personal ” yet many algorithms personal trading algorithms one example impacts algorithms process non-personal likely raise questions others trading algorithms concern sector highly regulated incidentally examples yield insight possible impacts algorithms process personal example cited earlier report see “ question massive dele gation non-critical decisions ” cathy ’ neil ’ algo rithm dreamt plan children ’ meals enables shed light specific challenges associated impact algorithms run computer could also imagine nationwide algorithm aimed planning menus school canteens basis certain criteria cheaper products nutritional quality example although process per sonal kind algorithm could major social economic implications simply deployed law provides guidance dimension date second legal provisions referred concern effects algorithms subjects – i.e individual perspective – make direct mention collective effects.think impact algorithms used electoral mar keting democracy see “ atomisation political community ” although protection act might regarded constitute limiting factor terms impacts47 indirectly speaking without primary objective limits law ’ effectiveness another type limit regulation algorithms identified current legal provisions effectiveness prin ciples supposed uphold fast-moving world strong imbalance supervise algorithms subjects latter struggle exercise obtain intervention context decision made based algorithmic processing obtain logic underpinning operation algorithm series recent debates held view taking reality account given rise pieces legislation general protection regulation applicable may provides seve ral answers question effectiveness law environment – including algorithms concerned48 republic bill adopted october ambition strengthen effectiveness pre-existing principles mind one hand strengthened controllers ’ obligation inform subjects algorithms play stipulates source codes algorithms used government departments must communicable documents thereby firmly establishes notable exception private sector obtain logic involved algorithmic processing enshrined 1978 act.how humans keep upper hand ethical matters raised algorithms respond 49 //www.huffingtonpost.fr/serge-tisseron/les-publicites-ciblees-cest-la-betise-assuree-interdisons-les_a_23220999/ 47 algorithms banned certain sectors question whether algorithms banned certain sectors certain uses discussion ethical issues technologies raise launch event organised debate cnil 23 january rand hindi thus asked whether draw line automating certain occupations ethical grounds highly sensitive nature certain number sectors decisions made within means fairly logically areas question bans could raised accordingly military sector international petition recently calling autonomous weapons banned medicine justice sectors question might asked granted already pointed legislation already stipulates automated decision-ma king allowed comes doctor ’ diagnosis judge ’ decision given still somewhat blurred line support decision-making delegation decision-making question solemn reminder principles seems entirely relevant also calls ban sectors initially strike sensitive serge tisseron recently taken stance personalised targeting adver tising culture fields example accuses “ dooming spectator going round round terms know likes ’ know preconceptions ” targeting would partly responsible “ reducing volume humans disposal form opinion world 49 ” final note ban applied particular algo rithms could bear used similar mora-torium declared french insurance companies genetic renewed kouchner act sector limiting might also solution law ini-tiatives stakeholders maintaining essential “ veil ignorance ” continuing system sharing risk.participants consultation cnil organised montpellier 14 october see “ organisation debate ethical issues algorithms ” identified certain number ethical issues raised algo rithms although stance reveals concerns awareness risks principle generally hostile algorithms intelligence-driven tools day-to-day lives long answers forthcoming advantages mentioned various workshops held consultation day include personalised medical diagnoses streamlined recruitment procedures would thus become neutral simplified allocation higher education places apb filters online platforms manage “ multitude ” many people view capacities ana lysis positive light 63 thus believe “ sharing common good ” worthwhile participants learned consultation day awareness risks grew 32 considered “ tend source error ” end day compared 23 event whilst might fairly modest rise end day devoted ethical issues coin cided form scepticism pos sibility regulating algorithms practice “ law enough ensure oversight across-the-board still resolve abusive practices fact ” .what thinkhow humans keep upper hand ethical matters raised algorithms respond 50 il ’ agissait de “ soumettre les plateformes à une obligation de loyauté envers leurs utilisateurs les non professionnels dans le cadre du droit de la consommation et les professionnels dans le cadre du droit de la concurrence ” les plateformes apparaissent comme des acteurs classant un contenu qu ’ il n ’ pas lui-même mis en ligne 51 le numérique et les droits fondamentaux p.273 278-28148 two founding principles algorithms fairness continued attention vigilance two distinct albeit linked intended outcomes discussions algorithms principles concrete means putting practice article 1 protection act states “ processing shall service every citizen ” today need laying principles achieving general objective guaranteeing serve humans – enhances us rather claiming replace us principles enshrined protection act gave reminder earlier still match issues identified general objective need promote ones beyond observation principles cover full range algorithmic uses practice numerous requirements regarding algorithms raised debate fairness accountability intelligibility explicability transparency etc sign sense inadequacy perhaps even concern set principles following debate two bearing fairness continued attention vigilance stand particularly founding principles principle fairness principle formulated french council state annual report fun damental council state outlined three recommendations calling “ rethink principles underpinning protection fundamental ” first concerned principle “ informational self-determination ” guaranteeing subjects control communication personal since introduced republic bill third principle “ fairness ” applied algorithms restricted manner “ platforms ” 50 according french council state “ fairness consists ensuring good faith search engine optimisation seo ranking service without seeking alter manipulate purposes users ’ interest 51 ” platforms ’ obligations towards users terms fairness principle defined council state par ticularly include one hand relevance seo ranking criteria used platform view providing users best possible service criteria first obligation therefore limits platform ’ scope establishing algorithm ’ criteria second makes provision logic involved functioning algorithm obligation part platform user choose exer-cise definition fairness much grant users lays obligation regard controllers way beginnings principle fairness found 1978 french protection act upholds appears primary requirement terms fairness towards subject algorithm processing addition subjects shall obtain controller logic involved func tioning algorithm subjects must consent processed obligation clearly stipulated 1978 act means must provided “ fairly ” algorithm must function along lines french council state ’ principle fairness appears particularly interesting mentions notion “ users ’ interest ” indeed simply question algorithm saying says principle fairness also limits extent controller determine criteria algorithm operates moreover protection act humans keep upper hand ethical matters raised algorithms respond 52 “ without ignoring trade secrecy platforms would explain general logic involved algorithms users well applicable way users change settings. ” 53 sake settling semantic quibbles let us expression “ fairness algorithms ” rather amounting anthropomorphising technical object algorithm handy shortcut talking fairness algorithm designers processors 54 brent mittelstadt individual group privacy big analytics b. philos technol 30 475. //doi.org/10.1007/s13347-017-0253-7 49 may exercised subject contac ting controller principle fairness quite different since must provided community users outset52 users ’ obligation incumbent upon algorithmic platforms respect fairness could well represent solution problem unbalanced relations controllers algorithms users notion fairness also agenda additional talks led french council cnnum report entitled ambition numérique ambition made proposal aimed setting “ algorithm fairness rating agency ” could rely open network contributors would twofold objective first providing access via one-stop shop whole series already collected various stakeholders well existing tools second creating space reporting problematic practices malfunctions initia tive could one form another provide several benefits knowledge issues balance users algorithmic platforms sharing best prac tices businesses detection regulators contested practices principle extended factor collective effects algorithms regarding definition given council state howe ver seem timely extend principle beyond platforms alone encompass algorithms53 exa mple prevent algorithm assisting doctors medical decisions using least set ting excessive store criterion could appealing optimising bed occupancy hospital light would also merits principle fairness algorithms applied algorithms issues dealt legislation personal protection words would apply algorithms carry profiling users purpo ses personalising output example search engine displaying personalized results .lastly could consider opportunity building council state ’ proposal extending least clarifying notion “ users ’ interest ” commercial economic dimension interest taken board also collective dimension would entail considering algo rithm ’ criteria must also completely odds certain key collective interests particularly outcomes personalization collective benefits previously highlighted collective interests understood two ways one hand could talking interest categories put together big algorithmic analysis ad hoc groups formed cross-linking certain characteristics likely give rise forms discrimination categories currently discussed notion “ group privacy54 ” could view col lective interest terms entire society example exposure cultural diversity diversity opinions could regarded “ users ’ interest ” consumers also citizens members community incidentally would advisable refer specifically “ users ’ citizens ’ interest ” rise machine algorithms principle fairness algorithms – whilst evidently representing solution far major issues concerned – comes substantial stumbling seen algorithms behave problematic ways subjects ’ sometimes even without designers knowing bias discrimination stemming correlations carried system notion fairness part algorithm designers actually usually referring speak “ fairness algorithms ” loses scope moment algorithm behaves way remains inscrutable even designers must possible either speak fairness algorithms strict sense actually mean anything ensure algorithm behave undesirable way even though fully able explain principle mean “ undesirable ” words fair algorithm end generating replicating aggravating form discrimination even happen without designers aware last idea thus much broader initial consi derations raised earlier notion fairness focused commercial competitive concerns amid decidedly unfair practices aimed obtaining advantage manipulating algorithm algorithm ’ criteria must completely odds certain key collective interestshow humans keep upper hand ethical matters raised algorithms respond 50 principle continued attention vigilance principle fairness appears substantial founding principle one continued attention vigi lance methodological must guide way societies model algorithmic one challenges identified chan geable scalable nature machine algorithms characteristic compounded unprecedented potential impact algorithms run computer programs therefore application single model increases unpredictability likeliness surprising outcomes tackle regulate unstable object likely engender effects grows learns – effects could foreseen outset promoting principle “ required continued attention vigilance ” could way address challenge designers operators taking account characteristic aim principle required continued attention vigilance would offset phenomenon excessive trust weakened accoun tability arise front “ black ” algorithms finally principle continued attention vigilance must collective significance algorithms surely algorithmic speaking – complex long “ algorithmic chains ” made myriad stakeholders developers end users companies collect machine purposes profes sionals carry “ process ” purchasers machine solution intend implement etc. phenomenon – similar one unfold along subcontracting chain – plays part eroding sense responsibility simply awareness impacts may result tools example scientist may placed first stages algorithmic chain hold keys understand whole joint process report sub mitted cnil conseil national des barreaux national institution represents practising lawyers france part drew attention fact “ place program implemented different understanding ethics program designer ” inherent processing risk excessive trust comes placed machine often perceived failproof free bias pla gues judgment action tricot commission reflected french protection act already highlighted risk back 1970s several speakers debate also mentioned year algorithmic bringing decrease individual vigilance face possible impacts algorithms must question allowing type indifference grow collective continued attention vigilance must organised regard known phenomena need nip bud also phenomena impacts could necessarily foreseen beginning could quite possibly come changing nature algorithms algorithmic bringing decrease individual vigilancehow humans keep upper hand ethical matters raised algorithms respond 55 //cnnumerique.fr/wp-content/uploads/2015/11/cnnum_fiche_loyaute-des-plateformes.pdf51 engineering principles intelligibility accountability intervention intelligibility transparency accountability given algorithmic transparency oft-cited requirement idea could condition fairness according french council cnnum “ first foremost general man ner principle implies transparency platform ’ behaviour prerequisite ensure service practice lives stated promises relations professionals applies pricing conditions accessing platforms conditions opening services third parties55 ” mentioned concerns much collection processing carried therefore role play certain number decisions algorithms opaque end users processors however rise machine algorithms designers also steadily losing ability understand logic behind results produced therefore two levels issue must addressed legal procedural responses necessary create necessary conditions transparency technical ones also needed many consider idea transparency algorithms simplistic ultimately unsatisfactory transpa rency reduced simple publication source code would still leave vast majority uninitiated general dark underlying logic furthermore least private sector concerned idea transparency clashes bearing intellectual property algorithms indeed likened trade secret disclosed could jeopardise economic model finally companies put forward good reasons revealing source code criteria behind functio ning algorithm google example trying make sure results supplied search engine algorithm pagerank manipulated stakeholders would able turn logic advantage.many specialists therefore recommend giving precedence requirement algorithm explicability intelligibi lity transparency would seem matter direct access source code capa city understand general logic underpinning way algorithm works possible everyone understand logic must therefore explained words rather lines code opinion daniel le métayer french institute computer science automation inria intelligibility entails probing overall logic algorithm specific results also shared dominique cardon “ needs made transparent algorithm statistical technique employed code made even merits also reasons disclosure obligation example search engine optimisation market players trying sway algorithm ’ output helps understand one reasons google publicly disclosed code making computer transparent must involve educational effort bid allow others understand key thing code transparent understand goes comes algorithm objective must transparent ” cnil debate launch 23 january idea intelligibility explicability way transparency case ties prin-ciple fairness might ultimately consider condition latter ’ implementation end introducing obligation terms accountability organising liability could way addressing phe nomenon diminishing accountability algorithms tending encourage idea would roll-out algorithmic system systematically must give rise attribution liabilities assumed operation.how humans keep upper hand ethical matters raised algorithms respond 52 review obligation intervention algorithmic decision-making seen french protection act established principle banning decision-making produces legal effects subject based solely automated processing personal words based solely result provided algorithm ana lysing personal principle also set forth general protection regulation however principle asserted legislative texts stripped much substance broad exceptions56 moreover courts seem invoking article 10 1978 protection act referring less frequently interpretation article tended become less strict past forty years57 amend ment protection act also facilitated automated decision-making banking sector credit scoring example although intervention process still requirement takes form given subject ask denied credit decision reviewed intervention ex-post request without intending value judgment seems pos sible talk form “ drift ” shift threshold society ’ tolerance automated decision-making since 1970s shift legal landscape case law would seem reflection ongoing change result reviewing principle banning decision-making machine alone inter vention therefore required reviewing accommodate uses without giving altogether annual study council state stressed need ensure effectiveness intervention however ensuring effectiveness intervention decision may automatically imply preventing limiting certain applications algorithms indeed purpose automation often optimise speed process replacing humans genuinely effective intervention regards decision thus risks dissuasive effect could fact ask question follows get machines perform tasks previously carried definition without completely away need humans one solution consider effec tiveness intervention ways individual decision could example ensure forms deliberation sides say govern guide algorithms examining questioning configuration well system ’ effects – direct indirect rather bearing individual decision process could thus intervals concern series decisions varying number would lead protection freedoms thought collective individual terms also see solution would tie idea obli gation “ continued attention vigilance ” mentioned earlier shift individual interpretation collective interpretation obligation ensure form intervention automated decision-making could less marked depending sensitivity applications question risk/benefit ratio health sector example consider sensitivity stakes outweigh gains refore could maintaining obligation guarantee intervention decision 56 point gdpr see example wachter sandra brent mittelstadt luciano floridi “ explanation automated decision-making exist general protection regulation ” social science network december 57 see example cnil ’ deliberation gamin draft ruling 1981 cnil rejected ministry health-led draft even guarantees ministry provided ensure effective intervention detection minors risk mental health problems issue rejected could nevertheless wonder reviewing case whether cnil would adopt today time seem come round somewhat idea seeing algorithms feature ever prominently ever higher-stake areas example whilst decision eliminate candidates solely basis automated processing seem far-fetched constitute science-fiction unlikely many people society ready accept it.how humans keep upper hand ethical matters raised algorithms respond get machines perform tasks previously carried definition without completely away need humans 53 principles policy recommendations aforementioned principles put effectively practice following pages list main recommendations came light following debate cnil organised january october rounded consultation reports various institutions france abroad already submitted including opecst cerna cnnum council state cge white house france ia inria general point came fore dis cussions solutions call diverse range actions part various stakeholders algorithm designers professionals businesses authorities civil society end users algorithmic complex socio-technical objects handled long complex chains stakeholders action therefore required across algorithmic chain designer end user via system trainers operators technical organisational approaches algorithms everywhere therefore everyone ’ business law lever solution found rallying stakeholders cause certain number recommendations outlined specify incidentally whether precedence given implementation either law voluntary initiatives various stakeholders participants consultation cnil organised montpellier 14 october see “ organisation debate ethical issues algorithms ” came recommendations largely overlap ones formulated times debate • desire humans maintain control algorithms appears paramount 95 favour excessive delegation decisions algorithms deemed harmful participants ’ view supports aforementioned idea principle continued atten tion vigilance 97 would like “ retain dimension retain dose subjectiveness disengage completely ” 91 believe “ user play role learner time s/he uses algorithm grasp limits demanding developers whenever necessary ” medicine example citizens reckon certain decisions always discussed collegiate manner • improving training algorithm designers certain ethical matters option arose several workshops garnered almost complete consensus 97 participants think “ developers build certain ethical framework practices resist tempting market incentives ” 94 thus call ethical charters regard 56 would like social science experts help developers better gauge impact work society training also concerns algorithm users 82 participants favour mandatory continuing education doctors decision support generally individuals want know understand thus asking lifelong subject order address problems inequality associated objects citizens unanimous urging “ informal education subject ” “ school syllabuses “ literacy ” terms object issues ” .what thinkhow humans keep upper hand ethical matters raised algorithms respond recommandation 1 fostering education players involved “ algorithmic chain ” designers professionals citizens subject ethics training general citizens key role play algorithmic one hand algorithms increasing impact lives particularly well placed spotting abuses enabling understand technologies confident informed way requirement also corresponds demand selves made – underscored consultation organised montpellier cnil 14 october 2017. broad consensus need develop “ literacy ” primary school univer sity level cnnum one stakeholders already making case58 literacy would obviously include basic familiarity algorithms grounding could incidentally given early via exercises necessarily involve using devices • group also strongly underscored need enhanced terms transparency explanation regarding logic involved way algorithm works first participants seem demanding possibility notified time algorithm deployed 88 opinion employer uses algorithm must inform candidates thereof without fail 78 favour source codes made publicly available even though considered insufficient understand results produced algorithm case university admissions online portal “ apb ” example 78 participants call greater practical guidance understand ins outs 85 see users ’ feedback invaluable resource “ improving user-friendliness procedure ” algorithm ’ criterion grounded political choices drawing lots example concealed quite opposite made explicit understandable according 94 participants note although desire transparency unanimous people aware convinced may enough • overwhelming majority participants call regulatory efforts part state identify bias “ prevent malpractice draw statistics make approvals compulsory ” 97 many recommend setting independent perform scientific testing algorithms “ way applies medicines offered sale market ” 84 long term checking regular intervals algorithm “ still meets set objectives ” another idea floated debates 63 favour also strong support 94 laws improve extent ethics taken board law “ codes conduct charters training dialogue ” • participants also highlighted importance civil society organise prepared technological objects instance discussed role associations patients ’ associations healthcare example whistleblowers ’ protection support lent alternative networks online platforms whose algorithms raise questions • lastly discussions revealed strong attachment personal protection privacy question owns uses made deemed pressing among work groups health theme particular also regards employment concern possibility algorithms analyse would collected outside company 58 //cnnumerique.fr/education-2/ 54 think cont humans keep upper hand ethical matters raised algorithms respond 59 assessment policies fostering access social mps gisèle biémouret jean-louis costes suggested “ using anti-fraud tools try reduce non-take-up social ” see report policy assessment oversight committee assessment policies favour access social rights.55 encouraging mediation initiatives local areas also contribute make population widely familiar algorithms words form educa tion including basic grounding algorithms examples initiatives include fing info lab la péniche grenoble coop-infolab pop school lille training algorithm designers algorithm designers developers programmers coders scientists engineers occupy first link algo rithmic chain represents particularly high-stakes stage technical complexity jobs moreover likely make actions opaque therefore difficult supervise players paramount fullest possible awareness ethical social implications work fact even extend societal choices able judge alone yet way workplace economy organised practice tends create silo mentality tasks assigned separate departments likely ignore impli cations activity outside silo means training first essential step algorithm designers able grasp sometimes indirect implications action individuals society thus making aware responsibilities show continued attention vigilance regard could merits including social sciences approach sociology anthropology management history science informa tion communication sciences philosophy ethics issues engineer scientist training courses could benefit inclusion social sciences technical approaches within interdisciplinary laboratories already initiatives way context could mention ensc bordeaux ’ cognitique institute prestigious graduate school includes social sciences engineers ’ training programmes costech stands “ knowledge organisation technical ” université technique de compiègne utc finally guarantee foster forms ethnocentrism vital encourage cultural social gender diversification occupations involved designing algorithms first step getting women working specialities particularly entails efforts increase incen -tives female students access widely training programmes training professionals algorithms make sure links along algorithm chain deployment chain overlooked also necessary provide training professionals required part jobs would particularly involve forearming risk diminished sense responsibility loss autonomy result using tools sometimes work like black boxes whose effectiveness questioned iit crucial guard excessive trust raising awar eness ethical dimensions decision-making process must exclude intervention honing critical thinking particularly sensitive sec tors medicine recruitment justice perhaps marketing antisemitic categories recently generated facebook ’ machine algorithms stark wakeup call sharpness risks training particularly include multidisciplinary mindset consideration specific issues tools raise sector doctor uses ai-based diagnosis support system instance made explicitly aware possible develop ment bias also capable understanding implications tool handling conse quences mistakes.one option could thus create sort “ licence algorithms ” sectors could earned specific training modules administered specialist schools universities raising awareness stakeholders need balanced “ symmetrical ” algorithms similarly would advisable educate stakeholders need balanced symmetrical deploy ment algorithms time latter increasingly rolled crack fraud carrying checks avoid reach mistaken conclusion used monitoring law enforcement purposes actually useful individuals risk would form distrust thrive would ultimately mine deployment algorithms harnessing benefits administrative political leaders must therefore convinced merits tapping potential offered algorithms benefits individuals immediately apparent help improve access detection non-take-up social benefits 59.how humans keep upper hand ethical matters raised algorithms respond humans keep upper hand ethical matters raised algorithms respond 60 least article 39 protection act organising access 61 article 14.1a general protection regulation also provides information.56 recommendation 2 make algorithmic understandable strengthening existing organising mediation users law give us first clues address opa city individuals algorithms profile logic follow grant bank loan exa mple seen provisions pave way initial form intelligibility transparency many years already60 however many analyses agree provisions insufficient effectively demystify algorithm-driven sys tems ensure intelligibility transparency fairness one way tackle challenge would bind sys tem controllers obligation rather merely requested subjects communicate infor mation understandable manner enabling logic involved algorithm grasped already provided fact french republic bill algorithms used authorities61 also seems entirely relevant requirement whether determined law freely adopted stakehol ders concern algorithms process personal users insofar likely significant collective impacts – regardless fact direct impacts individuals see particular “ limits current legal framework ” “ principle fairness ” obligation enshrined law could usefully extended private initiatives setting virtuous cycle motion case stakeholders websites subjects account log could made available “ profile ” processed inferred logic underpinning way algorithm works way subjects could correct update profile personal easily updated legal framework could go hand-in-hand best practices stakeholders help soft law instruments problem algorithms also stems fact algorithmic system controllers vast majority cases reachable accessible practice get hold explanations also tied lack accountability users find impossible hold anyone account therefore necessary organise form “ reachability ” algorithmic particularly systematically identifying within company autho rity team responsible algorithm ’ operation moment processes humans deliberate communication identity contact details person team also necessary ensure easily contacted means respond swiftly requests received addition reachability committed efforts must also made organise mediation dialogue sys tems society along lines ideas developed fondation internet nouvelle génération fing part initiative “ nossystèmes ” fing found “ reaching technical controller enough ” accordingly suggests setting teams dedicated quality user dialogue “ mediation percentage ” algorithms allow economies factoring percentage project ’ budget devoted mediation efforts setup visualisation tools mediation team partnership checks properly understood etc could – via certification procedures – way enhance bestow competitive edge terms image eyes consumers upon virtuous recommendation 3 improve design algorithmic interests freedom algorithm alone even program running algorithm whole algorithmic system need turning attention understand monitor effects many recent discussions stress importance taking design algorithmic account – i.e interface machine user 62 //politoscope.org/ 57 means working design counter “ black-box-like ” nature algorithms assume coming across inscrutable displaying results without putting limits perspective explaining way built algorithms also giving air prestige account neutrality infallibility quick credit machines need instead promoting design conducive empowering individuals autonomy scope think design righting imbalance algorithms create detriment overall design enables us make informed decisions example setting visualisation handing back control users providing better infor mation would one way visualisation tools users understand given recommendations better still receive appropriate recommendations return way placed footing aim give individuals handle criteria least part determining res-ponse provided algorithm perhaps even enabling test different responses according different configurations one example visualisation tool provided debate presentation “ politoscope ” 62 developed complex institute paris-île de france isc-pif politoscope gives general insight masses activity strategy political communities social media twitter particular lifting lid prac tice astroturfing helps offset attempt highly organised groups manipulate social media thereby push certain themes national political agenda way politoscope helping restore balance algorithm view safeguar ding democratic access design whole relationship humans machines adjusted empower us increase ability make informed decisions – opposed taking capacity make choices away us giving machines short giving substance principle continued attention vigilance discussed concept “ testability ” recently suggested fing part “ nossystèmes ” expedition could also represent principle governing design user-friendly virtuous algorithmic allow users full scope act concept enabling users “ test ” playing around settings example could meant giving users university admis sions portal “ apb ” opportunity perform “ practice run ” seeing results given different choices entering final choices could thus imagine online search engine giving users option run-ning several searches according different criteria idea behind testability go key direct understanding – much arguably access source code would indecipherable vast majority us recommendation 4 set national platform auditing algorithms developing algorithmic auditing check compliance law fairness often billed solution ensure fairness accountability broadly compliance law.through design whole relationship humans machines adjusted empower us increase ability make informed decisions humans keep upper hand ethical matters raised algorithms respond humans keep upper hand ethical matters raised algorithms respond 58 would first require building capabilities authorities regard algorithmic auditing concept enforcement committee “ autorité des marchés financiers ” regulates partici pants products france ’ financial markets examined “ soap ” algorithm handing decision dated 4 december regarding firms euronext paris sa virtu financial europe ltd. similarly inspecting activity cnil draws expertise system auditors autorité de la concurrence inde pendent administrative authority specialising supervising anticompetitive practices must also increasingly ground work ability audit algorithms therefore essential authorities utmost open source code deterministic algo rithms – time means disposal increasingly falling short surge demand requires sector-specific regulators audi ting capabilities thus calling cnil intervene behalf today therefore need identify resources state available well different needs pool expertise means hand within national platform platform also tackle challenge raised machine prompting people point solution examining source codes hardly realistic millions lines code analysed auditing necessarily mean opening source codes may also take form ex-post checks results produced algorithms tests using simulated profiles example significant efforts geared towards auditing techniques based reverse enginee ring see next recommendation practice audits could performed algorithm experts would monitor test algorithms checking practise discrimination example given sector audited another solution could involve authori ties accrediting private audit firms basis frame reference private initiatives already running cathy ’ neil already cited several times report set company “ ’ neil risk consulting algorithmic auditing ” whose mission help companies identify correct risks algorithms quite separately requirement perform auditing procedure companies authorities would well advised adopt certification-type solutions certifi cations could fuel virtuous momentum one hand would guarantee algorithms practise fairness non-discrimination would shed light existing efforts set design well proactive appropriate keeping recommen dations going beyond strict legal obligations recommendation 5 increasing incentives ethical launching participatory national worthy cause general interest project encourage explanations functioning logic algorithms policies increasingly providing regulators businesses citizens robust tools checking controlling monitoring impacts algo rithms unpicking logic behind would well worth channelling major investment towards reverse engineering tech niques “ test ” non-discriminatory nature algo rithms ability pre-process reduce risks discrimination pinpointing clearing bias training datasets63 generation algorith mic machines using machine explanations natural language output france transalgo project led inria french institute computer science automation already seeking galvanise action issues developing scientific platform algodiv project algo rithmic recommendation diversity web meanwhile sets provide answers questions raised filter bubbles algorithms harming diversity serendipity nutshell projects setting shed light certain number issues discussed report initiatives combine interdisciplinarity cutting-edge tool supported france along lines initiative led professor katharina anna zweig germany set algorithmic accountability lab addition drawing hard sciences technical sciences sciences 63 construction non-biased dataset year project led open law association partner debate organised cnil 59 perform analyses line idea algorithmic understood predicted monitored context application lab working developing transparent ethical accountable design algorithmic decision-making adm also offers pedagogical tools concerning risks promises adm64 mainstream decision makers alike.65 another example recent creation united states institute within york university examines social implications involvement institute “ partnership ” consortium whose founding partners particularly include amazon apple google ibm microsoft nevertheless highlights close attention paid membership institutes recently pointed former academic cathy ’ neil importance bringing researchers board shed ding light social impacts associated freedom inquiry academics enjoy66 develop infrastructure respects personal data-friendly becoming increa singly important time citizens europe broader extent worldwide also concerned protection personal risks generated various solutions put forward view forging balance based simultaneously strengthening researchers ’ access substantial datasets security begin implies secure spaces accessing purposes training algorithms work along lines opal project undertakes could contribute towards goal project aimed building infrastructure tele operators ’ stored analysed plete safety certified open algorithms made available users broadened community directly accessible people processing thereby guaranteeing protec tion subjects certification algorithms used analyse datasets ethical filtering function particularly makes possible tackle challenges posed terms “ group privacy ” 67 databases accessible stakeholders casd secure access centre used france make authority databases available purposes also solution delved deeper into.launch participatory national worthy cause boost aithe ability access huge volumes forms one cornerstones contrary common belief french legislation provides sufficiently open framework supporting ambitious industrial policy regard possibilities already outlined creation general protection regulation gdpr “ portability ” enables subjects retrieve personal possession private stakehol ders paves way major opportunities still little idea part authorities could act driving forces bringing latter fruition instance could launch national worthy cause key project based contributed citizens exercising portability private stakeholders transferring benefit project general interest state would guarantee project respects freedoms could example back creation management chart modelled fing ’ “ nossystèmes ” project subjects way authorities would start leverage vast potential offered creation – repercussions beyond one project private stakeholders could naturally bring sets table thus play part national worthy cause recommendation 6 strengthen ethics within businesses become today businesses also called identify irregularities adverse effects algorithms far-reaching impacts deployed also expected keep constant watch emerging problems whether imperceptible unnoticed outset providing counterpoint operational perspective aim also gain overview algo rithmic chains given tendency highlighted divide tasks concerns separate compartments following mindset need organise forms dialogue practitioners specialists outside company stakeholders communities involved algorithms alongside researchers social sciences 64 algorithmic decision making 65 laboratory already completed several projects including “ donation ” project “ datenspende projekte ” german //datenspende.algorithmwatch.org/ 4,000 users observed google ’ search results 16 main candidates months running german parliamentary election underlying idea measure impact google ’ personalisation search results confirm invalidate “ filter bubble ” theory 66 //www.nytimes.com/2017/11/14/opinion/academia-tech-algorithms.html 67 previous projects shown anonymised likely lead problematic uses ethical point view targeting population groups – necessarily individuals – ethnic basis contexts conflict actuarial segmentation among others .how humans keep upper hand ethical matters raised algorithms respond humans keep upper hand ethical matters raised algorithms respond 60 several approaches putting requirement prac tice could considered one solution could entail setting ethics committees within companies algorithms far-reaching impacts makeup working procedure mittees key considerations whether reports list members published possible degree independence wide range possibilities.assigning task corporate social responsibility role professional ethics specialists could also option coordination ethical discussions private sector could also ensured networks formed indus tries sectors best practices disseminated emerging problems detected early another idea might involve sector-specific ethics committees organising form ethics watch instead committees set within company – even though guarantees respect would strong networking set compile keep up-todate sector-specific ethical frameworks ethical charters codes professional conduct codes ethics example revise pre-existing codes professional conduct take introduction algorithms account discussions ought return lead addition companies ’ codes professional conduct chapter issues raised algorithms example clarifying draw line designing system settings obligations bearing quality updating datasets used train algorithms intention outlining various possibilities paragraphs show would certainly worth conducting specific debates exact blueprint best proceed evidently several different views regard.what become today businesses also called keep constant watch emerging problems whether imperceptible unnoticed outset humans keep upper hand ethical matters raised algorithms conclusion 61 principles recommendations set end report result summary cnil drew discussions held national pu blic debate oversaw january october help sixty partners policy recommendations expressed broadly calling fullest possible spectrum pu blic private stakeholders light challenges raised algorithms whole civil society citizens businesses associations must get involved pay tention ask questions navigate complex world intention therefore state law could appropriate means applying quite opposite recommendations may interpreted able achieve concrete expres-sion either binding legal framework volunta ry adoption part stakeholders – solutions embracing varying degrees two extremes possible discussions brought two founding principles fore since main ethical challenges raised subsumed merit particular attention first substantial principle fairness algorithms builds principle already proposed french council state see section “ principle fairness ” version factors idea fairness towards users consumers also ci-tizens even towards communities whose lifestyles could affected algorithms whether process personal second methodological principle continued attention vigilance un derstood vague incantation substan tiated response three central challenges facing society one changing unpredictable na ture algorithms “ machine age ” two silo mentality affecting organisation algorithmic chains leads action carried isolation indifference overall impacts algorithmic system diminishing accountability three risk excessive trust placed machines form cognitive bias leads us consider fail-proof free bias principle continued attention vigilance basically aimed organising ongoing state alert societies need adopt regards complex changing socio-tech nical objects algorithmic chains represent state alert means constantly subjecting scrutiny methodical doubt first foremost concerns individuals form links algorithmic chains need given means look-out aware manner always seeking answers society also concerns key players society businesses course model virtuous algorithmic well others owing universal approach came principles could form part generation principles age generation rights-freedoms property social would “ sys tem-rights ” organising dimension underpinning world destined upheld ge neral principles global governance internet infrastructure time france europe setting positions regarding question entirely relevant one.conclusion principles fairness continued attention vigilance could form part generation principles age system-rights organising dimension underpinning world acknowledgements cnil sincerely grateful individuals institutions took part collective thought process partners debate • allistene ’ committee ethics cerna • bordeaux ’ cognitique institute ensc • bordeaux university • caisse des dépôts et consignations cdc • club des juristes thinktank • collège des bernardins • complex institute paris ile-de-france isc-pif • confédération française de l ’ encadrement – confédération générale des cadres cfe-cgc trade union • communication publique • conseil national des barreaux national institution represents practising lawyers france/cnb • conseil supérieur de l ’ audiovisuel independent authority protect audiovisual communication freedom/csa • conservatoire national des arts et métiers leading higher education institution dedicated adult continuing education/cnam • douai court appeal • escp europe iot chair • etalab works france sharing sector • “ familles rurales ” association • federal university toulouse • french association afia • french association employment law afdt • french agency afd • french governmental advisory council bioethics issues ccne • french insurance federation ffa • french national scientific cnrs ’ ethics committee comets • fo-cadres trade union • fondation internet nouvelle génération fing • fotonower • génotoul societal bioscience ethics platform • groupe vyv mgen – istya – harmonie • imagine institute genetic diseases • innovation ouverte par ordinateur innooo • institut mines-télécom imt chair “ values politics personal ” • laboratory collective lica • law department université catholique de lille centre relations risk law • law department université catholique de lyon • ligue des droits de l ’ homme league/ldh • ligue de l ’ enseignement education league • lille 2 university • lille association lawyers • lyon ’ administrative court appeal • microsoft • ministry culture via general directorate media cultural industries dgmic • ministry national education via directorate education dne numéri ’ lab • national academy technologies france • national institute higher studies defence ihedn • national institute higher studies security justice inhesj • national institute applied sciences insa • necker hospital • openlaw association • paris ii university • randstad • centre national gendarmerie school officers creogn • rhône département -level council medical association • renaissance numérique thinktank • school advanced studies social sciences ehess • sciences po lille • sciences po paris • société informatique de france association devoted computer science/sif • future society harvard kennedy school initiative • universcience • visions ’ europe association contributors • arbre des connaissances association • autorité de contrôle prudentiel et de résolution french authority responsible supervision banking insurance sectors/acpr • autorité des marchés financiers authority regulates participants products france ’ financial markets/amf • montpellier méditerranée métropole president philippe saurel • city montpellierthe 37 citizens took part consultation organised montpellier 14 october 2017. jérôme beranger • nozha boujemaa • dominique cardon • jean-philippe desbiolles • paul duan • flora fischer • antoine garapon • roger-françois gauthier • hubert guillaud • rand hindi • jacques lucas • camille paloque-berges • bruno patino • antoinette rouvroy • cécile wendling62how humans keep upper hand ethical matters raised algorithms acknowledgements 63how humans keep upper hand ethical matters raised algorithms events list events organised debate end march beginning october cnil oversaw coordinated 45 events algorithms initiatives designed specifically debate launch others part projects already led various stakeholders – institutions associations centres – issues already striking note concern many stakeholders chose broach algorithms specific sector healthcare employment education example others took overall approach technological subject matter expert workshops limited audience mainstream events general citizens students example alike held throughout process events found cnil ’ website launch event roundtable sessions “ algorithms humans ” “ fairness transparency plurality algorithms ” cnil symposium “ towards forms humanity ” universcience conference “ algorithms law ” lille ii university conference “ choice age big ” sciences po lille visions ’ europe debate “ governance emerging technosciences ” german american conference harvard university debate “ transatlantic perspectives age social media privacy security future political campaigning ” future society harvard kennedy school roundtable sessions “ big resources algorithms agenda ” fo-cadres conference “ fairness algorithmic decision-making ” toulouse iii – paul sabatier university debate “ spell end rule law ” collège des bernadins symposium “ predictive justice ” douai court appeal lille association lawyers law department université catholique de lille workshops “ fairness algorithmic decision-making processing ” labex international centre mathematics computer science toulouse23/01/2017 23/03/2017 25/03/2017 31/03/2017 06/04/201708/04/201718/04/2017 18/04/2017 04/05/201716/05/201719/05/201702/06/2017 debate “ algorithms healthcare ethics ” groupe vyv mgen – istya – harmonie roundtable session “ ethics intersection hr big ” confédération française de l ’ encadrement – confédération générale des cadres cfe-cgc debate “ algorithms employment ethics ” french association employment law afdt day “ ethical algorithms moral requirement competitive advantage ” allistene ’ cerna société informatique de france sif symposium “ non-human age ” paris ii university symposium “ autonomy delegation accountability ” bordeaux ’ cognitique institute ensc workshop “ ethics algorithms implications healthcare ” genotoul bioscience ethics platform crowdsourcing workshop “ law ” openlaw symposium “ many dimensions ” institut mines-télécom values politics personal chair symposium “ security justice challenge algorithm ” national institute higher studies security justice inhesj mock trial roundtable session “ ethique algorithmes justice ” law department université catholique de lyon lyon ’ administrative court appeal study day “ admission post-bac textbook case algorithms ” fondation internet nouvelle génération fing etalab day “ algorithms sovereignty ” allistene ’ cerna day “ ethics ” french national scientific cnrs ’ ethics committee comets french association afia debates algorithms education ligue de l ’ enseignement education league debate morning “ work algorithm era ethics employment ” renaissance numérique randstad symposium “ “ convergences law ” bordeaux university day “ algorithms politics ethical issues forms computing perspective social sciences ” school advanced studies social sciences ehess complex institute ile-de-france08/06/2017 14/06/201716/06/201719/06/201719/06/201721/06/201722/06/201722/06/201722/06/2017 23/06/2017 27/06/2017 28/06/201728/06/201703/07/201705/07/201722/08/2017 24/08/2017 05/09/2017 11/09/2017 13/09/2017 14/09/201764how humans keep upper hand ethical matters raised algorithms events day healthcare ethical regulatory aspects algorithms necker hospital institut imagine roundtable sessions “ algorithms risks discrimination insurance sector ” ligue des droits de l ’ homme league symposium “ ethical issues raised algorithms ” innovation ouverte par ordinateur innooo debate morning “ ethics algorithms compatible value creation iot internet things and/or internet trust ” escp europe iot chair symposium “ ethics ” collège des bernardins debate “ opportunities challenges advanced machine algorithms ” john f kennedy jr. forum harvard kennedy school symposium “ lex robotica boundary robotics law designing humanoid ” conservatoire national des arts et métiers cnam roundtable session “ ethics algorithms ” fotonower symposium “ predictive algorithms ethical legal issues ” centre national gendarmerie school officers creogn consultation “ future medicine age ” rhône département -level council medical association roundtable sessions “ ethics algorithms big ” french agency afd caisse des dépôts et consignations cdc symposium “ algorithms battlefield ” debate-forum “ towards friendly form ” national defence institute higher studies ihedn debate-forum “ towards friendly form ” laboratory collective lica roundtable session “ law responsibility ies ” club des juristes microsoft consultation ethical issues raised algorithms cnil consultation governance future society harvard kennedy school15/09/2017 15/09/201720/09/201720/09/2017 20/09/2017 21/09/201721/09/2017 22/09/2017 26/09/201728/09/201729/09/201704/10/2017 06/10/2017 12/10/201714/10/201707/09/2017 31/03/201865how humans keep upper hand ethical matters raised algorithms events 66how humans keep upper hand ethical matters raised algorithms glossary glossary algorithm description finite unambiguous sequence steps instructions producing result output initial input theories techniques involving « making machines things would require done men ” marvin minsky weak capable simulating one specific task distinguished strong autonomous general could apply capacities problem way replicating strong characteristic – i.e form machine “ consciousness ” big refers conjunction one hand huge volumes become difficult process age techniques enabling processed – even unexpected inferred identifying correlations chatbot computer program converses user example empathetic robots assist patients automated conversation services customer relations machine current application based automated methods whereby computers acquire learn knowledge therefore operate without explicitly programmed supervised machine algorithm learns input labelled humans defines rules based examples validated cases unsupervised machine algorithm learns unlabelled input carries classification free produce output presented pattern variable practice requires trainers teach machine learn graphic layout design linéal 03 20 41 40 76 www.lineal.fr illustrations cc nc geoffrey dorne //geoffreydorne.com/ commission nationale de l ’ informatique et des libertés 3 place de fontenoy tsa 80715 75334 paris cedex 07 tél 01 53 73 22 22 fax 01 53 73 22 00 www.cnil.fr humans keep upper hand ethical matters raised algorithms december',\n",
       " 'humans keep upper hand ethical matters raised algorithms report debate led french protection authority cnil part ethical discussion assignment set republic bill december humans keep upper hand ethical matters raised algorithms december december 2017how humans keep upper hand ethical matters raised algorithms report debate led french protection authority cnil part ethical discussion assignment set republic bill report written victor demiaux contributions yacine si abdallah hhow humans keep upper hand ethical matters raised algorithms foreword2 hopes fears sparked today raised mythological status many imaginaries narratives foresee massive destruction jobs apocalyptic emergence hostile robotic consciousness downfall europe called get overwhelmed global competition others meanwhile pinned dream tailor-made world golden age every thankless repetitive task would delegated machines eden infallible tools would put end illness crime perhaps even political conflict short evil would become thing past myriad guises turn fascinating alarming bright gloomy arguably says fantasies fears future world look like appeal type eschatological rhetoric europe shows extent allows visions future generates power look ahead sometimes lacking political visions deflating hype surrounding one thing mean unaware many upheavals challenges addressed unprecedented tools assistants invade every corner lives safeguarding autonomy decision-making processes face machines sometimes considered infallible detecting discrimination generated unintentionally scalable protecting collective processes instances undermined sheer power personalisation ... challenges multiple implications already tangible prompting questions major social pacts community life founded priority authorities clearly identify challenges suitable solutions may found build technological innovation well-defined vision future idea behind assignment reflect ethical issues raised technologies republic bill set french protection authority cnil 2016. assignment understood undertaken many people pondered even questioned responsibility cnil ethics grasped stated regard highly complex changeable subjects capacity according approach seeking think fundamental principles underpinning life humans societies thus shaping shared social pact complex matter given time ethics eminently collective plural concept specific field health life sciences composition well collegiality principle governing work french governmental advisory council bioethics issues ccne meet need plurality custodian ethical principles set lawmaker forty years ago cnil legitimate lead ethical discussion time technical possibilities raising challenges calling status quo question foreword hhow humans keep upper hand ethical matters raised algorithms foreword 3 isabelle falque-pierrotin chair cnilhowever cnil could lay claim sort monopoly ethical discussions vast cross-cutting subject account held behind closed doors sector could entrusted select ethics committee members – however competent may innovate mindset cnil set collective approach motion several months overseeing debate help partners various sectorial fields health justice ... respect ethics much process outcome thus decided take starting point uses existing questions possible solutions outlined participants debate report recommendations contains written basis comments viewpoints voiced forty events held paris across rest france innovative action also required accommodate need involve general closely discussion since complex world modelling existence ever greater extent entails fundamental societal choices world called citizens included play increasing part cnil therefore organised consultation day montpellier 14 october forty volunteers able add voices polyphony debate first benefit inclusive decentralised approach opened debate widely possible thus helping enhance french society ’ knowledge questions raised algorithms appears crucial since limiting debate expert circles would risk arousing mistrust suspicion particularly regarding increasing complexity fragmentation sociotechnical always clearly foreseeable impacts constantly evolving artefacts enabling fellow citizens become informed critical users technologies utmost importance ethically democratically pragmatically speaking cnil also way continuing assist familiarising french society mission accomplishing 40 years time france setting regarding europe due thing shortly report following several months debate helping lay groundwork collective thought process provides overview issues outlines certain number principles recommendations common enable humans “ keep upper hand ” amid broad-scale digitisation may seem somewhat step reality yet believe precisely firmly focusing joint attention making sure tools designed humans serve humans mindset transparency accountability may discussions fuel way within authorities including villani mission ’ well within various sections civil society way may help shape french model ethical governance humans keep upper hand ethical matters raised algorithms contents4 executive summary innovative approach crafting collective pluralist ethical thought processkey dates glancekey figures glance algorithms today precise definition required clarify debatealgorithms central feature computer science long historyfrom algorithms intelligencesteer discussions towards crucial impacts applications algorithms todayuse promise across sectors ethical issues ethics prefiguration legal standardsautonomous machines threat free responsibilitybias discrimination exclusionalgorithmic profiling personalisation versus collective benefitspreventing massive files enhancing seeking balance quality quantity relevance challenges curated identity challenge respond ethical thinking algorithmic regulationwhat law already says algorithms intelligencethe limits current legal frameworkshould algorithms banned certain sectors two founding principles algorithms fairness continued attention vigilanceengineering principles intelligibility accountability interventionfrom principles policy recommendationsconclusionacknowledgementslist events organised debateglossary57 1011 13 141516 19 21 23 24263134383941 43 4445464748 51 5361626366contents humans keep upper hand ethical matters raised algorithms executive summary 5 report result debate organised french protection authority cnil january october 60 partners associations businesses government departments trade unions etc held 45 events across france view identifying ethical concerns raised algorithms well possible solutions addressing part one report provides pragmatic definition algorithms presents main uses – particular emphasis limelight today traditional ly algorithm defined finite unambiguous sequence instructions producing results output initial input definition covers mul-tiple applications using programs algorithms computer lan guage fulfil diverse functions yielding results web search engine providing medical diagnosis driving car b detecting fraud suspects among social welfare recipients etc contemporary de bate mainly refers class algorithms configured basis machine techniques instructions carried longer explicitly programmed developer instead generated machine “ learns ” input machine al-gorithms perform tasks traditional algorithms incapable picking particular object vast image datasets example un derlying logic remains incomprehensible mystery even wrote debate highlighted 6 main ethical issues • growing autonomy technical artefacts paving way ever complex critical decisions tasks delegated ma-chines conditions whilst may well increasing capacity act also posing threat autonomy free prestige trust placed machines often assumed “ neutral ” fail-proof tempt us hand machines burden responsibility judgment deci sion-making tackle ways complex highly segmented algorithmic might end watering responsibilities • algorithms create bias discrimination even exclusion although phenomena intentional far pressing matter time machine algorithms upon us without us even knowing challenge addressed • ecosystem grown inter net actuarial techniques largely tapped possibilities offered algorithms terms personalisation individuals gained great deal profiling ever finer segmentation mindset personalisation also likely affect individuals also key collective prin ciples forming bedrock societies democra tic cultural pluralism risk-sharing realm insurance • grounded machine techniques ar-tificial requires vast amounts yet aware risks creation massive files poses personal free doms protection legislation therefore advocates approach collection retention personal minimised pro-mise held rethink balance • choice much used algorithmic model thus existence potential bias datasets curated train algorithms paramount importance matter calls us critical attitude avoid placing excessive trust machines • involves increasing autonomy machines emergence forms hybridisation hu mans machines hybridisation terms ac tion assisted recommendation likely physical terms future challenges tion uniqueness indeed possible even speak literal terms “ ethics algorithms ” view class objects humanoid robots likely arouse emotional responses attachment humans part three report considers possible res-ponses outlined debate.it looks firstly principles likely frame benefits empowers humans two foun ding principles come light first substantial one principle fairness builds principle initially proposed french executive summary humans keep upper hand ethical matters raised algorithms executive summary6 council state platforms fair also consi ders collective outcomes meaning algorithmic tool betray community users might consumers citizens whether processes personal second methodical principle conti nued attention vigilance seeks address time challenge posed unstable unpredic table nature machine algorithms well provide answer forms indifference ne gligence watering responsibility highly segmented give rise lastly aimed taking board offsetting form co gnitive bias leads us placing excessive trust prescriptive statements algorithms point organise specific measures procedures ongoing methodical deliberative productive thinking process machines involve stakeholders throughout “ algorithmic chain ” designer train algorithms end users principles appear underpin regula tion complex assistants tools algorithms represent allow also oversight community rounded discussion two en gineering principles particularly relevant comes one aimed rethinking requirement intervention algorithmic decision-making article 10 french protection act organising intelligibility accountability algo rithmic principles set form 6 prac tical policy recommendations intended authorities well general businesses associations example • fostering education players involved “ algo rithmic chain “ designers professionals citizens subject ethics • making algorithmic understandable stren gthening existing organising mediation users • improving design algorithmic in-terests freedom • setting national platform auditing algorithms • increasing incentives ethical launching participatory national worthy cause general interest project • strengthening ethics within businesses 7 national debate ethical matters raised algorithms republic bill gave french protection authority cnil assignment leading dis-cussions ethical societal matters raised rapid technologies cnil decided discussions algorithms age un-beknownst us increasingly creeping every corner lives web search engine results financial orders placed robots markets au tomated medical diagnoses allocation students ap plying universities across areas algorithms work subject algorithms rushed unprecedented manner debate scene garnering widespread media coverage questions algorithm university admissions online portal “ admission post-bac ” trump ’ election campaign strategy role social media spread fake news .ethical thinking concerns decisive societal choices proceed without taking pluralist col lective dimension account – especially deals cross-cutting issue bearing aspects social personal lives would simply feasible bring together within single committee expertise perspectives necessary exami-ning matters raised algorithms sectors varied healthcare education marketing culture defence security example rather holding centralised discussions subjects directly cnil decided adopt original stance leader open decentralised natio nal debate launch organised 23 janua ry thus called interested stakeholders organisations – institutions civil society bu sinesses – host debate event subject would report back cnil aim therefore gather stakeholders ground ethical subjects identified date well ideas addressing sixty partners came forward response appeal launched cnil harking different sectors representing variety setups among could mention “ ligue de l ’ enseignement ” associa tion focused education concerns french insu rance federation ffa french ministry culture dg-mic open law association reflects justice system well trade unions cfe-cfc fo cadres recruitment hr etc.an innovative approach crafting collective pluralist ethical thought process ethical thinking concerns decisive societal choices proceed without taking pluralist collective dimension accounthow humans keep upper hand ethical matters raised algorithms innovative approach crafting collective pluralist ethical thought process humans keep upper hand ethical matters raised algorithms innovative approach crafting collective pluralist ethical thought process8 organised 45 events march october across several french cities well abroad future society harvard kennedy school 3,000 people took part cnil provided overall coherent coordination events events organised debate also opportunity get french society large thinking issues awareness among contemporaries among experts utmost democratic civic importance consultation montpellier 14 october questions raised algorithms intel ligence societal choices implications citizens consultation therefore organised find general think aim round views gathe red various events mainly experts different sectors.a consultation day therefore scheduled 14 octo ber support city montpellier montpellier méditerranée métropole diverse 37-strong citizen panel formed following call applications format adopted sought encourage sharing ideas formation collective opinion procedure enabled participants turn • understand basic concepts behind algorithms • jointly analyse four case studies medicine health care resources personalisation filter bubbles education transparency identify threats opportunities associated using algo rithms • come recommendations ensure algo rithms deployed within ethical framework assess level consensus reached outcomes insights gained presented insets headed “ think ” humans keep upper hand ethical matters raised algorithms innovative approach crafting collective pluralist ethical thought process 9 questions raised algorithms societal choices implications citizens structure report overviews reporting back events organised partners consultation made cnil views diverse stakeholders trade unions associations businesses researchers citizens etc across wide range sectors insurance education justice healthcare thus informed writing report provides overview ethical matters raised algorithms intel ligence current applications potential uses relatively short term well leading debate cnil also responsible reporting back regard decide structure report inevitably entailed making certain choices precedence given providing full fair account different views expressed ex-plains recommendations set end report intended settle debate much leave open certain number options proposals may take form requirements incentives exa mple arbitration thus required aim therefore inform decision-making rather replace cnil also relied documentary draw report often initiated recommendation particular partner articles publications referred cited footnotes reference could also made pages cnil ’ website dedicated ethi cal debate find select bibliographic facts 1. last ly findings certain number studies already carried various institutions france abroad analyzed including opecst french par-liamentary office scientific technological assessment cerna allistene ’ committee ethics cnnum french council french council state cge general economic council white house “ france ia ” inria french institute computer science automation 1 //www.cnil.fr/fr/ethique-et-numerique-les-algorithmes-en-debat-1 humans keep upper hand ethical matters raised algorithms key dates glance 10 “ republic ” bill gives cnil assignment leading discussion ethical societal issues raised cnil names algorithms theme launches round tables bringing together experts subjects first events held partners debate 45 events hosted 60 partners debate cnil organises consultation montpellier 40 citizens cnil presents report “ humans keep upper hand ethical matters raised algorithms ” summarises debate key dates glance 7 october 23 january end march début octobre 14 october 15 december 2017key figures glance 27 paris 14 french regions 4 overseas60 partners 1 consultation day general public45 events 327 221 1 1 1bordeauxcaenparis lille ly n marseille ax-les-termes montpellierpeople attended events nearl y3 000how humans keep upper hand ethical matters raised algorithms key figures glance 11 key dates glance toulouse3key figures glance humans keep upper hand ethical matters raised algorithms algorithms today algorithms today precise definition required clarify debate p .14 algorithms central feature computer science long history p .15 algorithms p .16 steer discussions towards crucial impacts applications algorithms today p .19 uses promises across sectors p .2113 14 precise definition required clarify debate algorithms buzzwords moment – everyone mean definitions examples currently provided debate often fairly vague – even conflicting times situation explained highly tech nical nature subjects however became topics discussion far beyond circles experts specialists traditionally confined hence actually notice lack sort precision terms used indeed austere notion “ ” defined cybernetic cir cles 1950s mainstream understanding term primarily depicted movies hollywood common incidentally pays attention fact “ ” mean thing french english – language expression “ ” invented make sense fact saying algorithms others busy insisting humans using thousands years beyond realities technical projects sup posed denote algorithms come represent mythologies time mere mention enough imply innovation modernity hardly surprising terms often mistakenly associated situations panies eager project appealing futuristic image presenting one ’ business coming within realm many stakeholders today tactic enhance image used years ago expression “ big ” whatever fact matter pro mise held less explicit bone contention researchers entrepreneurs opinion leaders kinds within realm technologies another type confusion return later seems times fuelled stakeholders whose business generally acknowledged coming within sphere latter would appear bent hugely overestimating much opportu nities threats could end gaining complete autonomy designer whole humanity imperilled competent voices rising stamp predic tions compared best fantasies worst lies stances seem divert attention mundane albeit pressing issues raised growing avoiding discrimination protecting personal down-to-earth matters.algorithms todayhow humans keep upper hand ethical matters raised algorithms algorithms today key setting constructive discussion subjects algorithms clearly specify link two subjects 15 algorithms central feature computer science long history strict sense term algorithm des cription finite unambiguous sequence steps instructions producing results output initial input recipe algorithm example dish made ingredients2 records algorithms used solve equations dating back centuries early 3rd millennium bc babylon mesopotamia increasingly digitalised world computer algorithms make possible combine diverse pieces produce wide variety results simu lating changing spread flu winter recommending books customers based choices already made customers comparing images faces fingerprints autonomously operating vehicles space probes etc computer able run algorithm must written computer language coded program sort text comprising written instructions also known “ source code ” program run software compiled form application software generally makes number algorithms inputting computing displaying results communicating software programs etc.algorithms subject poorly grasped french citizens awareness algorithms france fair amount confusion 83 population may already heard half exactly sure 52 85 french people reckon massive part everyday life 65 believe trend set rise years come poll carried french market opinion poll institute ifop cnil january among sample 1,001 people representative french population aged 18 years old level awareness algorithms among french population.survey 83 french people already heard algorithms 2 voir par exemple //www.cnrtl.fr/definition/algorithmehow humans keep upper hand ethical matters raised algorithms algorithms today let us start definition sub jects may appear questionable depending point view interests report looking minimum operational basis discussion prerequisite pragmatically scope algo -rithms raising crucial ethical societal issues words point put forward precise definition pos sible takes account reasons care today makes worthy attention 3 set machine methods attempt model high-level abstractions using structured architectures different nonlinear transformations adopts similar approach functioning neurons hence often hear talk “ neural networks ” 4 credit scoring algorithm apply technique customers ’ loans ’ known characteristics input customers repaid loan indicated algorithm able provide score risk future customers may repay loan 5 algorithm detecting fraud typologies employ technique algorithm given bearing demonstrated fraud able infer similarities produce fraud typologies unsupervised also harnessed identify word sequences different speakers waveband radio programme.from algorithms notions whose changes quite much “ ” today report decision made pragmatically actual uses already made precisely developed swiftly recent years step progress accomplished machine broadly speaking defined “ science making machines things would require done men ” marvin minsky notion officially came 1956 dartmouth conference among cybernetic circles still alain turing ’ article published 1950 computing machinery might considered star ting point latter asked question “ machines think ” researchers emerging field aspired create general – similar one humans – could embedded computers latter would extend far beyond limited number fields tasks progress course history since 1950s continuous begin researchers obliged turn attentions away objective developing general intelli gence strong towards specific tasks solving problems image recognition natural language unders tanding playing games draughts chess go exa mple referred “ weak ” focused one narrow task even look solely form history area applications plain sailing period optimism 1980s gave way “ winter ” 1990s progress faltered account inadequate computing power available particular last years contrary seen series milestones shone spotlight back promise holds alpha go ’ google victory go world champion lee sedol march remarkable symbolic terms achievements unlike chess go lend memorisation large number moves machine could simply reproduce instead gives rise sheer number pos sible combinations.alpha go ’ victory illustrates fact recent breakthroughs made particularly put deve lopment machine technique one applications whereas past programmers break multiple instructions task automated steps involved clearly specified machine involves presenting machine example inputs task wish accomplish way humans train system providing able learn algorithm makes decisions regarding opera tions performed accomplish task question technique makes possible carry much complex tasks conventional algorithm andrew ng stanford university defines machine follows “ science getting computers act without explicitly programmed ” encompasses design analysis implementation methods enabling machine operate via systematic process accomplish difficult tasks grounded machine therefore concerns algo rithms specifically designed behaviour evolve time based input deep subclass machine forms cornerstone recent inroads made latter3 dis tinction drawn supervised machine learning4 input labelled humans given algorithm defines rules based examples validated cases unsupervised learning5 unlabelled input given algorithm carries classification free produce output presented pattern variable supervised requires supervisors teach machine output must produce i.e must “ train ” supervisors often accomplish multitude simple tasks prac tice platforms like amazon ’ mechanical turk examples places recruit thousands “ micro-workers ” sociologist antonio casilli example label vast amounts photographs used train image recognition program google ’ captcha system recaptcha another large-scale example humans employed train machines machine algorithms embraced across growing number sectors road traffic prediction medical imaging analysis.16how humans keep upper hand ethical matters raised algorithms algorithms today 17 example image recognition see inset gives idea paving way automation tasks incomparably plex handled conventional algorithms unlike deterministic algorithms taps receives develop outside help models apply understand situations presented holds promise today sectors generate huge volumes meteorology already countless examples – many fields form recognition accordingly classification spam among incoming messages gmail simple typical example practice google gathers sizeable constantly updated base spam reported users system uses learn determine charac terises spam decide messages filter work google ’ machine translation service company also claims used machine analyse cooling system centres works automation analytical function reportedly enabled 40 reduction amount energy required cool facilities.example image recognition image recognition good example understanding difference conventional algorithms machine algorithms latter often labelled today let ’ imagine want machine able recognise tigers go means classical algorithm would able explicitly describe programming language intellectual operations carry realise looking tiger rather another animal even one lion cat example telling tiger apart cat easy even small child breaking process specify steps necessary recognise tiger words providing algorithm impossible certainly hugely daunting time-consuming challenge technique machine comes involves providing machine large amount examples instance scores photographs tigers well photographs animals dataset machine learn recognise tigers comparing thousands photographs input work entirely criteria recognise tigers photographs may subsequently receive “ supervised ” humans supply machine thousands photographs pre viously labelled showing tigers along others explicitly labelled showing tigers.focus know company like airbus already putting practice today purposes form recognition allow recognise different vessels aerial shot maritime zone goal behind comparing location craft thus identified signals sent beacons detect ships distress looking elude maritime surveillance example interest lies swiftness operation automated requires great deal time resources progress made techniques recent years machines reliable humans identifying ships sometimes difficult tell apart clouds 17how humans keep upper hand ethical matters raised algorithms algorithms today industry nothing particularly gained traction 1980s optimised operation nuclear power plant tank emptying automating puting improving reliability time enabling substantial savings made thanks shorter facility downtimes maintenance chatbots voice assistants siri google assistant alexa among another fast-developing branch capable supplying answering standard questions example applications see machine strictly speaking constitutes disruption conventio nal algorithms machine algorithms whole class algorithms steadily progressing “ programming world world ” jean-philippe desbiolles debate launch cnil 23 january classical algorithms deterministic operating criteria clearly defined people wishing run machine algorithms hand called probabilistic although represent much powerful former output always changing depending basis given changes step going back example tiger see inset possible form trained basis comprises one species tiger may capable recognising tiger belonging another species also feasible assume quite capable bettering skills recognising species tiger comes across ever cases traits common two species.beyond technical differences overall approach algorithms nevertheless remains pertinent deterministic machine algorithms alike raise common questions cases end goal applications making classes algorithm consists automating tasks would otherwise performed humans even delegate auto mated less complex decision-making move away purely technical approach subjects consider consequences social ethical even political implications issues raised largely overlap joint investigation final note many respects algorithms also overlap referred generally vague manner big encompasses immense quantities diverse also techniques processing getting make sense pinpointing unexpected correlations even bestowing predictive capacity similarly inextricably bound immense amounts required train turn process.18 algorithm without blind without algorithms dumbhow humans keep upper hand ethical matters raised algorithms algorithms today 6 two overarching approaches one hand symbolic cognitive science-inspired approach neuroscience-inspired connectionist approach machine neural networks etc. expert gained considerable ground 1980s main advances made recently concern machine learning.steer discussions towards crucial impacts applications algorithms today one sense algorithms tie computer science generally everything tend group term “ ” potentially vast subject neces sary entirely justified limit scope discus sions algorithms currently raising pressing ethical societal questions indeed ethical discussion algorithms meaningful also devotes thought implications social professional contexts pages follow thus focusing solely uses grounded machine – widely discussed today even strictly speaking account whole domain6 moreover strong general included analysis refers capable becoming completely autonomous point even turn humans vision often fuelled apocalyptic mindset inspired movies wake sometimes much older myths frankenstein etc. often connected questions level consciousness machine could attain keeping theme technological singularity strong promoted stances adopted high-profile leaders likes elon musk stephen hawking lastly promotion theme “ singularity ” transhumanist circles extending influence silicon valley lending credence claims machines soon surpass humans yet foremost researchers experts compu ter science france ’ jean-gabriel ganascia among sceptical claims including latter even lambast hypothesis looming strong means evading serious issues – ethical quite simply legal – tangible achievements made weak rising already shortly raising strictly speaking taking terms quite literally would possible include within scope discussions algorithms questions encryption insofar relies algorithms line thinking could led us consider “ blockchain ” integral part subject seemed preferable adopt pragmatic stance guided perception algorithms applications raising problems questions today words chosen limit thought process algorithms immense diversity age today raising issues likely directly concern general private decision-makers alike point view although recommendation algorithms technically account fraction different types algorithms important part question algorithms used esta blish predictive models large amount apply real-time specific cases develop predictions behaviours preferences make possible anticipate consumers ’ needs individual steered towards choice deemed appropriate regard recommendation algo rithms used make suggestions restaurants search engine example take approach thus list main functions applications algorithms likely controversial discussion addresses:19how humans keep upper hand ethical matters raised algorithms algorithms today 7 general protection regulation defines profiling “ form automated processing personal consisting personal evaluate certain personal aspects relating natural person particular analyse predict aspects concerning natural person ’ performance work economic situation health personal preferences interests reliability behaviour location movements ” .• producing knowledge • matching supply demand allocating resources passengers taxi drivers parents childcare places students university places etc • recommending product special offer persona lised way • assisting decision-making • predicting anticipating natural phenomena offences onset illness example significant functions enabled algorithms ’ capacity filter model phenomena identifying patterns massive datasets thus profile individuals7 generally speaking high profile algorithms questions raise today conside red isolation unprecedented volumes available across sectors need sorted harness full potential digitalisation society forms – electronic transactions ser-vices revolution sensors internet things surge smartphone broad-scale roll-out open poli cies – behind phenomenon whilst representing invaluable resource today also poses challenge need recommendations sheer amount available possible profile mere segmentation pre-determined categories longer sufficient light large amount collected subjects quality relevance chosen input algorithms key considerations discussion regard idea autonomisation must also mentioned correctly gauge issues raised algorithms today questions also stem fact algorithms make possible delegate tasks previously accomplished humans automated becoming increasingly “ autonomous ” delegation tasks decisions even conventional algorithms way imply however algorithms free control intervention well truly present algorithms algo rithm ’ configuration choice weighting criteria taken account obtain desired output example although humans longer directly involved suggestion restaurant recommendations platforms using algorithms developers still fundamental role play determine particular importance give places restaurants located rating users supposed match based criteria defined user ’ profile rise machine one step closer autonomisation momentum since machine “ ” writing instructions performs determining parameters guide accomplishing goal latter nevertheless still defined humans.20 algorithms today considered isolation unprecedented volumes available across sectors need sorted harness full potentialhow humans keep upper hand ethical matters raised algorithms algorithms today 21 promise across sectors algorithms growing across sectors economic stakeholders keen promote advantages promise held tools mention examples 8. commonplace uses today particularly concern online search engines road navigation apps cultural recommendation platforms netflix amazon type social media marketing targeted advertising purposes increasingly political campai gning elections regarding healthcare algorithms promoted health surveillance detection epidemics mental health risks increasing talk promises precision medicine personalised therapeutic solutions developed cross-linking patient datasets obtained large-scale cohorts state ’ governing powers also concerned actors example claim provide legal occupations judge instance tools would enable processing case law anticipate outcome trial fine-tune judicial strategy meanwhile police forces france abroad beginning algorith mic tools channel resources towards given area analysis wide media coverage french university admis sions platform “ admission post-bac ” opened general ’ eyes algorithms allocating univer sity places hundreds thousands pupils flow management algorithms challenging teaching practices via ever advanced strategies personalise education via detection potential early school leavers finally job market various stakeholders currently working developing solutions assisting recruit ment matching supply demand particular managing resources without claiming provide exhaustive coverage sub ject countless applications table next page nevertheless gives idea way ’ algorithms ’ main identified functions across different sectors 8 industrial mainly driven two types stakeholders one hand specialist providers services large companies ibm watson giants including gafa investing heavily making central feature services google image recognition automatic speech recognition example .patchy knowledge algorithm general well aware algorithms targeted advertising example 90 respondents wised less aware reliance algo rithms assess “ relationship compatibility ” dating applications 46 respondents establish medical diagnosis 33 example survey carried part debate rural-based family association “ familles rurales ” among 1,076 members.surveyhow humans keep upper hand ethical matters raised algorithms algorithms today 22 education justice health security work hr culture generating knowledgebetter identify learners ’ abilitiesreveal different ways judgments handed regionstap vast amount scientific publicationsidentify unsuspected links solving gendarmerie-led investigations understand social phenomena workplacecreate cultural showpieces painting music fine-tune insurance company customer ’ risk profile matchingallocate higher education places candidates apb allocate patients participation clinical trialmatch list applicants job vacancymatch “ compatible ” profiles dating apps etc predictingpredict early school leavingpredict thelikelihood trial successful potential amount damagespredict epidemics pinpoint predispositions certain diseases prevent onsetdetect at-risk profiles counterterrorism strategy predict future crimes offencesdetect employees likely resign coming monthscreate crowd-pleasers netflix recommen dingrecommend personalised pathways studentsrecommend mediation solutions based profile individuals similar cases pastrecommend career guidelines line individual profilesrecommend books amazon tv series netflix etc.personalise political messages social media assisting withdecisionssuggest judge fitting case-law solution given casesuggest suitable therapeutic solutions doctorsuggest hotspots police forces patrolhelp drivers find shortest route b gps main functions algorithms across different sectorshow humans keep upper hand ethical matters raised algorithms algorithms today 23 ethical issues ethics prefiguration legal standards p .24 autonomous machines threat free responsibility p .26 bias discrimination exclusion p .31 algorithmic profiling personalisation versus collective benefits p .34 preventing massive files enhancing seeking balance p .38 quality quantity relevance challenges curated p .39 identity challenge p .41how humans keep upper hand ethical matters raised algorithms ethical issues 24 ethics prefiguration legal standards notion ethics often attributed different meanings times giving rise certain ambiguity definitions given dictionaries liken ethics morals words standards necessarily intended come within realm law individual behaviour ancient philosophers ethics nothing answer question “ good life ” – i.e guidelines action first foremost concern individual fast forward recent times notion ethics evolved refer something alongside law used stakeholders companies instance ethics set standards laid company obliges abide standards go beyond legal sphere often purpose restate – consciously otherwise – legal standards examples “ ethical ” customer sometimes merely another way saying company legally compliant third meaning attributed notion ethics – arguably relevant within context report – emerged jargon institutions since setup back 1983 french governmental advisory council bioethics issues ccne context ethics comes across guiding process legal matters ethical standard prefiguration legal standard fact lawmaker asks institution engage ethical thinking means soon followed corresponding legislative framework setup ccne law shared key common deno minator creation republic bill provision ethical discussion assignment entrusted cnil backdrop swift technological progress grave uncertainties attitude community subsequently adopting one hand breakthroughs biotechnology first test-tube baby france born 1982 billed “ revolution ” making show measure distrust algorithms three commonly held fears loss control 63 members normativity restriction standardisation recruitment 56 disproportionate collection personal 50 recruitement resources opportunities highlighted including possibility examining applications basis identical criteria 52 said 72 respondents possibility recruited algorithms basis analysis profile compatibility specific job perceived threat 71 thus state definition ethics charter algorithm genuine priority survey carried part debate cfe-cgc trade union executives france among 1,263 members primarily “ metallurgy ” “ banking finance ” federations .survey 72 respondents perceive possibility recruited algorithms threatthe ethical issueshow humans keep upper hand ethical matters raised algorithms ethical issues 25 ethical thought process part law therefore way laying necessary groundwork holding collective discussions social pact latter indeed see founding principles fundamental freedoms equality citizens dignity called question technological shift moves boundary possible impossible calls distinction desirable undesirable redrawn first discussion cnil decided call stakeholders keen express views subjects algorithms ethical issues chosen therefore ones stakeholders raised selves logically already firm feature everyday lives even likely gain even greater ground years come hand forward-looking challenges associated progress still hypothetical transhumanism human-machine hybridisation etc uppermost minds partners involved greatly delved report participants consultation organised cnil montpellier 14 october shared thoughts ethical matters raised algorithms see “ innovative approach crafting collective pluralist ethical thought process ” issues bring light chime largely identified throughout debate seems anxious decision-making processes adopted watering-down liability result algorithms potential “ loss competence ” part doctors employers would come rely heavily algorithms highlighted detrimental consequences mentioned include automated “ management uncertainties ” deemed effective humans capable inability “ manage exceptions ” “ loss sense humanity ” particularly emphasised regard lack appeal options “ admission post-bac ” apb portal reliance sometimes autonomous make decisions stoking fears liability event error “ ” – concern voiced particularly medical sector subject apb members criticise lack transparency explains algorithm serves “ scape goat creating distance make political choices complain choices ” problem personalisation social media collective effects touched context us presidential elections also heightens fear “ one really accountable supervising internet anymore ” danger filter bubbles though brought less often nevertheless mentioned several participants “ resources ” “ platforms ” workshops also spoke risk recruitment “ standardisation ” subsequent streamlining sector well risk boxed online “ profile might hamper personal growth ” lastly subjects bias discrimination exclusion warrant particular vigilance participants ’ view irrespective whether bias question intentional respect recruitment fears algorithm could coded “ according employers ’ objectives employees ’ expense ” unintentional algorithmic tool source concern terms errors could generate .what thinkthe technological shift moving boundary possible impossible calls distinction desirable undesirable redrawnhow humans keep upper hand ethical matters raised algorithms ethical issues 9 strictly speaking remember generally much algorithms execution form computer program 10 debate launch cnil 23 january 2017.26 autonomous machines threat free responsibility beyond sheer number practical applications uses put purpose algorithms alike automatically accomplish task operation involving form “ ” would otherwise carried directly humans words entails humans delegating tasks automatic systems9 case “ admission post-bac ” apb university admissions online portal good example software allocates higher education places high school graduates could considered nothing applying set instructions criteria could well carried civil servants key interest using algorithm instance gain productivity brought delegating machine task would take great deal time resources another interest guarantee uniform impartial application rules defined beforehand allocation available university places indeed implementation rules complex administrative chain command much likely give rise forms arbitrary decision-ma-king even simply different interpretations depending staff applying regard educational policy specialist roger-françois gauthier points apb least merit putting paid “ mafia-like ” system practised preferential treatment 10. apb example classic deterministic algorithm however also harnessed accomplish tasks might otherwise prove costly terms resources example form recognition used identify real time vessels satellite images vast maritime surface areas simple software program thus perform round-the-clock monitoring immense surface areas would otherwise require shift work part several specialists future could possible least technically speaking – already progress united states – assign algorithms task determining threat posed inmate therefore opportunity granting remission next step refer “ predictive justice ” would involve entrusting task making decisions based cross-analysis pertaining certain case case-law data.delegating tasks algorithms contrasting situations immediately becomes concern potential ethical social implications automated varies depending tasks delegated latter conditions shaping delegation accordingly step taken distinguishing cases discussion concentrate think typology task delegation automated grounded two criteria impact individuals task delegated type system task delegated first criterion concerns type impact and/or task delegated automated system might routine mechanical fairly innocuous task sorting series computer files alphabetical order hand task might lose trivial nature prove hugely complex could assume aspects decision take vital importance individual group case involves establishing guidance medical diagnosis two extre mes lies vast spectrum contrasting situations include two aforementioned examples well autonomous vehicle case apb common case automated medical diagnosis examples end spectrum second criterion would whether automated system relies conventional algorithm machine algorithm words degree autonomy system able establish operating criteria also stake extent system ’ ability produce satisfactory explanation output produces typology shows wide diversity situations covered discussion ethical social issues algorithms sheds light sheer range spectrum serious less serious matters algorithm.how humans keep upper hand ethical matters raised algorithms ethical issues 11 bilel benbouzid “ situational crime prevention predictive policing sociology ignored controversy “ 27 delegating critical decisions algorithms absolving responsibility crucial decisions medical diagnoses court judg ments decisions open fire armed conflict could sometimes already abroad particular dele gated automated decisions often already clearly identified legal tradition france doctor thus qualified establish diagnosis would unlawful medical practice applies judge ’ decision legally place delegated automated system mind algorithms endorse role decision “ support ” increase humans laws however solve problems raised delegation decisions ensured predictions recommendations provided algorithms remain nothing supports decision- making action instead leading humans longer held account meaning overall loss free medicine quality decision-making assessed least quantified easily might logically ask much scope autonomy would doctors keep despite recommendation diagnosis treatment supplied cutting-edge decision support system indeed hailed potential diagnose certain cancers analyse x-rays accuracy humans prove correct could there-fore become risky doctor make different diagnosis therapeutic choice one recommended machine case machine would become official decision-maker kind scenario raises question liability transferred machine would need granted legal personality designers doctor still held accountable case although certainly seems resolve legal problem still ultimately lead de facto absolution responsibility sense irresponsibility ethics predictive policing algorithmic software actively developed quest form crime prediction space time goal predict crimes likely occur order provide patrolling guidance law enforcement united states predpol grounded models inspired seismology assess intense risk given location given time startup thus claims factor “ contagious ” dimension spread crime space time predictive potential nevertheless shown limits one hand contagion much smaller impact crime detection after-shocks earthquake structure criminality varies one year next yet nothing dampen appeal help “ handle basis management criteria daily patrolling law enforcement officers ” practice “ predictive stays red map long police yet patrolled location arrival turns blue police officer spent sufficient optimum amount time calculated according resources available finally turns green ” 11 raises major concern risk machine ’ recommendations taken truth require discussion practical consequences insofar algorithm uses victims ’ statements one consequence beefed-up police presence zones population reported crime sustained fashion implies exclusion protection provision certain populations report crime often would also far-fetched imagine type algorithm focusing police attention certain types offence detriment others line critical assessment type tool paramount capacity determine effectiveness models whether crime detected patrol taking cue system outcome could easily falsely interpreted sign tool ’ effectiveness.focushow humans keep upper hand ethical matters raised algorithms ethical issues 12 tim ’ reilly “ open algorithmic regulation ” ed brett goldstein beyond transparency open future civic innovation san francisco code america pp 289-301 13 rouvroy antoinette berns thomas “ gouvernementalité algorithmique et perspectives ’ émancipation le disparate comme condition ’ individuation par la relation ” réseaux 2013/1 issue 177 p. 163-196 14 so-called “ machine objectivity ” actually diluted unassumed subjectivity respect.28 case medicine particularly critical account impact decisions recommenda tions individuals also ins tance machine algorithms play implies underlying processes work potentially incomprehensible people proposed designers selves incidentally cnil-led debate brought controversy light regard concerning ibm ’ watson platform ibm ’ policy stresses watson trained via “ supervised ” words system guided step-by-step mean process monitored opposed unsupervised machine full autonomy determining operating criteria ibm also claims check decision retain certain type experts researching sub ject spoken various organised debates least allistene ’ committee ethics cerna insisted time statements erroneous based current “ output ” produced recent machine lear-ning algorithms explainable explainable concept ongoing also point difficult audit machine system practice might therefore wonder whether algorithms arti ficial undermining traditional figures authority – decision-makers leaders – perhaps even authority rule law trend sometimes actively supported tim ’ reilly among already considering advent “ algorithmic regulation ” 12 city “ governance ” would entrus ted algorithms sites infrastructure citizens would constantly communicate processed thanks smart sensors could streamline optimise community life according so-called “ natural ” laws laws would stem way things really “ immanent mativity ” explained thomas berns antoinette rouvroy13 undoubtedly sheds light temptation turn away normativity towards “ algo rithmic normativity ” driven market incentives discourses extol supposed “ objectivity ” automated comparison judgment always fallible users thus increasingly willing take output produced machine unquestionable truth – actually determined throughout choices criteria types fed system 14.the impact algorithms decision-making could also come different form report submitted cnil conseil national des barreaux national institution represents practising lawyers france highlighted “ care must taken ensure obsession effectiveness predictability behind algorithms lead us designing legal rules categories longer grounds ideal justice readily ‘ codable ’ ” quite possible ongoing shift towards forms “ algorithmic regulation ” holds certain appeal decision-makers delegating decisions machine – credit neutral impar tial infallible – may way remove responsi bility oneself wash one ’ hands need accountable one ’ choices autonomous lethal weapons killer robots could make decision kill battlefield law enforcement purposes throw question particularly sharp relief act killing – even considered lawful situation international conflict enemy armed – remain control direct responsibility humans difficulty potentially traumatic implications person carrying deemed necessary guarantee avoiding abusive practices considerations concern situations tasks decisions delegated machine algorithm traditional deterministic algo rithm also concerned debates apb ’ algorithm provided good example practice apb gives us insight possible process take root societal choices depoliticised neutralised – even though discussion warranted regard controversy focused algorithm particularly wake revelation drawing lots ended carrying certain applicants over-subscribed courses algorithms ever reflection political choices society choices instance choice draw lots allocate places over-subscribed courses result politi cal choice two possible alternatives could put simply selection upon admission university investment increase number available places courses question matches demand words “ code law ” famously asserted lawrence lessig.how humans keep upper hand ethical matters raised algorithms ethical issues 15 subject see mit ’ commendable website provides practical illustration dilemmas //moralmachine.mit.edu/ 16 le monde 29 juin “ le médiateur de l ’ education nationale dénonce la solitude des familles face à apb ” .29 indeed “ neutral ” description ever ascribe algorithm understood broad sense socio-technical system fits inevitably incor porates bias – social political ethical moral – usually meets purposes include commercial dimension designer commonly cited example choice algorithm driverless car might forced make killing occupant pedestrian road illustrates reliance raise certain moral dilemmas moves different stage quandary settled real time person directly involved replaced choice made others elsewhere well beforehand15 intentional purpose setting apb enhanced administrative effectiveness fairer harmonisation allocation higher education places ended evasion society choices configu ration system masked assumed impartia lity algorithm responsible implementing algorithm takes decisions must therefore look ways counter type effect informing target audience example must systematically take care neither exploit hiding behind machine allow insofar tends keep conflicts legitimate debates bay moreover likely behaviours lead feeling inhumanity individuals concerned would risk turning distrust especially pos -sibility contacting managing talking bid “ find solutions heard ” highlighted french mediator national education16 deterministic algorithm one discussed watering-down responsibility illusion crucial decisions choices simply moved configuration stage algorithm tantamount saying control computer code becoming real decision-makers risk power becoming concen trated hands “ small caste scribes ” antoine garapon debate launch 23 january least picture get apb example rate following opening source code autho rities ’ algorithms required republic bill apb ’ algorithm examined etalab mission works france sharing sector became developers taken care document within origin change configuration algorithm case instruction received government authorities nutshell traceability terms accountability organised developers apb example mask fact algorithms tend bring decision-making forward technical stages system ’ design configuration coding system results automatic flawless implementation choices made initially antoine garapon ’ aforementioned concern therefore well-founded demands answers essential design stages become independent decisions made question accountability decision- making set approached slightly different way dealing machine case would better think terms chain accountability system designer user via person feeding training system latter operate differently depending input subject could mention microsoft ’ chatbot tay shut mere 24 hours later release posts social media users begun tweet racist sexist comments needless say working precise share responsibility diffe rent links chain laborious task base condition liability attributed certainty already know outperform algorithms ways undermining traditional figures authority decision-makers leaders perhaps even authority rule lawhow humans keep upper hand ethical matters raised algorithms ethical issues 17 cnil linc la plateforme ’ une ville les données personnelles au cœur de la fabrique de la smart city cahier ip n°5 octobre p. 20 18 cathy ’ neil weapons math destruction big increases inequality threatens democracy crown 2016.30 humans comes certain tasks without properly understanding work result errors might commit rand hindi thus explains “ makes fewer mistakes humans makes mistakes humans would done happened tesla ’ driverless car accident never would happened ” consider bestowing legal per sonality hold users responsible medical sector example means patients would wise over-stress specificity machine case imagine form arti ficial tasked allocating patients within hospital ’ departments determining end hospital stay “ effective ” way possible bound inherent machine system may objectives set regard well weighting guaranteeing many recoveries long term possible minimising rate rehospitalisation short term aiming short hospital stays etc would still choices made explicitly humans question massive delegation non-critical decisions ethical thinking algorithms intel-ligence limited crucial decisions sectors impact humans undeniable medicine justice educational guidance even automotive sector implications terms safety attention also paid algorithms gradually delegating apparently innocuous decisions taken together form substance everyday lives simply account ability operate repeated manner long timeframes vast scales algorithms substantial impact individuals societies whole take criteria underpinning operation basic navigation app example significantly alter form city urban life whole used large number drivers placing implicit trust app map itineraries take repercussions urban traffic spread pollution.the cnil ’ innovation laboratory linc puts way “ aside question collection personal also issue stakeholder ’ loss control planning space manage ment flows beyond notion service general interest individual interests waze app ’ customers taken together sometimes odds local authority ’ policies ” 17 book weapons math destruction18 cathy ’ neil provides particularly meaningful example imagines could draw rules implicitly follows plan children ’ meals diversity green vegetables many kids ’ protest much easing rules sundays special occasions etc. program running algorithm would fine long used automatically generate meal planner limited number people specificity algorithms executed computer programs application program kind used millions people would inevitably powerful potentially destablising effects major social economic balances certain foods would become expensive production others would collapse standardisation production impact agri-food occupations example specific aspect computer algorithms deployed internet age currently living laid bare author altogether challenge addressed deployment anyone deploying algorithms likely used large urged bear mind algorithms compressing time frames one defining features way algorithm works immediacy simplicity least uniformity inexorable character algorithms capable accomplishing task almost immediately simply time takes machine compute also capable accomplishing task large spatial terms everywhere identically respect hold considerable appeal authorities businesses committed effective rational standard way working.how humans keep upper hand ethical matters raised algorithms ethical issues 31 characteristic algorithms also potentially problematic compressing duration spatial dimension process delegated machine also undermine quality action practical examples algorithms used authorities well example predictive justice give clearer idea ambivalence optimising diminishing processes stripped spatial dimension means using algorithm along lines apb platform ’ may certainly authorities ’ point view seen guarantee form simplicity consistency application rules complex chain administration involving many people may instead give rise differences interpretation arbitrary choices might also possible consider something first glance comes across lack effec tiveness sign somehow erratic process something else ’ instead invaluable source decision-makers feedback questions reported charge applying rules observe ground works limits similarly symposium predictive justice orga nised 19 may lille bar law department université catholique de lille douai court appeal certain participants stressed “ knowledge judgments given neighbouring jurisdictions magistrates would contribute towards certain consistency prevent outcome dispute depends knowing whether heard city another ” idea lies ability algorithms handle large amounts case-law made “ open ” reveal disparities application law across different jurisdictions identification disparities judge aware would facilitate consistent application law nationwide yet absolutely certain within certain limits forms regional disparity fact reflect responsible exercising caution part judge intelligent detailed adaptation social realities vary one place next way allowing leeway law applied apart rigid automatic application line thinking could applied idea predictive justice judgment handed idea taken extreme would cir cumvent benefit collective deliberation meaning gained individuals working towards common goal comparing points view deliberations carried juries magistrates solely involve trotting pre-existing arguments way software “ executes ” program time deliberations take simply minor detail resource whose cost kept minimum contrary utmost importance enables juries take board insights course hearing different arguments change opinion shows clearly demonstration film sidney lumet twelve angry men end day seems advisable draw attention users algorithms need heed advantages also disadvantages technologies potentially ambivalent nature think ways overcome bias discrimination exclusion tendency algorithms generate bias turn spawn reinforce discrimination raised significant concerns ques tions essential highlight point since technical also sometimes fuel belief objectiveness valuable since often lacking humans yet algorithms biased sense insofar always reflection – configuration operating criteria training input – set societal choices values debate raging bias discri mination appears magnifying glass shows problems associated key characteristic several recent controversies illustrated type bias particularly shocking way google photos face recognition software thus caused uproar two young african-americans realised one photos tagged “ gorillas ” humans keep upper hand ethical matters raised algorithms ethical issues 19 //usbeketrica.com/article/un-algorithme-peut-il-predire-le-risque-de-recidive-des-detenus 20 //www.propublica.org/article/machine-bias-risk-assessments-in-criminal-sentencing 32 glitch explained type algorithm trained recognise people ins tance likely primarily – exclusively – trained photographs white people examples racist bias exist face recognition software detri ment “ asian ” people result algorithm conside red black person points common object “ gorilla ” trained recognise object “ ” note also deliberate malicious acts part people involved training type algorithm unknown case chatbot tay developed microsoft began post racist sexist tweets hours working based posts internet users algorithms also exhibit gender bias three researchers carnegie mellon university algorithms prevent recidivism predictive justice applications subjected particularly close scrutiny regards management profile alternative sanction tool designed come recidivism risk score prisoners defendants trial although analysis tools us courts since 197 0s automated score calculations making decisions bearing conditional release something words social workers using comp access interface together defen dant answer questions “ defendant think police ” “ defendant ’ friends like ” “ already convicted ” 19 risk score calculated added defendant ’ file propublica website accused northpointe company marketing comp producing biased racist scores20 finding based comparison released prisoners ’ recidivism risk scores actual recidivism rates two years scored rate false positives i.e high score subsequent reoffence observed turned considerably higher former prisoners african-american origin white people.focus international computer science instituteshowed adsense google ’ advertising program generated bias women using testing tool called adfisher created 17,000 profiles simulated browsing web conduct series experiments found women much less likely displayed job ads highly-paid positions men similar levels qualifications experience emerged limited number women received online ads job earning 200,000 year far one-off “ targeted advertising like google ’ ubiquitous shown people could tangible effects decisions make ” says anupam datta co-author study.here exact causes hard pin course conceivable bias result advertisers ’ intentions would deliberately chosen send different ads men women equally possible phenomenon result algorithm ’ reaction given instance well-known social sciences studies already pointed women likely practise self-censorship thus men could tended click often ads highly paid jobs point view algorithm ’ gender bias would therefore originated pre-existing bias society.how humans keep upper hand ethical matters raised algorithms ethical issues 21 //www.bloomberg.com/graphics/2016-amazon-same-day/33 debate organised 24 june génotoul reflects legal ethical questions raised biosciences philippe besse professor mathematics statistics university toulouse made point equal comes personalised medicine databases currently used contain considerable bias one study shown 96 samples taken bases ancestors demonstration bore 1.5 million samples sources bias age since databases tend populated relatively old people gender several recent publications underscoring importance gender effect onset diseases question chromosome x vastly under-represented databases chromosome hardly features philippe besse draws conclusion “ young african woman think consider personalised medicine reach pointless ” .did know third example april amazon found excluded one services free same-day delivery predominantly poor neighbourhoods boston atlanta chicago dallas york city washington outset amazon algorithm analysing disposal shown neighbourhoods question represent profitable areas business even amazon ’ intention exclude services areas predominantly black nevertheless ended outcome algorithm put six large cities becomes “ service area excludes predominantly black zip codes varying degrees … black citizens half likely live neighborhoods access amazon sameday delivery white residents ” 21 boston three zip codes encompassing primarily black neighbourhood roxbury excluded same-day service neighbourhoods surround sides eligible phenomenon explained amazon stressed – quite rightly ’ doubt – curate racial give algorithm put amazon neighbourhoods question exactly decades subject practice known “ redlining ” refers banks systemati cally refusing grant loans african-americans – even solvent – solely basis skin colour residence predominantly minority areas therefore evident amazon ’ algorithm ended reproducing pre-existing discriminations even intentional racism involved configuration algorithms i.e explicit definition criteria determine way func tion sort select recommend may course source bias discrimination see three examples bias generated ’ input poses daunting challenge today referring historical patterns dataset reproduce pre-existing discriminations inequalities therefore quite possible algorithm seeking define profiles recruited could exclude women based set profiles corresponding successful career paths within company past either excluded past tended take career breaks often male colleagues example also bear mind company question irrational kind algorithm could end depriving certain talents ethical implications would become directly tangled question efficiency operation training algorithms – curation implies taken account – seems raise crucial ethical legal issue one efficiency technical nature issue partly overlaps one involving delegation decision-making discussed earlier choosing input training stages clearly entails making decisions could far-reaching consequences makes issue talking specific involves making decisions choices times almost unconscious manner whereas coding tra ditional deterministic algorithm always deliberate ope -the people curating input unaware bias users subjects necessarily wised eitherhow humans keep upper hand ethical matters raised algorithms ethical issues 22 kate crawford “ ’ white guy problem ” york times 25 juin 23 eli pariser filter bubble internet hiding york penguin press 2011.34 ration whoever trains algorithm ways builds way seeing world values least values less directly inherent gathered past researcher kate crawford particular thus lifted lid ingrained social racial gender bias rife among circles training intelli gence today recruited22 goes long way explaining one biggest problems associated bias discrimination algorithms replicate often particularly difficult detect people curating input unaware users subjects necessarily wised either targeted nature job ads mentioned earlier means women involved unaware job ads men receiving time one consequences “ filter bubble ” phenomenon delve later finally make choices underlying logic even existence beyond grasp designers algorithm-generated bias discrimination raise two key questions today firstly postu late least cases ever replicates bias discrimination already ingrained society words case algorithms would ever “ vehicles ” bias – repeating without ever actually creating objection standpoint could least argue deployed potential impact make ideal tools addressing discrimination words great power comes great responsibility mention quite possible could also multiplier effect bias secondly ensure properly detect kind bias already explained times pass unnoticed distinguish bias might regarded acceptable forms society simply tolerate forms mentioned stamp bias effectively whilst making sure algorithms respect fundamental values democratically esta blished societies final point need highlight dimension see crop report individual impacts person also collective impacts algorithms exclusion entire neighbourhoods amazon service provides one exa mple regard algorithmic profiling personalisation versus collective benefits fact algorithms creeping every area lives especially online lives explained increasing personalisation services potential downside personalisation service individuals may indeed undermine inhe rently collective processes underpinning society functioning democracy idea risk-sharing economic order impact algorithms individuals clearly identified written legislation time collective impacts raising questions too.filter bubbles loss cultural pluralism implications “ filter bubble ” sparking widespread debate ever since eli pariser ’ publication subject23 idea useful tasks performed algorithms terms classifying filtering masses fingertips would indirectly erode pluralism cultural diversity filtering based characte -how humans keep upper hand ethical matters raised algorithms ethical issues 24 report csa lab 25 natali helberger kari karppinen lucia ’ acunto “ exposure diversity design principle recommender ” communication society 2016.35 would seem algorithms reinforcing individuals ’ tendencies embrace objects people opinions cultures conform interests reject unknownristics profiles would seem algorithms reinforcing individuals ’ tendencies embrace objects people opinions cultures conform interests reject unknown two levels considered relation “ filter bubble ” phenomenon individual society whole individual level risk person sees compared purely simply associated alter ego one implied personal isolating within bubble recommendations always conforms profile promises access greater amount cultural ever would thus end para doxically cancelled individuals ’ poor exposure cultural diversity practice could occur even individual looking diversity principle french ministry culture dgmic highlights connection “ algorithm-driven recommendations based users ’ actual consumer practices rather desires aspirations ” nevertheless important point many specialists researchers practitioners sec tor either contest idea filter bubbles calling questions asked specific way regard accordingly antoinette rouvroy says “ matter filter bubble unique algorithms highly predictable beings behave regular way makes much easier isolate us inside bubbles isolate profit gained ’ question algorithm configuration also contrary expose us elements would never searched ” state ment debate launch 23 january cnil admittedly evidence alterna tive greatly exploited practice cultural consumer trends based two-sided preference structure one side strong links “ reflecting proven preference previously well identified type ” weak links “ conveying potential affinity type awaits discovery 24 ” predictive algorithms used prominent platforms providing entertaining cultural services netflix amazon spotify etc strong links major categories algorithms consider serendipity key variable consumer choices.dominique cardon meanwhile asserts “ tech nology brought diversity wit hout precedent whole history humanity absurd say facebook isolates people risks involved curious people give curiosity signals encouraged curiosity return hand people show little sign curiosity steered towards less diversity ... risk within certain context certain audience social practices develop algorithm factor enrichment discovery rather gives ” statement debate launch 23 january cnil lastly french ministry culture dgmic points incentive gain compe titive edge “ liberal-individualistic perspective diverse exposure valued simply extends individual choice affords individuals opportunities realize interests ” 25 could limit threats diversity urging stakeholders take challenge filter bubbles find solutions society level taken whole different ways individuals shielded otherness opinions differ – terms politics particular – could problematic quality vitality debate quality diversity overall healthy functioning democracies personalisation could lead extreme fragmentation space disappearance minimum core set shared whole politic enables organisation proper debate .how humans keep upper hand ethical matters raised algorithms ethical issues 26 according pew 61 millennials “ report getting political news facebook ” pew millennials political news social media – local tv next generation june 27 //www-personal.umich.edu/~csandvig/research/eslami_algorithms_chi15.pdf36 age increasing numbers citizens using social media main sometimes means getting information26 stakes high future democratic life true tend surround people similar mind value least traditional press editorial policy informs reader clearly leanings reading current debates subject nevertheless underline fact “ filter bubble ” effects inevitably cases produced algorithms result algorithms configured could well programmed differently given contrary objective exposing individuals strong cultural informational political diversity nature problem may well delayed arrival spotlight indeed quite possible individual live inside bubble without even aware existence filter bubbles likely challenged since individuals feel way comfortable absence contradiction partly due confirmation bias characterising mind cognitive sciences well fami liar words nothing predisposes individual notice caught inside bubble therefore comes great surprise critical statements regar ding “ filter bubbles ” often accompanied stories moment awakening experienced something shock debates filter bubble politi cal outcomes substantial media coverage us presidential elections brexit referendum result months earlier two electoral earthquakes internet users supported hillary clinton opponents brexit particularly shocked find results newsfeed given clue recently august sociologist zeynep tufekci specialises online social movements alone noticing facebook newsfeed made mention story surrounding ferguson even could see hashtag ferguson spreading twitter individuals ’ hazy grasp underlying workings platforms get might considered big part problem one study thus shown 60 facebook users completely unaware editorial activity algorithm actually carries think instead every single friends ’ posts pages follow appear newsfeed.27 reality shown 20 selected according several factors advertising post past interaction user posts considered similar – like comment share – number users done economy makes algorithms purposes personalising services user experience therefore follows mindset poses problem effects considered longer economic point view also cultural political one end goal main platforms using algorithms consumer satisfaction consumer understood homo economicus large-scale political cultural effects algorithms secondary details atomisation political community effect brought algorithms perso nalisation function nevertheless become direct lever certain stakeholders intent exploiting wield influence even manipulate fake news hit headlines donald trump ’ campaign – although directly resulting algorithms – spread gain traction within echo chambers formed social media search engine algorithms directly still sophisti cated political campaigning software able target voters precisely ever leads potentially unprecedented fragmentation political messages henceforth crafted attention atomised individuals practices cambridge analytica firm work trump ’ presidential campaign forefront uses made algorithms electoral purposes see inset increasing tailoring political narrative individuals ’ profiles thanks ’ growing capacity curate messages based profiles prompting serious questions see form manipulation laying limits regard view practices inevitable side effects technological shift difficult regulate require us think ways counterbalance go see theme filter bubble flip side algorithmic personalisation means filter bubbles fragmentation also occur sectors cultural consumption media politics.how humans keep upper hand ethical matters raised algorithms ethical issues 37 algorithms political campaigning election campaign software based predictive algorithms analysing electoral increasingly harnessed recent presidential elections united states well france far cry traditional campaign methods highly targeted political messages conveyed voters accomplished examples individual profiling identified united states already presidential elections barack obama ’ campaign teams scores datasets disposal virtually voters analysing harvested social media sites brokers cambridge analytica could sent thousands extremely personalised pro-trump messages space one evening28 although company subsequently struck tone aimed downplaying initial claims incident still lifts lid underlying trend likely grow future france principles governing personal protection nevertheless limit extent individual targeting software develop practice since consent prerequisite collection incidentally press release november cnil gave reminder rules using social media political communication purposes 29. filter bubbles cross-cutting challenge questions raised filter bubbles exclusive culture political sectors prediction recommendation functions work algorithmic embedded ecosystem today likely spawn self-fulfilling prophecies enclose subjects within “ predicted ” destiny form isolation possible consequence future uses analytics adaptive without casting doubt promises techniques quite reasonable us question possible effects claiming define paths basis student ’ profile predictions established application mathematical model profile risk prediction becomes self-fulfilling student sees acade mic professional future mapped soon analysis made highlighted roger-françois gauthier “ analytics prediction could lead pupils confined within certain pathways france enough attention paid problem – need make sure students subject determinism question values written algorithmic fundamental 30 ” way possible associate filter bubble idea potential impacts algorithm resources recruitment sector laurence devillers thus speaks risk “ standardisation pro files ” algorithm – imprudent algorithm – might pose recruiter ways would latter would fall victim bubble containing solely profiles predefined advance would deprived measure serendipity inherent recruitment process insofar bring fore profiles whilst match criteria set beforehand end much offer profiles spotted growing part selection candidates delegated automated 28 //www.theguardian.com/politics/2017/feb/26/robert-mercer-breitbart-war-on-media-steve-bannon-donald-trump-nigel-farage 29 //www.cnil.fr/fr/communication-politique-quelles-sont-les-regles-pour-lutilisation-des-donnees-issues-des-reseaux 30 statement debate launch 23 january cnil.how humans keep upper hand ethical matters raised algorithms ethical issues 31 antoinette rouvroy applies concept proposed john rawls establish thought experiment considering moral problem insurance sector 32 “ algorithmes et risques de discriminations dans le secteur de l ’ assurance ” algorithms risks discrimination insurance sector event organised ligue des droits de l ’ homme ’ league 15 september 2017.38 preventing massive files enhancing seeking balance algorithms daily basis work proces sing scores including significant proportion personal traces online browsing using smartphones credit cards quest ever better performing algorithms calling increasing collection processing retention personal might therefore wonder whether might sooner later run counter ethical principles enshrined law since 1978 french protection act consumes reams upon reams requires large memory i.e databases retain long possible principles 1978 act refer means principle specifying purpose minimisation personal demutualisation algorithmic personalisation poses specific challenge insurance sector trend towards ever per sonalised services would seem calling question principle mutualisation insurance social pact founded group individuals agree insure i.e share risks supposes risks remain least partially unknown insure without knowing neighbour contract disease incurring significant health expenses greater segmentation enabled masses generated individuals ’ behaviours online social media particular line harvested smart wristbands example would tendency lift “ veil ignorance ” 31 underlying pooling insurance risks basic level segmentation helps maintain might innovations beget forms discrimination exclusion people deemed “ risk ” could lumbered higher rates even denied insurance cover altogether furthermore associating type behaviour risk developing particular illness could end penalising individuals adopting lifestyle deemed “ risk ” smoking following diet considered high fat sugar question would bear limit come across excessive standardisation individual behaviours would considered “ unhealthy ” risk would algorithms via correlations make datasets end laying one accepted set norms individual behaviours could deviate paying higher insurance premium unlike choice raising price tobacco example smoking considered cost community decisions would involve collective deliberation result directly input approach sort would pletely away collective social determinants behaviours focusing solely accountability individuals risk factors associated individual ’ environment genetic makeup would likely lead inevitable discrimination exclusion insofar completely hands individuals question although race “ risks ” could therefore esca late insurance companies doubtful good thing latter whole merits mutualisation insurers according florence picard institut des actuaires french institute actuaries “ strictly groups segmented greater risk mutualisation aim risk controlled greater segmentation greater room error32 ” .how humans keep upper hand ethical matters raised algorithms ethical issues 39 33 debate organised génotoul toulouse 24 june 2017.quality quantity relevance challenges curated algorithmic dependent input whether personal otherwise given process produce output short characteristic raises three associated albeit separate challenges bearing quality quantity relevance supplied matter quality processed algorithms straightforward difficult understand incorrect quite simply date lead errors malfunctions varying gravity depending sector question mere dispatch targeted advertising match actual profile incorrect medical diagno sis ensuring quality input algorithmic thus challenge set take ever greater importance machines become ever autonomous costly challenge corrup tion might well result tangible technical glitch caused damaged sensors collecting problem stemming interest stakeholders introducing bias input temp tation negligence regard must taken seriously especially areas impact poor quality might immediately perceptible resources recruitment regard reliability collection well limitation retention period said necessary safeguards protection subjects freedoms principles 1978 act also set forth general protection regulation poised come force may provide general balance allows certain amount flexibility overall one example heighte ned security measures certain extent consi dered offset longer retention period said possibility sheer technological change brought intel ligence calls state affairs question example leaps bounds made precision medicine seem conditional upon compilation ever larger databases terms numbers subjects amount variety retained latter way epigenetics thus claims combine approach relying individuals ’ genetic approach takes environmental account – i.e concerning setting even lifestyle “ patient ” assuming notion still means something context increa singly “ prediction ” promise predictive medicine obtaining detailed profile possible indi vidual disorder able compare individuals similar profiles objective iden tifying appropriate treatment patient could go far maintain healthcare benefits pursued entails compilation vast databases yet guidelines stating collection stop medical record genome epigenetic – i.e environmental living habits living environ ment diet etc. going back many years note type dilemma way exclusive medicine also issue addressed similar angle security policies example requirement identify suspects seems collection bigger bigger individuals question concerns balance struck protection freedoms protection personal medical progress report seek determine balance inasmuch warrants in-depth discussion – one would include assessment precisely much progress expected made precision medicine philippe besse professor mathematics university toulouse believes made available medi cal national health system snds sufficient making progress case limited complexity living organism – level far hype certain prophecies33 humans keep upper hand ethical matters raised algorithms ethical issues 40 available professional social networks must regarded inexhaustible resource must instead questioned given people ’ tendencies embroider cv alternatively lack updates negligence also comes confidence user output produced machine deemed objective competent humans quantity available another factor detri mental quality output produced algorithms cathy ’ neil refers regard exa mple local authority united states used algorithm-based program assess teachers program resulted laying-off teachers turned good reputation within local communi ties worked one main reasons algorithm used assess annual progress teacher would need much concerning dozen students limited number cases statistical value situation many different variables likely explain one hand teacher ’ performance poor grades student relationship problems family problems health problems etc. value found result gives decision-makers sense making rational objective effec tive decisions prestige machine pretext way mean collection constitute end per se cases would value variety simply large quantity case algorithm gps application example pertaining millions vehicles following route less much smaller set vehicles travelling along greater variety routes lastly question relevance less truthfulness bias introduced curated already shown see “ bias discrimination exclusion ” may entirely true women lead uninterrupted high-level career particular company taking fact sign women ’ ability future accomplish successful careers company plainly amounts biased approach case dataset question incorporates forms inequality and/or discrimination ignoring type bias would equate allow phe nomena keep going.what becomes apparent three challenges promise held algorithms come bear utmost stringency practised collection processing used stringency along investment material resources may overlooked certain stakeholders poses evident risk algorithms often described sources “ objective ” “ neutral ” truth example algorithm used assess teachers united states highlighted cathy ’ neil methodological negligence part algorithm ’ designers promoters resulted users placing excessive trust devoid critical thinking algorithm focusing solely need obtain quota teachers dismissed system yet although ensuring quality relevance input given algorithms thus strikes ethical requirement ultimately also condition sustainable utility algorithms users wider society people become sceptical algorithms age young people faith oppor tunities harboured algorithms 68.5 18-24 year olds believe opportunities outweigh potential threats however 36 55-64 year olds consider benefits greater risks algorithm applications viewed favourably youngsters 75 18-24 year olds think recommendations good thing online purchases versus 48 whole panel 50 choosing soulmate versus 26 survey carried part debate rural-based family association “ familles rurales ” among 1,076 members.surveyhow humans keep upper hand ethical matters raised algorithms ethical issues 34 meaning general rule assessing respond situation – deontology consequentialism – set rules fulfilling role – kantian ethics buddhist ethics example.41 identity challenge idea irreducible uniqueness challenged autonomisation machines one hand increasing hybridisation humans machines ethical machines boundaries humans machines firstly begin questioned concept “ ethical machine ” appears radical way address ques tions raised potential delegation decisions auto nomous machines making machines “ ethical ” would one solution problems touched earlier report line thinking probes question whether even possible establish ethi cal framework34 programming machine words possible automate ethics emerged debates one key issues currently grabbing attention community researchers highlighted gilles dowek cerna study day organised “ collège des bernardins ” 20 september 2017. famous trolley problem frequently crops discussions subject know dilemma involves trolley brakes hurtling slope trolley arrives junction depending two tracks goes either kill one several people person possibility pulling lever switch tracks therefore choose one two possible scenarios react interest thought experiment give rise whole host variants lone person bound one two tracks turned close 5 100 people track easy see similar dilemmas applied autonomous vehicles soon expected taking roads according principles car faced ethical dilemma type “ choose ” react trolley problem reveals extent different “ ethical ” choices possible kind situation would anticipated stage system ’ would course possible provide answer surely specific ethics precisely concerns previously unencountered situations possibly involving conflicts values solution must worked subject play antigone comes mind ethical conflict family loyalty civic duty ’ point always worked heat moment ’ therefore make whole hypothesis establishing pre-defined ethical framework somewhat delusive least implies implicit conception part far straightforward let us say time expressions “ ethics algorithms ” “ ethical algorithms ” taken literally contain measure anthropomor phism since attribute capacities machines opinion expressions risk skewing debate instead focusing requi rements met humans design train roll algorithmic therefore seen merely handy metaphor taken literally however pointed gilles dowek example using type metaphor considered entirely justified insofar acknowledges growing autonomy need establish extent possible ethical framework programmed algorithms end day even possible code ethics machine meaning machine able respond certain way ethical situation envisaged beforehand stage also tackle situa tions applying ethical thinking choice ethics coded would remain responsibility humans real challenge make sure ethical choices made stage commandeered “ small caste scribes ” antoine garapon sheer algorithms rolled age makes democratic ques tion utmost importance.how humans keep upper hand ethical matters raised algorithms ethical issues 35 question hybridisation humans artefacts socrates already commenting plato ’ phaedrus algorithms helping shape identity way writing affects memory skills constitutes silent artefact incapable slightest explanation idea strictly separate “ identity ” objects questioned therefore necessarily imply radical concept 36 gérard berry “ non l ’ artificielle ne menace pas l ’ humanité ” interview le point 18 may 37 strong parallels issue one raised political communication models supposed tailor candidate ’ message expectations targeted profiled individual 38 sherry turckle alone together york basic books january 39 serge tisseron le jour où mon robot ’ aimera vers l ’ empathie artificielle paris 2015.42 hybridisation humans machines rethinking identity one way consider ethical question applied algo rithms might view light statement – set article 1 french protection act – “ shall infringe identity ” report previously looked problems associated way humans organise action machines – age-old question gained fresh currency emergence ever “ autonomous ” machines age algorithms intelligence35 point underscores fact depending technologies developed one components identity dignity – namely freedom responsibility – may well impacted rise form machine “ autonomy ” obviously needs carefully qualified gérard berry professor “ collège de france ” “ algorithms machines languages ” chairholder puts way “ one day told machines talk autonomous give rise form life one saying machines gain autonomy capacity creative thinking ’ know either – long way kind life talking 36 ” could ask whether technological course already set prompting questions relevance notion “ identity ” insofar implies watertight separation non-human issue “ legal status robots ” already raised legal experts recently examined parliament delvaux report comes prospect possible blurring lines constitutes response post-hu manist arguments humanist tradition could admittedly fire back machine autonomy nothing illusion today solely metaphor intended des-cribe complex object ultimately masks real liability action – however watered fragmented may become beginning hybridisation humans machines taking place terms action atten tion also called broaden future factor upcoming physical form hybridisation algo rithms humans even animals smart communicating implants physical hybridisation another stage evolutionary path along already bound ongoing interaction linking us whole host algorithmic processes finally theme unclear boundary humans things rather humans machines already come crystal-clear fruition phenomeno logical context certain recent robotic application trials intend give robots appearance humans one example robot pepper firm aldebaran designed used shopping centres interact customers directly tied subject algo rithms entire field geared towards designing empathetic robots capable perceiving emotions analysing face voice example adapt behaviour mood interlocutor raises question limit lies one hand benefits form capable understanding adapting moods interlocutors form manipulation relying technical engineering capable exploiting emotional vulnerabilities37 second question related first know extent capacity illusion unique techno logies imbalance exist robots people whose emotions read make morally acceptable sherry turckle professor mit maintains humans readily attribute subjective sensitive side robots38 strong temptation aging societies increasingly entrust care elderly type robot france serge tisseron devoting critical thought technologies39 whatever answers found questions seems essential way hide societal choice political dimension weighed decision robots assist vulnerable members societies instead investing types resources time staff .how humans keep upper hand ethical matters raised algorithms ethical issues depending technologies developed one components identity dignity – namely freedom responsibility – may well impacted algorithmes et ia un objet mal connu des français un sondage mené par l ’ ifop pour la cnil en janvier auprès ’ un échantillon de 1001 personnes représentatif de la population française âgée de 18 ans et plus permis ’ estimer le niveau de notoriété des algorithmes au sein de la population française les algorithmes sont présents dans l ’ esprit des français mais de façon assez confuse si 83 des français ont déjà entendu parler des algorithmes ils sont plus de la moitié à ne pas savoir précisément de quoi il ’ agit 52 leur présence est déjà appréhendée comme massive dans la vie de tous les jours par 80 des français qui considèrent à 65 que cette dynamique va encore ’ accentuer dans les années qui viennent.enquête 83 des français ont déjà entendu parler des algorithmes ethical thinking algorithmic regulation p .44 law already says algorithms p .45 limits current legal framework p .46 algorithms banned certain sectors p .47 two founding principles algorithms fairness continued attention vigilance p .48 engineering principles intelligibility accountability intervention p .51 principles policy recommendations p .53how respond 43how humans keep upper hand ethical matters raised algorithms respond 40 question “ consider priority define ethical charter algorithms hr management recruitment ” 92 answered yes.44 ethical thinking algorithmic regulation algorithms regulated question cropped several times recent mon ths general print media among experts fields policy fact merely extension question regulation know environment partly arisen opposition idea standards – legal standards rate evidence given counterculture developed united states 1960s firms ’ insistence innovation must hindered system standards unsuitable reality distrust regulation common thread running past decades one clearest formulations view found john perry barlow ’ famous declaration independence cyberspace 1996. number years thinking contend state actors ’ efforts subject environment ordinary law sometimes mechanically times deploying full-on legal innovations many stakeholders today maintain algorithms arti ficial regulated argue would soon enforce rules bound prove unsuitable would quickly obsolete breakneck speed technological progress taking place legal invention could simply case keep pace truth told though ignores legal reality far-reaching times little known algo rithms uses already governed whether directly indirectly raft legal regulations admittedly see rules scattered across diverse laws codes practice reflecting cross-cutting nature polls carried debate initiated cnil incidentally revealed expectation rules limits comes algorithms rules limits may take forms binding standards example soft regulation “ charters ” adopted company profession sector came across survey conducted cfe-cgc among 1,263 members example 40. setup parliament discussion assignment entrus ted cnil ethical societal issues raised technologies fits squarely context sign commitment think limits standards – whatever form might come – set also shows authority intend give temptation rushing regulation process ending rules meet requirements regard belief alongside emergence uptake thought must given limits way mean law systematically represents approach laying limits cnil ’ perspective case hence wished open debate widely possible include stakeholders also practitioners professionals general able draw recommendations therefore begin exploring main innovations ethical societal issues raise subject first parts report pages follow set review main principles likely address issues well concrete recommendations make today.how respond humans keep upper hand ethical matters raised algorithms respond 45 law already says algorithms challenges identified report tricot commission whose report formed basis french protection act 1978 already drawn attention discussion processing bore challenges raised computerisation state french society risk discrimination exclusion people well risk excessive trust placed computers clearly enunciated beginning along challenges directly connected ability collect store huge amounts debate whether need “ regulate algorithms ” quite simply overlooks fact algorithms governed legislation protection act particular laws forty years already indeed 1978 protection act tricot commission ’ work culminated contains certain number provisions could summarised according three principles – coming single general principle enshrined article 1 “ processing shall service every citizen shall develop context international cooperation shall infringe neither identity man privacy individual liberties ” .these three principles also laid general protection regulation gdpr due come force may 2018. follows first law governs personal required operation algorithms beyond strict stage algorithmic processing words governs conditions collecting retaining data41 well exercise subjects ’ object access rectification order protect privacy freedoms second protection act prohibits machine able make decisions alone inter vention significant consequences involved subjects court judgment decision grant loan example 42. third law provides subjects shall obtain controller logic involved algorithm-based processing 43. beyond protection act older pieces legis lation provide framework series limits algorithms certain sectors precisely insofar regulate sectors 44. question algorithmic col lusion taxing competition regulators today instance completely devoid legal references effectiveness rule law need invent ways proving existence unlawful conspiracy 45. legal provisions prohibiting different forms discrimination drawn wake article 7 universal declaration man also applied natu rally algorithms46 41 principles purpose proportionality security limitation storage period 42 article 10 1978 act article 22 gdpr 43 article 39 1978 act article 15.1 h general protection regulation gdpr provides subject shall obtain controller following “ existence automated decision making including profiling referred article 20 1 3 least cases meaningful logic involved well significance envisaged consequences processing subject ” legal limits laid gdpr particularly concern “ profiling ” decision based solely processing subject certain exceptions 44 little effort could consider health code punishes unlawful practice medicine anyone without medical qualification might apply intelligence-based medical sector could also imagine unlawful algorithm make diagnosis alone pursuant legal provision legislation came turn 19th century response authorities ’ determination crack “ charlatanism ” critics exaggerated promises made companies miss ironic parallels current situation 45 //internetactu.blog.lemonde.fr/2017/02/11/comment-prouver-les-pratiques-anticoncurrentielles-a-lheure-de-leur-optimisation-algorithmique/ 46 “ equal law entitled without discrimination equal protection law entitled equal protection discrimination violation declaration incitement discrimination ” .the debate whether need “ regulate algorithms ” overlooks fact algorithms governed legislation forty years alreadyhow humans keep upper hand ethical matters raised algorithms respond 47 protection act particularly makes enrichment individual profiles harvested social media conditional upon obtaining subjects ’ consent 48 article 14.1a gdpr example strengthens providing intelligible supplied algorithmic processing controller accord.46 limits current legal framework certain number issues raised algorithms never theless represent blind spot law various afo rementioned legal provisions date algorithms process personal consideration collective effects algorithms first point make provisions concern algo rithms extent personal tasks output applies directly subjects particularly case protection act one among french pieces legislation mentioned bear directly algorithms referred “ automated processing personal ” yet many algorithms personal trading algorithms one example impacts algorithms process non-personal likely raise questions others trading algorithms concern sector highly regulated incidentally examples yield insight possible impacts algorithms process personal example cited earlier report see “ question massive dele gation non-critical decisions ” cathy ’ neil ’ algo rithm dreamt plan children ’ meals enables shed light specific challenges associated impact algorithms run computer could also imagine nationwide algorithm aimed planning menus school canteens basis certain criteria cheaper products nutritional quality example although process per sonal kind algorithm could major social economic implications simply deployed law provides guidance dimension date second legal provisions referred concern effects algorithms subjects – i.e individual perspective – make direct mention collective effects.think impact algorithms used electoral mar keting democracy see “ atomisation political community ” although protection act might regarded constitute limiting factor terms impacts47 indirectly speaking without primary objective limits law ’ effectiveness another type limit regulation algorithms identified current legal provisions effectiveness prin ciples supposed uphold fast-moving world strong imbalance supervise algorithms subjects latter struggle exercise obtain intervention context decision made based algorithmic processing obtain logic underpinning operation algorithm series recent debates held view taking reality account given rise pieces legislation general protection regulation applicable may provides seve ral answers question effectiveness law environment – including algorithms concerned48 republic bill adopted october ambition strengthen effectiveness pre-existing principles mind one hand strengthened controllers ’ obligation inform subjects algorithms play stipulates source codes algorithms used government departments must communicable documents thereby firmly establishes notable exception private sector obtain logic involved algorithmic processing enshrined 1978 act.how humans keep upper hand ethical matters raised algorithms respond 49 //www.huffingtonpost.fr/serge-tisseron/les-publicites-ciblees-cest-la-betise-assuree-interdisons-les_a_23220999/ 47 algorithms banned certain sectors question whether algorithms banned certain sectors certain uses discussion ethical issues technologies raise launch event organised debate cnil 23 january rand hindi thus asked whether draw line automating certain occupations ethical grounds highly sensitive nature certain number sectors decisions made within means fairly logically areas question bans could raised accordingly military sector international petition recently calling autonomous weapons banned medicine justice sectors question might asked granted already pointed legislation already stipulates automated decision-ma king allowed comes doctor ’ diagnosis judge ’ decision given still somewhat blurred line support decision-making delegation decision-making question solemn reminder principles seems entirely relevant also calls ban sectors initially strike sensitive serge tisseron recently taken stance personalised targeting adver tising culture fields example accuses “ dooming spectator going round round terms know likes ’ know preconceptions ” targeting would partly responsible “ reducing volume humans disposal form opinion world 49 ” final note ban applied particular algo rithms could bear used similar mora-torium declared french insurance companies genetic renewed kouchner act sector limiting might also solution law ini-tiatives stakeholders maintaining essential “ veil ignorance ” continuing system sharing risk.participants consultation cnil organised montpellier 14 october see “ organisation debate ethical issues algorithms ” identified certain number ethical issues raised algo rithms although stance reveals concerns awareness risks principle generally hostile algorithms intelligence-driven tools day-to-day lives long answers forthcoming advantages mentioned various workshops held consultation day include personalised medical diagnoses streamlined recruitment procedures would thus become neutral simplified allocation higher education places apb filters online platforms manage “ multitude ” many people view capacities ana lysis positive light 63 thus believe “ sharing common good ” worthwhile participants learned consultation day awareness risks grew 32 considered “ tend source error ” end day compared 23 event whilst might fairly modest rise end day devoted ethical issues coin cided form scepticism pos sibility regulating algorithms practice “ law enough ensure oversight across-the-board still resolve abusive practices fact ” .what thinkhow humans keep upper hand ethical matters raised algorithms respond 50 il ’ agissait de “ soumettre les plateformes à une obligation de loyauté envers leurs utilisateurs les non professionnels dans le cadre du droit de la consommation et les professionnels dans le cadre du droit de la concurrence ” les plateformes apparaissent comme des acteurs classant un contenu qu ’ il n ’ pas lui-même mis en ligne 51 le numérique et les droits fondamentaux p.273 278-28148 two founding principles algorithms fairness continued attention vigilance two distinct albeit linked intended outcomes discussions algorithms principles concrete means putting practice article 1 protection act states “ processing shall service every citizen ” today need laying principles achieving general objective guaranteeing serve humans – enhances us rather claiming replace us principles enshrined protection act gave reminder earlier still match issues identified general objective need promote ones beyond observation principles cover full range algorithmic uses practice numerous requirements regarding algorithms raised debate fairness accountability intelligibility explicability transparency etc sign sense inadequacy perhaps even concern set principles following debate two bearing fairness continued attention vigilance stand particularly founding principles principle fairness principle formulated french council state annual report fun damental council state outlined three recommendations calling “ rethink principles underpinning protection fundamental ” first concerned principle “ informational self-determination ” guaranteeing subjects control communication personal since introduced republic bill third principle “ fairness ” applied algorithms restricted manner “ platforms ” 50 according french council state “ fairness consists ensuring good faith search engine optimisation seo ranking service without seeking alter manipulate purposes users ’ interest 51 ” platforms ’ obligations towards users terms fairness principle defined council state par ticularly include one hand relevance seo ranking criteria used platform view providing users best possible service criteria first obligation therefore limits platform ’ scope establishing algorithm ’ criteria second makes provision logic involved functioning algorithm obligation part platform user choose exer-cise definition fairness much grant users lays obligation regard controllers way beginnings principle fairness found 1978 french protection act upholds appears primary requirement terms fairness towards subject algorithm processing addition subjects shall obtain controller logic involved func tioning algorithm subjects must consent processed obligation clearly stipulated 1978 act means must provided “ fairly ” algorithm must function along lines french council state ’ principle fairness appears particularly interesting mentions notion “ users ’ interest ” indeed simply question algorithm saying says principle fairness also limits extent controller determine criteria algorithm operates moreover protection act humans keep upper hand ethical matters raised algorithms respond 52 “ without ignoring trade secrecy platforms would explain general logic involved algorithms users well applicable way users change settings. ” 53 sake settling semantic quibbles let us expression “ fairness algorithms ” rather amounting anthropomorphising technical object algorithm handy shortcut talking fairness algorithm designers processors 54 brent mittelstadt individual group privacy big analytics b. philos technol 30 475. //doi.org/10.1007/s13347-017-0253-7 49 may exercised subject contac ting controller principle fairness quite different since must provided community users outset52 users ’ obligation incumbent upon algorithmic platforms respect fairness could well represent solution problem unbalanced relations controllers algorithms users notion fairness also agenda additional talks led french council cnnum report entitled ambition numérique ambition made proposal aimed setting “ algorithm fairness rating agency ” could rely open network contributors would twofold objective first providing access via one-stop shop whole series already collected various stakeholders well existing tools second creating space reporting problematic practices malfunctions initia tive could one form another provide several benefits knowledge issues balance users algorithmic platforms sharing best prac tices businesses detection regulators contested practices principle extended factor collective effects algorithms regarding definition given council state howe ver seem timely extend principle beyond platforms alone encompass algorithms53 exa mple prevent algorithm assisting doctors medical decisions using least set ting excessive store criterion could appealing optimising bed occupancy hospital light would also merits principle fairness algorithms applied algorithms issues dealt legislation personal protection words would apply algorithms carry profiling users purpo ses personalising output example search engine displaying personalized results .lastly could consider opportunity building council state ’ proposal extending least clarifying notion “ users ’ interest ” commercial economic dimension interest taken board also collective dimension would entail considering algo rithm ’ criteria must also completely odds certain key collective interests particularly outcomes personalization collective benefits previously highlighted collective interests understood two ways one hand could talking interest categories put together big algorithmic analysis ad hoc groups formed cross-linking certain characteristics likely give rise forms discrimination categories currently discussed notion “ group privacy54 ” could view col lective interest terms entire society example exposure cultural diversity diversity opinions could regarded “ users ’ interest ” consumers also citizens members community incidentally would advisable refer specifically “ users ’ citizens ’ interest ” rise machine algorithms principle fairness algorithms – whilst evidently representing solution far major issues concerned – comes substantial stumbling seen algorithms behave problematic ways subjects ’ sometimes even without designers knowing bias discrimination stemming correlations carried system notion fairness part algorithm designers actually usually referring speak “ fairness algorithms ” loses scope moment algorithm behaves way remains inscrutable even designers must possible either speak fairness algorithms strict sense actually mean anything ensure algorithm behave undesirable way even though fully able explain principle mean “ undesirable ” words fair algorithm end generating replicating aggravating form discrimination even happen without designers aware last idea thus much broader initial consi derations raised earlier notion fairness focused commercial competitive concerns amid decidedly unfair practices aimed obtaining advantage manipulating algorithm algorithm ’ criteria must completely odds certain key collective interestshow humans keep upper hand ethical matters raised algorithms respond 50 principle continued attention vigilance principle fairness appears substantial founding principle one continued attention vigi lance methodological must guide way societies model algorithmic one challenges identified chan geable scalable nature machine algorithms characteristic compounded unprecedented potential impact algorithms run computer programs therefore application single model increases unpredictability likeliness surprising outcomes tackle regulate unstable object likely engender effects grows learns – effects could foreseen outset promoting principle “ required continued attention vigilance ” could way address challenge designers operators taking account characteristic aim principle required continued attention vigilance would offset phenomenon excessive trust weakened accoun tability arise front “ black ” algorithms finally principle continued attention vigilance must collective significance algorithms surely algorithmic speaking – complex long “ algorithmic chains ” made myriad stakeholders developers end users companies collect machine purposes profes sionals carry “ process ” purchasers machine solution intend implement etc. phenomenon – similar one unfold along subcontracting chain – plays part eroding sense responsibility simply awareness impacts may result tools example scientist may placed first stages algorithmic chain hold keys understand whole joint process report sub mitted cnil conseil national des barreaux national institution represents practising lawyers france part drew attention fact “ place program implemented different understanding ethics program designer ” inherent processing risk excessive trust comes placed machine often perceived failproof free bias pla gues judgment action tricot commission reflected french protection act already highlighted risk back 1970s several speakers debate also mentioned year algorithmic bringing decrease individual vigilance face possible impacts algorithms must question allowing type indifference grow collective continued attention vigilance must organised regard known phenomena need nip bud also phenomena impacts could necessarily foreseen beginning could quite possibly come changing nature algorithms algorithmic bringing decrease individual vigilancehow humans keep upper hand ethical matters raised algorithms respond 55 //cnnumerique.fr/wp-content/uploads/2015/11/cnnum_fiche_loyaute-des-plateformes.pdf51 engineering principles intelligibility accountability intervention intelligibility transparency accountability given algorithmic transparency oft-cited requirement idea could condition fairness according french council cnnum “ first foremost general man ner principle implies transparency platform ’ behaviour prerequisite ensure service practice lives stated promises relations professionals applies pricing conditions accessing platforms conditions opening services third parties55 ” mentioned concerns much collection processing carried therefore role play certain number decisions algorithms opaque end users processors however rise machine algorithms designers also steadily losing ability understand logic behind results produced therefore two levels issue must addressed legal procedural responses necessary create necessary conditions transparency technical ones also needed many consider idea transparency algorithms simplistic ultimately unsatisfactory transpa rency reduced simple publication source code would still leave vast majority uninitiated general dark underlying logic furthermore least private sector concerned idea transparency clashes bearing intellectual property algorithms indeed likened trade secret disclosed could jeopardise economic model finally companies put forward good reasons revealing source code criteria behind functio ning algorithm google example trying make sure results supplied search engine algorithm pagerank manipulated stakeholders would able turn logic advantage.many specialists therefore recommend giving precedence requirement algorithm explicability intelligibi lity transparency would seem matter direct access source code capa city understand general logic underpinning way algorithm works possible everyone understand logic must therefore explained words rather lines code opinion daniel le métayer french institute computer science automation inria intelligibility entails probing overall logic algorithm specific results also shared dominique cardon “ needs made transparent algorithm statistical technique employed code made even merits also reasons disclosure obligation example search engine optimisation market players trying sway algorithm ’ output helps understand one reasons google publicly disclosed code making computer transparent must involve educational effort bid allow others understand key thing code transparent understand goes comes algorithm objective must transparent ” cnil debate launch 23 january idea intelligibility explicability way transparency case ties prin-ciple fairness might ultimately consider condition latter ’ implementation end introducing obligation terms accountability organising liability could way addressing phe nomenon diminishing accountability algorithms tending encourage idea would roll-out algorithmic system systematically must give rise attribution liabilities assumed operation.how humans keep upper hand ethical matters raised algorithms respond 52 review obligation intervention algorithmic decision-making seen french protection act established principle banning decision-making produces legal effects subject based solely automated processing personal words based solely result provided algorithm ana lysing personal principle also set forth general protection regulation however principle asserted legislative texts stripped much substance broad exceptions56 moreover courts seem invoking article 10 1978 protection act referring less frequently interpretation article tended become less strict past forty years57 amend ment protection act also facilitated automated decision-making banking sector credit scoring example although intervention process still requirement takes form given subject ask denied credit decision reviewed intervention ex-post request without intending value judgment seems pos sible talk form “ drift ” shift threshold society ’ tolerance automated decision-making since 1970s shift legal landscape case law would seem reflection ongoing change result reviewing principle banning decision-making machine alone inter vention therefore required reviewing accommodate uses without giving altogether annual study council state stressed need ensure effectiveness intervention however ensuring effectiveness intervention decision may automatically imply preventing limiting certain applications algorithms indeed purpose automation often optimise speed process replacing humans genuinely effective intervention regards decision thus risks dissuasive effect could fact ask question follows get machines perform tasks previously carried definition without completely away need humans one solution consider effec tiveness intervention ways individual decision could example ensure forms deliberation sides say govern guide algorithms examining questioning configuration well system ’ effects – direct indirect rather bearing individual decision process could thus intervals concern series decisions varying number would lead protection freedoms thought collective individual terms also see solution would tie idea obli gation “ continued attention vigilance ” mentioned earlier shift individual interpretation collective interpretation obligation ensure form intervention automated decision-making could less marked depending sensitivity applications question risk/benefit ratio health sector example consider sensitivity stakes outweigh gains refore could maintaining obligation guarantee intervention decision 56 point gdpr see example wachter sandra brent mittelstadt luciano floridi “ explanation automated decision-making exist general protection regulation ” social science network december 57 see example cnil ’ deliberation gamin draft ruling 1981 cnil rejected ministry health-led draft even guarantees ministry provided ensure effective intervention detection minors risk mental health problems issue rejected could nevertheless wonder reviewing case whether cnil would adopt today time seem come round somewhat idea seeing algorithms feature ever prominently ever higher-stake areas example whilst decision eliminate candidates solely basis automated processing seem far-fetched constitute science-fiction unlikely many people society ready accept it.how humans keep upper hand ethical matters raised algorithms respond get machines perform tasks previously carried definition without completely away need humans 53 principles policy recommendations aforementioned principles put effectively practice following pages list main recommendations came light following debate cnil organised january october rounded consultation reports various institutions france abroad already submitted including opecst cerna cnnum council state cge white house france ia inria general point came fore dis cussions solutions call diverse range actions part various stakeholders algorithm designers professionals businesses authorities civil society end users algorithmic complex socio-technical objects handled long complex chains stakeholders action therefore required across algorithmic chain designer end user via system trainers operators technical organisational approaches algorithms everywhere therefore everyone ’ business law lever solution found rallying stakeholders cause certain number recommendations outlined specify incidentally whether precedence given implementation either law voluntary initiatives various stakeholders participants consultation cnil organised montpellier 14 october see “ organisation debate ethical issues algorithms ” came recommendations largely overlap ones formulated times debate • desire humans maintain control algorithms appears paramount 95 favour excessive delegation decisions algorithms deemed harmful participants ’ view supports aforementioned idea principle continued atten tion vigilance 97 would like “ retain dimension retain dose subjectiveness disengage completely ” 91 believe “ user play role learner time s/he uses algorithm grasp limits demanding developers whenever necessary ” medicine example citizens reckon certain decisions always discussed collegiate manner • improving training algorithm designers certain ethical matters option arose several workshops garnered almost complete consensus 97 participants think “ developers build certain ethical framework practices resist tempting market incentives ” 94 thus call ethical charters regard 56 would like social science experts help developers better gauge impact work society training also concerns algorithm users 82 participants favour mandatory continuing education doctors decision support generally individuals want know understand thus asking lifelong subject order address problems inequality associated objects citizens unanimous urging “ informal education subject ” “ school syllabuses “ literacy ” terms object issues ” .what thinkhow humans keep upper hand ethical matters raised algorithms respond recommandation 1 fostering education players involved “ algorithmic chain ” designers professionals citizens subject ethics training general citizens key role play algorithmic one hand algorithms increasing impact lives particularly well placed spotting abuses enabling understand technologies confident informed way requirement also corresponds demand selves made – underscored consultation organised montpellier cnil 14 october 2017. broad consensus need develop “ literacy ” primary school univer sity level cnnum one stakeholders already making case58 literacy would obviously include basic familiarity algorithms grounding could incidentally given early via exercises necessarily involve using devices • group also strongly underscored need enhanced terms transparency explanation regarding logic involved way algorithm works first participants seem demanding possibility notified time algorithm deployed 88 opinion employer uses algorithm must inform candidates thereof without fail 78 favour source codes made publicly available even though considered insufficient understand results produced algorithm case university admissions online portal “ apb ” example 78 participants call greater practical guidance understand ins outs 85 see users ’ feedback invaluable resource “ improving user-friendliness procedure ” algorithm ’ criterion grounded political choices drawing lots example concealed quite opposite made explicit understandable according 94 participants note although desire transparency unanimous people aware convinced may enough • overwhelming majority participants call regulatory efforts part state identify bias “ prevent malpractice draw statistics make approvals compulsory ” 97 many recommend setting independent perform scientific testing algorithms “ way applies medicines offered sale market ” 84 long term checking regular intervals algorithm “ still meets set objectives ” another idea floated debates 63 favour also strong support 94 laws improve extent ethics taken board law “ codes conduct charters training dialogue ” • participants also highlighted importance civil society organise prepared technological objects instance discussed role associations patients ’ associations healthcare example whistleblowers ’ protection support lent alternative networks online platforms whose algorithms raise questions • lastly discussions revealed strong attachment personal protection privacy question owns uses made deemed pressing among work groups health theme particular also regards employment concern possibility algorithms analyse would collected outside company 58 //cnnumerique.fr/education-2/ 54 think cont humans keep upper hand ethical matters raised algorithms respond 59 assessment policies fostering access social mps gisèle biémouret jean-louis costes suggested “ using anti-fraud tools try reduce non-take-up social ” see report policy assessment oversight committee assessment policies favour access social rights.55 encouraging mediation initiatives local areas also contribute make population widely familiar algorithms words form educa tion including basic grounding algorithms examples initiatives include fing info lab la péniche grenoble coop-infolab pop school lille training algorithm designers algorithm designers developers programmers coders scientists engineers occupy first link algo rithmic chain represents particularly high-stakes stage technical complexity jobs moreover likely make actions opaque therefore difficult supervise players paramount fullest possible awareness ethical social implications work fact even extend societal choices able judge alone yet way workplace economy organised practice tends create silo mentality tasks assigned separate departments likely ignore impli cations activity outside silo means training first essential step algorithm designers able grasp sometimes indirect implications action individuals society thus making aware responsibilities show continued attention vigilance regard could merits including social sciences approach sociology anthropology management history science informa tion communication sciences philosophy ethics issues engineer scientist training courses could benefit inclusion social sciences technical approaches within interdisciplinary laboratories already initiatives way context could mention ensc bordeaux ’ cognitique institute prestigious graduate school includes social sciences engineers ’ training programmes costech stands “ knowledge organisation technical ” université technique de compiègne utc finally guarantee foster forms ethnocentrism vital encourage cultural social gender diversification occupations involved designing algorithms first step getting women working specialities particularly entails efforts increase incen -tives female students access widely training programmes training professionals algorithms make sure links along algorithm chain deployment chain overlooked also necessary provide training professionals required part jobs would particularly involve forearming risk diminished sense responsibility loss autonomy result using tools sometimes work like black boxes whose effectiveness questioned iit crucial guard excessive trust raising awar eness ethical dimensions decision-making process must exclude intervention honing critical thinking particularly sensitive sec tors medicine recruitment justice perhaps marketing antisemitic categories recently generated facebook ’ machine algorithms stark wakeup call sharpness risks training particularly include multidisciplinary mindset consideration specific issues tools raise sector doctor uses ai-based diagnosis support system instance made explicitly aware possible develop ment bias also capable understanding implications tool handling conse quences mistakes.one option could thus create sort “ licence algorithms ” sectors could earned specific training modules administered specialist schools universities raising awareness stakeholders need balanced “ symmetrical ” algorithms similarly would advisable educate stakeholders need balanced symmetrical deploy ment algorithms time latter increasingly rolled crack fraud carrying checks avoid reach mistaken conclusion used monitoring law enforcement purposes actually useful individuals risk would form distrust thrive would ultimately mine deployment algorithms harnessing benefits administrative political leaders must therefore convinced merits tapping potential offered algorithms benefits individuals immediately apparent help improve access detection non-take-up social benefits 59.how humans keep upper hand ethical matters raised algorithms respond humans keep upper hand ethical matters raised algorithms respond 60 least article 39 protection act organising access 61 article 14.1a general protection regulation also provides information.56 recommendation 2 make algorithmic understandable strengthening existing organising mediation users law give us first clues address opa city individuals algorithms profile logic follow grant bank loan exa mple seen provisions pave way initial form intelligibility transparency many years already60 however many analyses agree provisions insufficient effectively demystify algorithm-driven sys tems ensure intelligibility transparency fairness one way tackle challenge would bind sys tem controllers obligation rather merely requested subjects communicate infor mation understandable manner enabling logic involved algorithm grasped already provided fact french republic bill algorithms used authorities61 also seems entirely relevant requirement whether determined law freely adopted stakehol ders concern algorithms process personal users insofar likely significant collective impacts – regardless fact direct impacts individuals see particular “ limits current legal framework ” “ principle fairness ” obligation enshrined law could usefully extended private initiatives setting virtuous cycle motion case stakeholders websites subjects account log could made available “ profile ” processed inferred logic underpinning way algorithm works way subjects could correct update profile personal easily updated legal framework could go hand-in-hand best practices stakeholders help soft law instruments problem algorithms also stems fact algorithmic system controllers vast majority cases reachable accessible practice get hold explanations also tied lack accountability users find impossible hold anyone account therefore necessary organise form “ reachability ” algorithmic particularly systematically identifying within company autho rity team responsible algorithm ’ operation moment processes humans deliberate communication identity contact details person team also necessary ensure easily contacted means respond swiftly requests received addition reachability committed efforts must also made organise mediation dialogue sys tems society along lines ideas developed fondation internet nouvelle génération fing part initiative “ nossystèmes ” fing found “ reaching technical controller enough ” accordingly suggests setting teams dedicated quality user dialogue “ mediation percentage ” algorithms allow economies factoring percentage project ’ budget devoted mediation efforts setup visualisation tools mediation team partnership checks properly understood etc could – via certification procedures – way enhance bestow competitive edge terms image eyes consumers upon virtuous recommendation 3 improve design algorithmic interests freedom algorithm alone even program running algorithm whole algorithmic system need turning attention understand monitor effects many recent discussions stress importance taking design algorithmic account – i.e interface machine user 62 //politoscope.org/ 57 means working design counter “ black-box-like ” nature algorithms assume coming across inscrutable displaying results without putting limits perspective explaining way built algorithms also giving air prestige account neutrality infallibility quick credit machines need instead promoting design conducive empowering individuals autonomy scope think design righting imbalance algorithms create detriment overall design enables us make informed decisions example setting visualisation handing back control users providing better infor mation would one way visualisation tools users understand given recommendations better still receive appropriate recommendations return way placed footing aim give individuals handle criteria least part determining res-ponse provided algorithm perhaps even enabling test different responses according different configurations one example visualisation tool provided debate presentation “ politoscope ” 62 developed complex institute paris-île de france isc-pif politoscope gives general insight masses activity strategy political communities social media twitter particular lifting lid prac tice astroturfing helps offset attempt highly organised groups manipulate social media thereby push certain themes national political agenda way politoscope helping restore balance algorithm view safeguar ding democratic access design whole relationship humans machines adjusted empower us increase ability make informed decisions – opposed taking capacity make choices away us giving machines short giving substance principle continued attention vigilance discussed concept “ testability ” recently suggested fing part “ nossystèmes ” expedition could also represent principle governing design user-friendly virtuous algorithmic allow users full scope act concept enabling users “ test ” playing around settings example could meant giving users university admis sions portal “ apb ” opportunity perform “ practice run ” seeing results given different choices entering final choices could thus imagine online search engine giving users option run-ning several searches according different criteria idea behind testability go key direct understanding – much arguably access source code would indecipherable vast majority us recommendation 4 set national platform auditing algorithms developing algorithmic auditing check compliance law fairness often billed solution ensure fairness accountability broadly compliance law.through design whole relationship humans machines adjusted empower us increase ability make informed decisions humans keep upper hand ethical matters raised algorithms respond humans keep upper hand ethical matters raised algorithms respond 58 would first require building capabilities authorities regard algorithmic auditing concept enforcement committee “ autorité des marchés financiers ” regulates partici pants products france ’ financial markets examined “ soap ” algorithm handing decision dated 4 december regarding firms euronext paris sa virtu financial europe ltd. similarly inspecting activity cnil draws expertise system auditors autorité de la concurrence inde pendent administrative authority specialising supervising anticompetitive practices must also increasingly ground work ability audit algorithms therefore essential authorities utmost open source code deterministic algo rithms – time means disposal increasingly falling short surge demand requires sector-specific regulators audi ting capabilities thus calling cnil intervene behalf today therefore need identify resources state available well different needs pool expertise means hand within national platform platform also tackle challenge raised machine prompting people point solution examining source codes hardly realistic millions lines code analysed auditing necessarily mean opening source codes may also take form ex-post checks results produced algorithms tests using simulated profiles example significant efforts geared towards auditing techniques based reverse enginee ring see next recommendation practice audits could performed algorithm experts would monitor test algorithms checking practise discrimination example given sector audited another solution could involve authori ties accrediting private audit firms basis frame reference private initiatives already running cathy ’ neil already cited several times report set company “ ’ neil risk consulting algorithmic auditing ” whose mission help companies identify correct risks algorithms quite separately requirement perform auditing procedure companies authorities would well advised adopt certification-type solutions certifi cations could fuel virtuous momentum one hand would guarantee algorithms practise fairness non-discrimination would shed light existing efforts set design well proactive appropriate keeping recommen dations going beyond strict legal obligations recommendation 5 increasing incentives ethical launching participatory national worthy cause general interest project encourage explanations functioning logic algorithms policies increasingly providing regulators businesses citizens robust tools checking controlling monitoring impacts algo rithms unpicking logic behind would well worth channelling major investment towards reverse engineering tech niques “ test ” non-discriminatory nature algo rithms ability pre-process reduce risks discrimination pinpointing clearing bias training datasets63 generation algorith mic machines using machine explanations natural language output france transalgo project led inria french institute computer science automation already seeking galvanise action issues developing scientific platform algodiv project algo rithmic recommendation diversity web meanwhile sets provide answers questions raised filter bubbles algorithms harming diversity serendipity nutshell projects setting shed light certain number issues discussed report initiatives combine interdisciplinarity cutting-edge tool supported france along lines initiative led professor katharina anna zweig germany set algorithmic accountability lab addition drawing hard sciences technical sciences sciences 63 construction non-biased dataset year project led open law association partner debate organised cnil 59 perform analyses line idea algorithmic understood predicted monitored context application lab working developing transparent ethical accountable design algorithmic decision-making adm also offers pedagogical tools concerning risks promises adm64 mainstream decision makers alike.65 another example recent creation united states institute within york university examines social implications involvement institute “ partnership ” consortium whose founding partners particularly include amazon apple google ibm microsoft nevertheless highlights close attention paid membership institutes recently pointed former academic cathy ’ neil importance bringing researchers board shed ding light social impacts associated freedom inquiry academics enjoy66 develop infrastructure respects personal data-friendly becoming increa singly important time citizens europe broader extent worldwide also concerned protection personal risks generated various solutions put forward view forging balance based simultaneously strengthening researchers ’ access substantial datasets security begin implies secure spaces accessing purposes training algorithms work along lines opal project undertakes could contribute towards goal project aimed building infrastructure tele operators ’ stored analysed plete safety certified open algorithms made available users broadened community directly accessible people processing thereby guaranteeing protec tion subjects certification algorithms used analyse datasets ethical filtering function particularly makes possible tackle challenges posed terms “ group privacy ” 67 databases accessible stakeholders casd secure access centre used france make authority databases available purposes also solution delved deeper into.launch participatory national worthy cause boost aithe ability access huge volumes forms one cornerstones contrary common belief french legislation provides sufficiently open framework supporting ambitious industrial policy regard possibilities already outlined creation general protection regulation gdpr “ portability ” enables subjects retrieve personal possession private stakehol ders paves way major opportunities still little idea part authorities could act driving forces bringing latter fruition instance could launch national worthy cause key project based contributed citizens exercising portability private stakeholders transferring benefit project general interest state would guarantee project respects freedoms could example back creation management chart modelled fing ’ “ nossystèmes ” project subjects way authorities would start leverage vast potential offered creation – repercussions beyond one project private stakeholders could naturally bring sets table thus play part national worthy cause recommendation 6 strengthen ethics within businesses become today businesses also called identify irregularities adverse effects algorithms far-reaching impacts deployed also expected keep constant watch emerging problems whether imperceptible unnoticed outset providing counterpoint operational perspective aim also gain overview algo rithmic chains given tendency highlighted divide tasks concerns separate compartments following mindset need organise forms dialogue practitioners specialists outside company stakeholders communities involved algorithms alongside researchers social sciences 64 algorithmic decision making 65 laboratory already completed several projects including “ donation ” project “ datenspende projekte ” german //datenspende.algorithmwatch.org/ 4,000 users observed google ’ search results 16 main candidates months running german parliamentary election underlying idea measure impact google ’ personalisation search results confirm invalidate “ filter bubble ” theory 66 //www.nytimes.com/2017/11/14/opinion/academia-tech-algorithms.html 67 previous projects shown anonymised likely lead problematic uses ethical point view targeting population groups – necessarily individuals – ethnic basis contexts conflict actuarial segmentation among others .how humans keep upper hand ethical matters raised algorithms respond humans keep upper hand ethical matters raised algorithms respond 60 several approaches putting requirement prac tice could considered one solution could entail setting ethics committees within companies algorithms far-reaching impacts makeup working procedure mittees key considerations whether reports list members published possible degree independence wide range possibilities.assigning task corporate social responsibility role professional ethics specialists could also option coordination ethical discussions private sector could also ensured networks formed indus tries sectors best practices disseminated emerging problems detected early another idea might involve sector-specific ethics committees organising form ethics watch instead committees set within company – even though guarantees respect would strong networking set compile keep up-todate sector-specific ethical frameworks ethical charters codes professional conduct codes ethics example revise pre-existing codes professional conduct take introduction algorithms account discussions ought return lead addition companies ’ codes professional conduct chapter issues raised algorithms example clarifying draw line designing system settings obligations bearing quality updating datasets used train algorithms intention outlining various possibilities paragraphs show would certainly worth conducting specific debates exact blueprint best proceed evidently several different views regard.what become today businesses also called keep constant watch emerging problems whether imperceptible unnoticed outset humans keep upper hand ethical matters raised algorithms conclusion 61 principles recommendations set end report result summary cnil drew discussions held national pu blic debate oversaw january october help sixty partners policy recommendations expressed broadly calling fullest possible spectrum pu blic private stakeholders light challenges raised algorithms whole civil society citizens businesses associations must get involved pay tention ask questions navigate complex world intention therefore state law could appropriate means applying quite opposite recommendations may interpreted able achieve concrete expres-sion either binding legal framework volunta ry adoption part stakeholders – solutions embracing varying degrees two extremes possible discussions brought two founding principles fore since main ethical challenges raised subsumed merit particular attention first substantial principle fairness algorithms builds principle already proposed french council state see section “ principle fairness ” version factors idea fairness towards users consumers also ci-tizens even towards communities whose lifestyles could affected algorithms whether process personal second methodological principle continued attention vigilance un derstood vague incantation substan tiated response three central challenges facing society one changing unpredictable na ture algorithms “ machine age ” two silo mentality affecting organisation algorithmic chains leads action carried isolation indifference overall impacts algorithmic system diminishing accountability three risk excessive trust placed machines form cognitive bias leads us consider fail-proof free bias principle continued attention vigilance basically aimed organising ongoing state alert societies need adopt regards complex changing socio-tech nical objects algorithmic chains represent state alert means constantly subjecting scrutiny methodical doubt first foremost concerns individuals form links algorithmic chains need given means look-out aware manner always seeking answers society also concerns key players society businesses course model virtuous algorithmic well others owing universal approach came principles could form part generation principles age generation rights-freedoms property social would “ sys tem-rights ” organising dimension underpinning world destined upheld ge neral principles global governance internet infrastructure time france europe setting positions regarding question entirely relevant one.conclusion principles fairness continued attention vigilance could form part generation principles age system-rights organising dimension underpinning world acknowledgements cnil sincerely grateful individuals institutions took part collective thought process partners debate • allistene ’ committee ethics cerna • bordeaux ’ cognitique institute ensc • bordeaux university • caisse des dépôts et consignations cdc • club des juristes thinktank • collège des bernardins • complex institute paris ile-de-france isc-pif • confédération française de l ’ encadrement – confédération générale des cadres cfe-cgc trade union • communication publique • conseil national des barreaux national institution represents practising lawyers france/cnb • conseil supérieur de l ’ audiovisuel independent authority protect audiovisual communication freedom/csa • conservatoire national des arts et métiers leading higher education institution dedicated adult continuing education/cnam • douai court appeal • escp europe iot chair • etalab works france sharing sector • “ familles rurales ” association • federal university toulouse • french association afia • french association employment law afdt • french agency afd • french governmental advisory council bioethics issues ccne • french insurance federation ffa • french national scientific cnrs ’ ethics committee comets • fo-cadres trade union • fondation internet nouvelle génération fing • fotonower • génotoul societal bioscience ethics platform • groupe vyv mgen – istya – harmonie • imagine institute genetic diseases • innovation ouverte par ordinateur innooo • institut mines-télécom imt chair “ values politics personal ” • laboratory collective lica • law department université catholique de lille centre relations risk law • law department université catholique de lyon • ligue des droits de l ’ homme league/ldh • ligue de l ’ enseignement education league • lille 2 university • lille association lawyers • lyon ’ administrative court appeal • microsoft • ministry culture via general directorate media cultural industries dgmic • ministry national education via directorate education dne numéri ’ lab • national academy technologies france • national institute higher studies defence ihedn • national institute higher studies security justice inhesj • national institute applied sciences insa • necker hospital • openlaw association • paris ii university • randstad • centre national gendarmerie school officers creogn • rhône département -level council medical association • renaissance numérique thinktank • school advanced studies social sciences ehess • sciences po lille • sciences po paris • société informatique de france association devoted computer science/sif • future society harvard kennedy school initiative • universcience • visions ’ europe association contributors • arbre des connaissances association • autorité de contrôle prudentiel et de résolution french authority responsible supervision banking insurance sectors/acpr • autorité des marchés financiers authority regulates participants products france ’ financial markets/amf • montpellier méditerranée métropole president philippe saurel • city montpellierthe 37 citizens took part consultation organised montpellier 14 october 2017. jérôme beranger • nozha boujemaa • dominique cardon • jean-philippe desbiolles • paul duan • flora fischer • antoine garapon • roger-françois gauthier • hubert guillaud • rand hindi • jacques lucas • camille paloque-berges • bruno patino • antoinette rouvroy • cécile wendling62how humans keep upper hand ethical matters raised algorithms acknowledgements 63how humans keep upper hand ethical matters raised algorithms events list events organised debate end march beginning october cnil oversaw coordinated 45 events algorithms initiatives designed specifically debate launch others part projects already led various stakeholders – institutions associations centres – issues already striking note concern many stakeholders chose broach algorithms specific sector healthcare employment education example others took overall approach technological subject matter expert workshops limited audience mainstream events general citizens students example alike held throughout process events found cnil ’ website launch event roundtable sessions “ algorithms humans ” “ fairness transparency plurality algorithms ” cnil symposium “ towards forms humanity ” universcience conference “ algorithms law ” lille ii university conference “ choice age big ” sciences po lille visions ’ europe debate “ governance emerging technosciences ” german american conference harvard university debate “ transatlantic perspectives age social media privacy security future political campaigning ” future society harvard kennedy school roundtable sessions “ big resources algorithms agenda ” fo-cadres conference “ fairness algorithmic decision-making ” toulouse iii – paul sabatier university debate “ spell end rule law ” collège des bernadins symposium “ predictive justice ” douai court appeal lille association lawyers law department université catholique de lille workshops “ fairness algorithmic decision-making processing ” labex international centre mathematics computer science toulouse23/01/2017 23/03/2017 25/03/2017 31/03/2017 06/04/201708/04/201718/04/2017 18/04/2017 04/05/201716/05/201719/05/201702/06/2017 debate “ algorithms healthcare ethics ” groupe vyv mgen – istya – harmonie roundtable session “ ethics intersection hr big ” confédération française de l ’ encadrement – confédération générale des cadres cfe-cgc debate “ algorithms employment ethics ” french association employment law afdt day “ ethical algorithms moral requirement competitive advantage ” allistene ’ cerna société informatique de france sif symposium “ non-human age ” paris ii university symposium “ autonomy delegation accountability ” bordeaux ’ cognitique institute ensc workshop “ ethics algorithms implications healthcare ” genotoul bioscience ethics platform crowdsourcing workshop “ law ” openlaw symposium “ many dimensions ” institut mines-télécom values politics personal chair symposium “ security justice challenge algorithm ” national institute higher studies security justice inhesj mock trial roundtable session “ ethique algorithmes justice ” law department université catholique de lyon lyon ’ administrative court appeal study day “ admission post-bac textbook case algorithms ” fondation internet nouvelle génération fing etalab day “ algorithms sovereignty ” allistene ’ cerna day “ ethics ” french national scientific cnrs ’ ethics committee comets french association afia debates algorithms education ligue de l ’ enseignement education league debate morning “ work algorithm era ethics employment ” renaissance numérique randstad symposium “ “ convergences law ” bordeaux university day “ algorithms politics ethical issues forms computing perspective social sciences ” school advanced studies social sciences ehess complex institute ile-de-france08/06/2017 14/06/201716/06/201719/06/201719/06/201721/06/201722/06/201722/06/201722/06/2017 23/06/2017 27/06/2017 28/06/201728/06/201703/07/201705/07/201722/08/2017 24/08/2017 05/09/2017 11/09/2017 13/09/2017 14/09/201764how humans keep upper hand ethical matters raised algorithms events day healthcare ethical regulatory aspects algorithms necker hospital institut imagine roundtable sessions “ algorithms risks discrimination insurance sector ” ligue des droits de l ’ homme league symposium “ ethical issues raised algorithms ” innovation ouverte par ordinateur innooo debate morning “ ethics algorithms compatible value creation iot internet things and/or internet trust ” escp europe iot chair symposium “ ethics ” collège des bernardins debate “ opportunities challenges advanced machine algorithms ” john f kennedy jr. forum harvard kennedy school symposium “ lex robotica boundary robotics law designing humanoid ” conservatoire national des arts et métiers cnam roundtable session “ ethics algorithms ” fotonower symposium “ predictive algorithms ethical legal issues ” centre national gendarmerie school officers creogn consultation “ future medicine age ” rhône département -level council medical association roundtable sessions “ ethics algorithms big ” french agency afd caisse des dépôts et consignations cdc symposium “ algorithms battlefield ” debate-forum “ towards friendly form ” national defence institute higher studies ihedn debate-forum “ towards friendly form ” laboratory collective lica roundtable session “ law responsibility ies ” club des juristes microsoft consultation ethical issues raised algorithms cnil consultation governance future society harvard kennedy school15/09/2017 15/09/201720/09/201720/09/2017 20/09/2017 21/09/201721/09/2017 22/09/2017 26/09/201728/09/201729/09/201704/10/2017 06/10/2017 12/10/201714/10/201707/09/2017 31/03/201865how humans keep upper hand ethical matters raised algorithms events 66how humans keep upper hand ethical matters raised algorithms glossary glossary algorithm description finite unambiguous sequence steps instructions producing result output initial input theories techniques involving « making machines things would require done men ” marvin minsky weak capable simulating one specific task distinguished strong autonomous general could apply capacities problem way replicating strong characteristic – i.e form machine “ consciousness ” big refers conjunction one hand huge volumes become difficult process age techniques enabling processed – even unexpected inferred identifying correlations chatbot computer program converses user example empathetic robots assist patients automated conversation services customer relations machine current application based automated methods whereby computers acquire learn knowledge therefore operate without explicitly programmed supervised machine algorithm learns input labelled humans defines rules based examples validated cases unsupervised machine algorithm learns unlabelled input carries classification free produce output presented pattern variable practice requires trainers teach machine learn graphic layout design linéal 03 20 41 40 76 www.lineal.fr illustrations cc nc geoffrey dorne //geoffreydorne.com/ commission nationale de l ’ informatique et des libertés 3 place de fontenoy tsa 80715 75334 paris cedex 07 tél 01 53 73 22 22 fax 01 53 73 22 00 www.cnil.fr humans keep upper hand ethical matters raised algorithms december']"
      ]
     },
     "execution_count": 75,
     "metadata": {},
     "output_type": "execute_result"
    }
   ],
   "source": [
    "topic_model.get_representative_docs(-1)"
   ]
  },
  {
   "cell_type": "code",
   "execution_count": null,
   "metadata": {},
   "outputs": [
    {
     "ename": "NameError",
     "evalue": "name 'docs' is not defined",
     "output_type": "error",
     "traceback": [
      "\u001b[0;31m---------------------------------------------------------------------------\u001b[0m",
      "\u001b[0;31mNameError\u001b[0m                                 Traceback (most recent call last)",
      "Cell \u001b[0;32mIn[76], line 1\u001b[0m\n\u001b[0;32m----> 1\u001b[0m df \u001b[38;5;241m=\u001b[39m pd\u001b[38;5;241m.\u001b[39mDataFrame({\u001b[38;5;124m\"\u001b[39m\u001b[38;5;124mDocument\u001b[39m\u001b[38;5;124m\"\u001b[39m: \u001b[43mdocs\u001b[49m, \u001b[38;5;124m\"\u001b[39m\u001b[38;5;124mTopic\u001b[39m\u001b[38;5;124m\"\u001b[39m: topic})\n",
      "\u001b[0;31mNameError\u001b[0m: name 'docs' is not defined"
     ]
    }
   ],
   "source": [
    "df = pd.DataFrame({\"Document\": docs, \"Topic\": topic})"
   ]
  },
  {
   "cell_type": "code",
   "execution_count": null,
   "metadata": {},
   "outputs": [
    {
     "data": {
      "text/html": [
       "<div>\n",
       "<style scoped>\n",
       "    .dataframe tbody tr th:only-of-type {\n",
       "        vertical-align: middle;\n",
       "    }\n",
       "\n",
       "    .dataframe tbody tr th {\n",
       "        vertical-align: top;\n",
       "    }\n",
       "\n",
       "    .dataframe thead th {\n",
       "        text-align: right;\n",
       "    }\n",
       "</style>\n",
       "<table border=\"1\" class=\"dataframe\">\n",
       "  <thead>\n",
       "    <tr style=\"text-align: right;\">\n",
       "      <th></th>\n",
       "      <th>doc_id</th>\n",
       "      <th>Name of the document</th>\n",
       "      <th>Institution</th>\n",
       "      <th>URL</th>\n",
       "      <th>Authors</th>\n",
       "      <th>Affiliates</th>\n",
       "      <th>Sector</th>\n",
       "      <th>Country</th>\n",
       "      <th>Date</th>\n",
       "      <th>Keywords</th>\n",
       "      <th>...</th>\n",
       "      <th>Unnamed: 28</th>\n",
       "      <th>Unnamed: 29</th>\n",
       "      <th>text</th>\n",
       "      <th>langue</th>\n",
       "      <th>text_processed</th>\n",
       "      <th>tfidf</th>\n",
       "      <th>categorie Institution</th>\n",
       "      <th>theme</th>\n",
       "      <th>topic</th>\n",
       "      <th>probs</th>\n",
       "    </tr>\n",
       "  </thead>\n",
       "  <tbody>\n",
       "    <tr>\n",
       "      <th>3</th>\n",
       "      <td>13</td>\n",
       "      <td>The Toronto Declaration: Protecting the right ...</td>\n",
       "      <td>Access Now</td>\n",
       "      <td>https://www.torontodeclaration.org/declaration...</td>\n",
       "      <td>Anna Bacciarelli, Joe Westby, Fanny Hidvegi, E...</td>\n",
       "      <td>Access Now, AI Now Institute at New York Unive...</td>\n",
       "      <td>civil society</td>\n",
       "      <td>UK</td>\n",
       "      <td>2018-05-16</td>\n",
       "      <td>NaN</td>\n",
       "      <td>...</td>\n",
       "      <td>NaN</td>\n",
       "      <td>NaN</td>\n",
       "      <td>\\n\\n\\n\\n\\nThe Toronto Declaration\\n\\n\\n\\n\\n\\n\\...</td>\n",
       "      <td>en</td>\n",
       "      <td>toronto declaration skip main content toronto ...</td>\n",
       "      <td>[0. 0. 0. ... 0. 0. 0.]</td>\n",
       "      <td>ONG et initiatives de droits humains</td>\n",
       "      <td>Justice and fairness</td>\n",
       "      <td>-1</td>\n",
       "      <td>0.0</td>\n",
       "    </tr>\n",
       "    <tr>\n",
       "      <th>16</th>\n",
       "      <td>29</td>\n",
       "      <td>AI Now Report 2016. The Social and Economic Im...</td>\n",
       "      <td>AI Now Institute</td>\n",
       "      <td>https://artificialintelligencenow.com/media/do...</td>\n",
       "      <td>NaN</td>\n",
       "      <td>NaN</td>\n",
       "      <td>NaN</td>\n",
       "      <td>USA</td>\n",
       "      <td>NaN</td>\n",
       "      <td>NaN</td>\n",
       "      <td>...</td>\n",
       "      <td>NaN</td>\n",
       "      <td>NaN</td>\n",
       "      <td>\\n    :root {\\n      --small-font: 12px;\\n    ...</td>\n",
       "      <td>en</td>\n",
       "      <td>root -- small-font 12px -- normal-font 12px --...</td>\n",
       "      <td>[0.         0.00579831 0.         ... 0.      ...</td>\n",
       "      <td>Instituts de recherche et universités</td>\n",
       "      <td>Transparency</td>\n",
       "      <td>-1</td>\n",
       "      <td>0.0</td>\n",
       "    </tr>\n",
       "    <tr>\n",
       "      <th>32</th>\n",
       "      <td>49</td>\n",
       "      <td>It’s Time to Do Something: Mitigating the Nega...</td>\n",
       "      <td>Association for Computing Machinery - Future o...</td>\n",
       "      <td>https://perma.cc/K22T-5DFU</td>\n",
       "      <td>NaN</td>\n",
       "      <td>NaN</td>\n",
       "      <td>NaN</td>\n",
       "      <td>USA</td>\n",
       "      <td>NaN</td>\n",
       "      <td>NaN</td>\n",
       "      <td>...</td>\n",
       "      <td>NaN</td>\n",
       "      <td>NaN</td>\n",
       "      <td>\\n\\nPerma | It’s Time to Do Something: Mitigat...</td>\n",
       "      <td>en</td>\n",
       "      <td>perma ’ time something mitigating negative imp...</td>\n",
       "      <td>[0. 0. 0. ... 0. 0. 0.]</td>\n",
       "      <td>Associations professionnelles et groupes de ré...</td>\n",
       "      <td>Transparency</td>\n",
       "      <td>-1</td>\n",
       "      <td>0.0</td>\n",
       "    </tr>\n",
       "    <tr>\n",
       "      <th>33</th>\n",
       "      <td>51</td>\n",
       "      <td>Statement on Accessibility, Usability, and Dig...</td>\n",
       "      <td>Association for Computing Machinery - Future o...</td>\n",
       "      <td>https://www.acm.org/binaries/content/assets/pu...</td>\n",
       "      <td>NaN</td>\n",
       "      <td>NaN</td>\n",
       "      <td>NaN</td>\n",
       "      <td>USA</td>\n",
       "      <td>NaN</td>\n",
       "      <td>NaN</td>\n",
       "      <td>...</td>\n",
       "      <td>NaN</td>\n",
       "      <td>NaN</td>\n",
       "      <td>ACM US Public Policy Council   1701 Pennsylv...</td>\n",
       "      <td>en</td>\n",
       "      <td>acm us public policy council 1701 pennsylvania...</td>\n",
       "      <td>[0. 0. 0. ... 0. 0. 0.]</td>\n",
       "      <td>Associations professionnelles et groupes de ré...</td>\n",
       "      <td>Justice and fairness</td>\n",
       "      <td>-1</td>\n",
       "      <td>0.0</td>\n",
       "    </tr>\n",
       "    <tr>\n",
       "      <th>34</th>\n",
       "      <td>52</td>\n",
       "      <td>Statement on Computing and Network Security</td>\n",
       "      <td>Association for Computing Machinery - Future o...</td>\n",
       "      <td>https://www.acm.org/binaries/content/assets/pu...</td>\n",
       "      <td>NaN</td>\n",
       "      <td>NaN</td>\n",
       "      <td>NaN</td>\n",
       "      <td>EU</td>\n",
       "      <td>NaN</td>\n",
       "      <td>NaN</td>\n",
       "      <td>...</td>\n",
       "      <td>NaN</td>\n",
       "      <td>NaN</td>\n",
       "      <td>ACM US Public Policy Council   1701 Pennsylv...</td>\n",
       "      <td>en</td>\n",
       "      <td>acm us public policy council 1701 pennsylvania...</td>\n",
       "      <td>[0. 0. 0. ... 0. 0. 0.]</td>\n",
       "      <td>Associations professionnelles et groupes de ré...</td>\n",
       "      <td>Non-maleficence</td>\n",
       "      <td>-1</td>\n",
       "      <td>0.0</td>\n",
       "    </tr>\n",
       "    <tr>\n",
       "      <th>...</th>\n",
       "      <td>...</td>\n",
       "      <td>...</td>\n",
       "      <td>...</td>\n",
       "      <td>...</td>\n",
       "      <td>...</td>\n",
       "      <td>...</td>\n",
       "      <td>...</td>\n",
       "      <td>...</td>\n",
       "      <td>...</td>\n",
       "      <td>...</td>\n",
       "      <td>...</td>\n",
       "      <td>...</td>\n",
       "      <td>...</td>\n",
       "      <td>...</td>\n",
       "      <td>...</td>\n",
       "      <td>...</td>\n",
       "      <td>...</td>\n",
       "      <td>...</td>\n",
       "      <td>...</td>\n",
       "      <td>...</td>\n",
       "      <td>...</td>\n",
       "    </tr>\n",
       "    <tr>\n",
       "      <th>449</th>\n",
       "      <td>718</td>\n",
       "      <td>AI procurement in a box: AI government procure...</td>\n",
       "      <td>World Economic Forum (WEF)</td>\n",
       "      <td>https://www3.weforum.org/docs/WEF_AI_Procureme...</td>\n",
       "      <td>NaN</td>\n",
       "      <td>NaN</td>\n",
       "      <td>NaN</td>\n",
       "      <td>international</td>\n",
       "      <td>NaN</td>\n",
       "      <td>NaN</td>\n",
       "      <td>...</td>\n",
       "      <td>NaN</td>\n",
       "      <td>NaN</td>\n",
       "      <td>AI Procurement in a Box:   Project overviewUnl...</td>\n",
       "      <td>en</td>\n",
       "      <td>ai procurement box project overviewunlocking p...</td>\n",
       "      <td>[0. 0. 0. ... 0. 0. 0.]</td>\n",
       "      <td>Associations professionnelles et groupes de ré...</td>\n",
       "      <td>Trust</td>\n",
       "      <td>-1</td>\n",
       "      <td>0.0</td>\n",
       "    </tr>\n",
       "    <tr>\n",
       "      <th>450</th>\n",
       "      <td>719</td>\n",
       "      <td>Artificial Intelligence for Children - Toolkit</td>\n",
       "      <td>World Economic Forum (WEF)</td>\n",
       "      <td>https://www3.weforum.org/docs/WEF_Artificial_I...</td>\n",
       "      <td>NaN</td>\n",
       "      <td>NaN</td>\n",
       "      <td>NaN</td>\n",
       "      <td>international</td>\n",
       "      <td>NaN</td>\n",
       "      <td>NaN</td>\n",
       "      <td>...</td>\n",
       "      <td>NaN</td>\n",
       "      <td>NaN</td>\n",
       "      <td>AI Procurement in a Box:   Project overviewUnl...</td>\n",
       "      <td>en</td>\n",
       "      <td>ai procurement box project overviewunlocking p...</td>\n",
       "      <td>[0. 0. 0. ... 0. 0. 0.]</td>\n",
       "      <td>Associations professionnelles et groupes de ré...</td>\n",
       "      <td>Trust</td>\n",
       "      <td>-1</td>\n",
       "      <td>0.0</td>\n",
       "    </tr>\n",
       "    <tr>\n",
       "      <th>451</th>\n",
       "      <td>720</td>\n",
       "      <td>Guidelines for AI procurement</td>\n",
       "      <td>Department for Digital</td>\n",
       "      <td>https://www.gov.uk/government/publications/gui...</td>\n",
       "      <td>NaN</td>\n",
       "      <td>NaN</td>\n",
       "      <td>NaN</td>\n",
       "      <td>UK</td>\n",
       "      <td>NaN</td>\n",
       "      <td>NaN</td>\n",
       "      <td>...</td>\n",
       "      <td>NaN</td>\n",
       "      <td>NaN</td>\n",
       "      <td>White Paper Guidelines for AI Procurement Sept...</td>\n",
       "      <td>en</td>\n",
       "      <td>white paper guidelines ai procurement septembe...</td>\n",
       "      <td>[0.        0.0077954 0.        ... 0.        0...</td>\n",
       "      <td>Gouvernements et organismes publics nationaux</td>\n",
       "      <td>Responsibility</td>\n",
       "      <td>-1</td>\n",
       "      <td>0.0</td>\n",
       "    </tr>\n",
       "    <tr>\n",
       "      <th>452</th>\n",
       "      <td>721</td>\n",
       "      <td>How to prevent Discriminatory Outcomes in Mach...</td>\n",
       "      <td>World Economic Forum (WEF)</td>\n",
       "      <td>http://www3.weforum.org/docs/WEF_40065_White_P...</td>\n",
       "      <td>NaN</td>\n",
       "      <td>NaN</td>\n",
       "      <td>NaN</td>\n",
       "      <td>international</td>\n",
       "      <td>NaN</td>\n",
       "      <td>NaN</td>\n",
       "      <td>...</td>\n",
       "      <td>NaN</td>\n",
       "      <td>NaN</td>\n",
       "      <td>White Paper Guidelines for AI Procurement Sept...</td>\n",
       "      <td>en</td>\n",
       "      <td>white paper guidelines ai procurement septembe...</td>\n",
       "      <td>[0.        0.0077954 0.        ... 0.        0...</td>\n",
       "      <td>Associations professionnelles et groupes de ré...</td>\n",
       "      <td>Responsibility</td>\n",
       "      <td>-1</td>\n",
       "      <td>0.0</td>\n",
       "    </tr>\n",
       "    <tr>\n",
       "      <th>453</th>\n",
       "      <td>722</td>\n",
       "      <td>White paper: A Framework for Responsible Limit...</td>\n",
       "      <td>World Economic Forum (WEF)</td>\n",
       "      <td>https://www3.weforum.org/docs/WEF_Framework_fo...</td>\n",
       "      <td>NaN</td>\n",
       "      <td>NaN</td>\n",
       "      <td>NaN</td>\n",
       "      <td>international</td>\n",
       "      <td>NaN</td>\n",
       "      <td>NaN</td>\n",
       "      <td>...</td>\n",
       "      <td>NaN</td>\n",
       "      <td>NaN</td>\n",
       "      <td>White Paper Guidelines for AI Procurement Sept...</td>\n",
       "      <td>en</td>\n",
       "      <td>white paper guidelines ai procurement septembe...</td>\n",
       "      <td>[0.        0.0077954 0.        ... 0.        0...</td>\n",
       "      <td>Associations professionnelles et groupes de ré...</td>\n",
       "      <td>Responsibility</td>\n",
       "      <td>-1</td>\n",
       "      <td>0.0</td>\n",
       "    </tr>\n",
       "  </tbody>\n",
       "</table>\n",
       "<p>89 rows × 39 columns</p>\n",
       "</div>"
      ],
      "text/plain": [
       "     doc_id                               Name of the document  \\\n",
       "3        13  The Toronto Declaration: Protecting the right ...   \n",
       "16       29  AI Now Report 2016. The Social and Economic Im...   \n",
       "32       49  It’s Time to Do Something: Mitigating the Nega...   \n",
       "33       51  Statement on Accessibility, Usability, and Dig...   \n",
       "34       52        Statement on Computing and Network Security   \n",
       "..      ...                                                ...   \n",
       "449     718  AI procurement in a box: AI government procure...   \n",
       "450     719     Artificial Intelligence for Children - Toolkit   \n",
       "451     720                      Guidelines for AI procurement   \n",
       "452     721  How to prevent Discriminatory Outcomes in Mach...   \n",
       "453     722  White paper: A Framework for Responsible Limit...   \n",
       "\n",
       "                                           Institution  \\\n",
       "3                                           Access Now   \n",
       "16                                    AI Now Institute   \n",
       "32   Association for Computing Machinery - Future o...   \n",
       "33   Association for Computing Machinery - Future o...   \n",
       "34   Association for Computing Machinery - Future o...   \n",
       "..                                                 ...   \n",
       "449                         World Economic Forum (WEF)   \n",
       "450                         World Economic Forum (WEF)   \n",
       "451                             Department for Digital   \n",
       "452                         World Economic Forum (WEF)   \n",
       "453                         World Economic Forum (WEF)   \n",
       "\n",
       "                                                   URL  \\\n",
       "3    https://www.torontodeclaration.org/declaration...   \n",
       "16   https://artificialintelligencenow.com/media/do...   \n",
       "32                          https://perma.cc/K22T-5DFU   \n",
       "33   https://www.acm.org/binaries/content/assets/pu...   \n",
       "34   https://www.acm.org/binaries/content/assets/pu...   \n",
       "..                                                 ...   \n",
       "449  https://www3.weforum.org/docs/WEF_AI_Procureme...   \n",
       "450  https://www3.weforum.org/docs/WEF_Artificial_I...   \n",
       "451  https://www.gov.uk/government/publications/gui...   \n",
       "452  http://www3.weforum.org/docs/WEF_40065_White_P...   \n",
       "453  https://www3.weforum.org/docs/WEF_Framework_fo...   \n",
       "\n",
       "                                               Authors  \\\n",
       "3    Anna Bacciarelli, Joe Westby, Fanny Hidvegi, E...   \n",
       "16                                                 NaN   \n",
       "32                                                 NaN   \n",
       "33                                                 NaN   \n",
       "34                                                 NaN   \n",
       "..                                                 ...   \n",
       "449                                                NaN   \n",
       "450                                                NaN   \n",
       "451                                                NaN   \n",
       "452                                                NaN   \n",
       "453                                                NaN   \n",
       "\n",
       "                                            Affiliates         Sector  \\\n",
       "3    Access Now, AI Now Institute at New York Unive...  civil society   \n",
       "16                                                 NaN            NaN   \n",
       "32                                                 NaN            NaN   \n",
       "33                                                 NaN            NaN   \n",
       "34                                                 NaN            NaN   \n",
       "..                                                 ...            ...   \n",
       "449                                                NaN            NaN   \n",
       "450                                                NaN            NaN   \n",
       "451                                                NaN            NaN   \n",
       "452                                                NaN            NaN   \n",
       "453                                                NaN            NaN   \n",
       "\n",
       "           Country        Date Keywords  ...  Unnamed: 28 Unnamed: 29  \\\n",
       "3               UK  2018-05-16      NaN  ...          NaN         NaN   \n",
       "16             USA         NaN      NaN  ...          NaN         NaN   \n",
       "32             USA         NaN      NaN  ...          NaN         NaN   \n",
       "33             USA         NaN      NaN  ...          NaN         NaN   \n",
       "34              EU         NaN      NaN  ...          NaN         NaN   \n",
       "..             ...         ...      ...  ...          ...         ...   \n",
       "449  international         NaN      NaN  ...          NaN         NaN   \n",
       "450  international         NaN      NaN  ...          NaN         NaN   \n",
       "451             UK         NaN      NaN  ...          NaN         NaN   \n",
       "452  international         NaN      NaN  ...          NaN         NaN   \n",
       "453  international         NaN      NaN  ...          NaN         NaN   \n",
       "\n",
       "                                                  text  langue  \\\n",
       "3    \\n\\n\\n\\n\\nThe Toronto Declaration\\n\\n\\n\\n\\n\\n\\...      en   \n",
       "16   \\n    :root {\\n      --small-font: 12px;\\n    ...      en   \n",
       "32   \\n\\nPerma | It’s Time to Do Something: Mitigat...      en   \n",
       "33     ACM US Public Policy Council   1701 Pennsylv...      en   \n",
       "34     ACM US Public Policy Council   1701 Pennsylv...      en   \n",
       "..                                                 ...     ...   \n",
       "449  AI Procurement in a Box:   Project overviewUnl...      en   \n",
       "450  AI Procurement in a Box:   Project overviewUnl...      en   \n",
       "451  White Paper Guidelines for AI Procurement Sept...      en   \n",
       "452  White Paper Guidelines for AI Procurement Sept...      en   \n",
       "453  White Paper Guidelines for AI Procurement Sept...      en   \n",
       "\n",
       "                                        text_processed  \\\n",
       "3    toronto declaration skip main content toronto ...   \n",
       "16   root -- small-font 12px -- normal-font 12px --...   \n",
       "32   perma ’ time something mitigating negative imp...   \n",
       "33   acm us public policy council 1701 pennsylvania...   \n",
       "34   acm us public policy council 1701 pennsylvania...   \n",
       "..                                                 ...   \n",
       "449  ai procurement box project overviewunlocking p...   \n",
       "450  ai procurement box project overviewunlocking p...   \n",
       "451  white paper guidelines ai procurement septembe...   \n",
       "452  white paper guidelines ai procurement septembe...   \n",
       "453  white paper guidelines ai procurement septembe...   \n",
       "\n",
       "                                                 tfidf  \\\n",
       "3                              [0. 0. 0. ... 0. 0. 0.]   \n",
       "16   [0.         0.00579831 0.         ... 0.      ...   \n",
       "32                             [0. 0. 0. ... 0. 0. 0.]   \n",
       "33                             [0. 0. 0. ... 0. 0. 0.]   \n",
       "34                             [0. 0. 0. ... 0. 0. 0.]   \n",
       "..                                                 ...   \n",
       "449                            [0. 0. 0. ... 0. 0. 0.]   \n",
       "450                            [0. 0. 0. ... 0. 0. 0.]   \n",
       "451  [0.        0.0077954 0.        ... 0.        0...   \n",
       "452  [0.        0.0077954 0.        ... 0.        0...   \n",
       "453  [0.        0.0077954 0.        ... 0.        0...   \n",
       "\n",
       "                                 categorie Institution                 theme  \\\n",
       "3                 ONG et initiatives de droits humains  Justice and fairness   \n",
       "16               Instituts de recherche et universités          Transparency   \n",
       "32   Associations professionnelles et groupes de ré...          Transparency   \n",
       "33   Associations professionnelles et groupes de ré...  Justice and fairness   \n",
       "34   Associations professionnelles et groupes de ré...       Non-maleficence   \n",
       "..                                                 ...                   ...   \n",
       "449  Associations professionnelles et groupes de ré...                 Trust   \n",
       "450  Associations professionnelles et groupes de ré...                 Trust   \n",
       "451      Gouvernements et organismes publics nationaux        Responsibility   \n",
       "452  Associations professionnelles et groupes de ré...        Responsibility   \n",
       "453  Associations professionnelles et groupes de ré...        Responsibility   \n",
       "\n",
       "     topic  probs  \n",
       "3       -1    0.0  \n",
       "16      -1    0.0  \n",
       "32      -1    0.0  \n",
       "33      -1    0.0  \n",
       "34      -1    0.0  \n",
       "..     ...    ...  \n",
       "449     -1    0.0  \n",
       "450     -1    0.0  \n",
       "451     -1    0.0  \n",
       "452     -1    0.0  \n",
       "453     -1    0.0  \n",
       "\n",
       "[89 rows x 39 columns]"
      ]
     },
     "execution_count": 124,
     "metadata": {},
     "output_type": "execute_result"
    }
   ],
   "source": [
    "df[df[\"topic\"] == -1]"
   ]
  },
  {
   "cell_type": "code",
   "execution_count": null,
   "metadata": {},
   "outputs": [
    {
     "data": {
      "text/plain": [
       "16    \\n    :root {\\n      --small-font: 12px;\\n    ...\n",
       "Name: text, dtype: object"
      ]
     },
     "execution_count": 126,
     "metadata": {},
     "output_type": "execute_result"
    }
   ],
   "source": [
    "\n",
    "df[df['doc_id']==29]['text']"
   ]
  },
  {
   "cell_type": "code",
   "execution_count": null,
   "metadata": {},
   "outputs": [],
   "source": []
  }
 ],
 "metadata": {
  "kernelspec": {
   "display_name": ".env_projet_NLP",
   "language": "python",
   "name": "python3"
  },
  "language_info": {
   "codemirror_mode": {
    "name": "ipython",
    "version": 3
   },
   "file_extension": ".py",
   "mimetype": "text/x-python",
   "name": "python",
   "nbconvert_exporter": "python",
   "pygments_lexer": "ipython3",
   "version": "3.12.3"
  }
 },
 "nbformat": 4,
 "nbformat_minor": 2
}
