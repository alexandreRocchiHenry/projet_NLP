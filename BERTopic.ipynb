{
 "cells": [
  {
   "cell_type": "code",
   "execution_count": 60,
   "metadata": {},
   "outputs": [],
   "source": [
    "import pandas as pd\n",
    "import numpy as np\n",
    "import matplotlib.pyplot as plt\n",
    "from bertopic import BERTopic"
   ]
  },
  {
   "cell_type": "code",
   "execution_count": 61,
   "metadata": {},
   "outputs": [],
   "source": [
    "# import the preprocess doc\n",
    "\n",
    "df = pd.read_csv('./Data_csv/data_preprocessed.csv')"
   ]
  },
  {
   "cell_type": "code",
   "execution_count": 62,
   "metadata": {},
   "outputs": [
    {
     "data": {
      "text/plain": [
       "Index(['doc_id', 'Name of the document', 'Institution', 'URL', 'Authors',\n",
       "       'Affiliates', 'Sector', 'Country', 'Date', 'Keywords',\n",
       "       'Exclusion criteria', 'Status', 'Label', 'MapAIE (ours)', 'Jobin',\n",
       "       'Fjeld', 'Tidjon', 'Hagendorff', 'Floridi', 'Zeng (LAIP)',\n",
       "       'Attard-Frost', 'EP', 'Algorithm watch', 'CE', 'Winfield',\n",
       "       'EthicalML GitHub', 'all sources', 'Checked by', 'Unnamed: 27',\n",
       "       'Unnamed: 28', 'Unnamed: 29', 'text', 'langue', 'text_processed',\n",
       "       'tfidf', 'categorie Institution', 'theme'],\n",
       "      dtype='object')"
      ]
     },
     "execution_count": 62,
     "metadata": {},
     "output_type": "execute_result"
    }
   ],
   "source": [
    "df.columns"
   ]
  },
  {
   "cell_type": "code",
   "execution_count": 68,
   "metadata": {},
   "outputs": [
    {
     "data": {
      "text/plain": [
       "doc_id                   47\n",
       "Name of the document     47\n",
       "Institution              47\n",
       "URL                      47\n",
       "Authors                   6\n",
       "Affiliates                5\n",
       "Sector                    8\n",
       "Country                  45\n",
       "Date                      8\n",
       "Keywords                  0\n",
       "Exclusion criteria        0\n",
       "Status                   47\n",
       "Label                    39\n",
       "MapAIE (ours)            47\n",
       "Jobin                     6\n",
       "Fjeld                     4\n",
       "Tidjon                    3\n",
       "Hagendorff                1\n",
       "Floridi                   1\n",
       "Zeng (LAIP)               7\n",
       "Attard-Frost              5\n",
       "EP                        2\n",
       "Algorithm watch          13\n",
       "CE                       39\n",
       "Winfield                  1\n",
       "EthicalML GitHub          1\n",
       "all sources              47\n",
       "Checked by               47\n",
       "Unnamed: 27               0\n",
       "Unnamed: 28               0\n",
       "Unnamed: 29               2\n",
       "text                     47\n",
       "langue                   47\n",
       "text_processed           47\n",
       "tfidf                    47\n",
       "categorie Institution    47\n",
       "theme                    47\n",
       "dtype: int64"
      ]
     },
     "execution_count": 68,
     "metadata": {},
     "output_type": "execute_result"
    }
   ],
   "source": [
    "df.count()"
   ]
  },
  {
   "cell_type": "code",
   "execution_count": 63,
   "metadata": {},
   "outputs": [
    {
     "data": {
      "text/plain": [
       "\"ethics canvas brainstorm group ethical implications project represent canvas analyse ethical concerns project find suitable solutions join community learn similar use cases share experiences try canvas online start using online ethics canvas without registration export work pdf json format try online sign save canvas create account save work dashboard sign log new password name email password repeat password sign email password forgot password log email reset password download pdf version work offline download printable version ethics canvas use workshops need help download handbook details examples download pdf works ethics canvas helps structure ideas ethical implications projects working visualise resolve add cards ideas fields canvas drag drop cards different fields link cards instance specific stakeholders specific ethical concerns canvas dynamic adapt workflow ’ get overview prominent ethical concerns project glancing canvas complicated setup configuration required plug play ethics canvas ethics canvas developed encourage educators entrepreneurs engineers designers engage ethics research innovation projects research innovation foster great benefits society also raise important ethical concerns big data revolution raises important privacy concerns progress automation self-driving cars raises responsibility issues sharing platforms trigger social conflicts precarious workers protesting streets concerns need dealt dealt ethicists alone identifying solving ethical concerns needs collaborative effort people different disciplines different professional roles working together ethics canvas responds need providing easy use collaborative tool assists identification analysis solving ethical implications research innovation projects suitable offline use paper canvas online use online collaborative tool values driven conviction money non-profit organisation work canvas purpose empowering people making money inclusive design believe ethics canvas accessible everyone therefore joining free also ethics canvas creative commons license proper attribution everyone able use modify reuse ethics canvas subscribing open source principles online ethics canvas open source project means code openly available support adhere open source principles transparency participation collaboration responsible use personal data platform tries promote ethics core priority focus ethical data handling explicit consent use personal data always asked clear simple terms conditions personal data gathered research purposes community building purposes never commercial purposes third party exchange personal data happen online platform meet team team researchers adapt centre developed ethics canvas result truly multidisciplinary effort pulling together expertise areas ethics computer science business development wessel reijers concept developer ethics wessel ethicscanvas.org wessel research areas philosophy ethics technology adapt centre main focus integrate ethics practices research innovation currently working developing theoretical narrative approach understand technologies mediate human relations also works practical application research so-called `` ethics canvas '' tool researchers explore ethical issues david lewis coordinator dave ethicscanvas.org dave research lecturer knowledge data engineering group school computer science statistics trinity college dublin moved tcd 2002 university college london worked 11 years research fellow computer science department dave 's research interests semantic modelling policy-based management self-managing networks services organisations dr.killian levacher concept developer ethics killian ethicscanvas.org dr. killian levacher post-doctoral researcher adapt centre based trinity college university dublin tcd research focuses upon advancing state art area deep learning nlp within context personalised siri-like dialogue systems prior joining adapt centre killian obtained msc phd tcd received multiple academic awards best research thesis best academic results arturo calvo concept developer business developer arturo ethicscanvas.org arturo software professional experience industry academia software architect adapt centre coordinates overall technology set research projects ranging machine learning ethics passionate entrepreneurship technology active dublin startup ecosystem arturo founded three companies past cto new one sedicii main organiser machine learning dublin meetup group andreas burburan web developer interaction designer a.burburan gmail.com andreas web developer interaction designer long experience fields passionate building beautiful intuitive digital products deliver value user.driven social conscience passion andreas especially intrigued application technology benefit human interests hopes work online ethics canvas project contribute aim farnoosh mohri front-end developer interaction designer farnoosh ethicscanvas.org farnoosh front-end developer interaction designer great passion technology empower us humans studied web multimedia development involved different design development projects start-ups innovation park sweden farnoosh believes global digital connection engagement crucial part human experience joined online ethics canvas team adapt centre wish create new possibilities innovative digital content contribute better world partners adapt centre trinity college dublin dublin city university science foundation ireland subscribe ethics canvas mailing list first name last name email address contact us hello ethicscanvas.org ethics canvas adapted alex osterwalder ’ business model canvas business model canvas designed business model foundry ag work licensed creative commons attribution-share alike 3.0 unported license view copy license creativecommons.org view original business model canvas strategyzer.com terms service privacy policy adapt centre digital content technology funded sfi research centres programme grant 13/rc/2106 .it co-funded european regional development fund ethics canvas v1.8 © adapt centre trinity college dublin dublin city university 2017\""
      ]
     },
     "execution_count": 63,
     "metadata": {},
     "output_type": "execute_result"
    }
   ],
   "source": [
    "df['text_processed'][0]"
   ]
  },
  {
   "cell_type": "code",
   "execution_count": 64,
   "metadata": {},
   "outputs": [],
   "source": [
    "topic_model = BERTopic(language=\"english\", calculate_probabilities=True, min_topic_size=8, nr_topics=10)"
   ]
  },
  {
   "cell_type": "code",
   "execution_count": 65,
   "metadata": {},
   "outputs": [],
   "source": [
    "documents = df['text_processed'].to_list()"
   ]
  },
  {
   "cell_type": "code",
   "execution_count": 66,
   "metadata": {},
   "outputs": [],
   "source": [
    "topics, probs = topic_model.fit_transform(documents)"
   ]
  },
  {
   "cell_type": "code",
   "execution_count": 67,
   "metadata": {},
   "outputs": [
    {
     "name": "stdout",
     "output_type": "stream",
     "text": [
      "   Topic  Count                                Name  \\\n",
      "0     -1      4  -1_important_width_awards_fontsize   \n",
      "1      0      9                0_must_ai_call_human   \n",
      "2      1     34   1_ai_intelligence_artificial_data   \n",
      "\n",
      "                                      Representation  \\\n",
      "0  [important, width, awards, fontsize, mainsecon...   \n",
      "1  [must, ai, call, human, rome, ethic, cm, coe, ...   \n",
      "2  [ai, intelligence, artificial, data, systems, ...   \n",
      "\n",
      "                                 Representative_Docs  \n",
      "0  [html height:100 body margin:0 height:100, pdf...  \n",
      "1  [coe search cm, rome call ai ethic rome call a...  \n",
      "2  [ai principles telefonica approved executive c...  \n"
     ]
    }
   ],
   "source": [
    "# Afficher les topics les plus fréquents\n",
    "print(topic_model.get_topic_info())\n",
    "\n"
   ]
  }
 ],
 "metadata": {
  "kernelspec": {
   "display_name": ".env_projet_NLP",
   "language": "python",
   "name": "python3"
  },
  "language_info": {
   "codemirror_mode": {
    "name": "ipython",
    "version": 3
   },
   "file_extension": ".py",
   "mimetype": "text/x-python",
   "name": "python",
   "nbconvert_exporter": "python",
   "pygments_lexer": "ipython3",
   "version": "3.12.3"
  }
 },
 "nbformat": 4,
 "nbformat_minor": 2
}
